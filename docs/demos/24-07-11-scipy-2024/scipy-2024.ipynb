{
 "cells": [
  {
   "cell_type": "markdown",
   "metadata": {
    "slideshow": {
     "slide_type": "slide"
    }
   },
   "source": [
    "<div style=\"text-align: left\">\n",
    "    <img src=\"../../_static/xcdat-logo.png\" alt=\"xCDAT logo\" style=\"display: inline-block; width:600px;\">\n",
    "    <div style=\"text-align: left\">\n",
    "    <h3><img src=\"images/scipy-logo.png\" alt=\"SciPy logo\" style=\"display: inline-block; width:50px; margin-right:10px\">SciPy 2024, 07/11/2024</h3>\n",
    "    </div>\n",
    "    <h1>Xarray Climate Data Analysis Tools</h1>\n",
    "    <h3 style=\"font-style:italic\">\n",
    "        A Python Package for Simple and Robust Analysis of Climate Data\n",
    "    </h3>\n",
    "    <h3>\n",
    "        Core Developers: Tom Vo, Stephen Po-Chedley, Jason Boutte, Jill Zhang, Jiwoo Lee\n",
    "    </h3>\n",
    "    <p>With thanks to Peter Gleckler, Paul Durack, Karl Taylor, and Chris Golaz</p>\n",
    "</div>\n",
    "\n",
    "---\n",
    "\n",
    "<p style=\"text-align: left; font-size: 12px\">This work is performed under the auspices of the U. S. DOE by Lawrence Livermore National Laboratory under contract No. DE-AC52-07NA27344.</p>\n"
   ]
  },
  {
   "cell_type": "markdown",
   "metadata": {
    "slideshow": {
     "slide_type": "notes"
    },
    "vscode": {
     "languageId": "plaintext"
    }
   },
   "source": [
    "## Notebook Setup\n",
    "\n",
    "Create an Anaconda environment for this notebook using the command below:\n",
    "\n",
    "```bash\n",
    "conda create -n xcdat_scipy_2024 -c conda-forge xcdat=0.7.0 nco matplotlib ipython ipykernel cartopy nc-time-axis gsw-xarray jupyter jupyter_contrib_nbextensions rise wget\n",
    "\n",
    "conda activate xcdat_scipy_2024\n",
    "```\n",
    "\n",
    "Then run:\n",
    "\n",
    "```bash\n",
    "jupyter contrib nbextension install --user\n",
    "\n",
    "jupyter nbextension enable splitcell/splitcell\n",
    "```\n",
    "\n",
    "To open Jupyter Notebook GUI:\n",
    "\n",
    "```bash\n",
    "jupyter notebook\n",
    "```\n",
    "\n",
    "To print notebook as PDF:\n",
    "\n",
    "```bash\n",
    "jupyter nbconvert —-to html <PATH-TO-NOTEBOOK>\n",
    "# Then \"Print HTML to PDF\" in your browser\n",
    "```\n"
   ]
  },
  {
   "cell_type": "markdown",
   "metadata": {
    "slideshow": {
     "slide_type": "slide"
    },
    "vscode": {
     "languageId": "plaintext"
    }
   },
   "source": [
    "## An Overview of this Talk\n",
    "\n",
    "1. The driving force behind xCDAT\n",
    "2. Basic intro to Xarray\n",
    "3. Brief history, scope, and mission of xCDAT\n",
    "4. Design philosophy and key features\n",
    "5. Technical demo: end-to-end analysis workflow\n",
    "6. Parallelism with xCDAT and Dask\n",
    "7. xCDAT’s community and how to get involved\n"
   ]
  },
  {
   "cell_type": "markdown",
   "metadata": {
    "slideshow": {
     "slide_type": "slide"
    }
   },
   "source": [
    "### The Driving Force Behind xCDAT\n",
    "\n",
    "- CDAT (Community Data Analysis Tools) library is the predecessor to xCDAT.\n",
    "- CDAT has provided open-source climate data analysis and visualization packages for over 20 years.\n",
    "\n",
    "- Since CDAT’s inception, the volume of climate data has grown substantially as a result of:\n",
    "\n",
    "  - Larger pool of data products\n",
    "  - Increasing spatiotemporal resolution of model and observational data.\n",
    "\n",
    "<div style=\"text-align: center; margin-top:10px\">\n",
    "<img src=\"../../_static/cdat-logo.png\" alt=\"CDAT logo\" align=\\\"center\\\" style=\"display: inline-block; width:300px;\">\n",
    "</div>\n"
   ]
  },
  {
   "cell_type": "markdown",
   "metadata": {
    "slideshow": {
     "slide_type": "fragment"
    }
   },
   "source": [
    "#### CDAT has been end-of-life as of December 2023\n",
    "\n",
    "- This presents an issue for the many users and packages that depend on CDAT\n",
    "- All of these factors sparked a driving need for new analysis software\n"
   ]
  },
  {
   "cell_type": "markdown",
   "metadata": {
    "slideshow": {
     "slide_type": "slide"
    }
   },
   "source": [
    "### What should this new analysis software (aka xCDAT) offer?\n",
    "\n",
    "- Offer similar core capabilities as CDAT\n",
    "  - e.g., geospatial averaging, temporal averaging, regridding\n",
    "- Use modern technologies in the library’s stack\n",
    "  - Capable of handling large datasets (e.g., parallelism, lazy operations)\n",
    "- Be maintainable, extensible, and easy-to-use\n",
    "  - Python Enhancement Proposals (PEPs)\n",
    "- Automated DevOps processes (unit testing, code coverage)\n",
    "  - Actively maintained documentation\n",
    "- An open-source community that can sustain the project\n",
    "  - Encourage GitHub contributions\n",
    "  - Serve the needs of the climate community in the long-term\n",
    "  - Community engagement efforts (e.g., Pangeo, ESGF)\n"
   ]
  },
  {
   "cell_type": "markdown",
   "metadata": {
    "slideshow": {
     "slide_type": "subslide"
    }
   },
   "source": [
    "<div style=\"text-align: left; margin-top:10px\">\n",
    "<img src=\"../../_static/xarray-logo.png\" alt=\"Xarray logo\" align=\\\"center\\\" style=\"display: inline-block; width:300px;\">\n",
    "\n",
    "<h3>\"N-D labeled arrays and datasets in Python\"</h3>\n",
    "</div>\n",
    "\n",
    "- The core technology of xCDAT\n",
    "- An evolution of an internal tool developed at The Climate Corporation.\n",
    "- Released as open source in May 2014\n",
    "- NumFocus fiscally sponsored project since August 2018\n",
    "- Based on NumPy, heavily inspired by Pandas\n",
    "\n",
    "<div style=\"text-align: center;\">\n",
    "  <img src=\"../../_static/NumFocus-logo.png\" alt=\"NumFocus logo\" align=\\\"center\\\" style=\"display: inline-block; width:200px;\">\n",
    "  <img src=\"../../_static/numpy-logo.svg\" alt=\"NumPy logo\" align=\\\"center\\\" style=\"display: inline-block; width:200px;\">\n",
    "  <img src=\"../../_static/pandas-logo.svg\" alt=\"Pandas logo\" align=\\\"center\\\" style=\"display: inline-block; width:200px;\">\n",
    "</div>\n"
   ]
  },
  {
   "cell_type": "markdown",
   "metadata": {
    "slideshow": {
     "slide_type": "subslide"
    }
   },
   "source": [
    "**Why Xarray?**\n",
    "\n",
    "- Introduces labels in the form of dimensions, coordinates, and attributes on top of raw NumPy-like arrays\n",
    "- Intuitive, more concise, and less error-prone user experience\n",
    "\n",
    "**Key features include:**\n",
    "\n",
    "- File I/O, indexing and selecting, interpolating, grouping, aggregating, parallelism (Dask), plotting (matplotlib wrapper)\n",
    "  Supports various file formats netCDF, Iris, OPeNDAP, Zarr, and more\n",
    "- Interoperability with scientific Python ecosystem such as NumPy, Dask, Pandas, and Matplotlib\n",
    "\n",
    "<div style=\"text-align: center;\">\n",
    "  <img src=\"../../_static/dask-logo.svg\" alt=\"NumFocus logo\" align=\\\"center\\\" style=\"display: inline-block; width:200px;\">\n",
    "  <img src=\"../../_static/matplotlib-logo.svg\" alt=\"NumPy logo\" align=\\\"center\\\" style=\"display: inline-block; width:200px;\">\n",
    "</div>\n"
   ]
  },
  {
   "cell_type": "markdown",
   "metadata": {
    "slideshow": {
     "slide_type": "slide"
    }
   },
   "source": [
    "<div style=\"text-align: left; margin-top:10px\">\n",
    "<img src=\"../../_static/xcdat-logo.png\" alt=\"xCDAT logo\" align=\\\"center\\\" style=\"display: inline-block; width:300px;\">\n",
    "<h4>Xarray Climate Data Analysis Tools for Structured Grid Analysis</h4>\n",
    "</div>\n",
    "\n",
    "- Collaboration between:\n",
    "\n",
    "<div style=\"text-align: center; margin-top:10px\">\n",
    "    <img src=\"../../_static/e3sm-logo.jpg\" alt=\"E3SM logo\" align=\\\"center\\\" style=\"display: inline-block;     margin-right:50px; width:200px;\">\n",
    "    <img src=\"../../_static/pcmdi-logo.png\" alt=\"PCMDI logo\" style=\"display: inline-block; margin-right:50px; width:200px;\">\n",
    "    <img src=\"../../_static/seats-logo.png\" alt=\"SEATS logo\" style=\"display: inline-block; width:200px\">\n",
    "</div>\n",
    "\n",
    "- xCDAT is an extension of Xarray for climate data analysis on structured grids, a modern successor to the Community Data Analysis Tools (CDAT) library\n",
    "- Scope is focused on routine climate research analysis operations such as loading, wrangling, averaging, and regridding data\n",
    "- Aims to provide features and utilities for simple and robust analysis of climate data\n"
   ]
  },
  {
   "cell_type": "markdown",
   "metadata": {
    "slideshow": {
     "slide_type": "subslide"
    }
   },
   "source": [
    "<div style=\"text-align: left; margin-top:10px\">\n",
    "    <h3>xCDAT features and utilities for simple, robust, and less error-prone analysis code</h3>\n",
    "</div>\n",
    "\n",
    "- Extension of `xr.open_dataset()` and `xr.open_mfdataset()` with post-processing options\n",
    "- Generate missing bounds, center time coords, convert lon axis orientation\n",
    "- Geospatial weighted averaging\n",
    "- Temporal averaging, climatologies, departures\n",
    "- Horizontal structured regridding (extension of xESMF and Python port of regrid2)\n",
    "- Vertical structured regridding (extension of xGCM)\n",
    "\n",
    "<div style=\"text-align: center; margin-top:10px\">\n",
    "    <img src=\"../../_static/xarray-logo.png\" alt=\"Xarray logo\" style=\"display: inline-block; width:300px; margin-right:50px\">\n",
    "    <img src=\"../../_static/esmf-logo.png\" alt=\"ESMF logo\" style=\"display: inline-block; margin-right:50px; width:300px;\">\n",
    "    <img src=\"../../_static/xgcm-logo.png\" alt=\"xGCM logo\" align=\\\"center\\\" style=\"display: inline-block;     margin-right:50px; width:300px;\">\n",
    "</div>\n",
    "\n",
    "<div style=\"text-align: center;\">\n",
    "    <img src=\"../../_static/thumbnails/spatial-avg.png\" alt=\"Spatial average chart\" style=\"display: inline-block; width:250px; margin-right:50px\">\n",
    "    <img src=\"../../_static/thumbnails/temporal-average.png\" alt=\"Temporal average chart\" style=\"display: inline-block; margin-right:50px; width:250px;\">\n",
    "    <img src=\"../../_static/thumbnails/regridding-vertical.png\" alt=\"Vertical regridding chart\" style=\"display: inline-block; margin-right:50px; width:250px;\">\n",
    "</div>\n"
   ]
  },
  {
   "cell_type": "markdown",
   "metadata": {
    "slideshow": {
     "slide_type": "subslide"
    }
   },
   "source": [
    "<div style=\"text-align: left; margin-top:10px\">\n",
    "<h3>The Software Design Philosophy of xCDAT</h3>\n",
    "</div>\n",
    "\n",
    "- Intentionality designed to **encourage software sustainability** and **reproducible science**\n",
    "- **Well-documented and configurable features** allow scientists to rapidly develop robust, reusable, less-error prone, more maintainable code\n",
    "- xCDAT aims to contribute to **Pangeo's** effort to foster an ecosystem of mutually compatible geoscience Python packages\n",
    "\n",
    "<div style=\"text-align: center; margin-top:10px\">\n",
    "    <img src=\"../../_static/pangeo-logo.png\" alt=\"Pangeo logo\" align=\\\"center\\\" style=\"display: inline-block; width:300px; margin-right:50px\">\n",
    "    <img src=\"../../demos/1-25-23-cwss-seminar/images/rtd-logo.png\" alt=\"PCMDI logo\" style=\"display: inline-block; width:300px;\">\n",
    "</div>\n"
   ]
  },
  {
   "cell_type": "markdown",
   "metadata": {
    "slideshow": {
     "slide_type": "subslide"
    }
   },
   "source": [
    "### xCDAT simplifies Xarray code for specific analysis operations\n",
    "\n",
    "#### A comparison of code to calculate global-mean, monthly anomalies.\n",
    "\n",
    "- First code block (xCDAT) -> 17 lines, flexible (via API arguments), easy to read and write\n",
    "- Second code block (Xarray) -> 31 lines, not flexible, hard to read and write\n"
   ]
  },
  {
   "cell_type": "code",
   "execution_count": null,
   "metadata": {
    "cell_style": "split",
    "slideshow": {
     "slide_type": "fragment"
    }
   },
   "outputs": [],
   "source": [
    "import xcdat as xc\n",
    "\n",
    "# 1. Open the dataset.\n",
    "dpath = \"https://esgf-data1.llnl.gov/thredds/dodsC/css03_data/CMIP6/CMIP/CSIRO/ACCESS-ESM1-5/historical/r10i1p1f1/Amon/tas/gn/v20200605/tas_Amon_ACCESS-ESM1-5_historical_r10i1p1f1_gn_185001-201412.nc\"\n",
    "ds = xc.open_dataset(dpath)\n",
    "\n",
    "# 2. Calculate monthly departures.\n",
    "ds_anom = ds.temporal.departures(\"tas\", freq=\"month\")\n",
    "\n",
    "# 3. Compute global average.\n",
    "ds_anom_glb = ds_anom.spatial.average(\"tas\")\n",
    "\n",
    "# 4. Calculate annual averages\n",
    "ds_anom_glb_ann = ds_anom_glb.temporal.group_average(\"tas\", freq=\"year\")"
   ]
  },
  {
   "cell_type": "code",
   "execution_count": null,
   "metadata": {
    "cell_style": "split",
    "slideshow": {
     "slide_type": "fragment"
    }
   },
   "outputs": [],
   "source": [
    "import numpy as np\n",
    "import xarray as xr\n",
    "\n",
    "# 1. Open the dataset.\n",
    "dpath = \"https://esgf-data1.llnl.gov/thredds/dodsC/css03_data/CMIP6/CMIP/CSIRO/ACCESS-ESM1-5/historical/r10i1p1f1/Amon/tas/gn/v20200605/tas_Amon_ACCESS-ESM1-5_historical_r10i1p1f1_gn_185001-201412.nc\"\n",
    "ds = xr.open_dataset(dpath)\n",
    "\n",
    "# 2. Calculate monthly departures.\n",
    "tas_mon = ds.tas.groupby(\"time.month\")\n",
    "tas_mon_clim = tas_mon.mean(dim=\"time\")\n",
    "tas_anom = tas_mon - tas_mon_clim\n",
    "\n",
    "# 3. Compute global average.\n",
    "coslat = np.cos(np.deg2rad(ds.lat))\n",
    "tas_anom_wgt = tas_anom.weighted(coslat)\n",
    "tas_anom_global = tas_anom_wgt.mean(dim=\"lat\").mean(dim=\"lon\")\n",
    "\n",
    "# 4. Calculate annual averages.\n",
    "# ncar.github.io/esds/posts/2021/yearly-averages-xarray/\n",
    "mon_len = tas_anom_global.time.dt.days_in_month\n",
    "mon_len_by_year = mon_len.groupby(\"time.year\")\n",
    "wgts = mon_len_by_year / mon_len_by_year.sum()\n",
    "\n",
    "temp_sum = tas_anom_global * wgts\n",
    "temp_sum = temp_sum.resample(time=\"YS\").sum(dim=\"time\")\n",
    "denom_sum = (wgts).resample(time=\"YS\").sum(dim=\"time\")\n",
    "\n",
    "tas_anom_global_ann = temp_sum / denom_sum"
   ]
  },
  {
   "cell_type": "markdown",
   "metadata": {
    "slideshow": {
     "slide_type": "subslide"
    }
   },
   "source": [
    "### Getting Started with xCDAT\n",
    "\n",
    "- xCDAT is available for installation through Anaconda on the `conda-forge` channel\n",
    "  - Install command: `conda install -c conda-forge xcdat`\n",
    "- Check out xCDAT’s Read the Docs, which we strive to keep up-to-date\n",
    "  - https://xcdat.readthedocs.io/en/stable/\n",
    "\n",
    "<div style=\"text-align: center;\">\n",
    "    <img src=\"../../demos/1-25-23-cwss-seminar/images/anaconda-logo.png\" alt=\"Anaconda logo\" align=\\\"center\\\" style=\"display: inline-block; margin-right:50px; width:300px;\">\n",
    "    <img src=\"../../demos/1-25-23-cwss-seminar/images/conda-forge-logo.png\" alt=\"Conda Forge logo\" style=\"display: inline-block; margin-right:50px; width:300px;\">\n",
    "</div>\n",
    "\n",
    "<div style=\"text-align: center; margin-top:10px\">\n",
    "  <img src=\"../../demos/1-25-23-cwss-seminar/images/rtd-logo.png\" alt=\"Read the docs logo\" style=\"display: inline-block; width:300px; margin-right:50px\">\n",
    "  <img src=\"../../demos/1-25-23-cwss-seminar/images/rtd-screenshot.png\" alt=\"xCDAT docs\" style=\"display: inline-block; width:300px\">\n",
    "</div>\n"
   ]
  },
  {
   "cell_type": "markdown",
   "metadata": {
    "cell_style": "center",
    "slideshow": {
     "slide_type": "slide"
    }
   },
   "source": [
    "### How to use xCDAT\n",
    "\n",
    "- xCDAT extends Xarray Dataset objects via \"accessor\" classes.\n",
    "\n",
    "<div style=\"text-align: center;\">\n",
    "    <img src=\"../../_static/accessor_api.svg\n",
    "\" alt=\"Anaconda logo\" align=\\\"center\\\" style=\"display: inline-block; margin-right:50px; width:900px;\">\n",
    "      <figcaption style=\"text_align:center; font-style: italic; font-size: 14px;\">In the example above, custom spatial functionality is exposed by chaining the `spatial` accessor attribute to the Dataset object. This chaining enables access to the underlying `spatial.average()` method.</figcaption>\n",
    "</div>\n",
    "\n",
    "#### Accessors classes include:\n",
    "\n",
    "- `spatial`\n",
    "  - `.average()`, `.get_weights()`\n",
    "- `temporal`\n",
    "  - `.average()`, `.group_average()`, `.climatology()`, `.depatures()`\n",
    "- `bounds`\n",
    "  - `.get_bounds()`, `.add_bounds()`, `.add_missing_bounds()`\n"
   ]
  },
  {
   "cell_type": "markdown",
   "metadata": {
    "slideshow": {
     "slide_type": "subslide"
    }
   },
   "source": [
    "#### xCDAT also provides general utilities as Python functions\n",
    "\n",
    "- `open_dataset()`, `open_mfdataset()`\n",
    "- `center_times()`, `decode_time()`\n",
    "- `swap_lon_axis()`\n",
    "- `create_axis()`\n",
    "- `create_grid()`\n",
    "- `get_dim_coords()`\n",
    "- `get_dim_keys()`\n",
    "\n",
    "Visit the API Reference page for a complete list: https://xcdat.readthedocs.io/en/latest/api.html\n"
   ]
  },
  {
   "cell_type": "markdown",
   "metadata": {
    "slideshow": {
     "slide_type": "slide"
    }
   },
   "source": [
    "## End-to-End Analysis and Visualization of CMIP Data using xCDAT\n",
    "\n",
    "### Overview\n",
    "\n",
    "This exercise will walkthrough using regridding E3SM data to a\n",
    "rectilinear grid `xcdat`.\n",
    "\n",
    "### Sections\n",
    "\n",
    "1. Setup Code\n",
    "2. I/O\n",
    "3. Horizontal Regridding\n",
    "4. Vertical Regridding\n",
    "5. Spatial Averaging\n",
    "6. Temporal Computations\n",
    "7. General Dataset Utilities\n"
   ]
  },
  {
   "cell_type": "markdown",
   "metadata": {
    "slideshow": {
     "slide_type": "notes"
    }
   },
   "source": [
    "#### (1) Working with local files downloaded from ESGF\n",
    "\n",
    "Note, wget bash scripts are provided for you to download the datasets locally. Run them with the commands below . `-s` flag is required to bypass ESG credential check.\n",
    "\n",
    "- `cl` (~17 GB): `bash docs/demos/24-07-11-scipy-2024/cl_Amon_E3SM-2-0_historical_r1i1p1f1_gr/cl_Amon_wget_script_2024-6-25_14-39-4.sh -s`\n",
    "- `tas` (~11 GB): `bash docs/demos/24-07-11-scipy-2024/tas_day_E3SM-2-0_historical_r1i1p1f1_gr/tas_day_wget_script_2024-6-25_11-31-0.sh -s`\n",
    "\n",
    "#### (2) Working with remote files on ESGF via OPeNDAP\n",
    "\n",
    "If the datasets are not downloaded locally, the notebook will automatically open the datasets (lazily) from ESGF using Xarray + OPeNDAP.\n",
    "\n",
    "**The datasets will be downloaded into memory once computations are performd.**\n"
   ]
  },
  {
   "cell_type": "markdown",
   "metadata": {
    "slideshow": {
     "slide_type": "subslide"
    }
   },
   "source": [
    "### 1. Setup Code\n"
   ]
  },
  {
   "cell_type": "code",
   "execution_count": null,
   "metadata": {
    "slideshow": {
     "slide_type": "notes"
    }
   },
   "outputs": [],
   "source": [
    "# This style import is necessary to properly render Xarray's HTML output with\n",
    "# the Jupyer RISE extension.\n",
    "# GitHub Issue: https://github.com/damianavila/RISE/issues/594\n",
    "# Source: https://github.com/smartass101/xarray-pydata-prague-2020/blob/main/rise.css\n",
    "\n",
    "from IPython.core.display import HTML\n",
    "\n",
    "style = \"\"\"\n",
    "<style>\n",
    ".reveal pre.xr-text-repr-fallback {\n",
    "    display: none;\n",
    "}\n",
    ".reveal ul.xr-sections {\n",
    "    display: grid\n",
    "}\n",
    "\n",
    ".reveal ul ul.xr-var-list {\n",
    "    display: contents\n",
    "}\n",
    "</style>\n",
    "\"\"\"\n",
    "\n",
    "\n",
    "HTML(style)"
   ]
  },
  {
   "cell_type": "code",
   "execution_count": null,
   "metadata": {
    "slideshow": {
     "slide_type": "fragment"
    }
   },
   "outputs": [],
   "source": [
    "import os\n",
    "\n",
    "import numpy as np\n",
    "from xarray.coding.calendar_ops import _datetime_to_decimal_year as dt2decimal\n",
    "import xcdat as xc\n",
    "import cartopy.crs as ccrs\n",
    "import matplotlib.pyplot as plt"
   ]
  },
  {
   "cell_type": "markdown",
   "metadata": {
    "slideshow": {
     "slide_type": "subslide"
    }
   },
   "source": [
    "### 2. I/O\n"
   ]
  },
  {
   "cell_type": "markdown",
   "metadata": {
    "slideshow": {
     "slide_type": "fragment"
    }
   },
   "source": [
    "- We will be analyzing a few years of near-sea surface air temperature (`tas`) data from E3SM v2 CMIP data.\n"
   ]
  },
  {
   "cell_type": "markdown",
   "metadata": {
    "slideshow": {
     "slide_type": "notes"
    }
   },
   "source": [
    "- Use `xc.open_dataset()` to a single netCDF dataset as an `xr.Dataset` object.\n",
    "- API Documentation: https://xcdat.readthedocs.io/en/stable/generated/xcdat.open_dataset.html\n",
    "- [ESGF Search URL](https://aims2.llnl.gov/search?project=CMIP6&activeFacets=%7B%22activity_id%22%3A%22CMIP%22%2C%22source_id%22%3A%22E3SM-2-0%22%2C%22variable_id%22%3A%22tas%22%2C%22table_id%22%3A%22day%22%2C%22frequency%22%3A%22day%22%2C%22variant_label%22%3A%22r1i1p1f1%22%2C%22experiment_id%22%3A%22historical%22%7D)\n"
   ]
  },
  {
   "cell_type": "code",
   "execution_count": null,
   "metadata": {
    "slideshow": {
     "slide_type": "fragment"
    }
   },
   "outputs": [],
   "source": [
    "data_tas_url = \"https://esgf-data1.llnl.gov/thredds/dodsC/css03_data/CMIP6/CMIP/CSIRO/ACCESS-ESM1-5/historical/r10i1p1f1/Amon/tas/gn/v20200605/tas_Amon_ACCESS-ESM1-5_historical_r10i1p1f1_gn_185001-201412.nc\"\n",
    "\n",
    "ds = xc.open_dataset(data_tas_url, chunks={\"time\": \"auto\"})"
   ]
  },
  {
   "cell_type": "code",
   "execution_count": null,
   "metadata": {
    "slideshow": {
     "slide_type": "subslide"
    }
   },
   "outputs": [],
   "source": [
    "ds.tas"
   ]
  },
  {
   "cell_type": "markdown",
   "metadata": {
    "slideshow": {
     "slide_type": "subslide"
    }
   },
   "source": [
    "### 3. Horizonal Regridding\n",
    "\n",
    "We often want to regrid a dataset to a new grid to facilitate data analysis or comparisons with other datasets.\n",
    "\n",
    "The current dataset is on a native atmosphere N96 grid (145x192, latxlon), so we'll start be remapping it to a 4 x 4<sup>o</sup> grid.\n"
   ]
  },
  {
   "cell_type": "markdown",
   "metadata": {
    "slideshow": {
     "slide_type": "fragment"
    }
   },
   "source": [
    "#### First, we specify the target grid\n"
   ]
  },
  {
   "cell_type": "code",
   "execution_count": null,
   "metadata": {
    "slideshow": {
     "slide_type": "fragment"
    }
   },
   "outputs": [],
   "source": [
    "# create target axes\n",
    "nlat = xc.create_axis(\n",
    "    \"lat\", np.arange(-88, 90, 4), attrs={\"units\": \"degrees_north\", \"axis\": \"Y\"}\n",
    ")\n",
    "nlon = xc.create_axis(\n",
    "    \"lon\", np.arange(2, 360, 4), attrs={\"units\": \"degrees_east\", \"axis\": \"X\"}\n",
    ")"
   ]
  },
  {
   "cell_type": "markdown",
   "metadata": {
    "slideshow": {
     "slide_type": "subslide"
    }
   },
   "source": [
    "#### Create the target grid using the target axes and bounds.\n",
    "\n",
    "- API Documentation: https://xcdat.readthedocs.io/en/latest/generated/xcdat.create_grid.html#xcdat.create_grid\n"
   ]
  },
  {
   "cell_type": "code",
   "execution_count": null,
   "metadata": {
    "slideshow": {
     "slide_type": "fragment"
    }
   },
   "outputs": [],
   "source": [
    "ngrid = xc.create_grid(x=nlon, y=nlat)"
   ]
  },
  {
   "cell_type": "code",
   "execution_count": null,
   "metadata": {
    "slideshow": {
     "slide_type": "fragment"
    }
   },
   "outputs": [],
   "source": [
    "ngrid"
   ]
  },
  {
   "cell_type": "markdown",
   "metadata": {
    "slideshow": {
     "slide_type": "subslide"
    }
   },
   "source": [
    "#### Call the xESMF regridder\n",
    "\n",
    "Here we're using bilinear regridding, but other methods may be appropriate (e.g., you may want to use \"conservative_normed\" for fields that should be conserved globally).\n",
    "\n",
    "- Regrid `tas` with the `ngrid` created above using `xesmf` and `bilinear`.\n",
    "- API Documentation: https://xcdat.readthedocs.io/en/stable/generated/xarray.Dataset.regridder.horizontal.html\n"
   ]
  },
  {
   "cell_type": "code",
   "execution_count": null,
   "metadata": {
    "slideshow": {
     "slide_type": "fragment"
    }
   },
   "outputs": [],
   "source": [
    "ds_xesmf = ds.regridder.horizontal(\"tas\", ngrid, tool=\"xesmf\", method=\"bilinear\")\n",
    "ds_xesmf.compute()"
   ]
  },
  {
   "cell_type": "code",
   "execution_count": null,
   "metadata": {
    "slideshow": {
     "slide_type": "subslide"
    }
   },
   "outputs": [],
   "source": [
    "ds_xesmf.tas"
   ]
  },
  {
   "cell_type": "markdown",
   "metadata": {
    "slideshow": {
     "slide_type": "subslide"
    }
   },
   "source": [
    "#### Compare the results (for the first timestep)\n",
    "\n",
    "Now we just plot the results for comparison.\n"
   ]
  },
  {
   "cell_type": "code",
   "execution_count": null,
   "metadata": {
    "slideshow": {
     "slide_type": "fragment"
    }
   },
   "outputs": [],
   "source": [
    "map_proj = ccrs.Robinson()\n",
    "\n",
    "# plot original data (first time step)\n",
    "plt.figure(figsize=(12, 5))\n",
    "plt.subplot(1, 2, 1, projection=map_proj)\n",
    "p = ds.tas[0].plot(\n",
    "    transform=ccrs.PlateCarree(),  # the data's projection\n",
    "    subplot_kws={\"projection\": map_proj},\n",
    "    cbar_kwargs={\"orientation\": \"horizontal\"},\n",
    "    cmap=plt.cm.RdBu_r,\n",
    ")\n",
    "ax = plt.gca()\n",
    "ax.coastlines()\n",
    "plt.title(\"Original\")\n",
    "\n",
    "# plot the remapped data (first time step)\n",
    "plt.subplot(1, 2, 2, projection=map_proj)\n",
    "p = ds_xesmf.tas[0].plot(\n",
    "    transform=ccrs.PlateCarree(),  # the data's projection\n",
    "    subplot_kws={\"projection\": map_proj},\n",
    "    cbar_kwargs={\"orientation\": \"horizontal\"},\n",
    "    cmap=plt.cm.RdBu_r,\n",
    ")\n",
    "ax = plt.gca()\n",
    "ax.coastlines()\n",
    "plt.title(\"xESMF 4$^{\\circ}$ x 4$^{\\circ}$\")"
   ]
  },
  {
   "cell_type": "markdown",
   "metadata": {
    "slideshow": {
     "slide_type": "subslide"
    }
   },
   "source": [
    "### 4. Vertical Regridding\n",
    "\n",
    "xCDAT can also regrid in the vertical dimension.\n",
    "\n",
    "Here we'll grab some cloud fraction data (`cl`) and regrid it from model hybrid coordinate to pressure levels.\n"
   ]
  },
  {
   "cell_type": "markdown",
   "metadata": {
    "slideshow": {
     "slide_type": "notes"
    }
   },
   "source": [
    "Documentation: https://xcdat.readthedocs.io/en/stable/examples/regridding-vertical.html#4:-Remap-cloud-fraction-from-model-hybrid-coordinate-to-pressure-levels\n"
   ]
  },
  {
   "cell_type": "code",
   "execution_count": null,
   "metadata": {
    "slideshow": {
     "slide_type": "fragment"
    }
   },
   "outputs": [],
   "source": [
    "data_url = \"https://esgf-data2.llnl.gov/thredds/dodsC/user_pub_work/CMIP6/CMIP/E3SM-Project/E3SM-2-0/historical/r1i1p1f1/Amon/cl/gr/v20220830/cl_Amon_E3SM-2-0_historical_r1i1p1f1_gr_185001-189912.nc\"\n",
    "\n",
    "ds_3d = xc.open_dataset(data_url, chunks={\"time\": \"auto\"})\n",
    "ds_3d = ds_3d.sel(time=ds_3d.time.dt.year == 1850)\n",
    "\n",
    "ds_3d.cl"
   ]
  },
  {
   "cell_type": "markdown",
   "metadata": {
    "slideshow": {
     "slide_type": "subslide"
    }
   },
   "source": [
    "#### Regrid the `cl` variable using `new_pressure_grid` as the output grid, `\"linear\"` method, and `pressure_data` as the target data.\n"
   ]
  },
  {
   "cell_type": "markdown",
   "metadata": {
    "slideshow": {
     "slide_type": "notes"
    }
   },
   "source": [
    "Example Documentation: https://xcdat.readthedocs.io/en/stable/examples/regridding-vertical.html#4:-Remap-cloud-fraction-from-model-hybrid-coordinate-to-pressure-levels\n"
   ]
  },
  {
   "cell_type": "code",
   "execution_count": null,
   "metadata": {
    "slideshow": {
     "slide_type": "fragment"
    }
   },
   "outputs": [],
   "source": [
    "def hybrid_coordinate(p0, a, b, ps, **kwargs):\n",
    "    return a * p0 + b * ps\n",
    "\n",
    "\n",
    "pressure_data = hybrid_coordinate(**ds_3d.data_vars)\n",
    "new_pressure_grid = xc.create_grid(z=xc.create_axis(\"lev\", np.linspace(100000, 1, 13)))\n",
    "\n",
    "ds_vr = ds_3d.regridder.vertical(\n",
    "    \"cl\", new_pressure_grid, method=\"log\", target_data=pressure_data\n",
    ")\n",
    "ds_vr.compute()"
   ]
  },
  {
   "cell_type": "markdown",
   "metadata": {
    "slideshow": {
     "slide_type": "subslide"
    }
   },
   "source": [
    "#### Finally, we plot the result:\n"
   ]
  },
  {
   "cell_type": "code",
   "execution_count": null,
   "metadata": {
    "slideshow": {
     "slide_type": "fragment"
    }
   },
   "outputs": [],
   "source": [
    "# plot result\n",
    "ds_vr_zonal = ds_vr.isel(time=0).spatial.average(\"cl\", axis=[\"X\"]).squeeze()\n",
    "ds_vr_zonal.cl.plot(cmap=plt.cm.RdBu_r)\n",
    "plt.gca().invert_yaxis()"
   ]
  },
  {
   "cell_type": "markdown",
   "metadata": {
    "slideshow": {
     "slide_type": "subslide"
    }
   },
   "source": [
    "### 5. Spatial Averaging\n",
    "\n",
    "Area-weighted spatial averaging is a common technique to reduce dimensionality in geospatial datasets. xCDAT can perform this calculation over full domains or regions of interest.\n"
   ]
  },
  {
   "cell_type": "markdown",
   "metadata": {
    "slideshow": {
     "slide_type": "fragment"
    }
   },
   "source": [
    "#### Calculate the spatial average of `tas` and store the results in a Python variable.\n",
    "\n",
    "- API Documentation: https://xcdat.readthedocs.io/en/stable/generated/xarray.Dataset.spatial.average.html\n"
   ]
  },
  {
   "cell_type": "code",
   "execution_count": null,
   "metadata": {
    "slideshow": {
     "slide_type": "fragment"
    }
   },
   "outputs": [],
   "source": [
    "ds_global = ds.spatial.average(\"tas\")"
   ]
  },
  {
   "cell_type": "code",
   "execution_count": null,
   "metadata": {
    "slideshow": {
     "slide_type": "fragment"
    }
   },
   "outputs": [],
   "source": [
    "ds_global"
   ]
  },
  {
   "cell_type": "markdown",
   "metadata": {
    "slideshow": {
     "slide_type": "subslide"
    }
   },
   "source": [
    "#### Now let's plot the results (first 120 timesteps)\n",
    "\n",
    "Note that the spatial averager returns a dataset object so we still need to specify `tas` to plot the dataarray.\n"
   ]
  },
  {
   "cell_type": "code",
   "execution_count": null,
   "metadata": {
    "slideshow": {
     "slide_type": "fragment"
    }
   },
   "outputs": [],
   "source": [
    "ds_global.tas.isel(time=slice(0, 120)).plot()\n",
    "plt.title(\"Global Average Surface Temperature\")\n",
    "plt.xlabel(\"Year\")\n",
    "plt.ylabel(\"Near Surface Air Temperature [K]\")"
   ]
  },
  {
   "cell_type": "markdown",
   "metadata": {
    "slideshow": {
     "slide_type": "subslide"
    }
   },
   "source": [
    "Above, we did not specify any constraints. So xCDAT calculated the domain (global) average. Users can also specify their own bounds.\n"
   ]
  },
  {
   "cell_type": "markdown",
   "metadata": {
    "slideshow": {
     "slide_type": "fragment"
    }
   },
   "source": [
    "#### Calculate the near-surface air temperature (`tas`) in the Niño 3.4 region.\n"
   ]
  },
  {
   "cell_type": "markdown",
   "metadata": {
    "slideshow": {
     "slide_type": "notes"
    }
   },
   "source": [
    "API Documentation: https://xcdat.readthedocs.io/en/stable/generated/xarray.Dataset.spatial.average.html\n"
   ]
  },
  {
   "cell_type": "code",
   "execution_count": null,
   "metadata": {
    "slideshow": {
     "slide_type": "fragment"
    }
   },
   "outputs": [],
   "source": [
    "ds_nino34 = ds_xesmf.spatial.average(\n",
    "    \"tas\", lat_bounds=(-5, 5), lon_bounds=(190, 240), keep_weights=True\n",
    ").load()"
   ]
  },
  {
   "cell_type": "markdown",
   "metadata": {
    "slideshow": {
     "slide_type": "fragment"
    }
   },
   "source": [
    "In this case, we specified `keep_weights=True`. The weights provide full spatial weighting for grid cells entirely within the Niño 3.4 region.\n",
    "\n",
    "- If a grid cell is partially in the Niño 3.4 region, it received partial weight.\n",
    "- Note we use the 4 x 4 degree grid in this example to show the partial weights and to speed up plotting).\n",
    "- Note that you can also supply your own weights (but you can't automatically subset with `lat_bounds` and `lon_bounds` if you supply your own weights).\n"
   ]
  },
  {
   "cell_type": "markdown",
   "metadata": {
    "slideshow": {
     "slide_type": "subslide"
    }
   },
   "source": [
    "#### Plot the Niño 3.4 region time series\n"
   ]
  },
  {
   "cell_type": "code",
   "execution_count": null,
   "metadata": {
    "slideshow": {
     "slide_type": "fragment"
    }
   },
   "outputs": [],
   "source": [
    "dtime = dt2decimal(ds_nino34.time)  # decimal time\n",
    "\n",
    "plt.figure(figsize=(10, 2))\n",
    "plt.subplot(1, 2, 1)\n",
    "plt.plot(dtime, ds_nino34[\"tas\"].values)\n",
    "plt.xlabel(\"Year\")\n",
    "plt.ylabel(\"Near-Surface Air Temperature [K]\")\n",
    "plt.title(\"Niño 3.4 time series\")\n",
    "\n",
    "# show the weights\n",
    "map_proj = ccrs.PlateCarree(central_longitude=180)\n",
    "ax = plt.subplot(1, 2, 2, projection=map_proj)\n",
    "plt.pcolor(\n",
    "    ds_nino34.lon,\n",
    "    ds_nino34.lat,\n",
    "    ds_nino34.lat_lon_wts.T,\n",
    "    transform=ccrs.PlateCarree(),\n",
    "    cmap=plt.cm.GnBu,\n",
    ")\n",
    "ax.set_extent([120, 300, -30, 30], crs=ccrs.PlateCarree())\n",
    "ax.coastlines()\n",
    "plt.colorbar(orientation=\"horizontal\")\n",
    "plt.title(\"Nino 3.4 Weights\")"
   ]
  },
  {
   "cell_type": "markdown",
   "metadata": {
    "slideshow": {
     "slide_type": "subslide"
    }
   },
   "source": [
    "### 6. Temporal Computations with xCDAT\n",
    "\n",
    "In the examples below, we will performing temporal computations on the `xarray.Dataset` object using xCDAT.\n"
   ]
  },
  {
   "cell_type": "markdown",
   "metadata": {
    "slideshow": {
     "slide_type": "subslide"
    }
   },
   "source": [
    "#### 6.1 Seasonal cycle mean\n",
    "\n",
    "In the global mean time series above, there are large seasonal swings in global near-surface air temperature. Here we compute the seasonal mean climatology.\n"
   ]
  },
  {
   "cell_type": "markdown",
   "metadata": {
    "slideshow": {
     "slide_type": "fragment"
    }
   },
   "source": [
    "#### Calculate the seasonal mean climatology for the `tas` variable.\n"
   ]
  },
  {
   "cell_type": "markdown",
   "metadata": {
    "slideshow": {
     "slide_type": "notes"
    }
   },
   "source": [
    "API Documentation: https://xcdat.readthedocs.io/en/stable/generated/xarray.Dataset.temporal.climatology.html\n"
   ]
  },
  {
   "cell_type": "code",
   "execution_count": null,
   "metadata": {
    "slideshow": {
     "slide_type": "fragment"
    }
   },
   "outputs": [],
   "source": [
    "ds_clim = ds.temporal.climatology(\"tas\", freq=\"season\")"
   ]
  },
  {
   "cell_type": "markdown",
   "metadata": {
    "slideshow": {
     "slide_type": "subslide"
    }
   },
   "source": [
    "#### Now we plot the season means\n"
   ]
  },
  {
   "cell_type": "code",
   "execution_count": null,
   "metadata": {
    "slideshow": {
     "slide_type": "fragment"
    }
   },
   "outputs": [],
   "source": [
    "map_proj = ccrs.Robinson()\n",
    "titles = [\"DJF\", \"MAM\", \"JJA\", \"SON\"]\n",
    "plt.figure(figsize=(12, 10))\n",
    "for i in range(4):\n",
    "    plt.subplot(2, 2, i + 1, projection=map_proj)\n",
    "    p = ds_clim.tas[i].plot(\n",
    "        transform=ccrs.PlateCarree(),\n",
    "        subplot_kws={\"projection\": map_proj},\n",
    "        cbar_kwargs={\"orientation\": \"horizontal\"},\n",
    "        cmap=plt.cm.RdBu_r,\n",
    "        vmin=220,\n",
    "        vmax=310,\n",
    "    )\n",
    "    ax = plt.gca()\n",
    "    ax.coastlines()\n",
    "    plt.title(titles[i])"
   ]
  },
  {
   "cell_type": "markdown",
   "metadata": {
    "slideshow": {
     "slide_type": "subslide"
    }
   },
   "source": [
    "#### 6.2 Departures\n",
    "\n",
    "It can also be useful to show the departures from the climatological average.\n"
   ]
  },
  {
   "cell_type": "markdown",
   "metadata": {
    "slideshow": {
     "slide_type": "fragment"
    }
   },
   "source": [
    "#### Calculate the seasonal mean departures for the `tas` variable.\n",
    "\n",
    "In this case, `xcdat` will operate on the global mean time series we calculated above.\n",
    "\n",
    "Note that you can set the climatological reference period (e.g., with `reference_period=(\"2000-01-01\", \"2009-12-31\")` for historical era departures).\n"
   ]
  },
  {
   "cell_type": "markdown",
   "metadata": {
    "slideshow": {
     "slide_type": "notes"
    }
   },
   "source": [
    "API Documentation: https://xcdat.readthedocs.io/en/stable/generated/xarray.Dataset.temporal.departures.html\n"
   ]
  },
  {
   "cell_type": "code",
   "execution_count": null,
   "metadata": {
    "slideshow": {
     "slide_type": "fragment"
    }
   },
   "outputs": [],
   "source": [
    "ds_global_anomaly = ds_global.temporal.departures(\n",
    "    \"tas\", freq=\"month\", reference_period=(\"2000-01-01\", \"2009-12-31\")\n",
    ")"
   ]
  },
  {
   "cell_type": "markdown",
   "metadata": {
    "slideshow": {
     "slide_type": "subslide"
    }
   },
   "source": [
    "#### Now let's plot the departures from the climatological average.\n"
   ]
  },
  {
   "cell_type": "code",
   "execution_count": null,
   "metadata": {
    "slideshow": {
     "slide_type": "fragment"
    }
   },
   "outputs": [],
   "source": [
    "plt.plot(dtime, ds_global_anomaly.tas.values)\n",
    "plt.xlabel(\"Year\")\n",
    "plt.ylabel(\"Global Mean Near-Surface Air Temperature Anomaly [K]\")"
   ]
  },
  {
   "cell_type": "markdown",
   "metadata": {
    "slideshow": {
     "slide_type": "subslide"
    }
   },
   "source": [
    "#### 6.3 Group averages\n",
    "\n",
    "`xcdat` also allows you to calculate group averages (e.g., annual or seasonal mean from monthly data or monthly mean from daily data).\n"
   ]
  },
  {
   "cell_type": "markdown",
   "metadata": {
    "slideshow": {
     "slide_type": "fragment"
    }
   },
   "source": [
    "#### Calculate the annual mean from anomaly time series.\n",
    "\n",
    "- API Documentation: https://xcdat.readthedocs.io/en/stable/generated/xarray.Dataset.temporal.group_averages.html\n"
   ]
  },
  {
   "cell_type": "code",
   "execution_count": null,
   "metadata": {
    "slideshow": {
     "slide_type": "fragment"
    }
   },
   "outputs": [],
   "source": [
    "ds_global_anomaly_annual = ds_global_anomaly.temporal.group_average(\"tas\", freq=\"year\")"
   ]
  },
  {
   "cell_type": "markdown",
   "metadata": {
    "slideshow": {
     "slide_type": "subslide"
    }
   },
   "source": [
    "#### Now let's plot the results.\n"
   ]
  },
  {
   "cell_type": "code",
   "execution_count": null,
   "metadata": {
    "slideshow": {
     "slide_type": "fragment"
    }
   },
   "outputs": [],
   "source": [
    "# plot data\n",
    "dtime_annual = dt2decimal(ds_global_anomaly_annual.time) + 0.5\n",
    "plt.plot(dtime, ds_global_anomaly.tas.values, label=\"Monthly departure\", color=\"gray\")\n",
    "plt.plot(\n",
    "    dtime_annual,\n",
    "    ds_global_anomaly_annual.tas.values,\n",
    "    color=\"k\",\n",
    "    linestyle=\"\",\n",
    "    marker=\"_\",\n",
    "    label=\"Annual Mean\",\n",
    ")\n",
    "plt.legend(frameon=False)\n",
    "plt.xlabel(\"Year\")\n",
    "plt.ylabel(\"Global Mean Near-Surface Air Temperature [K]\")"
   ]
  },
  {
   "cell_type": "markdown",
   "metadata": {
    "slideshow": {
     "slide_type": "subslide"
    }
   },
   "source": [
    "### 7. General Dataset Utilities\n",
    "\n",
    "xCDAT includes various utilities for data manipulation, including\n",
    "reorientation of the longitude axis, centering of time coordinates using time bounds, and adding and getting bounds.\n"
   ]
  },
  {
   "cell_type": "markdown",
   "metadata": {
    "slideshow": {
     "slide_type": "subslide"
    }
   },
   "source": [
    "#### 7.1. Reorient the longitude axis\n",
    "\n",
    "Longitude can be represented from 0 to 360 E or as 180 W to 180 E. xcdat allows you to convert between these axes systems.\n"
   ]
  },
  {
   "cell_type": "code",
   "execution_count": null,
   "metadata": {
    "slideshow": {
     "slide_type": "fragment"
    }
   },
   "outputs": [],
   "source": [
    "ds.lon"
   ]
  },
  {
   "cell_type": "markdown",
   "metadata": {
    "slideshow": {
     "slide_type": "fragment"
    }
   },
   "source": [
    "#### Use `xc.swap_lon_axis` to swap the longitude axis from (0, 360) to (-180, 180) and view\n",
    "\n",
    "the new longitude axis.\n",
    "\n",
    "- Documentation: https://xcdat.readthedocs.io/en/stable/generated/xcdat.swap_lon_axis.html\n"
   ]
  },
  {
   "cell_type": "code",
   "execution_count": null,
   "metadata": {
    "slideshow": {
     "slide_type": "fragment"
    }
   },
   "outputs": [],
   "source": [
    "ds2 = xc.swap_lon_axis(ds, to=(-180, 180))\n",
    "\n",
    "ds2.lon"
   ]
  },
  {
   "cell_type": "markdown",
   "metadata": {
    "slideshow": {
     "slide_type": "subslide"
    }
   },
   "source": [
    "#### 7.2. Add missing bounds\n",
    "\n",
    "Bounds are critical to many `xcdat` operations. For example, they are used in determining the weights in spatial or temporal averages and in regridding operations. `add_missing_bounds()` will attempt to produce bounds if they do not exist in the original dataset.\n",
    "\n",
    "- Documentation: https://xcdat.readthedocs.io/en/stable/generated/xarray.Dataset.bounds.add_missing_bounds.html\n"
   ]
  },
  {
   "cell_type": "code",
   "execution_count": null,
   "metadata": {
    "slideshow": {
     "slide_type": "fragment"
    }
   },
   "outputs": [],
   "source": [
    "# We are dropping the existing bounds to demonstrate adding bounds.\n",
    "ds4 = ds.drop_vars(\"time_bnds\")"
   ]
  },
  {
   "cell_type": "code",
   "execution_count": null,
   "metadata": {
    "slideshow": {
     "slide_type": "fragment"
    }
   },
   "outputs": [],
   "source": [
    "try:\n",
    "    ds4.bounds.get_bounds(\"T\")\n",
    "except KeyError as e:\n",
    "    print(e)"
   ]
  },
  {
   "cell_type": "code",
   "execution_count": null,
   "metadata": {
    "slideshow": {
     "slide_type": "fragment"
    }
   },
   "outputs": [],
   "source": [
    "ds5 = ds4.bounds.add_missing_bounds(axes=[\"T\"])\n",
    "ds5"
   ]
  },
  {
   "cell_type": "markdown",
   "metadata": {
    "slideshow": {
     "slide_type": "slide"
    }
   },
   "source": [
    "## Parallelism with Dask\n",
    "\n",
    "<div style=\"text-align:center\">\n",
    "  <img src=\"../../_static/dask-logo.svg\" alt=\"Dask logo\" style=\"display: inline-block; width:300px;\">\n",
    "</div>\n",
    "\n",
    "> \"Nearly all existing xarray methods have been extended to work automatically with Dask arrays for parallelism\"\n",
    "\n",
    "- Parallelized xarray methods include **indexing, computation, concatenating and grouped operations**\n",
    "- xCDAT APIs that build upon xarray methods inherently support Dask parallelism\n",
    "- Dask arrays are loaded into memory only when absolutely required (e.g., generating weights for averaging)\n",
    "\n",
    "&mdash; <cite>https://docs.xarray.dev/en/stable/user-guide/dask.html#using-dask-with-xarray</cite>\n"
   ]
  },
  {
   "cell_type": "markdown",
   "metadata": {
    "slideshow": {
     "slide_type": "slide"
    }
   },
   "source": [
    "#### Example of Parallelizing xCDAT with Dask\n",
    "\n",
    "1. Open ~11 GB dataset using `xc.open_mfdataset()`\n",
    "2. Chunked on time dimension by 10 (parallel) and by 1 (serial)\n",
    "3. Compare run times of global spatial averaging\n"
   ]
  },
  {
   "cell_type": "code",
   "execution_count": null,
   "metadata": {
    "slideshow": {
     "slide_type": "subslide"
    }
   },
   "outputs": [],
   "source": [
    "import os\n",
    "\n",
    "import xcdat as xc\n",
    "\n",
    "FILENAMES = [\n",
    "    \"tas_day_E3SM-2-0_historical_r1i1p1f1_gr_18500101-18591231.nc\",\n",
    "    \"tas_day_E3SM-2-0_historical_r1i1p1f1_gr_18600101-18691231.nc\",\n",
    "    \"tas_day_E3SM-2-0_historical_r1i1p1f1_gr_18700101-18791231.nc\",\n",
    "    \"tas_day_E3SM-2-0_historical_r1i1p1f1_gr_18800101-18891231.nc\",\n",
    "    \"tas_day_E3SM-2-0_historical_r1i1p1f1_gr_19000101-19091231.nc\",\n",
    "    \"tas_day_E3SM-2-0_historical_r1i1p1f1_gr_19100101-19191231.nc\",\n",
    "    \"tas_day_E3SM-2-0_historical_r1i1p1f1_gr_19300101-19391231.nc\",\n",
    "    \"tas_day_E3SM-2-0_historical_r1i1p1f1_gr_19400101-19491231.nc\",\n",
    "    \"tas_day_E3SM-2-0_historical_r1i1p1f1_gr_19600101-19691231.nc\",\n",
    "    \"tas_day_E3SM-2-0_historical_r1i1p1f1_gr_19700101-19791231.nc\",\n",
    "    \"tas_day_E3SM-2-0_historical_r1i1p1f1_gr_19800101-19891231.nc\",\n",
    "    \"tas_day_E3SM-2-0_historical_r1i1p1f1_gr_19900101-19991231.nc\",\n",
    "    \"tas_day_E3SM-2-0_historical_r1i1p1f1_gr_20000101-20091231.nc\",\n",
    "    \"tas_day_E3SM-2-0_historical_r1i1p1f1_gr_20100101-20141231.nc\",\n",
    "]\n",
    "\n",
    "LOCAL_DIR = \"docs/demos/24-07-11-scipy-2024/tas_day_E3SM-2-0_historical_r1i1p1f1_gr\"\n",
    "LOCAL_FILEPATHS = [os.path.join(LOCAL_DIR, file) for file in FILENAMES]\n",
    "\n",
    "ds_parallel = xc.open_mfdataset(LOCAL_FILEPATHS, chunks={\"time\": 10})\n",
    "ds_serial = xc.open_mfdataset(LOCAL_FILEPATHS, chunks={\"time\": 1})"
   ]
  },
  {
   "cell_type": "markdown",
   "metadata": {
    "slideshow": {
     "slide_type": "subslide"
    }
   },
   "source": [
    "#### Now let's run compare the xCDAT `spatial.average()` performance (parallel vs. serial)\n",
    "\n",
    "Properly chunking the dataset on the time dimension results in speedups when using xCDAT's\n",
    "spatial averager.\n"
   ]
  },
  {
   "cell_type": "code",
   "execution_count": null,
   "metadata": {
    "cell_style": "split",
    "slideshow": {
     "slide_type": "fragment"
    }
   },
   "outputs": [],
   "source": [
    "%%time\n",
    "ds_parallel_avg = ds_parallel.spatial.average(\"tas\")\n",
    "ds_parallel_avg = ds_parallel.compute()"
   ]
  },
  {
   "cell_type": "code",
   "execution_count": null,
   "metadata": {
    "cell_style": "split",
    "slideshow": {
     "slide_type": "fragment"
    }
   },
   "outputs": [],
   "source": [
    "%%time\n",
    "ds_serial_avg = ds_serial.spatial.average(\"tas\")\n",
    "ds_serial_avg = ds_serial.compute()"
   ]
  },
  {
   "cell_type": "markdown",
   "metadata": {
    "slideshow": {
     "slide_type": "subslide"
    }
   },
   "source": [
    "### Further Dask Guidance\n",
    "\n",
    "Visit these pages for more guidance (e.g., when to parallelize):\n",
    "\n",
    "<div style=\"text-align: center; margin-top:10px\">\n",
    "    <img src=\"./images/dask-guide.png\" alt=\"Dask Guide\" align=\\\"center\\\" style=\"display: inline-block; width:450px;border: 3px solid #555;\">\n",
    "</div>\n",
    "\n",
    "- Parallel computing with Dask (xCDAT, show above): https://xcdat.readthedocs.io/en/latest/examples/parallel-computing-with-dask.html\n",
    "- Parallel computing with Dask (Xarray): https://docs.xarray.dev/en/stable/user-guide/dask.html\n",
    "- Xarray with Dask Arrays: https://examples.dask.org/xarray.html\n"
   ]
  },
  {
   "cell_type": "markdown",
   "metadata": {
    "slideshow": {
     "slide_type": "slide"
    }
   },
   "source": [
    "<div style=\"text-align: left; margin-top:10px\">\n",
    "    <img src=\"../../_static/xcdat-logo.png\" alt=\"xCDAT logo\" align=\\\"center\\\" style=\"display: inline-block; width:300px;\">\n",
    "    <h3>Recap of Key Points</h3>\n",
    "</div>\n",
    "\n",
    "- xCDAT is an **extension of Xarray for climate data analysis on structured grids**, a modern successor to the Community Data Analysis Tools (CDAT) library\n",
    "- **Focused on routine climate research analysis operations** including loading, wrangling, averaging, such as temporal averaging, spatial averaging, and regridding\n",
    "- Designed to encourages **software sustainability and reproducible science**\n",
    "- **Parallelizable** through Xarray’s support for Dask, which enables efficient processing of large datasets\n"
   ]
  },
  {
   "cell_type": "markdown",
   "metadata": {
    "slideshow": {
     "slide_type": "slide"
    }
   },
   "source": [
    "<div style=\"text-align: left; margin-top:10px\">\n",
    "    <h3><img src=\"../../_static/github-logo.png\" alt=\"GitHub logo\" align=\\\"center\\\" style=\"display: inline-block; width:200px;\">\n",
    "    <img src=\"../../_static/github-logo-icon.png\" alt=\"GitHub logo\" align=\\\"center\\\" style=\"display: inline-block; width:75px;\">\n",
    "    Get involved and join the xCDAT community!</h3>\n",
    "</div>\n",
    "\n",
    "- **Code contributions** are welcome and appreciated\n",
    "  - GitHub Repository: https://github.com/xCDAT/xcdat\n",
    "  - Contributing Guide: https://xcdat.readthedocs.io/en/latest/contributing.html\n",
    "- **Submit and/or address tickets** for feature suggestions, bugs, and documentation updates\n",
    "  - GitHub Issues: https://github.com/xCDAT/xcdat/issues\n",
    "- **Participate in forum discussions** on version releases, architecture, feature suggestions, etc.\n",
    "  - GitHub Discussions: https://github.com/xCDAT/xcdat/discussions\n"
   ]
  }
 ],
 "metadata": {
  "celltoolbar": "Slideshow",
  "kernelspec": {
   "display_name": "Python 3 (ipykernel)",
   "language": "python",
   "name": "python3"
  },
  "language_info": {
   "codemirror_mode": {
    "name": "ipython",
    "version": 3
   },
   "file_extension": ".py",
   "mimetype": "text/x-python",
   "name": "python",
   "nbconvert_exporter": "python",
   "pygments_lexer": "ipython3",
   "version": "3.11.9"
  },
  "rise": {
   "scroll": true
  }
 },
 "nbformat": 4,
 "nbformat_minor": 2
}
