{
 "cells": [
  {
   "cell_type": "markdown",
   "metadata": {
    "slideshow": {
     "slide_type": "slide"
    }
   },
   "source": [
    "<div style=\"text-align: left\">\n",
    "    <img src=\"../../_static/xcdat-logo.png\" alt=\"xCDAT logo\" style=\"display: inline-block; width:600px;\">\n",
    "</div>\n",
    "\n",
    "# Xarray Climate Data Analysis Tools (xCDAT)\n",
    "\n",
    "<h3 style=\"text-align: left;\">A Python Package for Simple and Robust Analysis of Climate Data</h3>\n",
    "<div style=\"text-align: left\">\n",
    "    <h4><img src=\"images/scipy-logo.png\" alt=\"xCDAT logo\" style=\"display: inline-block; width:50px;\">SciPy 2024, 07/11/2024</h3>\n",
    "</div>\n",
    "<h4 style=\"text-align: left; font-style:italic\">Core Developers: Tom Vo, Stephen Po-Chedley, Jason Boutte, Jill Zhang, Jiwoo Lee</h4>\n",
    "<p style=\"text-align: left;\">With thanks to Peter Gleckler, Paul Durack, Karl Taylor, and Chris Golaz</p>\n",
    "\n",
    "---\n",
    "\n",
    "_This work is performed under the auspices of the U. S. DOE by Lawrence Livermore National Laboratory under contract No. DE-AC52-07NA27344._\n"
   ]
  },
  {
   "cell_type": "markdown",
   "metadata": {
    "slideshow": {
     "slide_type": "slide"
    },
    "vscode": {
     "languageId": "plaintext"
    }
   },
   "source": [
    "## Notebook Setup\n",
    "\n",
    "Create an Anaconda environment for this notebook using the command below:\n",
    "\n",
    "```bash\n",
    "conda create -n xcdat_scipy_2024 -c conda-forge xcdat=0.7.0 xesmf matplotlib ipython ipykernel cartopy nc-time-axis gsw-xarray jupyter jupyter_contrib_nbextensions rise\n",
    "\n",
    "conda activate xcdat_scipy_2024\n",
    "```\n",
    "\n",
    "Then run:\n",
    "\n",
    "```bash\n",
    "jupyter contrib nbextension install --user\n",
    "\n",
    "jupyter nbextension enable splitcell/splitcell\n",
    "```\n"
   ]
  },
  {
   "cell_type": "markdown",
   "metadata": {
    "slideshow": {
     "slide_type": "notes"
    }
   },
   "source": [
    "To open Jupyter Notebook GUI:\n",
    "\n",
    "```bash\n",
    "jupyter notebook\n",
    "```\n",
    "\n",
    "To print notebook as PDF:\n",
    "\n",
    "```bash\n",
    "jupyter nbconvert —to html <PATH-TO-NOTEBOOK>\n",
    "\n",
    "# Then Print HTML to PDF (Browser)\n",
    "```\n"
   ]
  },
  {
   "cell_type": "markdown",
   "metadata": {
    "slideshow": {
     "slide_type": "slide"
    },
    "vscode": {
     "languageId": "plaintext"
    }
   },
   "source": [
    "## An Overview of this Talk\n",
    "\n",
    "1. Preliminary introduction to Xarray\n",
    "2. Brief history, scope, and mission of xCDAT\n",
    "3. Design philosophy\n",
    "4. Key features with code examples\n",
    "5. Parallelizing with Dask\n",
    "6. xCDAT’s community and how to get Involved\n"
   ]
  },
  {
   "cell_type": "markdown",
   "metadata": {
    "slideshow": {
     "slide_type": "slide"
    }
   },
   "source": [
    "<div style=\"text-align: left; margin-top:10px\">\n",
    "<h3><img src=\"../../_static/xarray-logo.png\" alt=\"Xarray logo\" align=\\\"center\\\" style=\"display: inline-block; width:300px; margin-right:20px\">\"N-D labeled arrays and datasets in Python\"</h3>\n",
    "</div>\n",
    "\n",
    "- An evolution of an internal tool developed at The Climate Corporation.\n",
    "- Released as open source in May 2014\n",
    "- NumFocus fiscally sponsored project since August 2018\n",
    "- Based on NumPy, heavily inspired by Pandas\n",
    "\n",
    "<div style=\"text-align: center;\">\n",
    "  <img src=\"../../_static/NumFocus-logo.png\" alt=\"NumFocus logo\" align=\\\"center\\\" style=\"display: inline-block; width:200px;\">\n",
    "  <img src=\"../../_static/numpy-logo.svg\" alt=\"NumPy logo\" align=\\\"center\\\" style=\"display: inline-block; width:200px;\">\n",
    "  <img src=\"../../_static/pandas-logo.svg\" alt=\"Pandas logo\" align=\\\"center\\\" style=\"display: inline-block; width:200px;\">\n",
    "</div>\n"
   ]
  },
  {
   "cell_type": "markdown",
   "metadata": {
    "slideshow": {
     "slide_type": "subslide"
    }
   },
   "source": [
    "Why Xarray?\n",
    "\n",
    "- Introduces labels in the form of dimensions, coordinates, and attributes on top of raw NumPy-like arrays\n",
    "- Intuitive, more concise, and less error-prone user experience\n",
    "\n",
    "Key features include\n",
    "\n",
    "- File I/O, indexing and selecting, interpolating, grouping, aggregating, parallelism (Dask), plotting (matplotlib wrapper)\n",
    "  Supports various file formats netCDF, Iris, OPeNDAP, Zarr, and more\n",
    "- Interoperability with scientific Python ecosystem such as NumPy, Dask, Pandas, and Matplotlib\n",
    "\n",
    "<div style=\"text-align: center;\">\n",
    "  <img src=\"../../_static/dask-logo.svg\" alt=\"NumFocus logo\" align=\\\"center\\\" style=\"display: inline-block; width:200px;\">\n",
    "  <img src=\"../../_static/matplotlib-logo.svg\" alt=\"NumPy logo\" align=\\\"center\\\" style=\"display: inline-block; width:200px;\">\n",
    "</div>\n"
   ]
  },
  {
   "cell_type": "markdown",
   "metadata": {
    "slideshow": {
     "slide_type": "slide"
    }
   },
   "source": [
    "<div style=\"text-align: left; margin-top:10px\">\n",
    "<h4><img src=\"../../_static/xcdat-logo.png\" alt=\"xCDAT logo\" align=\\\"center\\\" style=\"display: inline-block; width:300px; margin-right:20px\">Xarray Climate Data Analysis Tools for Structured Grid Analysis</h4>\n",
    "</div>\n",
    "\n",
    "- Collaboration between:\n",
    "\n",
    "<div style=\"text-align: center; margin-top:10px\">\n",
    "    <img src=\"../../_static/e3sm-logo.jpg\" alt=\"E3SM logo\" align=\\\"center\\\" style=\"display: inline-block;     margin-right:50px; width:150px;\">\n",
    "    <img src=\"../../_static/pcmdi-logo.png\" alt=\"PCMDI logo\" style=\"display: inline-block; margin-right:50px; width:150px;\">\n",
    "    <img src=\"../../_static/seats-logo.png\" alt=\"SEATS logo\" style=\"display: inline-block; width:150px\">\n",
    "</div>\n",
    "\n",
    "- xCDAT is an extension of Xarray for climate data analysis on structured grids, a modern successor to the Community Data Analysis Tools (CDAT) library\n",
    "- Scope is focused on routine climate research analysis operations such as loading, averaging, and regridding data\n",
    "- Aims to provide features and utilities for simple and robust analysis of climate data\n"
   ]
  },
  {
   "cell_type": "markdown",
   "metadata": {
    "slideshow": {
     "slide_type": "subslide"
    }
   },
   "source": [
    "<div style=\"text-align: left; margin-top:10px\">\n",
    "    <h3>xCDAT features and utilities for simple, robust, and less error-prone analysis code</h3>\n",
    "</div>\n",
    "\n",
    "- Extension of `xr.open_dataset()` and `xr.open_mfdataset()` with post-processing options\n",
    "- Generate missing bounds, center time coords, convert lon axis orientation\n",
    "- Geospatial weighted averaging\n",
    "- Temporal averaging, climatologies, departures\n",
    "- Horizontal structured regridding (extension of xESMF and Python port of regrid2)\n",
    "- Vertical structured regridding (extension of xGCM)\n",
    "\n",
    "<div style=\"text-align: center; margin-top:10px\">\n",
    "    <img src=\"../../_static/xarray-logo.png\" alt=\"Xarray logo\" style=\"display: inline-block; width:200px\">\n",
    "    <img src=\"../../_static/esmf-logo.png\" alt=\"ESMF logo\" style=\"display: inline-block; margin-right:50px; width:200px;\">\n",
    "    <img src=\"../../_static/xgcm-logo.png\" alt=\"xGCM logo\" align=\\\"center\\\" style=\"display: inline-block;     margin-right:50px; width:200px;\">\n",
    "</div>\n",
    "\n",
    "<div style=\"text-align: center;\">\n",
    "    <img src=\"../../_static/thumbnails/spatial-avg.png\" alt=\"Spatial average chart\" style=\"display: inline-block; width:200px\">\n",
    "    <img src=\"../../_static/thumbnails/temporal-average.png\" alt=\"Temporal average chart\" style=\"display: inline-block; margin-right:50px; width:200px;\">\n",
    "    <img src=\"../../_static/thumbnails/regridding-vertical.png\" alt=\"Vertical regridding chart\" style=\"display: inline-block; margin-right:50px; width:175px;\">\n",
    "</div>\n"
   ]
  },
  {
   "cell_type": "markdown",
   "metadata": {
    "slideshow": {
     "slide_type": "subslide"
    }
   },
   "source": [
    "<div style=\"text-align: left; margin-top:10px\">\n",
    "<h3>The Software Design Philosophy of xCDAT</h3>\n",
    "</div>\n",
    "\n",
    "- Intentionality designed to **encourage software sustainability** and **reproducible science**\n",
    "- **Well-documented and configurable features** allow scientists to rapidly develop robust, reusable, less-error prone, more maintainable code\n",
    "- **Streamline the developer experience** of writing analysis code by reducing complexity\n",
    "- xCDAT aims to contribute to **Pangeo's** effort to foster an ecosystem of mutually compatible geoscience Python packages\n",
    "\n",
    "<div style=\"text-align: center; margin-top:10px\">\n",
    "    <img src=\"../../_static/pangeo-logo.png\" alt=\"Pangeo logo\" align=\\\"center\\\" style=\"display: inline-block; width:200px;\">\n",
    "    <img src=\"../../demos/1-25-23-cwss-seminar/images/rtd-logo.png\" alt=\"PCMDI logo\" style=\"display: inline-block; width:200px;\">\n",
    "</div>\n"
   ]
  },
  {
   "cell_type": "markdown",
   "metadata": {
    "slideshow": {
     "slide_type": "subslide"
    }
   },
   "source": [
    "### Getting Started with xCDAT\n",
    "\n",
    "- xCDAT is available for installation through Anaconda on the `conda-forge` channel\n",
    "  - Install command: `conda install -c conda-forge xcdat`\n",
    "- Check out xCDAT’s Read the Docs, which we strive to keep up-to-date\n",
    "  - https://xcdat.readthedocs.io/en/stable/\n",
    "\n",
    "<div style=\"text-align: center;\">\n",
    "    <img src=\"../../demos/1-25-23-cwss-seminar/images/anaconda-logo.png\" alt=\"Anaconda logo\" align=\\\"center\\\" style=\"display: inline-block;     margin-right:50px; width:200px;\">\n",
    "    <img src=\"../../demos/1-25-23-cwss-seminar/images/conda-forge-logo.png\" alt=\"Conda Forge logo\" style=\"display: inline-block; margin-right:50px; width:200px;\">\n",
    "</div>\n",
    "\n",
    "<div style=\"text-align: center; margin-top:10px\">\n",
    "  <img src=\"../../demos/1-25-23-cwss-seminar/images/rtd-logo.png\" alt=\"Read the docs logo\" style=\"display: inline-block; width:200px\">\n",
    "  <img src=\"../../demos/1-25-23-cwss-seminar/images/rtd-screenshot.png\" alt=\"xCDAT docs\" style=\"display: inline-block; width:200px\">\n",
    "</div>\n"
   ]
  },
  {
   "cell_type": "markdown",
   "metadata": {
    "slideshow": {
     "slide_type": "slide"
    }
   },
   "source": [
    "### How to use xCDAT\n",
    "\n",
    "- xCDAT extends Xarray Dataset objects via \"accessor\" classes.\n",
    "- In the example below, custom spatial functionality is exposed by chaining the spatial accessor attribute to the Dataset object. This chaining enables access to the underlying spatial average() method.\n",
    "\n",
    "<div style=\"text-align: center;\">\n",
    "    <img src=\"../../_static/accessor_api.svg\n",
    "\" alt=\"Anaconda logo\" align=\\\"center\\\" style=\"display: inline-block;     margin-right:50px; width:500px;\">\n",
    "</div>\n",
    "\n",
    "- `temporal`\n",
    "  - `.average()`, `.group_average()`, `.climatology()`, `.depatures()`\n",
    "- `spatial`\n",
    "  - `.average()`, `.get_weights()`\n",
    "- `bounds`\n",
    "  - `.get_bounds()`, `.add_bounds()`, `.add_missing_bounds()`\n"
   ]
  },
  {
   "cell_type": "markdown",
   "metadata": {
    "slideshow": {
     "slide_type": "subslide"
    }
   },
   "source": [
    "xCDAT also provides general utilities in the form of functions\n",
    "\n",
    "- `open_dataset()`, `open_mfdataset()`\n",
    "- `center_times()`, `decode_time()`\n",
    "- `swap_lon_axis()`\n",
    "- `create_axis()`\n",
    "- `create_grid()`\n",
    "- `get_dim_coords()`\n",
    "- `get_dim_keys()`\n",
    "\n",
    "Visit the API Reference page for a complete list: https://xcdat.readthedocs.io/en/latest/api.html\n"
   ]
  },
  {
   "cell_type": "markdown",
   "metadata": {
    "slideshow": {
     "slide_type": "slide"
    }
   },
   "source": [
    "## End-to-End Analysis and Visualization of E3SM Data using nco and xCDAT\n",
    "\n",
    "### Overview\n",
    "\n",
    "This exercise will walkthrough using regridding E3SM data to a\n",
    "rectilinear grid using `ncremap`, then performing analysis and visualization using xCDAT.\n",
    "\n",
    "### Sections\n",
    "\n",
    "1. Prerequisite: Set up the E3SM Unified Environment v1.10.0 Python Kernel\n",
    "2. Setup Code\n",
    "3. Use NCO to regrid E3SM data to a rectilinear grid\n",
    "4. I/O\n",
    "5. Regridding\n",
    "6. Spatial Averaging\n",
    "7. Temporal Computations\n",
    "8. General Dataset Utilities\n"
   ]
  },
  {
   "cell_type": "markdown",
   "metadata": {},
   "source": [
    "### Setup Code\n"
   ]
  },
  {
   "cell_type": "code",
   "execution_count": 1,
   "metadata": {
    "slideshow": {
     "slide_type": "notes"
    }
   },
   "outputs": [
    {
     "data": {
      "text/html": [
       "\n",
       "<style>\n",
       ".reveal pre.xr-text-repr-fallback {\n",
       "    display: none;\n",
       "}\n",
       ".reveal ul.xr-sections {\n",
       "    display: grid\n",
       "}\n",
       "\n",
       ".reveal ul ul.xr-var-list {\n",
       "    display: contents\n",
       "}\n",
       "</style>\n"
      ],
      "text/plain": [
       "<IPython.core.display.HTML object>"
      ]
     },
     "execution_count": 1,
     "metadata": {},
     "output_type": "execute_result"
    }
   ],
   "source": [
    "# This style import is necessary to properly render Xarray's HTML output with\n",
    "# the Jupyer RISE extension.\n",
    "# GitHub Issue: https://github.com/damianavila/RISE/issues/594\n",
    "# Source: https://github.com/smartass101/xarray-pydata-prague-2020/blob/main/rise.css\n",
    "\n",
    "from IPython.core.display import HTML\n",
    "\n",
    "style = \"\"\"\n",
    "<style>\n",
    ".reveal pre.xr-text-repr-fallback {\n",
    "    display: none;\n",
    "}\n",
    ".reveal ul.xr-sections {\n",
    "    display: grid\n",
    "}\n",
    "\n",
    ".reveal ul ul.xr-var-list {\n",
    "    display: contents\n",
    "}\n",
    "</style>\n",
    "\"\"\"\n",
    "\n",
    "\n",
    "HTML(style)"
   ]
  },
  {
   "cell_type": "code",
   "execution_count": null,
   "metadata": {},
   "outputs": [],
   "source": [
    "import glob\n",
    "\n",
    "import numpy as np\n",
    "from xarray.coding.calendar_ops import _datetime_to_decimal_year as dt2decimal\n",
    "import xcdat as xc\n",
    "import cartopy.crs as ccrs\n",
    "import matplotlib.pyplot as plt"
   ]
  },
  {
   "cell_type": "markdown",
   "metadata": {},
   "source": [
    "### Use NCO to regrid E3SM data to a rectilinear grid\n"
   ]
  },
  {
   "cell_type": "markdown",
   "metadata": {},
   "source": [
    "#### Now call ncremap to regrid the file to a 0.5 x 0.5 degree grid\n",
    "\n",
    "Typically a user would call this command directly from the shell or write a batch script to run ncremap. Here we use the bash decorator in Jupyter to run `ncremap` on a directory of files (using a wildcard to filter for `.h0` files, which include monthly output we’d like to analyze). We will then move the remapped files to a `remapped/` directory.\n"
   ]
  },
  {
   "cell_type": "code",
   "execution_count": null,
   "metadata": {},
   "outputs": [],
   "source": [
    "%%bash\n",
    "# create output directory\n",
    "mkdir -p remapped\n",
    "# source e3sm-unified environment\n",
    "source /global/common/software/e3sm/anaconda_envs/load_latest_e3sm_unified_pm-cpu.sh\n",
    "# do regridding\n",
    "# format: ncremap -m REMAPFILE.nc -t 1 -v VAR_OF_INTEREST /PATH/TO/DATA/*nc\n",
    "# Subsetting files for \"h0\", which is the monthly history field.\n",
    "ncremap -m /global/cfs/cdirs/e3sm/diagnostics/maps/map_ne30pg2_to_cmip6_180x360_aave.20200201.nc -t 1 -v TREFHT /global/cfs/cdirs/e3sm/www/Tutorials/2024/simulations/extendedOutput.v3.LR.historical_0101/archive/atm/hist/extendedOutput.v3.LR.historical_0101.eam.h0.*nc >/dev/null 2>&1\n",
    "# move output to remapped directory\n",
    "mv extendedOutput.v3.LR.historical_0101.eam.h0.*nc remapped/"
   ]
  },
  {
   "cell_type": "markdown",
   "metadata": {},
   "source": [
    "### I/O\n"
   ]
  },
  {
   "cell_type": "markdown",
   "metadata": {},
   "source": [
    "#### Now let's load in the regridded data and use xcdat to perform additional calculations on the 0.5 x 0.5 degree grid\n"
   ]
  },
  {
   "cell_type": "markdown",
   "metadata": {},
   "source": [
    "Use `xc.open_mfdataset()` to open all the remapped netcdf files in a single `xr.Dataset` object. With `xcdat`, you can specify the directory `remapped` and xcdat will read in all netcdf files as one `xr.dataset` object. You could also use a wildcard with xarray (`ds = xr.open_mfdataset('remapped/*.nc’)`). `open_mfdataset` is essentially the same operation in both Xarray and xCDAT, but `xcdat` will add missing bounds and handles some additional time axes.\n",
    "\n",
    "We will be analyzing a few years of temperature (`TREFHT`) data from E3SM v3.\n",
    "\n",
    "- Documentation: https://xcdat.readthedocs.io/en/stable/generated/xcdat.open_mfdataset.html\n"
   ]
  },
  {
   "cell_type": "code",
   "execution_count": null,
   "metadata": {},
   "outputs": [],
   "source": [
    "ds = xc.open_mfdataset(\"remapped\")\n",
    "ds"
   ]
  },
  {
   "cell_type": "markdown",
   "metadata": {},
   "source": [
    "#### ...but checkout the time coordinate:\n"
   ]
  },
  {
   "cell_type": "code",
   "execution_count": null,
   "metadata": {},
   "outputs": [],
   "source": [
    "ds.time.values[0:3]"
   ]
  },
  {
   "cell_type": "markdown",
   "metadata": {},
   "source": [
    "The monthly time coordinates begin in 2/2000, even though our first file is for 1/2000. This is because E3SM saves out monthly history at midnight at the end of the month. xCDAT can handle this by centering the time coordinates between the monthly time bounds (using `center_times=True`):\n"
   ]
  },
  {
   "cell_type": "code",
   "execution_count": null,
   "metadata": {},
   "outputs": [],
   "source": [
    "ds = xc.open_mfdataset(\"remapped\", center_times=True)\n",
    "ds"
   ]
  },
  {
   "cell_type": "markdown",
   "metadata": {},
   "source": [
    "### Regridding with xCDAT\n",
    "\n",
    "We often want to regrid a dataset to a new grid to facilitate data analysis or comparisons with other datasets. The current dataset is at 0.5 x 0.5<sup>o</sup> resolution, so we'll start be remapping it to a 4 x 4<sup>o</sup> grid.\n"
   ]
  },
  {
   "cell_type": "markdown",
   "metadata": {},
   "source": [
    "#### First, we specify the target grid\n"
   ]
  },
  {
   "cell_type": "code",
   "execution_count": null,
   "metadata": {},
   "outputs": [],
   "source": [
    "# create target axes\n",
    "nlat = xc.create_axis(\n",
    "    \"lat\", np.arange(-88, 90, 4), attrs={\"units\": \"degrees_north\", \"axis\": \"Y\"}\n",
    ")\n",
    "nlon = xc.create_axis(\n",
    "    \"lon\", np.arange(2, 360, 4), attrs={\"units\": \"degrees_east\", \"axis\": \"X\"}\n",
    ")"
   ]
  },
  {
   "cell_type": "markdown",
   "metadata": {},
   "source": [
    "Create the target grid using the target axes and bounds.\n",
    "\n",
    "- Documentation: https://xcdat.readthedocs.io/en/latest/generated/xcdat.create_grid.html#xcdat.create_grid\n"
   ]
  },
  {
   "cell_type": "code",
   "execution_count": null,
   "metadata": {},
   "outputs": [],
   "source": [
    "ngrid = xc.create_grid(x=nlon, y=nlat)"
   ]
  },
  {
   "cell_type": "markdown",
   "metadata": {},
   "source": [
    "#### Call the xESMF regridder\n",
    "\n",
    "Here we're using bilinear regridding, but other methods may be appropriate (e.g., you may want to use \"conservative_normed\" for fields that should be conserved globally).\n"
   ]
  },
  {
   "cell_type": "markdown",
   "metadata": {},
   "source": [
    "Regrid \"TREFHT\" with the `ngrid` created above using `xesmf` and `bilinear`.\n",
    "\n",
    "- API Documentation: https://xcdat.readthedocs.io/en/stable/generated/xarray.Dataset.regridder.horizontal.html\n"
   ]
  },
  {
   "cell_type": "code",
   "execution_count": null,
   "metadata": {},
   "outputs": [],
   "source": [
    "ds_xesmf = ds.regridder.horizontal(\"TREFHT\", ngrid, tool=\"xesmf\", method=\"bilinear\")"
   ]
  },
  {
   "cell_type": "markdown",
   "metadata": {},
   "source": [
    "#### Compare the results (for the first timestep)\n",
    "\n",
    "Now we just plot the results for comparison.\n"
   ]
  },
  {
   "cell_type": "code",
   "execution_count": null,
   "metadata": {},
   "outputs": [],
   "source": [
    "map_proj = ccrs.Robinson()\n",
    "\n",
    "# plot original data (first time step)\n",
    "plt.figure(figsize=(12, 5))\n",
    "plt.subplot(1, 2, 1, projection=map_proj)\n",
    "p = ds.TREFHT[0].plot(\n",
    "    transform=ccrs.PlateCarree(),  # the data's projection\n",
    "    subplot_kws={\"projection\": map_proj},\n",
    "    cbar_kwargs={\"orientation\": \"horizontal\"},\n",
    "    cmap=plt.cm.RdBu_r,\n",
    ")\n",
    "ax = plt.gca()\n",
    "ax.coastlines()\n",
    "plt.title(\"Original\")\n",
    "\n",
    "# plot the remapped data (first time step)\n",
    "plt.subplot(1, 2, 2, projection=map_proj)\n",
    "p = ds_xesmf.TREFHT[0].plot(\n",
    "    transform=ccrs.PlateCarree(),  # the data's projection\n",
    "    subplot_kws={\"projection\": map_proj},\n",
    "    cbar_kwargs={\"orientation\": \"horizontal\"},\n",
    "    cmap=plt.cm.RdBu_r,\n",
    ")\n",
    "ax = plt.gca()\n",
    "ax.coastlines()\n",
    "plt.title(\"xESMF 4$^{\\circ}$ x 4$^{\\circ}$\")"
   ]
  },
  {
   "cell_type": "markdown",
   "metadata": {},
   "source": [
    "### Vertical Regridding\n",
    "\n",
    "xcdat can also regrid in the vertical. Here we'll grab some 3D temperature data and regrid it in the vertical. First, we need to remap some 3-dimensional data to a rectilinear grid (like we did for the surface air temperature data, `TREFHT`).\n"
   ]
  },
  {
   "cell_type": "code",
   "execution_count": null,
   "metadata": {},
   "outputs": [],
   "source": [
    "%%bash\n",
    "# source e3sm-unified environment\n",
    "source /global/common/software/e3sm/anaconda_envs/load_latest_e3sm_unified_pm-cpu.sh\n",
    "# remap (we are only remapping one file and specifying the output location)\n",
    "ncremap -m /global/cfs/cdirs/e3sm/diagnostics/maps/map_ne30pg2_to_cmip6_180x360_aave.20200201.nc -t 1 -v T /global/cfs/cdirs/e3sm/www/Tutorials/2024/simulations/extendedOutput.v3.LR.historical_0101/archive/atm/hist/extendedOutput.v3.LR.historical_0101.eam.h0.2000-01.nc T_extendedOutput.v3.LR.historical_0101.eam.h0.2000-01.nc >/dev/null 2>&1"
   ]
  },
  {
   "cell_type": "markdown",
   "metadata": {},
   "source": [
    "Now let's load the data:\n"
   ]
  },
  {
   "cell_type": "code",
   "execution_count": null,
   "metadata": {},
   "outputs": [],
   "source": [
    "# specify file we just regridded\n",
    "fn = \"T_extendedOutput.v3.LR.historical_0101.eam.h0.2000-01.nc\"\n",
    "\n",
    "# load regridded data\n",
    "ds3d = xc.open_dataset(fn)"
   ]
  },
  {
   "cell_type": "markdown",
   "metadata": {},
   "source": [
    "Next, we will do the vertical remapping...\n"
   ]
  },
  {
   "cell_type": "code",
   "execution_count": null,
   "metadata": {},
   "outputs": [],
   "source": [
    "# first construct the 3D pressure field\n",
    "pressure = ds3d[\"hyam\"] * 1000.0 + ds3d[\"hybm\"] * ds3d[\"PS\"]\n",
    "\n",
    "# next, construct the target pressure axis\n",
    "target_plevs = [\n",
    "    100000,\n",
    "    92500,\n",
    "    85000,\n",
    "    75000,\n",
    "    70000,\n",
    "    60000,\n",
    "    50000,\n",
    "    40000,\n",
    "    30000,\n",
    "    25000,\n",
    "    20000,\n",
    "    15000,\n",
    "    10000,\n",
    "    7000,\n",
    "    5000,\n",
    "    3000,\n",
    "    1000,\n",
    "    500,\n",
    "    300,\n",
    "    100,\n",
    "]\n",
    "nplev = xc.create_grid(z=xc.create_axis(\"lev\", target_plevs))"
   ]
  },
  {
   "cell_type": "markdown",
   "metadata": {},
   "source": [
    "Regrid the `\"T\"` variable using `nplev` as the output grid, `\"log\"` method, and `pressure` as the target data.\n",
    "\n",
    "- Example Documentation: https://xcdat.readthedocs.io/en/stable/examples/regridding-vertical.html#4:-Remap-cloud-fraction-from-model-hybrid-coordinate-to-pressure-levels\n"
   ]
  },
  {
   "cell_type": "code",
   "execution_count": null,
   "metadata": {},
   "outputs": [],
   "source": [
    "dsvr = ds3d.regridder.vertical(\"T\", nplev, method=\"log\", target_data=pressure)"
   ]
  },
  {
   "cell_type": "markdown",
   "metadata": {},
   "source": [
    "Finally, we plot the result:\n"
   ]
  },
  {
   "cell_type": "code",
   "execution_count": null,
   "metadata": {},
   "outputs": [],
   "source": [
    "# plot result\n",
    "dsvr_zonal = dsvr.spatial.average(\"T\", axis=[\"X\"]).squeeze()\n",
    "dsvr_zonal.T.plot(cmap=plt.cm.RdBu_r)\n",
    "plt.gca().invert_yaxis()"
   ]
  },
  {
   "cell_type": "markdown",
   "metadata": {},
   "source": [
    "### Spatial Averaging with xCDAT\n",
    "\n",
    "Area-weighted spatial averaging is a common technique to reduce dimensionality in geospatial datasets. xCDAT can perform this calculation over full domains or regions of interest.\n"
   ]
  },
  {
   "cell_type": "markdown",
   "metadata": {},
   "source": [
    "Calculate the spatial average of \"TREFHT\" and store the results in a Python variable.\n",
    "\n",
    "- API Documentation: https://xcdat.readthedocs.io/en/stable/generated/xarray.Dataset.spatial.average.html\n"
   ]
  },
  {
   "cell_type": "code",
   "execution_count": null,
   "metadata": {},
   "outputs": [],
   "source": [
    "ds_global = ds.spatial.average(\"TREFHT\")"
   ]
  },
  {
   "cell_type": "markdown",
   "metadata": {},
   "source": [
    "#### Now let's plot the results.\n",
    "\n",
    "Note that the spatial averager returns a dataset object so we still need to specify \"TREFHT\" to plot the dataarray.\n"
   ]
  },
  {
   "cell_type": "code",
   "execution_count": null,
   "metadata": {},
   "outputs": [],
   "source": [
    "dtime = dt2decimal(ds_global.time)  # decimal time\n",
    "plt.plot(dtime, ds_global[\"TREFHT\"].values)\n",
    "plt.xlabel(\"Year\")\n",
    "plt.ylabel(\"Global Mean Temperature [K]\")"
   ]
  },
  {
   "cell_type": "markdown",
   "metadata": {},
   "source": [
    "Above, we did not specify any constraints. So xCDAT calculated the domain (global) average. Users can also specify their own bounds.\n"
   ]
  },
  {
   "cell_type": "markdown",
   "metadata": {},
   "source": [
    "Calculate the the average surface temperature (`\"TREFHT\"`) in the Niño 3.4 region.\n",
    "\n",
    "- API Documentation: https://xcdat.readthedocs.io/en/stable/generated/xarray.Dataset.spatial.average.html\n",
    "- Hint: Pass latitude bounds of (-5, 5) and longitude bounds of (190, 240) and keep the weights.\n"
   ]
  },
  {
   "cell_type": "code",
   "execution_count": null,
   "metadata": {},
   "outputs": [],
   "source": [
    "ds_nino34 = ds_xesmf.spatial.average(\n",
    "    \"TREFHT\", lat_bounds=(-5, 5), lon_bounds=(190, 240), keep_weights=True\n",
    ").load()"
   ]
  },
  {
   "cell_type": "markdown",
   "metadata": {},
   "source": [
    "In this case, we specified `keep_weights=True`. The weights provide full spatial weighting for grid cells entirely within the Niño 3.4 region. If a grid cell is partially in the Niño 3.4 region, it received partial weight (note we use the 4 x 4 degree grid in this example to show the partial weights and to speed up plotting). Note that you can also supply your own weights (but you can't automatically subset with `lat_bounds` and `lon_bounds` if you supply your own weights).\n"
   ]
  },
  {
   "cell_type": "code",
   "execution_count": null,
   "metadata": {},
   "outputs": [],
   "source": [
    "# show the nino 3.4 time series\n",
    "plt.figure(figsize=(10, 2))\n",
    "plt.subplot(1, 2, 1)\n",
    "plt.plot(dtime, ds_nino34[\"TREFHT\"].values)\n",
    "plt.xlabel(\"Year\")\n",
    "plt.ylabel(\"Surface Temperature [K]\")\n",
    "plt.title(\"Niño 3.4 time series\")\n",
    "\n",
    "# show the weights\n",
    "map_proj = ccrs.PlateCarree(central_longitude=180)\n",
    "ax = plt.subplot(1, 2, 2, projection=map_proj)\n",
    "plt.pcolor(\n",
    "    ds_nino34.lon,\n",
    "    ds_nino34.lat,\n",
    "    ds_nino34.lat_lon_wts.T,\n",
    "    transform=ccrs.PlateCarree(),\n",
    "    cmap=plt.cm.GnBu,\n",
    ")\n",
    "ax.set_extent([120, 300, -30, 30], crs=ccrs.PlateCarree())\n",
    "ax.coastlines()\n",
    "plt.colorbar(orientation=\"horizontal\")\n",
    "plt.title(\"Nino 3.4 Weights\")"
   ]
  },
  {
   "cell_type": "markdown",
   "metadata": {},
   "source": [
    "### Temporal Computations with xCDAT\n",
    "\n",
    "In the examples below, we will performing temporal computations on the `xarray.Dataset` object using xCDAT.\n"
   ]
  },
  {
   "cell_type": "markdown",
   "metadata": {},
   "source": [
    "#### Annual cycle\n",
    "\n",
    "In the global mean time series above, there are large seasonal swings in global temperature. Here we compute the seasonal mean climatology.\n"
   ]
  },
  {
   "cell_type": "markdown",
   "metadata": {},
   "source": [
    "Calculate the seasonal mean climatology for the `\"TREFHT\"` variable.\n",
    "\n",
    "- API Documentation: https://xcdat.readthedocs.io/en/stable/generated/xarray.Dataset.temporal.climatology.html\n"
   ]
  },
  {
   "cell_type": "code",
   "execution_count": null,
   "metadata": {},
   "outputs": [],
   "source": [
    "# compute the climatology\n",
    "ds_clim = ds.temporal.climatology(\"TREFHT\", freq=\"season\")"
   ]
  },
  {
   "cell_type": "markdown",
   "metadata": {},
   "source": [
    "#### Now we plot the season means\n"
   ]
  },
  {
   "cell_type": "code",
   "execution_count": null,
   "metadata": {},
   "outputs": [],
   "source": [
    "map_proj = ccrs.Robinson()\n",
    "titles = [\"DJF\", \"MAM\", \"JJA\", \"SON\"]\n",
    "plt.figure(figsize=(12, 10))\n",
    "for i in range(4):\n",
    "    plt.subplot(2, 2, i + 1, projection=map_proj)\n",
    "    p = ds_clim.TREFHT[i].plot(\n",
    "        transform=ccrs.PlateCarree(),\n",
    "        subplot_kws={\"projection\": map_proj},\n",
    "        cbar_kwargs={\"orientation\": \"horizontal\"},\n",
    "        cmap=plt.cm.RdBu_r,\n",
    "        vmin=220,\n",
    "        vmax=310,\n",
    "    )\n",
    "    ax = plt.gca()\n",
    "    ax.coastlines()\n",
    "    plt.title(titles[i])"
   ]
  },
  {
   "cell_type": "markdown",
   "metadata": {},
   "source": [
    "#### Departures\n"
   ]
  },
  {
   "cell_type": "markdown",
   "metadata": {},
   "source": [
    "It can also be useful to show the departures from the climatological average.\n",
    "\n",
    "Calculate the seasonal mean climatology for the `\"TREFHT\"` variable. In this case, `xcdat` will operate on the global mean time series we calculated above. Note that you can set the climatological reference period (e.g., with `reference_period=(\"1950-01-01\", \"1999-12-31\")` for historical era departures).\n",
    "\n",
    "- API Documentation: https://xcdat.readthedocs.io/en/stable/generated/xarray.Dataset.temporal.departures.html\n"
   ]
  },
  {
   "cell_type": "code",
   "execution_count": null,
   "metadata": {},
   "outputs": [],
   "source": [
    "ds_global_anomaly = ds_global.temporal.departures(\n",
    "    \"TREFHT\", freq=\"month\", reference_period=(\"2000-01-01\", \"2009-12-31\")\n",
    ")"
   ]
  },
  {
   "cell_type": "markdown",
   "metadata": {},
   "source": [
    "#### Now let's plot the departures from the climatological average.\n"
   ]
  },
  {
   "cell_type": "code",
   "execution_count": null,
   "metadata": {},
   "outputs": [],
   "source": [
    "plt.plot(dtime, ds_global_anomaly.TREFHT.values)\n",
    "plt.xlabel(\"Year\")\n",
    "plt.ylabel(\"Global Mean Surface Temperature Anomaly [K]\")"
   ]
  },
  {
   "cell_type": "markdown",
   "metadata": {},
   "source": [
    "### Group averages\n",
    "\n",
    "`xcdat` also allows you to calculate group averages (e.g., annual or seasonal mean from monthly data or monthly mean from daily data).\n"
   ]
  },
  {
   "cell_type": "markdown",
   "metadata": {},
   "source": [
    "Calculate the annual mean from anomaly time series.\n",
    "\n",
    "- API Documentation: https://xcdat.readthedocs.io/en/stable/generated/xarray.Dataset.temporal.group_averages.html\n"
   ]
  },
  {
   "cell_type": "code",
   "execution_count": null,
   "metadata": {},
   "outputs": [],
   "source": [
    "# compute annual mean from anomaly time series\n",
    "ds_global_anomaly_annual = ds_global_anomaly.temporal.group_average(\n",
    "    \"TREFHT\", freq=\"year\"\n",
    ")"
   ]
  },
  {
   "cell_type": "markdown",
   "metadata": {},
   "source": [
    "#### Now let's plot the results.\n"
   ]
  },
  {
   "cell_type": "code",
   "execution_count": null,
   "metadata": {},
   "outputs": [],
   "source": [
    "# plot data\n",
    "dtime_annual = dt2decimal(ds_global_anomaly_annual.time) + 0.5\n",
    "plt.plot(\n",
    "    dtime, ds_global_anomaly.TREFHT.values, label=\"Monthly departure\", color=\"gray\"\n",
    ")\n",
    "plt.plot(\n",
    "    dtime_annual,\n",
    "    ds_global_anomaly_annual.TREFHT.values,\n",
    "    color=\"k\",\n",
    "    linestyle=\"\",\n",
    "    marker=\"_\",\n",
    "    label=\"Annual Mean\",\n",
    ")\n",
    "plt.legend(frameon=False)\n",
    "plt.xlabel(\"Year\")\n",
    "plt.ylabel(\"Global Mean Surface Temperature [K]\")"
   ]
  },
  {
   "cell_type": "markdown",
   "metadata": {},
   "source": [
    "### General Dataset Utilities\n",
    "\n",
    "xCDAT includes various utilities for data manipulation, including\n",
    "reorientation of the longitude axis, centering of time coordinates using time bounds, and adding and getting bounds.\n"
   ]
  },
  {
   "cell_type": "markdown",
   "metadata": {},
   "source": [
    "#### Reorient the longitude axis\n",
    "\n",
    "Longitude can be represented from 0 to 360 E or as 180 W to 180 E. xcdat allows you to convert between these axes systems.\n"
   ]
  },
  {
   "cell_type": "code",
   "execution_count": null,
   "metadata": {},
   "outputs": [],
   "source": [
    "ds.lon"
   ]
  },
  {
   "cell_type": "markdown",
   "metadata": {},
   "source": [
    "Use `xc.swap_lon_axis` to swap the longitude axis from (0, 360) to (-180, 180) and view\n",
    "the new longitude axis.\n",
    "\n",
    "- Documentation: https://xcdat.readthedocs.io/en/stable/generated/xcdat.swap_lon_axis.html\n"
   ]
  },
  {
   "cell_type": "code",
   "execution_count": null,
   "metadata": {},
   "outputs": [],
   "source": [
    "ds2 = xc.swap_lon_axis(ds, to=(-180, 180))\n",
    "\n",
    "ds2.lon"
   ]
  },
  {
   "cell_type": "markdown",
   "metadata": {},
   "source": [
    "#### Add missing bounds\n",
    "\n",
    "Bounds are critical to many `xcdat` operations. For example, they are used in determining the weights in spatial or temporal averages and in regridding operations. `add_missing_bounds()` will attempt to produce bounds if they do not exist in the original dataset.\n"
   ]
  },
  {
   "cell_type": "code",
   "execution_count": null,
   "metadata": {},
   "outputs": [],
   "source": [
    "# We are dropping the existing bounds to demonstrate adding bounds.\n",
    "ds4 = ds.drop_vars(\"time_bnds\")"
   ]
  },
  {
   "cell_type": "code",
   "execution_count": null,
   "metadata": {},
   "outputs": [],
   "source": [
    "try:\n",
    "    ds4.bounds.get_bounds(\"T\")\n",
    "except KeyError as e:\n",
    "    print(e)"
   ]
  },
  {
   "cell_type": "markdown",
   "metadata": {},
   "source": [
    "Add the missing time bounds using `.bounds.add_missing_bounds()`.\n",
    "\n",
    "- Documentation: https://xcdat.readthedocs.io/en/stable/generated/xarray.Dataset.bounds.add_missing_bounds.html\n",
    "- Hint: Use the `axes` arg and pass a list containing a single string, `\"T\"` for time.\n"
   ]
  },
  {
   "cell_type": "code",
   "execution_count": null,
   "metadata": {},
   "outputs": [],
   "source": [
    "ds5 = ds4.bounds.add_missing_bounds(axes=[\"T\"])\n",
    "ds5"
   ]
  },
  {
   "cell_type": "markdown",
   "metadata": {
    "slideshow": {
     "slide_type": "slide"
    }
   },
   "source": [
    "## Parallelism with Dask\n",
    "\n",
    "<div style=\"text-align:center\">\n",
    "  <img src=\"../../_static/dask-logo.svg\" alt=\"Dask logo\" style=\"display: inline-block; width:300px;\">\n",
    "</div>\n",
    "\n",
    "> Nearly all existing xarray methods have been extended to work automatically with Dask arrays for parallelism\n",
    ">\n",
    "> &mdash; <cite>https://docs.xarray.dev/en/stable/user-guide/dask.html#using-dask-with-xarray</cite>\n"
   ]
  },
  {
   "cell_type": "markdown",
   "metadata": {
    "slideshow": {
     "slide_type": "fragment"
    }
   },
   "source": [
    "- Parallelized xarray methods include **indexing, computation, concatenating and grouped operations**\n",
    "- xCDAT APIs that build upon xarray methods inherently support Dask parallelism\n",
    "- Dask arrays are loaded into memory only when absolutely required (e.g., generating weights for averaging)\n"
   ]
  },
  {
   "cell_type": "code",
   "execution_count": 14,
   "metadata": {
    "slideshow": {
     "slide_type": "subslide"
    }
   },
   "outputs": [],
   "source": [
    "filepath = \"http://esgf.nci.org.au/thredds/dodsC/master/CMIP6/CMIP/CSIRO/ACCESS-ESM1-5/historical/r10i1p1f1/Amon/tas/gn/v20200605/tas_Amon_ACCESS-ESM1-5_historical_r10i1p1f1_gn_185001-201412.nc\"\n",
    "\n",
    "# Use .chunk() to activate Dask arrays\n",
    "# NOTE: `open_mfdataset()` automatically chunks by the number of files, which\n",
    "# might not be optimal.\n",
    "ds = xc.open_dataset(filepath, chunks={\"time\": \"auto\"})"
   ]
  },
  {
   "cell_type": "code",
   "execution_count": 15,
   "metadata": {
    "slideshow": {
     "slide_type": "fragment"
    }
   },
   "outputs": [
    {
     "data": {
      "text/html": [
       "<div><svg style=\"position: absolute; width: 0; height: 0; overflow: hidden\">\n",
       "<defs>\n",
       "<symbol id=\"icon-database\" viewBox=\"0 0 32 32\">\n",
       "<path d=\"M16 0c-8.837 0-16 2.239-16 5v4c0 2.761 7.163 5 16 5s16-2.239 16-5v-4c0-2.761-7.163-5-16-5z\"></path>\n",
       "<path d=\"M16 17c-8.837 0-16-2.239-16-5v6c0 2.761 7.163 5 16 5s16-2.239 16-5v-6c0 2.761-7.163 5-16 5z\"></path>\n",
       "<path d=\"M16 26c-8.837 0-16-2.239-16-5v6c0 2.761 7.163 5 16 5s16-2.239 16-5v-6c0 2.761-7.163 5-16 5z\"></path>\n",
       "</symbol>\n",
       "<symbol id=\"icon-file-text2\" viewBox=\"0 0 32 32\">\n",
       "<path d=\"M28.681 7.159c-0.694-0.947-1.662-2.053-2.724-3.116s-2.169-2.030-3.116-2.724c-1.612-1.182-2.393-1.319-2.841-1.319h-15.5c-1.378 0-2.5 1.121-2.5 2.5v27c0 1.378 1.122 2.5 2.5 2.5h23c1.378 0 2.5-1.122 2.5-2.5v-19.5c0-0.448-0.137-1.23-1.319-2.841zM24.543 5.457c0.959 0.959 1.712 1.825 2.268 2.543h-4.811v-4.811c0.718 0.556 1.584 1.309 2.543 2.268zM28 29.5c0 0.271-0.229 0.5-0.5 0.5h-23c-0.271 0-0.5-0.229-0.5-0.5v-27c0-0.271 0.229-0.5 0.5-0.5 0 0 15.499-0 15.5 0v7c0 0.552 0.448 1 1 1h7v19.5z\"></path>\n",
       "<path d=\"M23 26h-14c-0.552 0-1-0.448-1-1s0.448-1 1-1h14c0.552 0 1 0.448 1 1s-0.448 1-1 1z\"></path>\n",
       "<path d=\"M23 22h-14c-0.552 0-1-0.448-1-1s0.448-1 1-1h14c0.552 0 1 0.448 1 1s-0.448 1-1 1z\"></path>\n",
       "<path d=\"M23 18h-14c-0.552 0-1-0.448-1-1s0.448-1 1-1h14c0.552 0 1 0.448 1 1s-0.448 1-1 1z\"></path>\n",
       "</symbol>\n",
       "</defs>\n",
       "</svg>\n",
       "<style>/* CSS stylesheet for displaying xarray objects in jupyterlab.\n",
       " *\n",
       " */\n",
       "\n",
       ":root {\n",
       "  --xr-font-color0: var(--jp-content-font-color0, rgba(0, 0, 0, 1));\n",
       "  --xr-font-color2: var(--jp-content-font-color2, rgba(0, 0, 0, 0.54));\n",
       "  --xr-font-color3: var(--jp-content-font-color3, rgba(0, 0, 0, 0.38));\n",
       "  --xr-border-color: var(--jp-border-color2, #e0e0e0);\n",
       "  --xr-disabled-color: var(--jp-layout-color3, #bdbdbd);\n",
       "  --xr-background-color: var(--jp-layout-color0, white);\n",
       "  --xr-background-color-row-even: var(--jp-layout-color1, white);\n",
       "  --xr-background-color-row-odd: var(--jp-layout-color2, #eeeeee);\n",
       "}\n",
       "\n",
       "html[theme=dark],\n",
       "body[data-theme=dark],\n",
       "body.vscode-dark {\n",
       "  --xr-font-color0: rgba(255, 255, 255, 1);\n",
       "  --xr-font-color2: rgba(255, 255, 255, 0.54);\n",
       "  --xr-font-color3: rgba(255, 255, 255, 0.38);\n",
       "  --xr-border-color: #1F1F1F;\n",
       "  --xr-disabled-color: #515151;\n",
       "  --xr-background-color: #111111;\n",
       "  --xr-background-color-row-even: #111111;\n",
       "  --xr-background-color-row-odd: #313131;\n",
       "}\n",
       "\n",
       ".xr-wrap {\n",
       "  display: block !important;\n",
       "  min-width: 300px;\n",
       "  max-width: 700px;\n",
       "}\n",
       "\n",
       ".xr-text-repr-fallback {\n",
       "  /* fallback to plain text repr when CSS is not injected (untrusted notebook) */\n",
       "  display: none;\n",
       "}\n",
       "\n",
       ".xr-header {\n",
       "  padding-top: 6px;\n",
       "  padding-bottom: 6px;\n",
       "  margin-bottom: 4px;\n",
       "  border-bottom: solid 1px var(--xr-border-color);\n",
       "}\n",
       "\n",
       ".xr-header > div,\n",
       ".xr-header > ul {\n",
       "  display: inline;\n",
       "  margin-top: 0;\n",
       "  margin-bottom: 0;\n",
       "}\n",
       "\n",
       ".xr-obj-type,\n",
       ".xr-array-name {\n",
       "  margin-left: 2px;\n",
       "  margin-right: 10px;\n",
       "}\n",
       "\n",
       ".xr-obj-type {\n",
       "  color: var(--xr-font-color2);\n",
       "}\n",
       "\n",
       ".xr-sections {\n",
       "  padding-left: 0 !important;\n",
       "  display: grid;\n",
       "  grid-template-columns: 150px auto auto 1fr 20px 20px;\n",
       "}\n",
       "\n",
       ".xr-section-item {\n",
       "  display: contents;\n",
       "}\n",
       "\n",
       ".xr-section-item input {\n",
       "  display: none;\n",
       "}\n",
       "\n",
       ".xr-section-item input + label {\n",
       "  color: var(--xr-disabled-color);\n",
       "}\n",
       "\n",
       ".xr-section-item input:enabled + label {\n",
       "  cursor: pointer;\n",
       "  color: var(--xr-font-color2);\n",
       "}\n",
       "\n",
       ".xr-section-item input:enabled + label:hover {\n",
       "  color: var(--xr-font-color0);\n",
       "}\n",
       "\n",
       ".xr-section-summary {\n",
       "  grid-column: 1;\n",
       "  color: var(--xr-font-color2);\n",
       "  font-weight: 500;\n",
       "}\n",
       "\n",
       ".xr-section-summary > span {\n",
       "  display: inline-block;\n",
       "  padding-left: 0.5em;\n",
       "}\n",
       "\n",
       ".xr-section-summary-in:disabled + label {\n",
       "  color: var(--xr-font-color2);\n",
       "}\n",
       "\n",
       ".xr-section-summary-in + label:before {\n",
       "  display: inline-block;\n",
       "  content: '►';\n",
       "  font-size: 11px;\n",
       "  width: 15px;\n",
       "  text-align: center;\n",
       "}\n",
       "\n",
       ".xr-section-summary-in:disabled + label:before {\n",
       "  color: var(--xr-disabled-color);\n",
       "}\n",
       "\n",
       ".xr-section-summary-in:checked + label:before {\n",
       "  content: '▼';\n",
       "}\n",
       "\n",
       ".xr-section-summary-in:checked + label > span {\n",
       "  display: none;\n",
       "}\n",
       "\n",
       ".xr-section-summary,\n",
       ".xr-section-inline-details {\n",
       "  padding-top: 4px;\n",
       "  padding-bottom: 4px;\n",
       "}\n",
       "\n",
       ".xr-section-inline-details {\n",
       "  grid-column: 2 / -1;\n",
       "}\n",
       "\n",
       ".xr-section-details {\n",
       "  display: none;\n",
       "  grid-column: 1 / -1;\n",
       "  margin-bottom: 5px;\n",
       "}\n",
       "\n",
       ".xr-section-summary-in:checked ~ .xr-section-details {\n",
       "  display: contents;\n",
       "}\n",
       "\n",
       ".xr-array-wrap {\n",
       "  grid-column: 1 / -1;\n",
       "  display: grid;\n",
       "  grid-template-columns: 20px auto;\n",
       "}\n",
       "\n",
       ".xr-array-wrap > label {\n",
       "  grid-column: 1;\n",
       "  vertical-align: top;\n",
       "}\n",
       "\n",
       ".xr-preview {\n",
       "  color: var(--xr-font-color3);\n",
       "}\n",
       "\n",
       ".xr-array-preview,\n",
       ".xr-array-data {\n",
       "  padding: 0 5px !important;\n",
       "  grid-column: 2;\n",
       "}\n",
       "\n",
       ".xr-array-data,\n",
       ".xr-array-in:checked ~ .xr-array-preview {\n",
       "  display: none;\n",
       "}\n",
       "\n",
       ".xr-array-in:checked ~ .xr-array-data,\n",
       ".xr-array-preview {\n",
       "  display: inline-block;\n",
       "}\n",
       "\n",
       ".xr-dim-list {\n",
       "  display: inline-block !important;\n",
       "  list-style: none;\n",
       "  padding: 0 !important;\n",
       "  margin: 0;\n",
       "}\n",
       "\n",
       ".xr-dim-list li {\n",
       "  display: inline-block;\n",
       "  padding: 0;\n",
       "  margin: 0;\n",
       "}\n",
       "\n",
       ".xr-dim-list:before {\n",
       "  content: '(';\n",
       "}\n",
       "\n",
       ".xr-dim-list:after {\n",
       "  content: ')';\n",
       "}\n",
       "\n",
       ".xr-dim-list li:not(:last-child):after {\n",
       "  content: ',';\n",
       "  padding-right: 5px;\n",
       "}\n",
       "\n",
       ".xr-has-index {\n",
       "  font-weight: bold;\n",
       "}\n",
       "\n",
       ".xr-var-list,\n",
       ".xr-var-item {\n",
       "  display: contents;\n",
       "}\n",
       "\n",
       ".xr-var-item > div,\n",
       ".xr-var-item label,\n",
       ".xr-var-item > .xr-var-name span {\n",
       "  background-color: var(--xr-background-color-row-even);\n",
       "  margin-bottom: 0;\n",
       "}\n",
       "\n",
       ".xr-var-item > .xr-var-name:hover span {\n",
       "  padding-right: 5px;\n",
       "}\n",
       "\n",
       ".xr-var-list > li:nth-child(odd) > div,\n",
       ".xr-var-list > li:nth-child(odd) > label,\n",
       ".xr-var-list > li:nth-child(odd) > .xr-var-name span {\n",
       "  background-color: var(--xr-background-color-row-odd);\n",
       "}\n",
       "\n",
       ".xr-var-name {\n",
       "  grid-column: 1;\n",
       "}\n",
       "\n",
       ".xr-var-dims {\n",
       "  grid-column: 2;\n",
       "}\n",
       "\n",
       ".xr-var-dtype {\n",
       "  grid-column: 3;\n",
       "  text-align: right;\n",
       "  color: var(--xr-font-color2);\n",
       "}\n",
       "\n",
       ".xr-var-preview {\n",
       "  grid-column: 4;\n",
       "}\n",
       "\n",
       ".xr-index-preview {\n",
       "  grid-column: 2 / 5;\n",
       "  color: var(--xr-font-color2);\n",
       "}\n",
       "\n",
       ".xr-var-name,\n",
       ".xr-var-dims,\n",
       ".xr-var-dtype,\n",
       ".xr-preview,\n",
       ".xr-attrs dt {\n",
       "  white-space: nowrap;\n",
       "  overflow: hidden;\n",
       "  text-overflow: ellipsis;\n",
       "  padding-right: 10px;\n",
       "}\n",
       "\n",
       ".xr-var-name:hover,\n",
       ".xr-var-dims:hover,\n",
       ".xr-var-dtype:hover,\n",
       ".xr-attrs dt:hover {\n",
       "  overflow: visible;\n",
       "  width: auto;\n",
       "  z-index: 1;\n",
       "}\n",
       "\n",
       ".xr-var-attrs,\n",
       ".xr-var-data,\n",
       ".xr-index-data {\n",
       "  display: none;\n",
       "  background-color: var(--xr-background-color) !important;\n",
       "  padding-bottom: 5px !important;\n",
       "}\n",
       "\n",
       ".xr-var-attrs-in:checked ~ .xr-var-attrs,\n",
       ".xr-var-data-in:checked ~ .xr-var-data,\n",
       ".xr-index-data-in:checked ~ .xr-index-data {\n",
       "  display: block;\n",
       "}\n",
       "\n",
       ".xr-var-data > table {\n",
       "  float: right;\n",
       "}\n",
       "\n",
       ".xr-var-name span,\n",
       ".xr-var-data,\n",
       ".xr-index-name div,\n",
       ".xr-index-data,\n",
       ".xr-attrs {\n",
       "  padding-left: 25px !important;\n",
       "}\n",
       "\n",
       ".xr-attrs,\n",
       ".xr-var-attrs,\n",
       ".xr-var-data,\n",
       ".xr-index-data {\n",
       "  grid-column: 1 / -1;\n",
       "}\n",
       "\n",
       "dl.xr-attrs {\n",
       "  padding: 0;\n",
       "  margin: 0;\n",
       "  display: grid;\n",
       "  grid-template-columns: 125px auto;\n",
       "}\n",
       "\n",
       ".xr-attrs dt,\n",
       ".xr-attrs dd {\n",
       "  padding: 0;\n",
       "  margin: 0;\n",
       "  float: left;\n",
       "  padding-right: 10px;\n",
       "  width: auto;\n",
       "}\n",
       "\n",
       ".xr-attrs dt {\n",
       "  font-weight: normal;\n",
       "  grid-column: 1;\n",
       "}\n",
       "\n",
       ".xr-attrs dt:hover span {\n",
       "  display: inline-block;\n",
       "  background: var(--xr-background-color);\n",
       "  padding-right: 10px;\n",
       "}\n",
       "\n",
       ".xr-attrs dd {\n",
       "  grid-column: 2;\n",
       "  white-space: pre-wrap;\n",
       "  word-break: break-all;\n",
       "}\n",
       "\n",
       ".xr-icon-database,\n",
       ".xr-icon-file-text2,\n",
       ".xr-no-icon {\n",
       "  display: inline-block;\n",
       "  vertical-align: middle;\n",
       "  width: 1em;\n",
       "  height: 1.5em !important;\n",
       "  stroke-width: 0;\n",
       "  stroke: currentColor;\n",
       "  fill: currentColor;\n",
       "}\n",
       "</style><pre class='xr-text-repr-fallback'>&lt;xarray.DataArray &#x27;tas&#x27; (time: 1980, lat: 145, lon: 192)&gt; Size: 220MB\n",
       "dask.array&lt;open_dataset-tas, shape=(1980, 145, 192), dtype=float32, chunksize=(1205, 145, 192), chunktype=numpy.ndarray&gt;\n",
       "Coordinates:\n",
       "  * lat      (lat) float64 1kB -90.0 -88.75 -87.5 -86.25 ... 87.5 88.75 90.0\n",
       "  * lon      (lon) float64 2kB 0.0 1.875 3.75 5.625 ... 352.5 354.4 356.2 358.1\n",
       "    height   float64 8B ...\n",
       "  * time     (time) object 16kB 1850-01-16 12:00:00 ... 2014-12-16 12:00:00\n",
       "Attributes:\n",
       "    standard_name:  air_temperature\n",
       "    long_name:      Near-Surface Air Temperature\n",
       "    comment:        near-surface (usually, 2 meter) air temperature\n",
       "    units:          K\n",
       "    cell_methods:   area: time: mean\n",
       "    cell_measures:  area: areacella\n",
       "    history:        2020-06-05T04:06:10Z altered by CMOR: Treated scalar dime...\n",
       "    _ChunkSizes:    [  1 145 192]</pre><div class='xr-wrap' style='display:none'><div class='xr-header'><div class='xr-obj-type'>xarray.DataArray</div><div class='xr-array-name'>'tas'</div><ul class='xr-dim-list'><li><span class='xr-has-index'>time</span>: 1980</li><li><span class='xr-has-index'>lat</span>: 145</li><li><span class='xr-has-index'>lon</span>: 192</li></ul></div><ul class='xr-sections'><li class='xr-section-item'><div class='xr-array-wrap'><input id='section-131f0283-61d7-4543-afb6-071f3385cda2' class='xr-array-in' type='checkbox' checked><label for='section-131f0283-61d7-4543-afb6-071f3385cda2' title='Show/hide data repr'><svg class='icon xr-icon-database'><use xlink:href='#icon-database'></use></svg></label><div class='xr-array-preview xr-preview'><span>dask.array&lt;chunksize=(1205, 145, 192), meta=np.ndarray&gt;</span></div><div class='xr-array-data'><table>\n",
       "    <tr>\n",
       "        <td>\n",
       "            <table style=\"border-collapse: collapse;\">\n",
       "                <thead>\n",
       "                    <tr>\n",
       "                        <td> </td>\n",
       "                        <th> Array </th>\n",
       "                        <th> Chunk </th>\n",
       "                    </tr>\n",
       "                </thead>\n",
       "                <tbody>\n",
       "                    \n",
       "                    <tr>\n",
       "                        <th> Bytes </th>\n",
       "                        <td> 210.28 MiB </td>\n",
       "                        <td> 127.97 MiB </td>\n",
       "                    </tr>\n",
       "                    \n",
       "                    <tr>\n",
       "                        <th> Shape </th>\n",
       "                        <td> (1980, 145, 192) </td>\n",
       "                        <td> (1205, 145, 192) </td>\n",
       "                    </tr>\n",
       "                    <tr>\n",
       "                        <th> Dask graph </th>\n",
       "                        <td colspan=\"2\"> 2 chunks in 2 graph layers </td>\n",
       "                    </tr>\n",
       "                    <tr>\n",
       "                        <th> Data type </th>\n",
       "                        <td colspan=\"2\"> float32 numpy.ndarray </td>\n",
       "                    </tr>\n",
       "                </tbody>\n",
       "            </table>\n",
       "        </td>\n",
       "        <td>\n",
       "        <svg width=\"169\" height=\"157\" style=\"stroke:rgb(0,0,0);stroke-width:1\" >\n",
       "\n",
       "  <!-- Horizontal lines -->\n",
       "  <line x1=\"10\" y1=\"0\" x2=\"80\" y2=\"70\" style=\"stroke-width:2\" />\n",
       "  <line x1=\"10\" y1=\"36\" x2=\"80\" y2=\"107\" style=\"stroke-width:2\" />\n",
       "\n",
       "  <!-- Vertical lines -->\n",
       "  <line x1=\"10\" y1=\"0\" x2=\"10\" y2=\"36\" style=\"stroke-width:2\" />\n",
       "  <line x1=\"52\" y1=\"42\" x2=\"52\" y2=\"79\" />\n",
       "  <line x1=\"80\" y1=\"70\" x2=\"80\" y2=\"107\" style=\"stroke-width:2\" />\n",
       "\n",
       "  <!-- Colored Rectangle -->\n",
       "  <polygon points=\"10.0,0.0 80.58823529411765,70.58823529411765 80.58823529411765,107.39560902339261 10.0,36.80737372927496\" style=\"fill:#ECB172A0;stroke-width:0\"/>\n",
       "\n",
       "  <!-- Horizontal lines -->\n",
       "  <line x1=\"10\" y1=\"0\" x2=\"48\" y2=\"0\" style=\"stroke-width:2\" />\n",
       "  <line x1=\"52\" y1=\"42\" x2=\"91\" y2=\"42\" />\n",
       "  <line x1=\"80\" y1=\"70\" x2=\"119\" y2=\"70\" style=\"stroke-width:2\" />\n",
       "\n",
       "  <!-- Vertical lines -->\n",
       "  <line x1=\"10\" y1=\"0\" x2=\"80\" y2=\"70\" style=\"stroke-width:2\" />\n",
       "  <line x1=\"48\" y1=\"0\" x2=\"119\" y2=\"70\" style=\"stroke-width:2\" />\n",
       "\n",
       "  <!-- Colored Rectangle -->\n",
       "  <polygon points=\"10.0,0.0 48.42563224869931,0.0 119.01386754281697,70.58823529411765 80.58823529411765,70.58823529411765\" style=\"fill:#ECB172A0;stroke-width:0\"/>\n",
       "\n",
       "  <!-- Horizontal lines -->\n",
       "  <line x1=\"80\" y1=\"70\" x2=\"119\" y2=\"70\" style=\"stroke-width:2\" />\n",
       "  <line x1=\"80\" y1=\"107\" x2=\"119\" y2=\"107\" style=\"stroke-width:2\" />\n",
       "\n",
       "  <!-- Vertical lines -->\n",
       "  <line x1=\"80\" y1=\"70\" x2=\"80\" y2=\"107\" style=\"stroke-width:2\" />\n",
       "  <line x1=\"119\" y1=\"70\" x2=\"119\" y2=\"107\" style=\"stroke-width:2\" />\n",
       "\n",
       "  <!-- Colored Rectangle -->\n",
       "  <polygon points=\"80.58823529411765,70.58823529411765 119.01386754281697,70.58823529411765 119.01386754281697,107.39560902339261 80.58823529411765,107.39560902339261\" style=\"fill:#ECB172A0;stroke-width:0\"/>\n",
       "\n",
       "  <!-- Text -->\n",
       "  <text x=\"99.801051\" y=\"127.395609\" font-size=\"1.0rem\" font-weight=\"100\" text-anchor=\"middle\" >192</text>\n",
       "  <text x=\"139.013868\" y=\"88.991922\" font-size=\"1.0rem\" font-weight=\"100\" text-anchor=\"middle\" transform=\"rotate(-90,139.013868,88.991922)\">145</text>\n",
       "  <text x=\"35.294118\" y=\"92.101491\" font-size=\"1.0rem\" font-weight=\"100\" text-anchor=\"middle\" transform=\"rotate(45,35.294118,92.101491)\">1980</text>\n",
       "</svg>\n",
       "        </td>\n",
       "    </tr>\n",
       "</table></div></div></li><li class='xr-section-item'><input id='section-424131af-c89f-4cc7-8436-d3d2ccbad5d3' class='xr-section-summary-in' type='checkbox'  checked><label for='section-424131af-c89f-4cc7-8436-d3d2ccbad5d3' class='xr-section-summary' >Coordinates: <span>(4)</span></label><div class='xr-section-inline-details'></div><div class='xr-section-details'><ul class='xr-var-list'><li class='xr-var-item'><div class='xr-var-name'><span class='xr-has-index'>lat</span></div><div class='xr-var-dims'>(lat)</div><div class='xr-var-dtype'>float64</div><div class='xr-var-preview xr-preview'>-90.0 -88.75 -87.5 ... 88.75 90.0</div><input id='attrs-4a5a8f0f-9aba-4678-ba10-4ea929e76622' class='xr-var-attrs-in' type='checkbox' ><label for='attrs-4a5a8f0f-9aba-4678-ba10-4ea929e76622' title='Show/Hide attributes'><svg class='icon xr-icon-file-text2'><use xlink:href='#icon-file-text2'></use></svg></label><input id='data-df758401-205c-44e0-a210-8f67b6e9ff89' class='xr-var-data-in' type='checkbox'><label for='data-df758401-205c-44e0-a210-8f67b6e9ff89' title='Show/Hide data repr'><svg class='icon xr-icon-database'><use xlink:href='#icon-database'></use></svg></label><div class='xr-var-attrs'><dl class='xr-attrs'><dt><span>bounds :</span></dt><dd>lat_bnds</dd><dt><span>units :</span></dt><dd>degrees_north</dd><dt><span>axis :</span></dt><dd>Y</dd><dt><span>long_name :</span></dt><dd>Latitude</dd><dt><span>standard_name :</span></dt><dd>latitude</dd></dl></div><div class='xr-var-data'><pre>array([-90.  , -88.75, -87.5 , -86.25, -85.  , -83.75, -82.5 , -81.25, -80.  ,\n",
       "       -78.75, -77.5 , -76.25, -75.  , -73.75, -72.5 , -71.25, -70.  , -68.75,\n",
       "       -67.5 , -66.25, -65.  , -63.75, -62.5 , -61.25, -60.  , -58.75, -57.5 ,\n",
       "       -56.25, -55.  , -53.75, -52.5 , -51.25, -50.  , -48.75, -47.5 , -46.25,\n",
       "       -45.  , -43.75, -42.5 , -41.25, -40.  , -38.75, -37.5 , -36.25, -35.  ,\n",
       "       -33.75, -32.5 , -31.25, -30.  , -28.75, -27.5 , -26.25, -25.  , -23.75,\n",
       "       -22.5 , -21.25, -20.  , -18.75, -17.5 , -16.25, -15.  , -13.75, -12.5 ,\n",
       "       -11.25, -10.  ,  -8.75,  -7.5 ,  -6.25,  -5.  ,  -3.75,  -2.5 ,  -1.25,\n",
       "         0.  ,   1.25,   2.5 ,   3.75,   5.  ,   6.25,   7.5 ,   8.75,  10.  ,\n",
       "        11.25,  12.5 ,  13.75,  15.  ,  16.25,  17.5 ,  18.75,  20.  ,  21.25,\n",
       "        22.5 ,  23.75,  25.  ,  26.25,  27.5 ,  28.75,  30.  ,  31.25,  32.5 ,\n",
       "        33.75,  35.  ,  36.25,  37.5 ,  38.75,  40.  ,  41.25,  42.5 ,  43.75,\n",
       "        45.  ,  46.25,  47.5 ,  48.75,  50.  ,  51.25,  52.5 ,  53.75,  55.  ,\n",
       "        56.25,  57.5 ,  58.75,  60.  ,  61.25,  62.5 ,  63.75,  65.  ,  66.25,\n",
       "        67.5 ,  68.75,  70.  ,  71.25,  72.5 ,  73.75,  75.  ,  76.25,  77.5 ,\n",
       "        78.75,  80.  ,  81.25,  82.5 ,  83.75,  85.  ,  86.25,  87.5 ,  88.75,\n",
       "        90.  ])</pre></div></li><li class='xr-var-item'><div class='xr-var-name'><span class='xr-has-index'>lon</span></div><div class='xr-var-dims'>(lon)</div><div class='xr-var-dtype'>float64</div><div class='xr-var-preview xr-preview'>0.0 1.875 3.75 ... 356.2 358.1</div><input id='attrs-507e2caa-d3a1-40cb-92c6-a6e58a02cccd' class='xr-var-attrs-in' type='checkbox' ><label for='attrs-507e2caa-d3a1-40cb-92c6-a6e58a02cccd' title='Show/Hide attributes'><svg class='icon xr-icon-file-text2'><use xlink:href='#icon-file-text2'></use></svg></label><input id='data-9c4f5583-bbea-4dfd-9496-46719270d9d2' class='xr-var-data-in' type='checkbox'><label for='data-9c4f5583-bbea-4dfd-9496-46719270d9d2' title='Show/Hide data repr'><svg class='icon xr-icon-database'><use xlink:href='#icon-database'></use></svg></label><div class='xr-var-attrs'><dl class='xr-attrs'><dt><span>bounds :</span></dt><dd>lon_bnds</dd><dt><span>units :</span></dt><dd>degrees_east</dd><dt><span>axis :</span></dt><dd>X</dd><dt><span>long_name :</span></dt><dd>Longitude</dd><dt><span>standard_name :</span></dt><dd>longitude</dd></dl></div><div class='xr-var-data'><pre>array([  0.   ,   1.875,   3.75 ,   5.625,   7.5  ,   9.375,  11.25 ,  13.125,\n",
       "        15.   ,  16.875,  18.75 ,  20.625,  22.5  ,  24.375,  26.25 ,  28.125,\n",
       "        30.   ,  31.875,  33.75 ,  35.625,  37.5  ,  39.375,  41.25 ,  43.125,\n",
       "        45.   ,  46.875,  48.75 ,  50.625,  52.5  ,  54.375,  56.25 ,  58.125,\n",
       "        60.   ,  61.875,  63.75 ,  65.625,  67.5  ,  69.375,  71.25 ,  73.125,\n",
       "        75.   ,  76.875,  78.75 ,  80.625,  82.5  ,  84.375,  86.25 ,  88.125,\n",
       "        90.   ,  91.875,  93.75 ,  95.625,  97.5  ,  99.375, 101.25 , 103.125,\n",
       "       105.   , 106.875, 108.75 , 110.625, 112.5  , 114.375, 116.25 , 118.125,\n",
       "       120.   , 121.875, 123.75 , 125.625, 127.5  , 129.375, 131.25 , 133.125,\n",
       "       135.   , 136.875, 138.75 , 140.625, 142.5  , 144.375, 146.25 , 148.125,\n",
       "       150.   , 151.875, 153.75 , 155.625, 157.5  , 159.375, 161.25 , 163.125,\n",
       "       165.   , 166.875, 168.75 , 170.625, 172.5  , 174.375, 176.25 , 178.125,\n",
       "       180.   , 181.875, 183.75 , 185.625, 187.5  , 189.375, 191.25 , 193.125,\n",
       "       195.   , 196.875, 198.75 , 200.625, 202.5  , 204.375, 206.25 , 208.125,\n",
       "       210.   , 211.875, 213.75 , 215.625, 217.5  , 219.375, 221.25 , 223.125,\n",
       "       225.   , 226.875, 228.75 , 230.625, 232.5  , 234.375, 236.25 , 238.125,\n",
       "       240.   , 241.875, 243.75 , 245.625, 247.5  , 249.375, 251.25 , 253.125,\n",
       "       255.   , 256.875, 258.75 , 260.625, 262.5  , 264.375, 266.25 , 268.125,\n",
       "       270.   , 271.875, 273.75 , 275.625, 277.5  , 279.375, 281.25 , 283.125,\n",
       "       285.   , 286.875, 288.75 , 290.625, 292.5  , 294.375, 296.25 , 298.125,\n",
       "       300.   , 301.875, 303.75 , 305.625, 307.5  , 309.375, 311.25 , 313.125,\n",
       "       315.   , 316.875, 318.75 , 320.625, 322.5  , 324.375, 326.25 , 328.125,\n",
       "       330.   , 331.875, 333.75 , 335.625, 337.5  , 339.375, 341.25 , 343.125,\n",
       "       345.   , 346.875, 348.75 , 350.625, 352.5  , 354.375, 356.25 , 358.125])</pre></div></li><li class='xr-var-item'><div class='xr-var-name'><span>height</span></div><div class='xr-var-dims'>()</div><div class='xr-var-dtype'>float64</div><div class='xr-var-preview xr-preview'>...</div><input id='attrs-29b040b1-8ed6-46cf-8ede-6b941618f3dc' class='xr-var-attrs-in' type='checkbox' ><label for='attrs-29b040b1-8ed6-46cf-8ede-6b941618f3dc' title='Show/Hide attributes'><svg class='icon xr-icon-file-text2'><use xlink:href='#icon-file-text2'></use></svg></label><input id='data-5959e74c-fa6c-4a9f-ab22-cb008ca7c519' class='xr-var-data-in' type='checkbox'><label for='data-5959e74c-fa6c-4a9f-ab22-cb008ca7c519' title='Show/Hide data repr'><svg class='icon xr-icon-database'><use xlink:href='#icon-database'></use></svg></label><div class='xr-var-attrs'><dl class='xr-attrs'><dt><span>units :</span></dt><dd>m</dd><dt><span>axis :</span></dt><dd>Z</dd><dt><span>positive :</span></dt><dd>up</dd><dt><span>long_name :</span></dt><dd>height</dd><dt><span>standard_name :</span></dt><dd>height</dd></dl></div><div class='xr-var-data'><pre>[1 values with dtype=float64]</pre></div></li><li class='xr-var-item'><div class='xr-var-name'><span class='xr-has-index'>time</span></div><div class='xr-var-dims'>(time)</div><div class='xr-var-dtype'>object</div><div class='xr-var-preview xr-preview'>1850-01-16 12:00:00 ... 2014-12-...</div><input id='attrs-434cc5a5-b5a6-4722-b417-aa485f6885b1' class='xr-var-attrs-in' type='checkbox' ><label for='attrs-434cc5a5-b5a6-4722-b417-aa485f6885b1' title='Show/Hide attributes'><svg class='icon xr-icon-file-text2'><use xlink:href='#icon-file-text2'></use></svg></label><input id='data-a064102a-6854-435b-9cd6-e1466094e9d1' class='xr-var-data-in' type='checkbox'><label for='data-a064102a-6854-435b-9cd6-e1466094e9d1' title='Show/Hide data repr'><svg class='icon xr-icon-database'><use xlink:href='#icon-database'></use></svg></label><div class='xr-var-attrs'><dl class='xr-attrs'><dt><span>bounds :</span></dt><dd>time_bnds</dd><dt><span>axis :</span></dt><dd>T</dd><dt><span>long_name :</span></dt><dd>time</dd><dt><span>standard_name :</span></dt><dd>time</dd><dt><span>_ChunkSizes :</span></dt><dd>1</dd></dl></div><div class='xr-var-data'><pre>array([cftime.DatetimeProlepticGregorian(1850, 1, 16, 12, 0, 0, 0, has_year_zero=True),\n",
       "       cftime.DatetimeProlepticGregorian(1850, 2, 15, 0, 0, 0, 0, has_year_zero=True),\n",
       "       cftime.DatetimeProlepticGregorian(1850, 3, 16, 12, 0, 0, 0, has_year_zero=True),\n",
       "       ...,\n",
       "       cftime.DatetimeProlepticGregorian(2014, 10, 16, 12, 0, 0, 0, has_year_zero=True),\n",
       "       cftime.DatetimeProlepticGregorian(2014, 11, 16, 0, 0, 0, 0, has_year_zero=True),\n",
       "       cftime.DatetimeProlepticGregorian(2014, 12, 16, 12, 0, 0, 0, has_year_zero=True)],\n",
       "      dtype=object)</pre></div></li></ul></div></li><li class='xr-section-item'><input id='section-12bca62b-e75d-4aab-82c0-fb04c786554d' class='xr-section-summary-in' type='checkbox'  ><label for='section-12bca62b-e75d-4aab-82c0-fb04c786554d' class='xr-section-summary' >Indexes: <span>(3)</span></label><div class='xr-section-inline-details'></div><div class='xr-section-details'><ul class='xr-var-list'><li class='xr-var-item'><div class='xr-index-name'><div>lat</div></div><div class='xr-index-preview'>PandasIndex</div><div></div><input id='index-2b4e03c9-427d-4eaa-bc75-8f2307fb0234' class='xr-index-data-in' type='checkbox'/><label for='index-2b4e03c9-427d-4eaa-bc75-8f2307fb0234' title='Show/Hide index repr'><svg class='icon xr-icon-database'><use xlink:href='#icon-database'></use></svg></label><div class='xr-index-data'><pre>PandasIndex(Index([ -90.0, -88.75,  -87.5, -86.25,  -85.0, -83.75,  -82.5, -81.25,  -80.0,\n",
       "       -78.75,\n",
       "       ...\n",
       "        78.75,   80.0,  81.25,   82.5,  83.75,   85.0,  86.25,   87.5,  88.75,\n",
       "         90.0],\n",
       "      dtype=&#x27;float64&#x27;, name=&#x27;lat&#x27;, length=145))</pre></div></li><li class='xr-var-item'><div class='xr-index-name'><div>lon</div></div><div class='xr-index-preview'>PandasIndex</div><div></div><input id='index-bd483fad-28f9-4048-bf70-b4a94a7be945' class='xr-index-data-in' type='checkbox'/><label for='index-bd483fad-28f9-4048-bf70-b4a94a7be945' title='Show/Hide index repr'><svg class='icon xr-icon-database'><use xlink:href='#icon-database'></use></svg></label><div class='xr-index-data'><pre>PandasIndex(Index([    0.0,   1.875,    3.75,   5.625,     7.5,   9.375,   11.25,  13.125,\n",
       "          15.0,  16.875,\n",
       "       ...\n",
       "        341.25, 343.125,   345.0, 346.875,  348.75, 350.625,   352.5, 354.375,\n",
       "        356.25, 358.125],\n",
       "      dtype=&#x27;float64&#x27;, name=&#x27;lon&#x27;, length=192))</pre></div></li><li class='xr-var-item'><div class='xr-index-name'><div>time</div></div><div class='xr-index-preview'>PandasIndex</div><div></div><input id='index-7f2c1c3d-dceb-4b4c-b5a5-876360cd8aaa' class='xr-index-data-in' type='checkbox'/><label for='index-7f2c1c3d-dceb-4b4c-b5a5-876360cd8aaa' title='Show/Hide index repr'><svg class='icon xr-icon-database'><use xlink:href='#icon-database'></use></svg></label><div class='xr-index-data'><pre>PandasIndex(CFTimeIndex([1850-01-16 12:00:00, 1850-02-15 00:00:00, 1850-03-16 12:00:00,\n",
       "             1850-04-16 00:00:00, 1850-05-16 12:00:00, 1850-06-16 00:00:00,\n",
       "             1850-07-16 12:00:00, 1850-08-16 12:00:00, 1850-09-16 00:00:00,\n",
       "             1850-10-16 12:00:00,\n",
       "             ...\n",
       "             2014-03-16 12:00:00, 2014-04-16 00:00:00, 2014-05-16 12:00:00,\n",
       "             2014-06-16 00:00:00, 2014-07-16 12:00:00, 2014-08-16 12:00:00,\n",
       "             2014-09-16 00:00:00, 2014-10-16 12:00:00, 2014-11-16 00:00:00,\n",
       "             2014-12-16 12:00:00],\n",
       "            dtype=&#x27;object&#x27;,\n",
       "            length=1980,\n",
       "            calendar=&#x27;proleptic_gregorian&#x27;,\n",
       "            freq=None))</pre></div></li></ul></div></li><li class='xr-section-item'><input id='section-8c04b95d-e973-4af1-b956-6018d042a040' class='xr-section-summary-in' type='checkbox'  checked><label for='section-8c04b95d-e973-4af1-b956-6018d042a040' class='xr-section-summary' >Attributes: <span>(8)</span></label><div class='xr-section-inline-details'></div><div class='xr-section-details'><dl class='xr-attrs'><dt><span>standard_name :</span></dt><dd>air_temperature</dd><dt><span>long_name :</span></dt><dd>Near-Surface Air Temperature</dd><dt><span>comment :</span></dt><dd>near-surface (usually, 2 meter) air temperature</dd><dt><span>units :</span></dt><dd>K</dd><dt><span>cell_methods :</span></dt><dd>area: time: mean</dd><dt><span>cell_measures :</span></dt><dd>area: areacella</dd><dt><span>history :</span></dt><dd>2020-06-05T04:06:10Z altered by CMOR: Treated scalar dimension: &#x27;height&#x27;. 2020-06-05T04:06:10Z altered by CMOR: replaced missing value flag (-1.07374e+09) with standard missing value (1e+20).</dd><dt><span>_ChunkSizes :</span></dt><dd>[  1 145 192]</dd></dl></div></li></ul></div></div>"
      ],
      "text/plain": [
       "<xarray.DataArray 'tas' (time: 1980, lat: 145, lon: 192)> Size: 220MB\n",
       "dask.array<open_dataset-tas, shape=(1980, 145, 192), dtype=float32, chunksize=(1205, 145, 192), chunktype=numpy.ndarray>\n",
       "Coordinates:\n",
       "  * lat      (lat) float64 1kB -90.0 -88.75 -87.5 -86.25 ... 87.5 88.75 90.0\n",
       "  * lon      (lon) float64 2kB 0.0 1.875 3.75 5.625 ... 352.5 354.4 356.2 358.1\n",
       "    height   float64 8B ...\n",
       "  * time     (time) object 16kB 1850-01-16 12:00:00 ... 2014-12-16 12:00:00\n",
       "Attributes:\n",
       "    standard_name:  air_temperature\n",
       "    long_name:      Near-Surface Air Temperature\n",
       "    comment:        near-surface (usually, 2 meter) air temperature\n",
       "    units:          K\n",
       "    cell_methods:   area: time: mean\n",
       "    cell_measures:  area: areacella\n",
       "    history:        2020-06-05T04:06:10Z altered by CMOR: Treated scalar dime...\n",
       "    _ChunkSizes:    [  1 145 192]"
      ]
     },
     "execution_count": 15,
     "metadata": {},
     "output_type": "execute_result"
    }
   ],
   "source": [
    "ds.tas"
   ]
  },
  {
   "cell_type": "markdown",
   "metadata": {
    "slideshow": {
     "slide_type": "subslide"
    }
   },
   "source": [
    "Now let's run the xCDAT `spatial.average()` method and view the output\n"
   ]
  },
  {
   "cell_type": "code",
   "execution_count": 16,
   "metadata": {
    "slideshow": {
     "slide_type": "fragment"
    }
   },
   "outputs": [
    {
     "data": {
      "text/html": [
       "<div><svg style=\"position: absolute; width: 0; height: 0; overflow: hidden\">\n",
       "<defs>\n",
       "<symbol id=\"icon-database\" viewBox=\"0 0 32 32\">\n",
       "<path d=\"M16 0c-8.837 0-16 2.239-16 5v4c0 2.761 7.163 5 16 5s16-2.239 16-5v-4c0-2.761-7.163-5-16-5z\"></path>\n",
       "<path d=\"M16 17c-8.837 0-16-2.239-16-5v6c0 2.761 7.163 5 16 5s16-2.239 16-5v-6c0 2.761-7.163 5-16 5z\"></path>\n",
       "<path d=\"M16 26c-8.837 0-16-2.239-16-5v6c0 2.761 7.163 5 16 5s16-2.239 16-5v-6c0 2.761-7.163 5-16 5z\"></path>\n",
       "</symbol>\n",
       "<symbol id=\"icon-file-text2\" viewBox=\"0 0 32 32\">\n",
       "<path d=\"M28.681 7.159c-0.694-0.947-1.662-2.053-2.724-3.116s-2.169-2.030-3.116-2.724c-1.612-1.182-2.393-1.319-2.841-1.319h-15.5c-1.378 0-2.5 1.121-2.5 2.5v27c0 1.378 1.122 2.5 2.5 2.5h23c1.378 0 2.5-1.122 2.5-2.5v-19.5c0-0.448-0.137-1.23-1.319-2.841zM24.543 5.457c0.959 0.959 1.712 1.825 2.268 2.543h-4.811v-4.811c0.718 0.556 1.584 1.309 2.543 2.268zM28 29.5c0 0.271-0.229 0.5-0.5 0.5h-23c-0.271 0-0.5-0.229-0.5-0.5v-27c0-0.271 0.229-0.5 0.5-0.5 0 0 15.499-0 15.5 0v7c0 0.552 0.448 1 1 1h7v19.5z\"></path>\n",
       "<path d=\"M23 26h-14c-0.552 0-1-0.448-1-1s0.448-1 1-1h14c0.552 0 1 0.448 1 1s-0.448 1-1 1z\"></path>\n",
       "<path d=\"M23 22h-14c-0.552 0-1-0.448-1-1s0.448-1 1-1h14c0.552 0 1 0.448 1 1s-0.448 1-1 1z\"></path>\n",
       "<path d=\"M23 18h-14c-0.552 0-1-0.448-1-1s0.448-1 1-1h14c0.552 0 1 0.448 1 1s-0.448 1-1 1z\"></path>\n",
       "</symbol>\n",
       "</defs>\n",
       "</svg>\n",
       "<style>/* CSS stylesheet for displaying xarray objects in jupyterlab.\n",
       " *\n",
       " */\n",
       "\n",
       ":root {\n",
       "  --xr-font-color0: var(--jp-content-font-color0, rgba(0, 0, 0, 1));\n",
       "  --xr-font-color2: var(--jp-content-font-color2, rgba(0, 0, 0, 0.54));\n",
       "  --xr-font-color3: var(--jp-content-font-color3, rgba(0, 0, 0, 0.38));\n",
       "  --xr-border-color: var(--jp-border-color2, #e0e0e0);\n",
       "  --xr-disabled-color: var(--jp-layout-color3, #bdbdbd);\n",
       "  --xr-background-color: var(--jp-layout-color0, white);\n",
       "  --xr-background-color-row-even: var(--jp-layout-color1, white);\n",
       "  --xr-background-color-row-odd: var(--jp-layout-color2, #eeeeee);\n",
       "}\n",
       "\n",
       "html[theme=dark],\n",
       "body[data-theme=dark],\n",
       "body.vscode-dark {\n",
       "  --xr-font-color0: rgba(255, 255, 255, 1);\n",
       "  --xr-font-color2: rgba(255, 255, 255, 0.54);\n",
       "  --xr-font-color3: rgba(255, 255, 255, 0.38);\n",
       "  --xr-border-color: #1F1F1F;\n",
       "  --xr-disabled-color: #515151;\n",
       "  --xr-background-color: #111111;\n",
       "  --xr-background-color-row-even: #111111;\n",
       "  --xr-background-color-row-odd: #313131;\n",
       "}\n",
       "\n",
       ".xr-wrap {\n",
       "  display: block !important;\n",
       "  min-width: 300px;\n",
       "  max-width: 700px;\n",
       "}\n",
       "\n",
       ".xr-text-repr-fallback {\n",
       "  /* fallback to plain text repr when CSS is not injected (untrusted notebook) */\n",
       "  display: none;\n",
       "}\n",
       "\n",
       ".xr-header {\n",
       "  padding-top: 6px;\n",
       "  padding-bottom: 6px;\n",
       "  margin-bottom: 4px;\n",
       "  border-bottom: solid 1px var(--xr-border-color);\n",
       "}\n",
       "\n",
       ".xr-header > div,\n",
       ".xr-header > ul {\n",
       "  display: inline;\n",
       "  margin-top: 0;\n",
       "  margin-bottom: 0;\n",
       "}\n",
       "\n",
       ".xr-obj-type,\n",
       ".xr-array-name {\n",
       "  margin-left: 2px;\n",
       "  margin-right: 10px;\n",
       "}\n",
       "\n",
       ".xr-obj-type {\n",
       "  color: var(--xr-font-color2);\n",
       "}\n",
       "\n",
       ".xr-sections {\n",
       "  padding-left: 0 !important;\n",
       "  display: grid;\n",
       "  grid-template-columns: 150px auto auto 1fr 20px 20px;\n",
       "}\n",
       "\n",
       ".xr-section-item {\n",
       "  display: contents;\n",
       "}\n",
       "\n",
       ".xr-section-item input {\n",
       "  display: none;\n",
       "}\n",
       "\n",
       ".xr-section-item input + label {\n",
       "  color: var(--xr-disabled-color);\n",
       "}\n",
       "\n",
       ".xr-section-item input:enabled + label {\n",
       "  cursor: pointer;\n",
       "  color: var(--xr-font-color2);\n",
       "}\n",
       "\n",
       ".xr-section-item input:enabled + label:hover {\n",
       "  color: var(--xr-font-color0);\n",
       "}\n",
       "\n",
       ".xr-section-summary {\n",
       "  grid-column: 1;\n",
       "  color: var(--xr-font-color2);\n",
       "  font-weight: 500;\n",
       "}\n",
       "\n",
       ".xr-section-summary > span {\n",
       "  display: inline-block;\n",
       "  padding-left: 0.5em;\n",
       "}\n",
       "\n",
       ".xr-section-summary-in:disabled + label {\n",
       "  color: var(--xr-font-color2);\n",
       "}\n",
       "\n",
       ".xr-section-summary-in + label:before {\n",
       "  display: inline-block;\n",
       "  content: '►';\n",
       "  font-size: 11px;\n",
       "  width: 15px;\n",
       "  text-align: center;\n",
       "}\n",
       "\n",
       ".xr-section-summary-in:disabled + label:before {\n",
       "  color: var(--xr-disabled-color);\n",
       "}\n",
       "\n",
       ".xr-section-summary-in:checked + label:before {\n",
       "  content: '▼';\n",
       "}\n",
       "\n",
       ".xr-section-summary-in:checked + label > span {\n",
       "  display: none;\n",
       "}\n",
       "\n",
       ".xr-section-summary,\n",
       ".xr-section-inline-details {\n",
       "  padding-top: 4px;\n",
       "  padding-bottom: 4px;\n",
       "}\n",
       "\n",
       ".xr-section-inline-details {\n",
       "  grid-column: 2 / -1;\n",
       "}\n",
       "\n",
       ".xr-section-details {\n",
       "  display: none;\n",
       "  grid-column: 1 / -1;\n",
       "  margin-bottom: 5px;\n",
       "}\n",
       "\n",
       ".xr-section-summary-in:checked ~ .xr-section-details {\n",
       "  display: contents;\n",
       "}\n",
       "\n",
       ".xr-array-wrap {\n",
       "  grid-column: 1 / -1;\n",
       "  display: grid;\n",
       "  grid-template-columns: 20px auto;\n",
       "}\n",
       "\n",
       ".xr-array-wrap > label {\n",
       "  grid-column: 1;\n",
       "  vertical-align: top;\n",
       "}\n",
       "\n",
       ".xr-preview {\n",
       "  color: var(--xr-font-color3);\n",
       "}\n",
       "\n",
       ".xr-array-preview,\n",
       ".xr-array-data {\n",
       "  padding: 0 5px !important;\n",
       "  grid-column: 2;\n",
       "}\n",
       "\n",
       ".xr-array-data,\n",
       ".xr-array-in:checked ~ .xr-array-preview {\n",
       "  display: none;\n",
       "}\n",
       "\n",
       ".xr-array-in:checked ~ .xr-array-data,\n",
       ".xr-array-preview {\n",
       "  display: inline-block;\n",
       "}\n",
       "\n",
       ".xr-dim-list {\n",
       "  display: inline-block !important;\n",
       "  list-style: none;\n",
       "  padding: 0 !important;\n",
       "  margin: 0;\n",
       "}\n",
       "\n",
       ".xr-dim-list li {\n",
       "  display: inline-block;\n",
       "  padding: 0;\n",
       "  margin: 0;\n",
       "}\n",
       "\n",
       ".xr-dim-list:before {\n",
       "  content: '(';\n",
       "}\n",
       "\n",
       ".xr-dim-list:after {\n",
       "  content: ')';\n",
       "}\n",
       "\n",
       ".xr-dim-list li:not(:last-child):after {\n",
       "  content: ',';\n",
       "  padding-right: 5px;\n",
       "}\n",
       "\n",
       ".xr-has-index {\n",
       "  font-weight: bold;\n",
       "}\n",
       "\n",
       ".xr-var-list,\n",
       ".xr-var-item {\n",
       "  display: contents;\n",
       "}\n",
       "\n",
       ".xr-var-item > div,\n",
       ".xr-var-item label,\n",
       ".xr-var-item > .xr-var-name span {\n",
       "  background-color: var(--xr-background-color-row-even);\n",
       "  margin-bottom: 0;\n",
       "}\n",
       "\n",
       ".xr-var-item > .xr-var-name:hover span {\n",
       "  padding-right: 5px;\n",
       "}\n",
       "\n",
       ".xr-var-list > li:nth-child(odd) > div,\n",
       ".xr-var-list > li:nth-child(odd) > label,\n",
       ".xr-var-list > li:nth-child(odd) > .xr-var-name span {\n",
       "  background-color: var(--xr-background-color-row-odd);\n",
       "}\n",
       "\n",
       ".xr-var-name {\n",
       "  grid-column: 1;\n",
       "}\n",
       "\n",
       ".xr-var-dims {\n",
       "  grid-column: 2;\n",
       "}\n",
       "\n",
       ".xr-var-dtype {\n",
       "  grid-column: 3;\n",
       "  text-align: right;\n",
       "  color: var(--xr-font-color2);\n",
       "}\n",
       "\n",
       ".xr-var-preview {\n",
       "  grid-column: 4;\n",
       "}\n",
       "\n",
       ".xr-index-preview {\n",
       "  grid-column: 2 / 5;\n",
       "  color: var(--xr-font-color2);\n",
       "}\n",
       "\n",
       ".xr-var-name,\n",
       ".xr-var-dims,\n",
       ".xr-var-dtype,\n",
       ".xr-preview,\n",
       ".xr-attrs dt {\n",
       "  white-space: nowrap;\n",
       "  overflow: hidden;\n",
       "  text-overflow: ellipsis;\n",
       "  padding-right: 10px;\n",
       "}\n",
       "\n",
       ".xr-var-name:hover,\n",
       ".xr-var-dims:hover,\n",
       ".xr-var-dtype:hover,\n",
       ".xr-attrs dt:hover {\n",
       "  overflow: visible;\n",
       "  width: auto;\n",
       "  z-index: 1;\n",
       "}\n",
       "\n",
       ".xr-var-attrs,\n",
       ".xr-var-data,\n",
       ".xr-index-data {\n",
       "  display: none;\n",
       "  background-color: var(--xr-background-color) !important;\n",
       "  padding-bottom: 5px !important;\n",
       "}\n",
       "\n",
       ".xr-var-attrs-in:checked ~ .xr-var-attrs,\n",
       ".xr-var-data-in:checked ~ .xr-var-data,\n",
       ".xr-index-data-in:checked ~ .xr-index-data {\n",
       "  display: block;\n",
       "}\n",
       "\n",
       ".xr-var-data > table {\n",
       "  float: right;\n",
       "}\n",
       "\n",
       ".xr-var-name span,\n",
       ".xr-var-data,\n",
       ".xr-index-name div,\n",
       ".xr-index-data,\n",
       ".xr-attrs {\n",
       "  padding-left: 25px !important;\n",
       "}\n",
       "\n",
       ".xr-attrs,\n",
       ".xr-var-attrs,\n",
       ".xr-var-data,\n",
       ".xr-index-data {\n",
       "  grid-column: 1 / -1;\n",
       "}\n",
       "\n",
       "dl.xr-attrs {\n",
       "  padding: 0;\n",
       "  margin: 0;\n",
       "  display: grid;\n",
       "  grid-template-columns: 125px auto;\n",
       "}\n",
       "\n",
       ".xr-attrs dt,\n",
       ".xr-attrs dd {\n",
       "  padding: 0;\n",
       "  margin: 0;\n",
       "  float: left;\n",
       "  padding-right: 10px;\n",
       "  width: auto;\n",
       "}\n",
       "\n",
       ".xr-attrs dt {\n",
       "  font-weight: normal;\n",
       "  grid-column: 1;\n",
       "}\n",
       "\n",
       ".xr-attrs dt:hover span {\n",
       "  display: inline-block;\n",
       "  background: var(--xr-background-color);\n",
       "  padding-right: 10px;\n",
       "}\n",
       "\n",
       ".xr-attrs dd {\n",
       "  grid-column: 2;\n",
       "  white-space: pre-wrap;\n",
       "  word-break: break-all;\n",
       "}\n",
       "\n",
       ".xr-icon-database,\n",
       ".xr-icon-file-text2,\n",
       ".xr-no-icon {\n",
       "  display: inline-block;\n",
       "  vertical-align: middle;\n",
       "  width: 1em;\n",
       "  height: 1.5em !important;\n",
       "  stroke-width: 0;\n",
       "  stroke: currentColor;\n",
       "  fill: currentColor;\n",
       "}\n",
       "</style><pre class='xr-text-repr-fallback'>&lt;xarray.DataArray &#x27;tas&#x27; (time: 1980)&gt; Size: 16kB\n",
       "dask.array&lt;truediv, shape=(1980,), dtype=float64, chunksize=(1205,), chunktype=numpy.ndarray&gt;\n",
       "Coordinates:\n",
       "    height   float64 8B ...\n",
       "  * time     (time) object 16kB 1850-01-16 12:00:00 ... 2014-12-16 12:00:00\n",
       "Attributes:\n",
       "    standard_name:  air_temperature\n",
       "    long_name:      Near-Surface Air Temperature\n",
       "    comment:        near-surface (usually, 2 meter) air temperature\n",
       "    units:          K\n",
       "    cell_methods:   area: time: mean\n",
       "    cell_measures:  area: areacella\n",
       "    history:        2020-06-05T04:06:10Z altered by CMOR: Treated scalar dime...\n",
       "    _ChunkSizes:    [  1 145 192]</pre><div class='xr-wrap' style='display:none'><div class='xr-header'><div class='xr-obj-type'>xarray.DataArray</div><div class='xr-array-name'>'tas'</div><ul class='xr-dim-list'><li><span class='xr-has-index'>time</span>: 1980</li></ul></div><ul class='xr-sections'><li class='xr-section-item'><div class='xr-array-wrap'><input id='section-f92c248a-3be2-4f41-851e-058860409314' class='xr-array-in' type='checkbox' checked><label for='section-f92c248a-3be2-4f41-851e-058860409314' title='Show/hide data repr'><svg class='icon xr-icon-database'><use xlink:href='#icon-database'></use></svg></label><div class='xr-array-preview xr-preview'><span>dask.array&lt;chunksize=(1205,), meta=np.ndarray&gt;</span></div><div class='xr-array-data'><table>\n",
       "    <tr>\n",
       "        <td>\n",
       "            <table style=\"border-collapse: collapse;\">\n",
       "                <thead>\n",
       "                    <tr>\n",
       "                        <td> </td>\n",
       "                        <th> Array </th>\n",
       "                        <th> Chunk </th>\n",
       "                    </tr>\n",
       "                </thead>\n",
       "                <tbody>\n",
       "                    \n",
       "                    <tr>\n",
       "                        <th> Bytes </th>\n",
       "                        <td> 15.47 kiB </td>\n",
       "                        <td> 9.41 kiB </td>\n",
       "                    </tr>\n",
       "                    \n",
       "                    <tr>\n",
       "                        <th> Shape </th>\n",
       "                        <td> (1980,) </td>\n",
       "                        <td> (1205,) </td>\n",
       "                    </tr>\n",
       "                    <tr>\n",
       "                        <th> Dask graph </th>\n",
       "                        <td colspan=\"2\"> 2 chunks in 29 graph layers </td>\n",
       "                    </tr>\n",
       "                    <tr>\n",
       "                        <th> Data type </th>\n",
       "                        <td colspan=\"2\"> float64 numpy.ndarray </td>\n",
       "                    </tr>\n",
       "                </tbody>\n",
       "            </table>\n",
       "        </td>\n",
       "        <td>\n",
       "        <svg width=\"170\" height=\"75\" style=\"stroke:rgb(0,0,0);stroke-width:1\" >\n",
       "\n",
       "  <!-- Horizontal lines -->\n",
       "  <line x1=\"0\" y1=\"0\" x2=\"120\" y2=\"0\" style=\"stroke-width:2\" />\n",
       "  <line x1=\"0\" y1=\"25\" x2=\"120\" y2=\"25\" style=\"stroke-width:2\" />\n",
       "\n",
       "  <!-- Vertical lines -->\n",
       "  <line x1=\"0\" y1=\"0\" x2=\"0\" y2=\"25\" style=\"stroke-width:2\" />\n",
       "  <line x1=\"73\" y1=\"0\" x2=\"73\" y2=\"25\" />\n",
       "  <line x1=\"120\" y1=\"0\" x2=\"120\" y2=\"25\" style=\"stroke-width:2\" />\n",
       "\n",
       "  <!-- Colored Rectangle -->\n",
       "  <polygon points=\"0.0,0.0 120.0,0.0 120.0,25.412616514582485 0.0,25.412616514582485\" style=\"fill:#ECB172A0;stroke-width:0\"/>\n",
       "\n",
       "  <!-- Text -->\n",
       "  <text x=\"60.000000\" y=\"45.412617\" font-size=\"1.0rem\" font-weight=\"100\" text-anchor=\"middle\" >1980</text>\n",
       "  <text x=\"140.000000\" y=\"12.706308\" font-size=\"1.0rem\" font-weight=\"100\" text-anchor=\"middle\" transform=\"rotate(0,140.000000,12.706308)\">1</text>\n",
       "</svg>\n",
       "        </td>\n",
       "    </tr>\n",
       "</table></div></div></li><li class='xr-section-item'><input id='section-0404957c-9862-45eb-90a2-8118b2934f15' class='xr-section-summary-in' type='checkbox'  checked><label for='section-0404957c-9862-45eb-90a2-8118b2934f15' class='xr-section-summary' >Coordinates: <span>(2)</span></label><div class='xr-section-inline-details'></div><div class='xr-section-details'><ul class='xr-var-list'><li class='xr-var-item'><div class='xr-var-name'><span>height</span></div><div class='xr-var-dims'>()</div><div class='xr-var-dtype'>float64</div><div class='xr-var-preview xr-preview'>...</div><input id='attrs-2fb700f2-e61c-40b5-83c6-db1662739404' class='xr-var-attrs-in' type='checkbox' ><label for='attrs-2fb700f2-e61c-40b5-83c6-db1662739404' title='Show/Hide attributes'><svg class='icon xr-icon-file-text2'><use xlink:href='#icon-file-text2'></use></svg></label><input id='data-98dd3744-7d26-4553-83c1-968e03f85447' class='xr-var-data-in' type='checkbox'><label for='data-98dd3744-7d26-4553-83c1-968e03f85447' title='Show/Hide data repr'><svg class='icon xr-icon-database'><use xlink:href='#icon-database'></use></svg></label><div class='xr-var-attrs'><dl class='xr-attrs'><dt><span>units :</span></dt><dd>m</dd><dt><span>axis :</span></dt><dd>Z</dd><dt><span>positive :</span></dt><dd>up</dd><dt><span>long_name :</span></dt><dd>height</dd><dt><span>standard_name :</span></dt><dd>height</dd></dl></div><div class='xr-var-data'><pre>[1 values with dtype=float64]</pre></div></li><li class='xr-var-item'><div class='xr-var-name'><span class='xr-has-index'>time</span></div><div class='xr-var-dims'>(time)</div><div class='xr-var-dtype'>object</div><div class='xr-var-preview xr-preview'>1850-01-16 12:00:00 ... 2014-12-...</div><input id='attrs-4e43bfaf-9cef-4a1f-9aeb-6897a7522854' class='xr-var-attrs-in' type='checkbox' ><label for='attrs-4e43bfaf-9cef-4a1f-9aeb-6897a7522854' title='Show/Hide attributes'><svg class='icon xr-icon-file-text2'><use xlink:href='#icon-file-text2'></use></svg></label><input id='data-bc904fc8-699c-4400-8fbe-b5956be160db' class='xr-var-data-in' type='checkbox'><label for='data-bc904fc8-699c-4400-8fbe-b5956be160db' title='Show/Hide data repr'><svg class='icon xr-icon-database'><use xlink:href='#icon-database'></use></svg></label><div class='xr-var-attrs'><dl class='xr-attrs'><dt><span>bounds :</span></dt><dd>time_bnds</dd><dt><span>axis :</span></dt><dd>T</dd><dt><span>long_name :</span></dt><dd>time</dd><dt><span>standard_name :</span></dt><dd>time</dd><dt><span>_ChunkSizes :</span></dt><dd>1</dd></dl></div><div class='xr-var-data'><pre>array([cftime.DatetimeProlepticGregorian(1850, 1, 16, 12, 0, 0, 0, has_year_zero=True),\n",
       "       cftime.DatetimeProlepticGregorian(1850, 2, 15, 0, 0, 0, 0, has_year_zero=True),\n",
       "       cftime.DatetimeProlepticGregorian(1850, 3, 16, 12, 0, 0, 0, has_year_zero=True),\n",
       "       ...,\n",
       "       cftime.DatetimeProlepticGregorian(2014, 10, 16, 12, 0, 0, 0, has_year_zero=True),\n",
       "       cftime.DatetimeProlepticGregorian(2014, 11, 16, 0, 0, 0, 0, has_year_zero=True),\n",
       "       cftime.DatetimeProlepticGregorian(2014, 12, 16, 12, 0, 0, 0, has_year_zero=True)],\n",
       "      dtype=object)</pre></div></li></ul></div></li><li class='xr-section-item'><input id='section-c2de604b-5deb-4911-b750-b40c8933c710' class='xr-section-summary-in' type='checkbox'  ><label for='section-c2de604b-5deb-4911-b750-b40c8933c710' class='xr-section-summary' >Indexes: <span>(1)</span></label><div class='xr-section-inline-details'></div><div class='xr-section-details'><ul class='xr-var-list'><li class='xr-var-item'><div class='xr-index-name'><div>time</div></div><div class='xr-index-preview'>PandasIndex</div><div></div><input id='index-ecfe1da2-4332-4cde-80b5-191feb0885d9' class='xr-index-data-in' type='checkbox'/><label for='index-ecfe1da2-4332-4cde-80b5-191feb0885d9' title='Show/Hide index repr'><svg class='icon xr-icon-database'><use xlink:href='#icon-database'></use></svg></label><div class='xr-index-data'><pre>PandasIndex(CFTimeIndex([1850-01-16 12:00:00, 1850-02-15 00:00:00, 1850-03-16 12:00:00,\n",
       "             1850-04-16 00:00:00, 1850-05-16 12:00:00, 1850-06-16 00:00:00,\n",
       "             1850-07-16 12:00:00, 1850-08-16 12:00:00, 1850-09-16 00:00:00,\n",
       "             1850-10-16 12:00:00,\n",
       "             ...\n",
       "             2014-03-16 12:00:00, 2014-04-16 00:00:00, 2014-05-16 12:00:00,\n",
       "             2014-06-16 00:00:00, 2014-07-16 12:00:00, 2014-08-16 12:00:00,\n",
       "             2014-09-16 00:00:00, 2014-10-16 12:00:00, 2014-11-16 00:00:00,\n",
       "             2014-12-16 12:00:00],\n",
       "            dtype=&#x27;object&#x27;,\n",
       "            length=1980,\n",
       "            calendar=&#x27;proleptic_gregorian&#x27;,\n",
       "            freq=None))</pre></div></li></ul></div></li><li class='xr-section-item'><input id='section-478a635b-44a9-4244-a732-5b91e7b45ae0' class='xr-section-summary-in' type='checkbox'  checked><label for='section-478a635b-44a9-4244-a732-5b91e7b45ae0' class='xr-section-summary' >Attributes: <span>(8)</span></label><div class='xr-section-inline-details'></div><div class='xr-section-details'><dl class='xr-attrs'><dt><span>standard_name :</span></dt><dd>air_temperature</dd><dt><span>long_name :</span></dt><dd>Near-Surface Air Temperature</dd><dt><span>comment :</span></dt><dd>near-surface (usually, 2 meter) air temperature</dd><dt><span>units :</span></dt><dd>K</dd><dt><span>cell_methods :</span></dt><dd>area: time: mean</dd><dt><span>cell_measures :</span></dt><dd>area: areacella</dd><dt><span>history :</span></dt><dd>2020-06-05T04:06:10Z altered by CMOR: Treated scalar dimension: &#x27;height&#x27;. 2020-06-05T04:06:10Z altered by CMOR: replaced missing value flag (-1.07374e+09) with standard missing value (1e+20).</dd><dt><span>_ChunkSizes :</span></dt><dd>[  1 145 192]</dd></dl></div></li></ul></div></div>"
      ],
      "text/plain": [
       "<xarray.DataArray 'tas' (time: 1980)> Size: 16kB\n",
       "dask.array<truediv, shape=(1980,), dtype=float64, chunksize=(1205,), chunktype=numpy.ndarray>\n",
       "Coordinates:\n",
       "    height   float64 8B ...\n",
       "  * time     (time) object 16kB 1850-01-16 12:00:00 ... 2014-12-16 12:00:00\n",
       "Attributes:\n",
       "    standard_name:  air_temperature\n",
       "    long_name:      Near-Surface Air Temperature\n",
       "    comment:        near-surface (usually, 2 meter) air temperature\n",
       "    units:          K\n",
       "    cell_methods:   area: time: mean\n",
       "    cell_measures:  area: areacella\n",
       "    history:        2020-06-05T04:06:10Z altered by CMOR: Treated scalar dime...\n",
       "    _ChunkSizes:    [  1 145 192]"
      ]
     },
     "execution_count": 16,
     "metadata": {},
     "output_type": "execute_result"
    }
   ],
   "source": [
    "ds.spatial.average(\"tas\").tas"
   ]
  },
  {
   "cell_type": "markdown",
   "metadata": {
    "slideshow": {
     "slide_type": "fragment"
    }
   },
   "source": [
    "Notice how the `tas` array is still a Dask Array.\n"
   ]
  },
  {
   "cell_type": "markdown",
   "metadata": {
    "slideshow": {
     "slide_type": "subslide"
    }
   },
   "source": [
    "### Further Dask Guidance\n",
    "\n",
    "Visit these pages for more guidance (e.g., when to parallelize):\n",
    "\n",
    "- Ongoing xCDAT Dask Investigation: https://github.com/xCDAT/xcdat/discussions/376\n",
    "  - Performance metrics, best practices, and possibly a guide\n",
    "- Parallel computing with Dask: https://docs.xarray.dev/en/stable/user-guide/dask.html\n",
    "- Xarray with Dask Arrays: https://examples.dask.org/xarray.html\n"
   ]
  },
  {
   "cell_type": "markdown",
   "metadata": {
    "slideshow": {
     "slide_type": "slide"
    }
   },
   "source": [
    "<div style=\"text-align: left; margin-top:10px\">\n",
    "    <img src=\"../../_static/github-logo.png\" alt=\"GitHub logo\" align=\\\"center\\\" style=\"display: inline-block; width:300px;\">\n",
    "    <img src=\"../../_static/github-logo-icon.png\" alt=\"GitHub logo\" align=\\\"center\\\" style=\"display: inline-block; width:100px;\">\n",
    "    <h3>Get involved and join the xCDAT community!</h3>\n",
    "</div>\n",
    "\n",
    "- **Code contributions** are welcome and appreciated\n",
    "  - GitHub Repository: https://github.com/xCDAT/xcdat\n",
    "  - Contributing Guide: https://xcdat.readthedocs.io/en/latest/contributing.html\n",
    "- **Submit and/or address tickets** for feature suggestions, bugs, and documentation updates\n",
    "  - GitHub Issues: https://github.com/xCDAT/xcdat/issues\n",
    "- **Participate in forum discussions** on version releases, architecture, feature suggestions, etc.\n",
    "  - GitHub Discussions: https://github.com/xCDAT/xcdat/discussions\n"
   ]
  },
  {
   "cell_type": "markdown",
   "metadata": {
    "slideshow": {
     "slide_type": "slide"
    }
   },
   "source": [
    "<div style=\"text-align: left; margin-top:10px\">\n",
    "    <img src=\"../../_static/xcdat-logo.png\" alt=\"xCDAT logo\" align=\\\"center\\\" style=\"display: inline-block; width:400px;\">\n",
    "    <h3>Recap of Key Points</h3>\n",
    "</div>\n",
    "\n",
    "- xCDAT is an **extension of Xarray for climate data analysis on structured grids**, a modern successor to the Community Data Analysis Tools (CDAT) library\n",
    "- **Focused on routine climate research analysis operations** including loading, wrangling, averaging, such as temporal averaging, spatial averaging, and regridding\n",
    "- Designed to encourages **software sustainability and reproducible science**\n",
    "- **Parallelizable** through Xarray’s support for Dask, which enables efficient processing of large datasets\n"
   ]
  }
 ],
 "metadata": {
  "celltoolbar": "Slideshow",
  "kernelspec": {
   "display_name": "Python 3 (ipykernel)",
   "language": "python",
   "name": "python3"
  },
  "language_info": {
   "codemirror_mode": {
    "name": "ipython",
    "version": 3
   },
   "file_extension": ".py",
   "mimetype": "text/x-python",
   "name": "python",
   "nbconvert_exporter": "python",
   "pygments_lexer": "ipython3",
   "version": "3.11.9"
  }
 },
 "nbformat": 4,
 "nbformat_minor": 2
}
