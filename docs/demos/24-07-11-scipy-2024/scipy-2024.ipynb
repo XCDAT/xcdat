{
 "cells": [
  {
   "cell_type": "markdown",
   "metadata": {},
   "source": [
    "<div style=\"text-align: left\">\n",
    "    <img src=\"../../_static/xcdat-logo.png\" alt=\"xCDAT logo\" style=\"display: inline-block; width:600px;\">\n",
    "</div>\n",
    "\n",
    "# Xarray Climate Data Analysis Tools (xCDAT)\n",
    "\n",
    "<h3 style=\"text-align: left;\">A Python Package for Simple and Robust Analysis of Climate Data</h3>\n",
    "<div style=\"text-align: left\">\n",
    "    <h4><img src=\"images/scipy-logo.png\" alt=\"xCDAT logo\" style=\"display: inline-block; width:50px;\">SciPy 2024, 07/11/2024</h3>\n",
    "</div>\n",
    "<h4 style=\"text-align: left; font-style:italic\">Core Developers: Tom Vo, Stephen Po-Chedley, Jason Boutte, Jill Zhang, Jiwoo Lee</h4>\n",
    "<p style=\"text-align: left;\">With thanks to Peter Gleckler, Paul Durack, Karl Taylor, and Chris Golaz</p>\n",
    "\n",
    "---\n",
    "\n",
    "_This work is performed under the auspices of the U. S. DOE by Lawrence Livermore National Laboratory under contract No. DE-AC52-07NA27344._\n"
   ]
  },
  {
   "cell_type": "markdown",
   "metadata": {
    "vscode": {
     "languageId": "plaintext"
    }
   },
   "source": [
    "## Notebook Setup\n",
    "\n",
    "Create an Anaconda environment for this notebook using the command below:\n",
    "\n",
    "```bash\n",
    "conda create -n xcdat_scipy_2024 -c conda-forge xcdat=0.7.0 xesmf matplotlib ipython ipykernel cartopy nc-time-axis gsw-xarray jupyter jupyter_contrib_nbextensions rise\n",
    "\n",
    "conda activate xcdat_scipy_2024\n",
    "```\n",
    "\n",
    "Then run:W\n",
    "\n",
    "```bash\n",
    "jupyter contrib nbextension install --user\n",
    "\n",
    "jupyter nbextension enable splitcell/splitcell\n",
    "```\n",
    "\n",
    "To open Jupyter Notebook GUI:\n",
    "\n",
    "```bash\n",
    "jupyter notebook\n",
    "```\n",
    "\n",
    "To print notebook as PDF:\n",
    "\n",
    "```bash\n",
    "jupyter nbconvert —to html <PATH-TO-NOTEBOOK>\n",
    "\n",
    "# Print HTML to PDF (Browser)\n",
    "```\n"
   ]
  },
  {
   "cell_type": "markdown",
   "metadata": {
    "vscode": {
     "languageId": "plaintext"
    }
   },
   "source": [
    "## An Overview of this Talk\n",
    "\n",
    "1. Preliminary introduction to Xarray\n",
    "2. Brief history, scope, and mission of xCDAT\n",
    "3. Design philosophy\n",
    "4. Key features with code examples\n",
    "5. Parallelizing with Dask\n",
    "6. xCDAT’s community and how to get Involved\n"
   ]
  },
  {
   "cell_type": "markdown",
   "metadata": {},
   "source": [
    "Xarray : N-D labeled arrays and datasets in Python\n",
    "\n",
    "- An evolution of an internal tool developed at The Climate Corporation.\n",
    "- Released as open source in May 2014\n",
    "- NumFocus fiscally sponsored project since August 2018\n",
    "- Based on NumPy, heavily inspired by Pandas\n",
    "  Why Xarray?\n",
    "- Introduces labels in the form of dimensions, coordinates, and attributes on top of raw NumPy-like arrays\n",
    "- Intuitive, more concise, and less error-prone user experience\n",
    "\n",
    "Key features include\n",
    "\n",
    "- File I/O, indexing and selecting, interpolating, grouping, aggregating, parallelism (Dask), plotting (matplotlib wrapper)\n",
    "  Supports various file formats netCDF, Iris, OPeNDAP, Zarr, and more\n",
    "- Interoperability with scientific Python ecosystem such as NumPy, Dask, Pandas, and Matplotlib\n"
   ]
  },
  {
   "cell_type": "markdown",
   "metadata": {},
   "source": [
    "xCDAT: Xarray Climate Data Analysis Tools for structured grid analysis\n",
    "\n",
    "Collaboration between:\n",
    "\n",
    "<div style=\"text-align: center; margin-top:10px\">\n",
    "<img src=\"../../_static/e3sm-logo.jpg\" alt=\"E3SM logo\" align=\\\"center\\\" style=\"display: inline-block;     margin-right:100px; width:300px;\">\n",
    "<img src=\"../../_static/pcmdi-logo.png\" alt=\"PCMDI logo\" style=\"display: inline-block; margin-right:100px; width:300px;\">\n",
    "<img src=\"../../_static/seats-logo.png\" alt=\"SEATS logo\" style=\"display: inline-block; width:300px\">\n",
    "</div>\n",
    "\n",
    "- xCDAT is an extension of Xarray for climate data analysis on structured grids, a modern successor to the Community Data Analysis Tools (CDAT) library\n",
    "- Scope is focused on routine climate research analysis operations such as loading, averaging, and regridding data\n",
    "- Aims to provide features and utilities for simple and robust analysis of climate data\n"
   ]
  },
  {
   "cell_type": "markdown",
   "metadata": {},
   "source": [
    "xCDAT: features and utilities for simple, robust, and less error-prone analysis code\n",
    "\n",
    "- Extension of `xr.open_dataset()` and `xr.open_mfdataset()` with post-processing options\n",
    "- Generate missing bounds, center time coords, convert lon axis orientation\n",
    "- Geospatial weighted averaging\n",
    "- Temporal averaging, climatologies, departures\n",
    "- Horizontal structured regridding (extension of xESMF and Python port of regrid2)\n",
    "- Vertical structured regridding (extension of xGCM)\n"
   ]
  }
 ],
 "metadata": {
  "celltoolbar": "Slideshow",
  "kernelspec": {
   "display_name": "Python 3 (ipykernel)",
   "language": "python",
   "name": "python3"
  },
  "language_info": {
   "codemirror_mode": {
    "name": "ipython",
    "version": 3
   },
   "file_extension": ".py",
   "mimetype": "text/x-python",
   "name": "python",
   "nbconvert_exporter": "python",
   "pygments_lexer": "ipython3",
   "version": "3.11.9"
  }
 },
 "nbformat": 4,
 "nbformat_minor": 2
}
