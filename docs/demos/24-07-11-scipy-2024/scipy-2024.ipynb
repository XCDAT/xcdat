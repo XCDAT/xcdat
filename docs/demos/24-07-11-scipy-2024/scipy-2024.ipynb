{
 "cells": [
  {
   "cell_type": "markdown",
   "metadata": {
    "slideshow": {
     "slide_type": "slide"
    }
   },
   "source": [
    "<div style=\"text-align: left\">\n",
    "    <img src=\"../../_static/xcdat-logo.png\" alt=\"xCDAT logo\" style=\"display: inline-block; width:600px;\">\n",
    "    <div style=\"text-align: left\">\n",
    "    <h3><img src=\"images/scipy-logo.png\" alt=\"SciPy logo\" style=\"display: inline-block; width:50px; margin-right:10px\">SciPy 2024, 07/11/2024</h3>\n",
    "    </div>\n",
    "    <h1>Xarray Climate Data Analysis Tools</h1>\n",
    "    <h3 style=\"font-style:italic\">\n",
    "        A Python Package for Simple and Robust Analysis of Climate Data\n",
    "    </h3>\n",
    "    <h3>\n",
    "        Core Developers: Tom Vo, Stephen Po-Chedley, Jason Boutte, Jill Zhang, Jiwoo Lee\n",
    "    </h3>\n",
    "    <p>With thanks to Peter Gleckler, Paul Durack, Karl Taylor, and Chris Golaz</p>\n",
    "</div>\n",
    "\n",
    "---\n",
    "\n",
    "<p style=\"text-align: left; font-size: 12px\">This work is performed under the auspices of the U. S. DOE by Lawrence Livermore National Laboratory under contract No. DE-AC52-07NA27344.</p>\n"
   ]
  },
  {
   "cell_type": "markdown",
   "metadata": {
    "slideshow": {
     "slide_type": "notes"
    },
    "vscode": {
     "languageId": "plaintext"
    }
   },
   "source": [
    "## Notebook Setup\n",
    "\n",
    "Create an Anaconda environment for this notebook using the command below:\n",
    "\n",
    "```bash\n",
    "conda create -n xcdat_scipy_2024 -c conda-forge xcdat=0.7.0 nco matplotlib ipython ipykernel cartopy nc-time-axis gsw-xarray jupyter jupyter_contrib_nbextensions rise wget\n",
    "\n",
    "conda activate xcdat_scipy_2024\n",
    "```\n",
    "\n",
    "Then run:\n",
    "\n",
    "```bash\n",
    "jupyter contrib nbextension install --user\n",
    "\n",
    "jupyter nbextension enable splitcell/splitcell\n",
    "```\n",
    "\n",
    "To open Jupyter Notebook GUI:\n",
    "\n",
    "```bash\n",
    "jupyter notebook\n",
    "```\n",
    "\n",
    "To print notebook as PDF:\n",
    "\n",
    "```bash\n",
    "jupyter nbconvert —-to html <PATH-TO-NOTEBOOK>\n",
    "# Then \"Print HTML to PDF\" in your browser\n",
    "```\n"
   ]
  },
  {
   "cell_type": "markdown",
   "metadata": {
    "slideshow": {
     "slide_type": "slide"
    },
    "vscode": {
     "languageId": "plaintext"
    }
   },
   "source": [
    "## An Overview of this Talk\n",
    "\n",
    "1. The Driving Force Behind xCDAT\n",
    "2. Basic Intro to Xarray\n",
    "3. Brief history, scope, and mission of xCDAT\n",
    "4. Design philosophy and key features\n",
    "5. Technical demo: end-to-end analysis workflow\n",
    "6. High-level parallelization with Dask\n",
    "7. xCDAT’s community and how to get involved\n"
   ]
  },
  {
   "cell_type": "markdown",
   "metadata": {
    "slideshow": {
     "slide_type": "slide"
    }
   },
   "source": [
    "### The Driving Force Behind xCDAT\n",
    "\n",
    "- xCDAT's predecessor is the CDAT (Community Data Analysis Tools) library.\n",
    "- CDAT has provided open-source climate data analysis and visualization packages for over 20 years.\n",
    "\n",
    "- Since CDAT’s inception, the volume of climate data has grown substantially as a result of:\n",
    "\n",
    "  - Larger pool of data products\n",
    "  - Increasing spatiotemporal resolution of model and observational data.\n",
    "\n",
    "<div style=\"text-align: center; margin-top:10px\">\n",
    "<img src=\"../../_static/cdat-logo.png\" alt=\"CDAT logo\" align=\\\"center\\\" style=\"display: inline-block; width:300px;\">\n",
    "</div>\n"
   ]
  },
  {
   "cell_type": "markdown",
   "metadata": {},
   "source": [
    "#### CDAT has been end-of-life as of December 2023\n",
    "\n",
    "- This presents an issue for the many users and packages that depend on CDAT.\n",
    "- All of these factors sparked a driving need for new analysis software.\n"
   ]
  },
  {
   "cell_type": "markdown",
   "metadata": {
    "slideshow": {
     "slide_type": "slide"
    }
   },
   "source": [
    "### What should this new analysis software (aka xCDAT) offer?\n",
    "\n",
    "- Offer similar core capabilities as CDAT\n",
    "  - e.g., geospatial averaging, temporal averaging, regridding\n",
    "- Use modern technologies in the library’s stack\n",
    "  - Capable of handling large datasets (e.g., parallelism, lazy operations)\n",
    "- Be maintainable, extensible, and easy-to-use\n",
    "  - Python Enhancement Proposals (PEPs)\n",
    "- Automated DevOps processes (unit testing, code coverage)\n",
    "  - Actively maintained documentation\n",
    "- An open-source community that can sustain the project\n",
    "  - Encourage GitHub contributions\n",
    "  - Serve the needs of the climate community in the long-term\n",
    "  - Community engagement efforts (e.g., Pangeo, ESGF)\n"
   ]
  },
  {
   "cell_type": "markdown",
   "metadata": {
    "slideshow": {
     "slide_type": "subslide"
    }
   },
   "source": [
    "<div style=\"text-align: left; margin-top:10px\">\n",
    "<img src=\"../../_static/xarray-logo.png\" alt=\"Xarray logo\" align=\\\"center\\\" style=\"display: inline-block; width:300px;\">\n",
    "\n",
    "<h3>\"N-D labeled arrays and datasets in Python\"</h3>\n",
    "</div>\n",
    "\n",
    "- The core technology of xCDAT\n",
    "- An evolution of an internal tool developed at The Climate Corporation.\n",
    "- Released as open source in May 2014\n",
    "- NumFocus fiscally sponsored project since August 2018\n",
    "- Based on NumPy, heavily inspired by Pandas\n",
    "\n",
    "<div style=\"text-align: center;\">\n",
    "  <img src=\"../../_static/NumFocus-logo.png\" alt=\"NumFocus logo\" align=\\\"center\\\" style=\"display: inline-block; width:200px;\">\n",
    "  <img src=\"../../_static/numpy-logo.svg\" alt=\"NumPy logo\" align=\\\"center\\\" style=\"display: inline-block; width:200px;\">\n",
    "  <img src=\"../../_static/pandas-logo.svg\" alt=\"Pandas logo\" align=\\\"center\\\" style=\"display: inline-block; width:200px;\">\n",
    "</div>\n"
   ]
  },
  {
   "cell_type": "markdown",
   "metadata": {
    "slideshow": {
     "slide_type": "subslide"
    }
   },
   "source": [
    "**Why Xarray?**\n",
    "\n",
    "- Introduces labels in the form of dimensions, coordinates, and attributes on top of raw NumPy-like arrays\n",
    "- Intuitive, more concise, and less error-prone user experience\n",
    "\n",
    "**Key features include:**\n",
    "\n",
    "- File I/O, indexing and selecting, interpolating, grouping, aggregating, parallelism (Dask), plotting (matplotlib wrapper)\n",
    "  Supports various file formats netCDF, Iris, OPeNDAP, Zarr, and more\n",
    "- Interoperability with scientific Python ecosystem such as NumPy, Dask, Pandas, and Matplotlib\n",
    "\n",
    "<div style=\"text-align: center;\">\n",
    "  <img src=\"../../_static/dask-logo.svg\" alt=\"NumFocus logo\" align=\\\"center\\\" style=\"display: inline-block; width:200px;\">\n",
    "  <img src=\"../../_static/matplotlib-logo.svg\" alt=\"NumPy logo\" align=\\\"center\\\" style=\"display: inline-block; width:200px;\">\n",
    "</div>\n"
   ]
  },
  {
   "cell_type": "markdown",
   "metadata": {
    "slideshow": {
     "slide_type": "slide"
    }
   },
   "source": [
    "<div style=\"text-align: left; margin-top:10px\">\n",
    "<img src=\"../../_static/xcdat-logo.png\" alt=\"xCDAT logo\" align=\\\"center\\\" style=\"display: inline-block; width:300px;\">\n",
    "<h4>Xarray Climate Data Analysis Tools for Structured Grid Analysis</h4>\n",
    "</div>\n",
    "\n",
    "- Collaboration between:\n",
    "\n",
    "<div style=\"text-align: center; margin-top:10px\">\n",
    "    <img src=\"../../_static/e3sm-logo.jpg\" alt=\"E3SM logo\" align=\\\"center\\\" style=\"display: inline-block;     margin-right:50px; width:200px;\">\n",
    "    <img src=\"../../_static/pcmdi-logo.png\" alt=\"PCMDI logo\" style=\"display: inline-block; margin-right:50px; width:200px;\">\n",
    "    <img src=\"../../_static/seats-logo.png\" alt=\"SEATS logo\" style=\"display: inline-block; width:200px\">\n",
    "</div>\n",
    "\n",
    "- xCDAT is an extension of Xarray for climate data analysis on structured grids, a modern successor to the Community Data Analysis Tools (CDAT) library\n",
    "- Scope is focused on routine climate research analysis operations such as loading, wrangling, averaging, and regridding data\n",
    "- Aims to provide features and utilities for simple and robust analysis of climate data\n"
   ]
  },
  {
   "cell_type": "markdown",
   "metadata": {
    "slideshow": {
     "slide_type": "subslide"
    }
   },
   "source": [
    "<div style=\"text-align: left; margin-top:10px\">\n",
    "    <h3>xCDAT features and utilities for simple, robust, and less error-prone analysis code</h3>\n",
    "</div>\n",
    "\n",
    "- Extension of `xr.open_dataset()` and `xr.open_mfdataset()` with post-processing options\n",
    "- Generate missing bounds, center time coords, convert lon axis orientation\n",
    "- Geospatial weighted averaging\n",
    "- Temporal averaging, climatologies, departures\n",
    "- Horizontal structured regridding (extension of xESMF and Python port of regrid2)\n",
    "- Vertical structured regridding (extension of xGCM)\n",
    "\n",
    "<div style=\"text-align: center; margin-top:10px\">\n",
    "    <img src=\"../../_static/xarray-logo.png\" alt=\"Xarray logo\" style=\"display: inline-block; width:300px; margin-right:50px\">\n",
    "    <img src=\"../../_static/esmf-logo.png\" alt=\"ESMF logo\" style=\"display: inline-block; margin-right:50px; width:300px;\">\n",
    "    <img src=\"../../_static/xgcm-logo.png\" alt=\"xGCM logo\" align=\\\"center\\\" style=\"display: inline-block;     margin-right:50px; width:300px;\">\n",
    "</div>\n",
    "\n",
    "<div style=\"text-align: center;\">\n",
    "    <img src=\"../../_static/thumbnails/spatial-avg.png\" alt=\"Spatial average chart\" style=\"display: inline-block; width:250px; margin-right:50px\">\n",
    "    <img src=\"../../_static/thumbnails/temporal-average.png\" alt=\"Temporal average chart\" style=\"display: inline-block; margin-right:50px; width:250px;\">\n",
    "    <img src=\"../../_static/thumbnails/regridding-vertical.png\" alt=\"Vertical regridding chart\" style=\"display: inline-block; margin-right:50px; width:250px;\">\n",
    "</div>\n"
   ]
  },
  {
   "cell_type": "markdown",
   "metadata": {
    "slideshow": {
     "slide_type": "subslide"
    }
   },
   "source": [
    "<div style=\"text-align: left; margin-top:10px\">\n",
    "<h3>The Software Design Philosophy of xCDAT</h3>\n",
    "</div>\n",
    "\n",
    "- Intentionality designed to **encourage software sustainability** and **reproducible science**\n",
    "- **Well-documented and configurable features** allow scientists to rapidly develop robust, reusable, less-error prone, more maintainable code\n",
    "- xCDAT aims to contribute to **Pangeo's** effort to foster an ecosystem of mutually compatible geoscience Python packages\n",
    "\n",
    "<div style=\"text-align: center; margin-top:10px\">\n",
    "    <img src=\"../../_static/pangeo-logo.png\" alt=\"Pangeo logo\" align=\\\"center\\\" style=\"display: inline-block; width:300px; margin-right:50px\">\n",
    "    <img src=\"../../demos/1-25-23-cwss-seminar/images/rtd-logo.png\" alt=\"PCMDI logo\" style=\"display: inline-block; width:300px;\">\n",
    "</div>\n"
   ]
  },
  {
   "cell_type": "markdown",
   "metadata": {
    "slideshow": {
     "slide_type": "subslide"
    }
   },
   "source": [
    "### xCDAT simplifies Xarray code for specific analysis operations\n",
    "\n",
    "#### A comparison of code to calculate global-mean, monthly anomalies.\n",
    "\n",
    "- xCDAT (first code block) -> 17 lines, flexible (via API arguments), easy to read and write\n",
    "- Xarray (second code block) -> 31 lines, not flexible, hard to read and write\n"
   ]
  },
  {
   "cell_type": "code",
   "execution_count": 166,
   "metadata": {
    "cell_style": "split",
    "slideshow": {
     "slide_type": "fragment"
    }
   },
   "outputs": [
    {
     "name": "stderr",
     "output_type": "stream",
     "text": [
      "Note:Caching=1\n"
     ]
    }
   ],
   "source": [
    "import xcdat as xc\n",
    "\n",
    "# 1. Open the dataset.\n",
    "dpath = \"https://esgf-data1.llnl.gov/thredds/dodsC/css03_data/CMIP6/CMIP/CSIRO/ACCESS-ESM1-5/historical/r10i1p1f1/Amon/tas/gn/v20200605/tas_Amon_ACCESS-ESM1-5_historical_r10i1p1f1_gn_185001-201412.nc\"\n",
    "ds = xc.open_dataset(dpath)\n",
    "\n",
    "# 2. Calculate monthly departures.\n",
    "ds_anom = ds.temporal.departures(\"tas\", freq=\"month\")\n",
    "\n",
    "# 3. Compute global average.\n",
    "ds_anom_glb = ds_anom.spatial.average(\"tas\")\n",
    "\n",
    "# 4. Calculate annual averages\n",
    "ds_anom_glb_ann = ds_anom_glb.temporal.group_average(\"tas\", freq=\"year\")"
   ]
  },
  {
   "cell_type": "code",
   "execution_count": 1,
   "metadata": {
    "cell_style": "split",
    "slideshow": {
     "slide_type": "fragment"
    }
   },
   "outputs": [],
   "source": [
    "import numpy as np\n",
    "import xarray as xr\n",
    "\n",
    "# 1. Open the dataset.\n",
    "dpath = \"https://esgf-data1.llnl.gov/thredds/dodsC/css03_data/CMIP6/CMIP/CSIRO/ACCESS-ESM1-5/historical/r10i1p1f1/Amon/tas/gn/v20200605/tas_Amon_ACCESS-ESM1-5_historical_r10i1p1f1_gn_185001-201412.nc\"\n",
    "ds = xr.open_dataset(dpath)\n",
    "\n",
    "# 2. Calculate monthly departures.\n",
    "tas_mon = ds.tas.groupby(\"time.month\")\n",
    "tas_mon_clim = tas_mon.mean(dim=\"time\")\n",
    "tas_anom = tas_mon - tas_mon_clim\n",
    "\n",
    "# 3. Compute global average.\n",
    "coslat = np.cos(np.deg2rad(ds.lat))\n",
    "tas_anom_wgt = tas_anom.weighted(coslat)\n",
    "tas_anom_global = tas_anom_wgt.mean(dim=\"lat\").mean(dim=\"lon\")\n",
    "\n",
    "# 4. Calculate annual averages.\n",
    "# ncar.github.io/esds/posts/2021/yearly-averages-xarray/\n",
    "mon_len = tas_anom_global.time.dt.days_in_month\n",
    "mon_len_by_year = mon_len.groupby(\"time.year\")\n",
    "wgts = mon_len_by_year / mon_len_by_year.sum()\n",
    "\n",
    "temp_sum = tas_anom_global * wgts\n",
    "temp_sum = temp_sum.resample(time=\"YS\").sum(dim=\"time\")\n",
    "denom_sum = (wgts).resample(time=\"YS\").sum(dim=\"time\")\n",
    "\n",
    "tas_anom_global_ann = temp_sum / denom_sum"
   ]
  },
  {
   "cell_type": "markdown",
   "metadata": {
    "slideshow": {
     "slide_type": "subslide"
    }
   },
   "source": [
    "### Getting Started with xCDAT\n",
    "\n",
    "- xCDAT is available for installation through Anaconda on the `conda-forge` channel\n",
    "  - Install command: `conda install -c conda-forge xcdat`\n",
    "- Check out xCDAT’s Read the Docs, which we strive to keep up-to-date\n",
    "  - https://xcdat.readthedocs.io/en/stable/\n",
    "\n",
    "<div style=\"text-align: center;\">\n",
    "    <img src=\"../../demos/1-25-23-cwss-seminar/images/anaconda-logo.png\" alt=\"Anaconda logo\" align=\\\"center\\\" style=\"display: inline-block; margin-right:50px; width:300px;\">\n",
    "    <img src=\"../../demos/1-25-23-cwss-seminar/images/conda-forge-logo.png\" alt=\"Conda Forge logo\" style=\"display: inline-block; margin-right:50px; width:300px;\">\n",
    "</div>\n",
    "\n",
    "<div style=\"text-align: center; margin-top:10px\">\n",
    "  <img src=\"../../demos/1-25-23-cwss-seminar/images/rtd-logo.png\" alt=\"Read the docs logo\" style=\"display: inline-block; width:300px; margin-right:50px\">\n",
    "  <img src=\"../../demos/1-25-23-cwss-seminar/images/rtd-screenshot.png\" alt=\"xCDAT docs\" style=\"display: inline-block; width:300px\">\n",
    "</div>\n"
   ]
  },
  {
   "cell_type": "markdown",
   "metadata": {
    "cell_style": "center",
    "slideshow": {
     "slide_type": "slide"
    }
   },
   "source": [
    "### How to use xCDAT\n",
    "\n",
    "- xCDAT extends Xarray Dataset objects via \"accessor\" classes.\n",
    "\n",
    "<div style=\"text-align: center;\">\n",
    "    <img src=\"../../_static/accessor_api.svg\n",
    "\" alt=\"Anaconda logo\" align=\\\"center\\\" style=\"display: inline-block; margin-right:50px; width:900px;\">\n",
    "      <figcaption style=\"text_align:center; font-style: italic; font-size: 14px;\">In the example above, custom spatial functionality is exposed by chaining the `spatial` accessor attribute to the Dataset object. This chaining enables access to the underlying `spatial.average()` method.</figcaption>\n",
    "</div>\n",
    "\n",
    "#### Accessors classes include:\n",
    "\n",
    "- `spatial`\n",
    "  - `.average()`, `.get_weights()`\n",
    "- `temporal`\n",
    "  - `.average()`, `.group_average()`, `.climatology()`, `.depatures()`\n",
    "- `bounds`\n",
    "  - `.get_bounds()`, `.add_bounds()`, `.add_missing_bounds()`\n"
   ]
  },
  {
   "cell_type": "markdown",
   "metadata": {
    "slideshow": {
     "slide_type": "subslide"
    }
   },
   "source": [
    "#### xCDAT also provides general utilities as Python functions\n",
    "\n",
    "- `open_dataset()`, `open_mfdataset()`\n",
    "- `center_times()`, `decode_time()`\n",
    "- `swap_lon_axis()`\n",
    "- `create_axis()`\n",
    "- `create_grid()`\n",
    "- `get_dim_coords()`\n",
    "- `get_dim_keys()`\n",
    "\n",
    "Visit the API Reference page for a complete list: https://xcdat.readthedocs.io/en/latest/api.html\n"
   ]
  },
  {
   "cell_type": "markdown",
   "metadata": {
    "slideshow": {
     "slide_type": "slide"
    }
   },
   "source": [
    "## End-to-End Analysis and Visualization of CMIP Data using xCDAT\n",
    "\n",
    "### Overview\n",
    "\n",
    "This exercise will walkthrough using regridding E3SM data to a\n",
    "rectilinear grid `xcdat`.\n",
    "\n",
    "### Sections\n",
    "\n",
    "1. Setup Code\n",
    "2. I/O\n",
    "3. Horizontal Regridding\n",
    "4. Vertical Regridding\n",
    "5. Spatial Averaging\n",
    "6. Temporal Computations\n",
    "7. General Dataset Utilities\n"
   ]
  },
  {
   "cell_type": "markdown",
   "metadata": {},
   "source": [
    "#### (1) Working with local files downloaded from ESGF\n",
    "\n",
    "Note, wget bash scripts are provided for you to download the datasets locally. Run them with the commands below . `-s` flag is required to bypass ESG credential check.\n",
    "\n",
    "- `cl` (~17 GB): `bash docs/demos/24-07-11-scipy-2024/cl_Amon_E3SM-2-0_historical_r1i1p1f1_gr/cl_Amon_wget_script_2024-6-25_14-39-4.sh -s`\n",
    "- `tas` (~11 GB): `bash docs/demos/24-07-11-scipy-2024/tas_day_E3SM-2-0_historical_r1i1p1f1_gr/tas_day_wget_script_2024-6-25_11-31-0.sh -s`\n",
    "\n",
    "#### (2) Working with remote files on ESGF via OPeNDAP\n",
    "\n",
    "If the datasets are not downloaded locally, the notebook will automatically open the datasets (lazily) from ESGF using Xarray + OPeNDAP.\n",
    "\n",
    "**The datasets will be downloaded into memory once computations are performd.**\n"
   ]
  },
  {
   "cell_type": "markdown",
   "metadata": {
    "slideshow": {
     "slide_type": "subslide"
    }
   },
   "source": [
    "### 1. Setup Code\n"
   ]
  },
  {
   "cell_type": "code",
   "execution_count": 2,
   "metadata": {
    "slideshow": {
     "slide_type": "notes"
    }
   },
   "outputs": [
    {
     "data": {
      "text/html": [
       "\n",
       "<style>\n",
       ".reveal pre.xr-text-repr-fallback {\n",
       "    display: none;\n",
       "}\n",
       ".reveal ul.xr-sections {\n",
       "    display: grid\n",
       "}\n",
       "\n",
       ".reveal ul ul.xr-var-list {\n",
       "    display: contents\n",
       "}\n",
       "</style>\n"
      ],
      "text/plain": [
       "<IPython.core.display.HTML object>"
      ]
     },
     "execution_count": 2,
     "metadata": {},
     "output_type": "execute_result"
    }
   ],
   "source": [
    "# This style import is necessary to properly render Xarray's HTML output with\n",
    "# the Jupyer RISE extension.\n",
    "# GitHub Issue: https://github.com/damianavila/RISE/issues/594\n",
    "# Source: https://github.com/smartass101/xarray-pydata-prague-2020/blob/main/rise.css\n",
    "\n",
    "from IPython.core.display import HTML\n",
    "\n",
    "style = \"\"\"\n",
    "<style>\n",
    ".reveal pre.xr-text-repr-fallback {\n",
    "    display: none;\n",
    "}\n",
    ".reveal ul.xr-sections {\n",
    "    display: grid\n",
    "}\n",
    "\n",
    ".reveal ul ul.xr-var-list {\n",
    "    display: contents\n",
    "}\n",
    "</style>\n",
    "\"\"\"\n",
    "\n",
    "\n",
    "HTML(style)"
   ]
  },
  {
   "cell_type": "code",
   "execution_count": 3,
   "metadata": {
    "slideshow": {
     "slide_type": "fragment"
    }
   },
   "outputs": [],
   "source": [
    "import os\n",
    "\n",
    "import numpy as np\n",
    "from xarray.coding.calendar_ops import _datetime_to_decimal_year as dt2decimal\n",
    "import xcdat as xc\n",
    "import cartopy.crs as ccrs\n",
    "import matplotlib.pyplot as plt\n",
    "\n",
    "FILENAMES = [\n",
    "    \"tas_day_E3SM-2-0_historical_r1i1p1f1_gr_18500101-18591231.nc\",\n",
    "    \"tas_day_E3SM-2-0_historical_r1i1p1f1_gr_18600101-18691231.nc\",\n",
    "    \"tas_day_E3SM-2-0_historical_r1i1p1f1_gr_18700101-18791231.nc\",\n",
    "    \"tas_day_E3SM-2-0_historical_r1i1p1f1_gr_18800101-18891231.nc\",\n",
    "    \"tas_day_E3SM-2-0_historical_r1i1p1f1_gr_19000101-19091231.nc\",\n",
    "    \"tas_day_E3SM-2-0_historical_r1i1p1f1_gr_19100101-19191231.nc\",\n",
    "    \"tas_day_E3SM-2-0_historical_r1i1p1f1_gr_19300101-19391231.nc\",\n",
    "    \"tas_day_E3SM-2-0_historical_r1i1p1f1_gr_19400101-19491231.nc\",\n",
    "    \"tas_day_E3SM-2-0_historical_r1i1p1f1_gr_19600101-19691231.nc\",\n",
    "    \"tas_day_E3SM-2-0_historical_r1i1p1f1_gr_19700101-19791231.nc\",\n",
    "    \"tas_day_E3SM-2-0_historical_r1i1p1f1_gr_19800101-19891231.nc\",\n",
    "    \"tas_day_E3SM-2-0_historical_r1i1p1f1_gr_19900101-19991231.nc\",\n",
    "    \"tas_day_E3SM-2-0_historical_r1i1p1f1_gr_20000101-20091231.nc\",\n",
    "    \"tas_day_E3SM-2-0_historical_r1i1p1f1_gr_20100101-20141231.nc\",\n",
    "]\n",
    "\n",
    "LOCAL_DIR = \"docs/demos/24-07-11-scipy-2024/tas_day_E3SM-2-0_historical_r1i1p1f1_gr\"\n",
    "LOCAL_FILEPATHS = [os.path.join(LOCAL_DIR, file) for file in FILENAMES]\n",
    "\n",
    "# ESGF Search: https://aims2.llnl.gov/search?project=CMIP6&activeFacets=%7B%22activity_id%22%3A%22CMIP%22%2C%22source_id%22%3A%22E3SM-2-0%22%2C%22variable_id%22%3A%22tas%22%2C%22table_id%22%3A%22day%22%2C%22frequency%22%3A%22day%22%2C%22variant_label%22%3A%22r1i1p1f1%22%2C%22experiment_id%22%3A%22historical%22%7D\n",
    "REMOTE_URL = \"https://esgf-data2.llnl.gov/thredds/dodsC/user_pub_work/CMIP6/CMIP/E3SM-Project/E3SM-2-0/historical/r1i1p1f1/day/tas/gr/v20220923/\"\n",
    "REMOTE_FILEPATHS = [os.path.join(REMOTE_URL, file) for file in FILENAMES]"
   ]
  },
  {
   "cell_type": "markdown",
   "metadata": {
    "slideshow": {
     "slide_type": "subslide"
    }
   },
   "source": [
    "### 2. I/O\n"
   ]
  },
  {
   "cell_type": "markdown",
   "metadata": {
    "slideshow": {
     "slide_type": "fragment"
    }
   },
   "source": [
    "- We will be analyzing a few years of near sea surface air temperature (`tas`) data from E3SM v2 CMIP data.\n",
    "- Use `xc.open_mfdataset()` to open all the remapped netcdf files in a single `xr.Dataset` object.\n",
    "- `xcdat` will add missing bounds and handles some additional time axes.\n",
    "- API Documentation: https://xcdat.readthedocs.io/en/stable/generated/xcdat.open_mfdataset.html\n"
   ]
  },
  {
   "cell_type": "code",
   "execution_count": 44,
   "metadata": {
    "slideshow": {
     "slide_type": "fragment"
    }
   },
   "outputs": [
    {
     "name": "stdout",
     "output_type": "stream",
     "text": [
      "Opening datasets found locally in 'docs/demos/24-07-11-scipy-2024/tas_day_E3SM-2-0_historical_r1i1p1f1_gr'\n"
     ]
    }
   ],
   "source": [
    "try:\n",
    "    ds = xc.open_mfdataset(LOCAL_FILEPATHS, chunks={\"time\": \"auto\"})\n",
    "    print(f\"Opening datasets found locally in {LOCAL_DIR!r}\")\n",
    "except (OSError, FileNotFoundError) as e:\n",
    "    print(e)\n",
    "    print(\n",
    "        \"One or more datasets not found locally. Opening datasets from ESGF using OPeNDAP.\"\n",
    "    )\n",
    "    ds = xc.open_mfdataset(REMOTE_FILEPATHS, chunks={\"time\": \"auto\"})"
   ]
  },
  {
   "cell_type": "code",
   "execution_count": 45,
   "metadata": {},
   "outputs": [
    {
     "data": {
      "text/html": [
       "<div><svg style=\"position: absolute; width: 0; height: 0; overflow: hidden\">\n",
       "<defs>\n",
       "<symbol id=\"icon-database\" viewBox=\"0 0 32 32\">\n",
       "<path d=\"M16 0c-8.837 0-16 2.239-16 5v4c0 2.761 7.163 5 16 5s16-2.239 16-5v-4c0-2.761-7.163-5-16-5z\"></path>\n",
       "<path d=\"M16 17c-8.837 0-16-2.239-16-5v6c0 2.761 7.163 5 16 5s16-2.239 16-5v-6c0 2.761-7.163 5-16 5z\"></path>\n",
       "<path d=\"M16 26c-8.837 0-16-2.239-16-5v6c0 2.761 7.163 5 16 5s16-2.239 16-5v-6c0 2.761-7.163 5-16 5z\"></path>\n",
       "</symbol>\n",
       "<symbol id=\"icon-file-text2\" viewBox=\"0 0 32 32\">\n",
       "<path d=\"M28.681 7.159c-0.694-0.947-1.662-2.053-2.724-3.116s-2.169-2.030-3.116-2.724c-1.612-1.182-2.393-1.319-2.841-1.319h-15.5c-1.378 0-2.5 1.121-2.5 2.5v27c0 1.378 1.122 2.5 2.5 2.5h23c1.378 0 2.5-1.122 2.5-2.5v-19.5c0-0.448-0.137-1.23-1.319-2.841zM24.543 5.457c0.959 0.959 1.712 1.825 2.268 2.543h-4.811v-4.811c0.718 0.556 1.584 1.309 2.543 2.268zM28 29.5c0 0.271-0.229 0.5-0.5 0.5h-23c-0.271 0-0.5-0.229-0.5-0.5v-27c0-0.271 0.229-0.5 0.5-0.5 0 0 15.499-0 15.5 0v7c0 0.552 0.448 1 1 1h7v19.5z\"></path>\n",
       "<path d=\"M23 26h-14c-0.552 0-1-0.448-1-1s0.448-1 1-1h14c0.552 0 1 0.448 1 1s-0.448 1-1 1z\"></path>\n",
       "<path d=\"M23 22h-14c-0.552 0-1-0.448-1-1s0.448-1 1-1h14c0.552 0 1 0.448 1 1s-0.448 1-1 1z\"></path>\n",
       "<path d=\"M23 18h-14c-0.552 0-1-0.448-1-1s0.448-1 1-1h14c0.552 0 1 0.448 1 1s-0.448 1-1 1z\"></path>\n",
       "</symbol>\n",
       "</defs>\n",
       "</svg>\n",
       "<style>/* CSS stylesheet for displaying xarray objects in jupyterlab.\n",
       " *\n",
       " */\n",
       "\n",
       ":root {\n",
       "  --xr-font-color0: var(--jp-content-font-color0, rgba(0, 0, 0, 1));\n",
       "  --xr-font-color2: var(--jp-content-font-color2, rgba(0, 0, 0, 0.54));\n",
       "  --xr-font-color3: var(--jp-content-font-color3, rgba(0, 0, 0, 0.38));\n",
       "  --xr-border-color: var(--jp-border-color2, #e0e0e0);\n",
       "  --xr-disabled-color: var(--jp-layout-color3, #bdbdbd);\n",
       "  --xr-background-color: var(--jp-layout-color0, white);\n",
       "  --xr-background-color-row-even: var(--jp-layout-color1, white);\n",
       "  --xr-background-color-row-odd: var(--jp-layout-color2, #eeeeee);\n",
       "}\n",
       "\n",
       "html[theme=dark],\n",
       "body[data-theme=dark],\n",
       "body.vscode-dark {\n",
       "  --xr-font-color0: rgba(255, 255, 255, 1);\n",
       "  --xr-font-color2: rgba(255, 255, 255, 0.54);\n",
       "  --xr-font-color3: rgba(255, 255, 255, 0.38);\n",
       "  --xr-border-color: #1F1F1F;\n",
       "  --xr-disabled-color: #515151;\n",
       "  --xr-background-color: #111111;\n",
       "  --xr-background-color-row-even: #111111;\n",
       "  --xr-background-color-row-odd: #313131;\n",
       "}\n",
       "\n",
       ".xr-wrap {\n",
       "  display: block !important;\n",
       "  min-width: 300px;\n",
       "  max-width: 700px;\n",
       "}\n",
       "\n",
       ".xr-text-repr-fallback {\n",
       "  /* fallback to plain text repr when CSS is not injected (untrusted notebook) */\n",
       "  display: none;\n",
       "}\n",
       "\n",
       ".xr-header {\n",
       "  padding-top: 6px;\n",
       "  padding-bottom: 6px;\n",
       "  margin-bottom: 4px;\n",
       "  border-bottom: solid 1px var(--xr-border-color);\n",
       "}\n",
       "\n",
       ".xr-header > div,\n",
       ".xr-header > ul {\n",
       "  display: inline;\n",
       "  margin-top: 0;\n",
       "  margin-bottom: 0;\n",
       "}\n",
       "\n",
       ".xr-obj-type,\n",
       ".xr-array-name {\n",
       "  margin-left: 2px;\n",
       "  margin-right: 10px;\n",
       "}\n",
       "\n",
       ".xr-obj-type {\n",
       "  color: var(--xr-font-color2);\n",
       "}\n",
       "\n",
       ".xr-sections {\n",
       "  padding-left: 0 !important;\n",
       "  display: grid;\n",
       "  grid-template-columns: 150px auto auto 1fr 20px 20px;\n",
       "}\n",
       "\n",
       ".xr-section-item {\n",
       "  display: contents;\n",
       "}\n",
       "\n",
       ".xr-section-item input {\n",
       "  display: none;\n",
       "}\n",
       "\n",
       ".xr-section-item input + label {\n",
       "  color: var(--xr-disabled-color);\n",
       "}\n",
       "\n",
       ".xr-section-item input:enabled + label {\n",
       "  cursor: pointer;\n",
       "  color: var(--xr-font-color2);\n",
       "}\n",
       "\n",
       ".xr-section-item input:enabled + label:hover {\n",
       "  color: var(--xr-font-color0);\n",
       "}\n",
       "\n",
       ".xr-section-summary {\n",
       "  grid-column: 1;\n",
       "  color: var(--xr-font-color2);\n",
       "  font-weight: 500;\n",
       "}\n",
       "\n",
       ".xr-section-summary > span {\n",
       "  display: inline-block;\n",
       "  padding-left: 0.5em;\n",
       "}\n",
       "\n",
       ".xr-section-summary-in:disabled + label {\n",
       "  color: var(--xr-font-color2);\n",
       "}\n",
       "\n",
       ".xr-section-summary-in + label:before {\n",
       "  display: inline-block;\n",
       "  content: '►';\n",
       "  font-size: 11px;\n",
       "  width: 15px;\n",
       "  text-align: center;\n",
       "}\n",
       "\n",
       ".xr-section-summary-in:disabled + label:before {\n",
       "  color: var(--xr-disabled-color);\n",
       "}\n",
       "\n",
       ".xr-section-summary-in:checked + label:before {\n",
       "  content: '▼';\n",
       "}\n",
       "\n",
       ".xr-section-summary-in:checked + label > span {\n",
       "  display: none;\n",
       "}\n",
       "\n",
       ".xr-section-summary,\n",
       ".xr-section-inline-details {\n",
       "  padding-top: 4px;\n",
       "  padding-bottom: 4px;\n",
       "}\n",
       "\n",
       ".xr-section-inline-details {\n",
       "  grid-column: 2 / -1;\n",
       "}\n",
       "\n",
       ".xr-section-details {\n",
       "  display: none;\n",
       "  grid-column: 1 / -1;\n",
       "  margin-bottom: 5px;\n",
       "}\n",
       "\n",
       ".xr-section-summary-in:checked ~ .xr-section-details {\n",
       "  display: contents;\n",
       "}\n",
       "\n",
       ".xr-array-wrap {\n",
       "  grid-column: 1 / -1;\n",
       "  display: grid;\n",
       "  grid-template-columns: 20px auto;\n",
       "}\n",
       "\n",
       ".xr-array-wrap > label {\n",
       "  grid-column: 1;\n",
       "  vertical-align: top;\n",
       "}\n",
       "\n",
       ".xr-preview {\n",
       "  color: var(--xr-font-color3);\n",
       "}\n",
       "\n",
       ".xr-array-preview,\n",
       ".xr-array-data {\n",
       "  padding: 0 5px !important;\n",
       "  grid-column: 2;\n",
       "}\n",
       "\n",
       ".xr-array-data,\n",
       ".xr-array-in:checked ~ .xr-array-preview {\n",
       "  display: none;\n",
       "}\n",
       "\n",
       ".xr-array-in:checked ~ .xr-array-data,\n",
       ".xr-array-preview {\n",
       "  display: inline-block;\n",
       "}\n",
       "\n",
       ".xr-dim-list {\n",
       "  display: inline-block !important;\n",
       "  list-style: none;\n",
       "  padding: 0 !important;\n",
       "  margin: 0;\n",
       "}\n",
       "\n",
       ".xr-dim-list li {\n",
       "  display: inline-block;\n",
       "  padding: 0;\n",
       "  margin: 0;\n",
       "}\n",
       "\n",
       ".xr-dim-list:before {\n",
       "  content: '(';\n",
       "}\n",
       "\n",
       ".xr-dim-list:after {\n",
       "  content: ')';\n",
       "}\n",
       "\n",
       ".xr-dim-list li:not(:last-child):after {\n",
       "  content: ',';\n",
       "  padding-right: 5px;\n",
       "}\n",
       "\n",
       ".xr-has-index {\n",
       "  font-weight: bold;\n",
       "}\n",
       "\n",
       ".xr-var-list,\n",
       ".xr-var-item {\n",
       "  display: contents;\n",
       "}\n",
       "\n",
       ".xr-var-item > div,\n",
       ".xr-var-item label,\n",
       ".xr-var-item > .xr-var-name span {\n",
       "  background-color: var(--xr-background-color-row-even);\n",
       "  margin-bottom: 0;\n",
       "}\n",
       "\n",
       ".xr-var-item > .xr-var-name:hover span {\n",
       "  padding-right: 5px;\n",
       "}\n",
       "\n",
       ".xr-var-list > li:nth-child(odd) > div,\n",
       ".xr-var-list > li:nth-child(odd) > label,\n",
       ".xr-var-list > li:nth-child(odd) > .xr-var-name span {\n",
       "  background-color: var(--xr-background-color-row-odd);\n",
       "}\n",
       "\n",
       ".xr-var-name {\n",
       "  grid-column: 1;\n",
       "}\n",
       "\n",
       ".xr-var-dims {\n",
       "  grid-column: 2;\n",
       "}\n",
       "\n",
       ".xr-var-dtype {\n",
       "  grid-column: 3;\n",
       "  text-align: right;\n",
       "  color: var(--xr-font-color2);\n",
       "}\n",
       "\n",
       ".xr-var-preview {\n",
       "  grid-column: 4;\n",
       "}\n",
       "\n",
       ".xr-index-preview {\n",
       "  grid-column: 2 / 5;\n",
       "  color: var(--xr-font-color2);\n",
       "}\n",
       "\n",
       ".xr-var-name,\n",
       ".xr-var-dims,\n",
       ".xr-var-dtype,\n",
       ".xr-preview,\n",
       ".xr-attrs dt {\n",
       "  white-space: nowrap;\n",
       "  overflow: hidden;\n",
       "  text-overflow: ellipsis;\n",
       "  padding-right: 10px;\n",
       "}\n",
       "\n",
       ".xr-var-name:hover,\n",
       ".xr-var-dims:hover,\n",
       ".xr-var-dtype:hover,\n",
       ".xr-attrs dt:hover {\n",
       "  overflow: visible;\n",
       "  width: auto;\n",
       "  z-index: 1;\n",
       "}\n",
       "\n",
       ".xr-var-attrs,\n",
       ".xr-var-data,\n",
       ".xr-index-data {\n",
       "  display: none;\n",
       "  background-color: var(--xr-background-color) !important;\n",
       "  padding-bottom: 5px !important;\n",
       "}\n",
       "\n",
       ".xr-var-attrs-in:checked ~ .xr-var-attrs,\n",
       ".xr-var-data-in:checked ~ .xr-var-data,\n",
       ".xr-index-data-in:checked ~ .xr-index-data {\n",
       "  display: block;\n",
       "}\n",
       "\n",
       ".xr-var-data > table {\n",
       "  float: right;\n",
       "}\n",
       "\n",
       ".xr-var-name span,\n",
       ".xr-var-data,\n",
       ".xr-index-name div,\n",
       ".xr-index-data,\n",
       ".xr-attrs {\n",
       "  padding-left: 25px !important;\n",
       "}\n",
       "\n",
       ".xr-attrs,\n",
       ".xr-var-attrs,\n",
       ".xr-var-data,\n",
       ".xr-index-data {\n",
       "  grid-column: 1 / -1;\n",
       "}\n",
       "\n",
       "dl.xr-attrs {\n",
       "  padding: 0;\n",
       "  margin: 0;\n",
       "  display: grid;\n",
       "  grid-template-columns: 125px auto;\n",
       "}\n",
       "\n",
       ".xr-attrs dt,\n",
       ".xr-attrs dd {\n",
       "  padding: 0;\n",
       "  margin: 0;\n",
       "  float: left;\n",
       "  padding-right: 10px;\n",
       "  width: auto;\n",
       "}\n",
       "\n",
       ".xr-attrs dt {\n",
       "  font-weight: normal;\n",
       "  grid-column: 1;\n",
       "}\n",
       "\n",
       ".xr-attrs dt:hover span {\n",
       "  display: inline-block;\n",
       "  background: var(--xr-background-color);\n",
       "  padding-right: 10px;\n",
       "}\n",
       "\n",
       ".xr-attrs dd {\n",
       "  grid-column: 2;\n",
       "  white-space: pre-wrap;\n",
       "  word-break: break-all;\n",
       "}\n",
       "\n",
       ".xr-icon-database,\n",
       ".xr-icon-file-text2,\n",
       ".xr-no-icon {\n",
       "  display: inline-block;\n",
       "  vertical-align: middle;\n",
       "  width: 1em;\n",
       "  height: 1.5em !important;\n",
       "  stroke-width: 0;\n",
       "  stroke: currentColor;\n",
       "  fill: currentColor;\n",
       "}\n",
       "</style><pre class='xr-text-repr-fallback'>&lt;xarray.DataArray &#x27;tas&#x27; (time: 49275, lat: 180, lon: 360)&gt; Size: 13GB\n",
       "dask.array&lt;concatenate, shape=(49275, 180, 360), dtype=float32, chunksize=(517, 180, 360), chunktype=numpy.ndarray&gt;\n",
       "Coordinates:\n",
       "  * lat      (lat) float64 1kB -89.5 -88.5 -87.5 -86.5 ... 86.5 87.5 88.5 89.5\n",
       "  * lon      (lon) float64 3kB 0.5 1.5 2.5 3.5 4.5 ... 356.5 357.5 358.5 359.5\n",
       "    height   float64 8B 2.0\n",
       "  * time     (time) object 394kB 1850-01-01 12:00:00 ... 2014-12-31 12:00:00\n",
       "Attributes:\n",
       "    standard_name:  air_temperature\n",
       "    long_name:      Near-Surface Air Temperature\n",
       "    comment:        near-surface (usually, 2 meter) air temperature\n",
       "    units:          K\n",
       "    cell_methods:   area: time: mean\n",
       "    cell_measures:  area: areacella\n",
       "    history:        2022-09-23T17:17:36Z altered by CMOR: Treated scalar dime...</pre><div class='xr-wrap' style='display:none'><div class='xr-header'><div class='xr-obj-type'>xarray.DataArray</div><div class='xr-array-name'>'tas'</div><ul class='xr-dim-list'><li><span class='xr-has-index'>time</span>: 49275</li><li><span class='xr-has-index'>lat</span>: 180</li><li><span class='xr-has-index'>lon</span>: 360</li></ul></div><ul class='xr-sections'><li class='xr-section-item'><div class='xr-array-wrap'><input id='section-2ece57ba-1363-401a-aaec-dbd7ba1000e3' class='xr-array-in' type='checkbox' checked><label for='section-2ece57ba-1363-401a-aaec-dbd7ba1000e3' title='Show/hide data repr'><svg class='icon xr-icon-database'><use xlink:href='#icon-database'></use></svg></label><div class='xr-array-preview xr-preview'><span>dask.array&lt;chunksize=(517, 180, 360), meta=np.ndarray&gt;</span></div><div class='xr-array-data'><table>\n",
       "    <tr>\n",
       "        <td>\n",
       "            <table style=\"border-collapse: collapse;\">\n",
       "                <thead>\n",
       "                    <tr>\n",
       "                        <td> </td>\n",
       "                        <th> Array </th>\n",
       "                        <th> Chunk </th>\n",
       "                    </tr>\n",
       "                </thead>\n",
       "                <tbody>\n",
       "                    \n",
       "                    <tr>\n",
       "                        <th> Bytes </th>\n",
       "                        <td> 11.89 GiB </td>\n",
       "                        <td> 127.80 MiB </td>\n",
       "                    </tr>\n",
       "                    \n",
       "                    <tr>\n",
       "                        <th> Shape </th>\n",
       "                        <td> (49275, 180, 360) </td>\n",
       "                        <td> (517, 180, 360) </td>\n",
       "                    </tr>\n",
       "                    <tr>\n",
       "                        <th> Dask graph </th>\n",
       "                        <td colspan=\"2\"> 108 chunks in 29 graph layers </td>\n",
       "                    </tr>\n",
       "                    <tr>\n",
       "                        <th> Data type </th>\n",
       "                        <td colspan=\"2\"> float32 numpy.ndarray </td>\n",
       "                    </tr>\n",
       "                </tbody>\n",
       "            </table>\n",
       "        </td>\n",
       "        <td>\n",
       "        <svg width=\"156\" height=\"146\" style=\"stroke:rgb(0,0,0);stroke-width:1\" >\n",
       "\n",
       "  <!-- Horizontal lines -->\n",
       "  <line x1=\"10\" y1=\"0\" x2=\"80\" y2=\"70\" style=\"stroke-width:2\" />\n",
       "  <line x1=\"10\" y1=\"25\" x2=\"80\" y2=\"96\" style=\"stroke-width:2\" />\n",
       "\n",
       "  <!-- Vertical lines -->\n",
       "  <line x1=\"10\" y1=\"0\" x2=\"10\" y2=\"25\" style=\"stroke-width:2\" />\n",
       "  <line x1=\"13\" y1=\"3\" x2=\"13\" y2=\"29\" />\n",
       "  <line x1=\"17\" y1=\"7\" x2=\"17\" y2=\"32\" />\n",
       "  <line x1=\"21\" y1=\"11\" x2=\"21\" y2=\"36\" />\n",
       "  <line x1=\"24\" y1=\"14\" x2=\"24\" y2=\"40\" />\n",
       "  <line x1=\"28\" y1=\"18\" x2=\"28\" y2=\"44\" />\n",
       "  <line x1=\"32\" y1=\"22\" x2=\"32\" y2=\"47\" />\n",
       "  <line x1=\"36\" y1=\"26\" x2=\"36\" y2=\"51\" />\n",
       "  <line x1=\"39\" y1=\"29\" x2=\"39\" y2=\"55\" />\n",
       "  <line x1=\"43\" y1=\"33\" x2=\"43\" y2=\"59\" />\n",
       "  <line x1=\"46\" y1=\"36\" x2=\"46\" y2=\"62\" />\n",
       "  <line x1=\"51\" y1=\"41\" x2=\"51\" y2=\"66\" />\n",
       "  <line x1=\"54\" y1=\"44\" x2=\"54\" y2=\"70\" />\n",
       "  <line x1=\"57\" y1=\"47\" x2=\"57\" y2=\"73\" />\n",
       "  <line x1=\"62\" y1=\"52\" x2=\"62\" y2=\"77\" />\n",
       "  <line x1=\"65\" y1=\"55\" x2=\"65\" y2=\"81\" />\n",
       "  <line x1=\"68\" y1=\"58\" x2=\"68\" y2=\"84\" />\n",
       "  <line x1=\"72\" y1=\"62\" x2=\"72\" y2=\"88\" />\n",
       "  <line x1=\"77\" y1=\"67\" x2=\"77\" y2=\"92\" />\n",
       "  <line x1=\"80\" y1=\"70\" x2=\"80\" y2=\"96\" style=\"stroke-width:2\" />\n",
       "\n",
       "  <!-- Colored Rectangle -->\n",
       "  <polygon points=\"10.0,0.0 80.58823529411765,70.58823529411765 80.58823529411765,96.00085180870013 10.0,25.41261651458249\" style=\"fill:#8B4903A0;stroke-width:0\"/>\n",
       "\n",
       "  <!-- Horizontal lines -->\n",
       "  <line x1=\"10\" y1=\"0\" x2=\"35\" y2=\"0\" style=\"stroke-width:2\" />\n",
       "  <line x1=\"13\" y1=\"3\" x2=\"39\" y2=\"3\" />\n",
       "  <line x1=\"17\" y1=\"7\" x2=\"42\" y2=\"7\" />\n",
       "  <line x1=\"21\" y1=\"11\" x2=\"46\" y2=\"11\" />\n",
       "  <line x1=\"24\" y1=\"14\" x2=\"50\" y2=\"14\" />\n",
       "  <line x1=\"28\" y1=\"18\" x2=\"54\" y2=\"18\" />\n",
       "  <line x1=\"32\" y1=\"22\" x2=\"57\" y2=\"22\" />\n",
       "  <line x1=\"36\" y1=\"26\" x2=\"61\" y2=\"26\" />\n",
       "  <line x1=\"39\" y1=\"29\" x2=\"65\" y2=\"29\" />\n",
       "  <line x1=\"43\" y1=\"33\" x2=\"69\" y2=\"33\" />\n",
       "  <line x1=\"46\" y1=\"36\" x2=\"72\" y2=\"36\" />\n",
       "  <line x1=\"51\" y1=\"41\" x2=\"76\" y2=\"41\" />\n",
       "  <line x1=\"54\" y1=\"44\" x2=\"80\" y2=\"44\" />\n",
       "  <line x1=\"57\" y1=\"47\" x2=\"83\" y2=\"47\" />\n",
       "  <line x1=\"62\" y1=\"52\" x2=\"87\" y2=\"52\" />\n",
       "  <line x1=\"65\" y1=\"55\" x2=\"91\" y2=\"55\" />\n",
       "  <line x1=\"68\" y1=\"58\" x2=\"94\" y2=\"58\" />\n",
       "  <line x1=\"72\" y1=\"62\" x2=\"98\" y2=\"62\" />\n",
       "  <line x1=\"77\" y1=\"67\" x2=\"102\" y2=\"67\" />\n",
       "  <line x1=\"80\" y1=\"70\" x2=\"106\" y2=\"70\" style=\"stroke-width:2\" />\n",
       "\n",
       "  <!-- Vertical lines -->\n",
       "  <line x1=\"10\" y1=\"0\" x2=\"80\" y2=\"70\" style=\"stroke-width:2\" />\n",
       "  <line x1=\"35\" y1=\"0\" x2=\"106\" y2=\"70\" style=\"stroke-width:2\" />\n",
       "\n",
       "  <!-- Colored Rectangle -->\n",
       "  <polygon points=\"10.0,0.0 35.41261651458249,0.0 106.00085180870013,70.58823529411765 80.58823529411765,70.58823529411765\" style=\"fill:#8B4903A0;stroke-width:0\"/>\n",
       "\n",
       "  <!-- Horizontal lines -->\n",
       "  <line x1=\"80\" y1=\"70\" x2=\"106\" y2=\"70\" style=\"stroke-width:2\" />\n",
       "  <line x1=\"80\" y1=\"96\" x2=\"106\" y2=\"96\" style=\"stroke-width:2\" />\n",
       "\n",
       "  <!-- Vertical lines -->\n",
       "  <line x1=\"80\" y1=\"70\" x2=\"80\" y2=\"96\" style=\"stroke-width:2\" />\n",
       "  <line x1=\"106\" y1=\"70\" x2=\"106\" y2=\"96\" style=\"stroke-width:2\" />\n",
       "\n",
       "  <!-- Colored Rectangle -->\n",
       "  <polygon points=\"80.58823529411765,70.58823529411765 106.00085180870013,70.58823529411765 106.00085180870013,96.00085180870013 80.58823529411765,96.00085180870013\" style=\"fill:#ECB172A0;stroke-width:0\"/>\n",
       "\n",
       "  <!-- Text -->\n",
       "  <text x=\"93.294544\" y=\"116.000852\" font-size=\"1.0rem\" font-weight=\"100\" text-anchor=\"middle\" >360</text>\n",
       "  <text x=\"126.000852\" y=\"83.294544\" font-size=\"1.0rem\" font-weight=\"100\" text-anchor=\"middle\" transform=\"rotate(-90,126.000852,83.294544)\">180</text>\n",
       "  <text x=\"35.294118\" y=\"80.706734\" font-size=\"1.0rem\" font-weight=\"100\" text-anchor=\"middle\" transform=\"rotate(45,35.294118,80.706734)\">49275</text>\n",
       "</svg>\n",
       "        </td>\n",
       "    </tr>\n",
       "</table></div></div></li><li class='xr-section-item'><input id='section-e752df9e-7b8f-4f63-9b8e-fae62fa7d58f' class='xr-section-summary-in' type='checkbox'  checked><label for='section-e752df9e-7b8f-4f63-9b8e-fae62fa7d58f' class='xr-section-summary' >Coordinates: <span>(4)</span></label><div class='xr-section-inline-details'></div><div class='xr-section-details'><ul class='xr-var-list'><li class='xr-var-item'><div class='xr-var-name'><span class='xr-has-index'>lat</span></div><div class='xr-var-dims'>(lat)</div><div class='xr-var-dtype'>float64</div><div class='xr-var-preview xr-preview'>-89.5 -88.5 -87.5 ... 88.5 89.5</div><input id='attrs-e0a54031-f539-4ec1-b35e-3110e26e465f' class='xr-var-attrs-in' type='checkbox' ><label for='attrs-e0a54031-f539-4ec1-b35e-3110e26e465f' title='Show/Hide attributes'><svg class='icon xr-icon-file-text2'><use xlink:href='#icon-file-text2'></use></svg></label><input id='data-9c8b9d4c-0f57-40c2-9328-9188910b7feb' class='xr-var-data-in' type='checkbox'><label for='data-9c8b9d4c-0f57-40c2-9328-9188910b7feb' title='Show/Hide data repr'><svg class='icon xr-icon-database'><use xlink:href='#icon-database'></use></svg></label><div class='xr-var-attrs'><dl class='xr-attrs'><dt><span>bounds :</span></dt><dd>lat_bnds</dd><dt><span>units :</span></dt><dd>degrees_north</dd><dt><span>axis :</span></dt><dd>Y</dd><dt><span>long_name :</span></dt><dd>Latitude</dd><dt><span>standard_name :</span></dt><dd>latitude</dd></dl></div><div class='xr-var-data'><pre>array([-89.5, -88.5, -87.5, -86.5, -85.5, -84.5, -83.5, -82.5, -81.5, -80.5,\n",
       "       -79.5, -78.5, -77.5, -76.5, -75.5, -74.5, -73.5, -72.5, -71.5, -70.5,\n",
       "       -69.5, -68.5, -67.5, -66.5, -65.5, -64.5, -63.5, -62.5, -61.5, -60.5,\n",
       "       -59.5, -58.5, -57.5, -56.5, -55.5, -54.5, -53.5, -52.5, -51.5, -50.5,\n",
       "       -49.5, -48.5, -47.5, -46.5, -45.5, -44.5, -43.5, -42.5, -41.5, -40.5,\n",
       "       -39.5, -38.5, -37.5, -36.5, -35.5, -34.5, -33.5, -32.5, -31.5, -30.5,\n",
       "       -29.5, -28.5, -27.5, -26.5, -25.5, -24.5, -23.5, -22.5, -21.5, -20.5,\n",
       "       -19.5, -18.5, -17.5, -16.5, -15.5, -14.5, -13.5, -12.5, -11.5, -10.5,\n",
       "        -9.5,  -8.5,  -7.5,  -6.5,  -5.5,  -4.5,  -3.5,  -2.5,  -1.5,  -0.5,\n",
       "         0.5,   1.5,   2.5,   3.5,   4.5,   5.5,   6.5,   7.5,   8.5,   9.5,\n",
       "        10.5,  11.5,  12.5,  13.5,  14.5,  15.5,  16.5,  17.5,  18.5,  19.5,\n",
       "        20.5,  21.5,  22.5,  23.5,  24.5,  25.5,  26.5,  27.5,  28.5,  29.5,\n",
       "        30.5,  31.5,  32.5,  33.5,  34.5,  35.5,  36.5,  37.5,  38.5,  39.5,\n",
       "        40.5,  41.5,  42.5,  43.5,  44.5,  45.5,  46.5,  47.5,  48.5,  49.5,\n",
       "        50.5,  51.5,  52.5,  53.5,  54.5,  55.5,  56.5,  57.5,  58.5,  59.5,\n",
       "        60.5,  61.5,  62.5,  63.5,  64.5,  65.5,  66.5,  67.5,  68.5,  69.5,\n",
       "        70.5,  71.5,  72.5,  73.5,  74.5,  75.5,  76.5,  77.5,  78.5,  79.5,\n",
       "        80.5,  81.5,  82.5,  83.5,  84.5,  85.5,  86.5,  87.5,  88.5,  89.5])</pre></div></li><li class='xr-var-item'><div class='xr-var-name'><span class='xr-has-index'>lon</span></div><div class='xr-var-dims'>(lon)</div><div class='xr-var-dtype'>float64</div><div class='xr-var-preview xr-preview'>0.5 1.5 2.5 ... 357.5 358.5 359.5</div><input id='attrs-c317060a-5a79-4c7a-a652-46bbb59058e5' class='xr-var-attrs-in' type='checkbox' ><label for='attrs-c317060a-5a79-4c7a-a652-46bbb59058e5' title='Show/Hide attributes'><svg class='icon xr-icon-file-text2'><use xlink:href='#icon-file-text2'></use></svg></label><input id='data-372a88c8-820d-4a70-b42d-ff41a60a6a82' class='xr-var-data-in' type='checkbox'><label for='data-372a88c8-820d-4a70-b42d-ff41a60a6a82' title='Show/Hide data repr'><svg class='icon xr-icon-database'><use xlink:href='#icon-database'></use></svg></label><div class='xr-var-attrs'><dl class='xr-attrs'><dt><span>bounds :</span></dt><dd>lon_bnds</dd><dt><span>units :</span></dt><dd>degrees_east</dd><dt><span>axis :</span></dt><dd>X</dd><dt><span>long_name :</span></dt><dd>Longitude</dd><dt><span>standard_name :</span></dt><dd>longitude</dd></dl></div><div class='xr-var-data'><pre>array([  0.5,   1.5,   2.5, ..., 357.5, 358.5, 359.5])</pre></div></li><li class='xr-var-item'><div class='xr-var-name'><span>height</span></div><div class='xr-var-dims'>()</div><div class='xr-var-dtype'>float64</div><div class='xr-var-preview xr-preview'>2.0</div><input id='attrs-df53af5d-5246-443c-b3b1-d5343041d6f9' class='xr-var-attrs-in' type='checkbox' ><label for='attrs-df53af5d-5246-443c-b3b1-d5343041d6f9' title='Show/Hide attributes'><svg class='icon xr-icon-file-text2'><use xlink:href='#icon-file-text2'></use></svg></label><input id='data-1704a642-7e5c-457b-9bcb-527f9d6925af' class='xr-var-data-in' type='checkbox'><label for='data-1704a642-7e5c-457b-9bcb-527f9d6925af' title='Show/Hide data repr'><svg class='icon xr-icon-database'><use xlink:href='#icon-database'></use></svg></label><div class='xr-var-attrs'><dl class='xr-attrs'><dt><span>units :</span></dt><dd>m</dd><dt><span>axis :</span></dt><dd>Z</dd><dt><span>positive :</span></dt><dd>up</dd><dt><span>long_name :</span></dt><dd>height</dd><dt><span>standard_name :</span></dt><dd>height</dd></dl></div><div class='xr-var-data'><pre>array(2.)</pre></div></li><li class='xr-var-item'><div class='xr-var-name'><span class='xr-has-index'>time</span></div><div class='xr-var-dims'>(time)</div><div class='xr-var-dtype'>object</div><div class='xr-var-preview xr-preview'>1850-01-01 12:00:00 ... 2014-12-...</div><input id='attrs-43f46a76-f1ca-40c1-85b2-75f3c95d0517' class='xr-var-attrs-in' type='checkbox' ><label for='attrs-43f46a76-f1ca-40c1-85b2-75f3c95d0517' title='Show/Hide attributes'><svg class='icon xr-icon-file-text2'><use xlink:href='#icon-file-text2'></use></svg></label><input id='data-dc8b4b43-3305-4d7a-91e8-d64e96e8b97c' class='xr-var-data-in' type='checkbox'><label for='data-dc8b4b43-3305-4d7a-91e8-d64e96e8b97c' title='Show/Hide data repr'><svg class='icon xr-icon-database'><use xlink:href='#icon-database'></use></svg></label><div class='xr-var-attrs'><dl class='xr-attrs'><dt><span>bounds :</span></dt><dd>time_bnds</dd><dt><span>axis :</span></dt><dd>T</dd><dt><span>long_name :</span></dt><dd>time</dd><dt><span>standard_name :</span></dt><dd>time</dd></dl></div><div class='xr-var-data'><pre>array([cftime.DatetimeNoLeap(1850, 1, 1, 12, 0, 0, 0, has_year_zero=True),\n",
       "       cftime.DatetimeNoLeap(1850, 1, 2, 12, 0, 0, 0, has_year_zero=True),\n",
       "       cftime.DatetimeNoLeap(1850, 1, 3, 12, 0, 0, 0, has_year_zero=True), ...,\n",
       "       cftime.DatetimeNoLeap(2014, 12, 29, 12, 0, 0, 0, has_year_zero=True),\n",
       "       cftime.DatetimeNoLeap(2014, 12, 30, 12, 0, 0, 0, has_year_zero=True),\n",
       "       cftime.DatetimeNoLeap(2014, 12, 31, 12, 0, 0, 0, has_year_zero=True)],\n",
       "      dtype=object)</pre></div></li></ul></div></li><li class='xr-section-item'><input id='section-0b77d09e-23c2-4646-84d5-19856714ad87' class='xr-section-summary-in' type='checkbox'  ><label for='section-0b77d09e-23c2-4646-84d5-19856714ad87' class='xr-section-summary' >Indexes: <span>(3)</span></label><div class='xr-section-inline-details'></div><div class='xr-section-details'><ul class='xr-var-list'><li class='xr-var-item'><div class='xr-index-name'><div>lat</div></div><div class='xr-index-preview'>PandasIndex</div><div></div><input id='index-b0774c86-17cb-424d-aa88-161e892be089' class='xr-index-data-in' type='checkbox'/><label for='index-b0774c86-17cb-424d-aa88-161e892be089' title='Show/Hide index repr'><svg class='icon xr-icon-database'><use xlink:href='#icon-database'></use></svg></label><div class='xr-index-data'><pre>PandasIndex(Index([-89.5, -88.5, -87.5, -86.5, -85.5, -84.5, -83.5, -82.5, -81.5, -80.5,\n",
       "       ...\n",
       "        80.5,  81.5,  82.5,  83.5,  84.5,  85.5,  86.5,  87.5,  88.5,  89.5],\n",
       "      dtype=&#x27;float64&#x27;, name=&#x27;lat&#x27;, length=180))</pre></div></li><li class='xr-var-item'><div class='xr-index-name'><div>lon</div></div><div class='xr-index-preview'>PandasIndex</div><div></div><input id='index-0bbb6023-106f-49cf-a150-595b215bcd8c' class='xr-index-data-in' type='checkbox'/><label for='index-0bbb6023-106f-49cf-a150-595b215bcd8c' title='Show/Hide index repr'><svg class='icon xr-icon-database'><use xlink:href='#icon-database'></use></svg></label><div class='xr-index-data'><pre>PandasIndex(Index([  0.5,   1.5,   2.5,   3.5,   4.5,   5.5,   6.5,   7.5,   8.5,   9.5,\n",
       "       ...\n",
       "       350.5, 351.5, 352.5, 353.5, 354.5, 355.5, 356.5, 357.5, 358.5, 359.5],\n",
       "      dtype=&#x27;float64&#x27;, name=&#x27;lon&#x27;, length=360))</pre></div></li><li class='xr-var-item'><div class='xr-index-name'><div>time</div></div><div class='xr-index-preview'>PandasIndex</div><div></div><input id='index-5d3272d5-14d4-450e-88a1-fecb46baaf67' class='xr-index-data-in' type='checkbox'/><label for='index-5d3272d5-14d4-450e-88a1-fecb46baaf67' title='Show/Hide index repr'><svg class='icon xr-icon-database'><use xlink:href='#icon-database'></use></svg></label><div class='xr-index-data'><pre>PandasIndex(CFTimeIndex([1850-01-01 12:00:00, 1850-01-02 12:00:00, 1850-01-03 12:00:00,\n",
       "             1850-01-04 12:00:00, 1850-01-05 12:00:00, 1850-01-06 12:00:00,\n",
       "             1850-01-07 12:00:00, 1850-01-08 12:00:00, 1850-01-09 12:00:00,\n",
       "             1850-01-10 12:00:00,\n",
       "             ...\n",
       "             2014-12-22 12:00:00, 2014-12-23 12:00:00, 2014-12-24 12:00:00,\n",
       "             2014-12-25 12:00:00, 2014-12-26 12:00:00, 2014-12-27 12:00:00,\n",
       "             2014-12-28 12:00:00, 2014-12-29 12:00:00, 2014-12-30 12:00:00,\n",
       "             2014-12-31 12:00:00],\n",
       "            dtype=&#x27;object&#x27;, length=49275, calendar=&#x27;noleap&#x27;, freq=None))</pre></div></li></ul></div></li><li class='xr-section-item'><input id='section-6383895c-6c90-4c19-8401-8c053636ac85' class='xr-section-summary-in' type='checkbox'  checked><label for='section-6383895c-6c90-4c19-8401-8c053636ac85' class='xr-section-summary' >Attributes: <span>(7)</span></label><div class='xr-section-inline-details'></div><div class='xr-section-details'><dl class='xr-attrs'><dt><span>standard_name :</span></dt><dd>air_temperature</dd><dt><span>long_name :</span></dt><dd>Near-Surface Air Temperature</dd><dt><span>comment :</span></dt><dd>near-surface (usually, 2 meter) air temperature</dd><dt><span>units :</span></dt><dd>K</dd><dt><span>cell_methods :</span></dt><dd>area: time: mean</dd><dt><span>cell_measures :</span></dt><dd>area: areacella</dd><dt><span>history :</span></dt><dd>2022-09-23T17:17:36Z altered by CMOR: Treated scalar dimension: &#x27;height&#x27;.</dd></dl></div></li></ul></div></div>"
      ],
      "text/plain": [
       "<xarray.DataArray 'tas' (time: 49275, lat: 180, lon: 360)> Size: 13GB\n",
       "dask.array<concatenate, shape=(49275, 180, 360), dtype=float32, chunksize=(517, 180, 360), chunktype=numpy.ndarray>\n",
       "Coordinates:\n",
       "  * lat      (lat) float64 1kB -89.5 -88.5 -87.5 -86.5 ... 86.5 87.5 88.5 89.5\n",
       "  * lon      (lon) float64 3kB 0.5 1.5 2.5 3.5 4.5 ... 356.5 357.5 358.5 359.5\n",
       "    height   float64 8B 2.0\n",
       "  * time     (time) object 394kB 1850-01-01 12:00:00 ... 2014-12-31 12:00:00\n",
       "Attributes:\n",
       "    standard_name:  air_temperature\n",
       "    long_name:      Near-Surface Air Temperature\n",
       "    comment:        near-surface (usually, 2 meter) air temperature\n",
       "    units:          K\n",
       "    cell_methods:   area: time: mean\n",
       "    cell_measures:  area: areacella\n",
       "    history:        2022-09-23T17:17:36Z altered by CMOR: Treated scalar dime..."
      ]
     },
     "execution_count": 45,
     "metadata": {},
     "output_type": "execute_result"
    }
   ],
   "source": [
    "ds.tas"
   ]
  },
  {
   "cell_type": "markdown",
   "metadata": {
    "slideshow": {
     "slide_type": "subslide"
    }
   },
   "source": [
    "### 3. Horizonal Regridding\n",
    "\n",
    "We often want to regrid a dataset to a new grid to facilitate data analysis or comparisons with other datasets. The current dataset is at a standard 1.0 x 1.0<sup>o</sup> resolution, so we'll start be remapping it to a 4 x 4<sup>o</sup> grid.\n"
   ]
  },
  {
   "cell_type": "markdown",
   "metadata": {
    "slideshow": {
     "slide_type": "fragment"
    }
   },
   "source": [
    "#### First, we specify the target grid\n"
   ]
  },
  {
   "cell_type": "code",
   "execution_count": 46,
   "metadata": {
    "slideshow": {
     "slide_type": "fragment"
    }
   },
   "outputs": [],
   "source": [
    "# create target axes\n",
    "nlat = xc.create_axis(\n",
    "    \"lat\", np.arange(-88, 90, 4), attrs={\"units\": \"degrees_north\", \"axis\": \"Y\"}\n",
    ")\n",
    "nlon = xc.create_axis(\n",
    "    \"lon\", np.arange(2, 360, 4), attrs={\"units\": \"degrees_east\", \"axis\": \"X\"}\n",
    ")"
   ]
  },
  {
   "cell_type": "markdown",
   "metadata": {
    "slideshow": {
     "slide_type": "subslide"
    }
   },
   "source": [
    "#### Create the target grid using the target axes and bounds.\n",
    "\n",
    "- API Documentation: https://xcdat.readthedocs.io/en/latest/generated/xcdat.create_grid.html#xcdat.create_grid\n"
   ]
  },
  {
   "cell_type": "code",
   "execution_count": 7,
   "metadata": {
    "slideshow": {
     "slide_type": "fragment"
    }
   },
   "outputs": [],
   "source": [
    "ngrid = xc.create_grid(x=nlon, y=nlat)"
   ]
  },
  {
   "cell_type": "code",
   "execution_count": 8,
   "metadata": {},
   "outputs": [
    {
     "data": {
      "text/html": [
       "<div><svg style=\"position: absolute; width: 0; height: 0; overflow: hidden\">\n",
       "<defs>\n",
       "<symbol id=\"icon-database\" viewBox=\"0 0 32 32\">\n",
       "<path d=\"M16 0c-8.837 0-16 2.239-16 5v4c0 2.761 7.163 5 16 5s16-2.239 16-5v-4c0-2.761-7.163-5-16-5z\"></path>\n",
       "<path d=\"M16 17c-8.837 0-16-2.239-16-5v6c0 2.761 7.163 5 16 5s16-2.239 16-5v-6c0 2.761-7.163 5-16 5z\"></path>\n",
       "<path d=\"M16 26c-8.837 0-16-2.239-16-5v6c0 2.761 7.163 5 16 5s16-2.239 16-5v-6c0 2.761-7.163 5-16 5z\"></path>\n",
       "</symbol>\n",
       "<symbol id=\"icon-file-text2\" viewBox=\"0 0 32 32\">\n",
       "<path d=\"M28.681 7.159c-0.694-0.947-1.662-2.053-2.724-3.116s-2.169-2.030-3.116-2.724c-1.612-1.182-2.393-1.319-2.841-1.319h-15.5c-1.378 0-2.5 1.121-2.5 2.5v27c0 1.378 1.122 2.5 2.5 2.5h23c1.378 0 2.5-1.122 2.5-2.5v-19.5c0-0.448-0.137-1.23-1.319-2.841zM24.543 5.457c0.959 0.959 1.712 1.825 2.268 2.543h-4.811v-4.811c0.718 0.556 1.584 1.309 2.543 2.268zM28 29.5c0 0.271-0.229 0.5-0.5 0.5h-23c-0.271 0-0.5-0.229-0.5-0.5v-27c0-0.271 0.229-0.5 0.5-0.5 0 0 15.499-0 15.5 0v7c0 0.552 0.448 1 1 1h7v19.5z\"></path>\n",
       "<path d=\"M23 26h-14c-0.552 0-1-0.448-1-1s0.448-1 1-1h14c0.552 0 1 0.448 1 1s-0.448 1-1 1z\"></path>\n",
       "<path d=\"M23 22h-14c-0.552 0-1-0.448-1-1s0.448-1 1-1h14c0.552 0 1 0.448 1 1s-0.448 1-1 1z\"></path>\n",
       "<path d=\"M23 18h-14c-0.552 0-1-0.448-1-1s0.448-1 1-1h14c0.552 0 1 0.448 1 1s-0.448 1-1 1z\"></path>\n",
       "</symbol>\n",
       "</defs>\n",
       "</svg>\n",
       "<style>/* CSS stylesheet for displaying xarray objects in jupyterlab.\n",
       " *\n",
       " */\n",
       "\n",
       ":root {\n",
       "  --xr-font-color0: var(--jp-content-font-color0, rgba(0, 0, 0, 1));\n",
       "  --xr-font-color2: var(--jp-content-font-color2, rgba(0, 0, 0, 0.54));\n",
       "  --xr-font-color3: var(--jp-content-font-color3, rgba(0, 0, 0, 0.38));\n",
       "  --xr-border-color: var(--jp-border-color2, #e0e0e0);\n",
       "  --xr-disabled-color: var(--jp-layout-color3, #bdbdbd);\n",
       "  --xr-background-color: var(--jp-layout-color0, white);\n",
       "  --xr-background-color-row-even: var(--jp-layout-color1, white);\n",
       "  --xr-background-color-row-odd: var(--jp-layout-color2, #eeeeee);\n",
       "}\n",
       "\n",
       "html[theme=dark],\n",
       "body[data-theme=dark],\n",
       "body.vscode-dark {\n",
       "  --xr-font-color0: rgba(255, 255, 255, 1);\n",
       "  --xr-font-color2: rgba(255, 255, 255, 0.54);\n",
       "  --xr-font-color3: rgba(255, 255, 255, 0.38);\n",
       "  --xr-border-color: #1F1F1F;\n",
       "  --xr-disabled-color: #515151;\n",
       "  --xr-background-color: #111111;\n",
       "  --xr-background-color-row-even: #111111;\n",
       "  --xr-background-color-row-odd: #313131;\n",
       "}\n",
       "\n",
       ".xr-wrap {\n",
       "  display: block !important;\n",
       "  min-width: 300px;\n",
       "  max-width: 700px;\n",
       "}\n",
       "\n",
       ".xr-text-repr-fallback {\n",
       "  /* fallback to plain text repr when CSS is not injected (untrusted notebook) */\n",
       "  display: none;\n",
       "}\n",
       "\n",
       ".xr-header {\n",
       "  padding-top: 6px;\n",
       "  padding-bottom: 6px;\n",
       "  margin-bottom: 4px;\n",
       "  border-bottom: solid 1px var(--xr-border-color);\n",
       "}\n",
       "\n",
       ".xr-header > div,\n",
       ".xr-header > ul {\n",
       "  display: inline;\n",
       "  margin-top: 0;\n",
       "  margin-bottom: 0;\n",
       "}\n",
       "\n",
       ".xr-obj-type,\n",
       ".xr-array-name {\n",
       "  margin-left: 2px;\n",
       "  margin-right: 10px;\n",
       "}\n",
       "\n",
       ".xr-obj-type {\n",
       "  color: var(--xr-font-color2);\n",
       "}\n",
       "\n",
       ".xr-sections {\n",
       "  padding-left: 0 !important;\n",
       "  display: grid;\n",
       "  grid-template-columns: 150px auto auto 1fr 20px 20px;\n",
       "}\n",
       "\n",
       ".xr-section-item {\n",
       "  display: contents;\n",
       "}\n",
       "\n",
       ".xr-section-item input {\n",
       "  display: none;\n",
       "}\n",
       "\n",
       ".xr-section-item input + label {\n",
       "  color: var(--xr-disabled-color);\n",
       "}\n",
       "\n",
       ".xr-section-item input:enabled + label {\n",
       "  cursor: pointer;\n",
       "  color: var(--xr-font-color2);\n",
       "}\n",
       "\n",
       ".xr-section-item input:enabled + label:hover {\n",
       "  color: var(--xr-font-color0);\n",
       "}\n",
       "\n",
       ".xr-section-summary {\n",
       "  grid-column: 1;\n",
       "  color: var(--xr-font-color2);\n",
       "  font-weight: 500;\n",
       "}\n",
       "\n",
       ".xr-section-summary > span {\n",
       "  display: inline-block;\n",
       "  padding-left: 0.5em;\n",
       "}\n",
       "\n",
       ".xr-section-summary-in:disabled + label {\n",
       "  color: var(--xr-font-color2);\n",
       "}\n",
       "\n",
       ".xr-section-summary-in + label:before {\n",
       "  display: inline-block;\n",
       "  content: '►';\n",
       "  font-size: 11px;\n",
       "  width: 15px;\n",
       "  text-align: center;\n",
       "}\n",
       "\n",
       ".xr-section-summary-in:disabled + label:before {\n",
       "  color: var(--xr-disabled-color);\n",
       "}\n",
       "\n",
       ".xr-section-summary-in:checked + label:before {\n",
       "  content: '▼';\n",
       "}\n",
       "\n",
       ".xr-section-summary-in:checked + label > span {\n",
       "  display: none;\n",
       "}\n",
       "\n",
       ".xr-section-summary,\n",
       ".xr-section-inline-details {\n",
       "  padding-top: 4px;\n",
       "  padding-bottom: 4px;\n",
       "}\n",
       "\n",
       ".xr-section-inline-details {\n",
       "  grid-column: 2 / -1;\n",
       "}\n",
       "\n",
       ".xr-section-details {\n",
       "  display: none;\n",
       "  grid-column: 1 / -1;\n",
       "  margin-bottom: 5px;\n",
       "}\n",
       "\n",
       ".xr-section-summary-in:checked ~ .xr-section-details {\n",
       "  display: contents;\n",
       "}\n",
       "\n",
       ".xr-array-wrap {\n",
       "  grid-column: 1 / -1;\n",
       "  display: grid;\n",
       "  grid-template-columns: 20px auto;\n",
       "}\n",
       "\n",
       ".xr-array-wrap > label {\n",
       "  grid-column: 1;\n",
       "  vertical-align: top;\n",
       "}\n",
       "\n",
       ".xr-preview {\n",
       "  color: var(--xr-font-color3);\n",
       "}\n",
       "\n",
       ".xr-array-preview,\n",
       ".xr-array-data {\n",
       "  padding: 0 5px !important;\n",
       "  grid-column: 2;\n",
       "}\n",
       "\n",
       ".xr-array-data,\n",
       ".xr-array-in:checked ~ .xr-array-preview {\n",
       "  display: none;\n",
       "}\n",
       "\n",
       ".xr-array-in:checked ~ .xr-array-data,\n",
       ".xr-array-preview {\n",
       "  display: inline-block;\n",
       "}\n",
       "\n",
       ".xr-dim-list {\n",
       "  display: inline-block !important;\n",
       "  list-style: none;\n",
       "  padding: 0 !important;\n",
       "  margin: 0;\n",
       "}\n",
       "\n",
       ".xr-dim-list li {\n",
       "  display: inline-block;\n",
       "  padding: 0;\n",
       "  margin: 0;\n",
       "}\n",
       "\n",
       ".xr-dim-list:before {\n",
       "  content: '(';\n",
       "}\n",
       "\n",
       ".xr-dim-list:after {\n",
       "  content: ')';\n",
       "}\n",
       "\n",
       ".xr-dim-list li:not(:last-child):after {\n",
       "  content: ',';\n",
       "  padding-right: 5px;\n",
       "}\n",
       "\n",
       ".xr-has-index {\n",
       "  font-weight: bold;\n",
       "}\n",
       "\n",
       ".xr-var-list,\n",
       ".xr-var-item {\n",
       "  display: contents;\n",
       "}\n",
       "\n",
       ".xr-var-item > div,\n",
       ".xr-var-item label,\n",
       ".xr-var-item > .xr-var-name span {\n",
       "  background-color: var(--xr-background-color-row-even);\n",
       "  margin-bottom: 0;\n",
       "}\n",
       "\n",
       ".xr-var-item > .xr-var-name:hover span {\n",
       "  padding-right: 5px;\n",
       "}\n",
       "\n",
       ".xr-var-list > li:nth-child(odd) > div,\n",
       ".xr-var-list > li:nth-child(odd) > label,\n",
       ".xr-var-list > li:nth-child(odd) > .xr-var-name span {\n",
       "  background-color: var(--xr-background-color-row-odd);\n",
       "}\n",
       "\n",
       ".xr-var-name {\n",
       "  grid-column: 1;\n",
       "}\n",
       "\n",
       ".xr-var-dims {\n",
       "  grid-column: 2;\n",
       "}\n",
       "\n",
       ".xr-var-dtype {\n",
       "  grid-column: 3;\n",
       "  text-align: right;\n",
       "  color: var(--xr-font-color2);\n",
       "}\n",
       "\n",
       ".xr-var-preview {\n",
       "  grid-column: 4;\n",
       "}\n",
       "\n",
       ".xr-index-preview {\n",
       "  grid-column: 2 / 5;\n",
       "  color: var(--xr-font-color2);\n",
       "}\n",
       "\n",
       ".xr-var-name,\n",
       ".xr-var-dims,\n",
       ".xr-var-dtype,\n",
       ".xr-preview,\n",
       ".xr-attrs dt {\n",
       "  white-space: nowrap;\n",
       "  overflow: hidden;\n",
       "  text-overflow: ellipsis;\n",
       "  padding-right: 10px;\n",
       "}\n",
       "\n",
       ".xr-var-name:hover,\n",
       ".xr-var-dims:hover,\n",
       ".xr-var-dtype:hover,\n",
       ".xr-attrs dt:hover {\n",
       "  overflow: visible;\n",
       "  width: auto;\n",
       "  z-index: 1;\n",
       "}\n",
       "\n",
       ".xr-var-attrs,\n",
       ".xr-var-data,\n",
       ".xr-index-data {\n",
       "  display: none;\n",
       "  background-color: var(--xr-background-color) !important;\n",
       "  padding-bottom: 5px !important;\n",
       "}\n",
       "\n",
       ".xr-var-attrs-in:checked ~ .xr-var-attrs,\n",
       ".xr-var-data-in:checked ~ .xr-var-data,\n",
       ".xr-index-data-in:checked ~ .xr-index-data {\n",
       "  display: block;\n",
       "}\n",
       "\n",
       ".xr-var-data > table {\n",
       "  float: right;\n",
       "}\n",
       "\n",
       ".xr-var-name span,\n",
       ".xr-var-data,\n",
       ".xr-index-name div,\n",
       ".xr-index-data,\n",
       ".xr-attrs {\n",
       "  padding-left: 25px !important;\n",
       "}\n",
       "\n",
       ".xr-attrs,\n",
       ".xr-var-attrs,\n",
       ".xr-var-data,\n",
       ".xr-index-data {\n",
       "  grid-column: 1 / -1;\n",
       "}\n",
       "\n",
       "dl.xr-attrs {\n",
       "  padding: 0;\n",
       "  margin: 0;\n",
       "  display: grid;\n",
       "  grid-template-columns: 125px auto;\n",
       "}\n",
       "\n",
       ".xr-attrs dt,\n",
       ".xr-attrs dd {\n",
       "  padding: 0;\n",
       "  margin: 0;\n",
       "  float: left;\n",
       "  padding-right: 10px;\n",
       "  width: auto;\n",
       "}\n",
       "\n",
       ".xr-attrs dt {\n",
       "  font-weight: normal;\n",
       "  grid-column: 1;\n",
       "}\n",
       "\n",
       ".xr-attrs dt:hover span {\n",
       "  display: inline-block;\n",
       "  background: var(--xr-background-color);\n",
       "  padding-right: 10px;\n",
       "}\n",
       "\n",
       ".xr-attrs dd {\n",
       "  grid-column: 2;\n",
       "  white-space: pre-wrap;\n",
       "  word-break: break-all;\n",
       "}\n",
       "\n",
       ".xr-icon-database,\n",
       ".xr-icon-file-text2,\n",
       ".xr-no-icon {\n",
       "  display: inline-block;\n",
       "  vertical-align: middle;\n",
       "  width: 1em;\n",
       "  height: 1.5em !important;\n",
       "  stroke-width: 0;\n",
       "  stroke: currentColor;\n",
       "  fill: currentColor;\n",
       "}\n",
       "</style><pre class='xr-text-repr-fallback'>&lt;xarray.Dataset&gt; Size: 3kB\n",
       "Dimensions:   (lon: 90, bnds: 2, lat: 45)\n",
       "Coordinates:\n",
       "  * lon       (lon) int64 720B 2 6 10 14 18 22 26 ... 338 342 346 350 354 358\n",
       "  * lat       (lat) int64 360B -88 -84 -80 -76 -72 -68 -64 ... 68 72 76 80 84 88\n",
       "Dimensions without coordinates: bnds\n",
       "Data variables:\n",
       "    lon_bnds  (lon, bnds) float64 1kB 0.0 4.0 4.0 8.0 ... 356.0 356.0 360.0\n",
       "    lat_bnds  (lat, bnds) float64 720B -90.0 -86.0 -86.0 ... 86.0 86.0 90.0</pre><div class='xr-wrap' style='display:none'><div class='xr-header'><div class='xr-obj-type'>xarray.Dataset</div></div><ul class='xr-sections'><li class='xr-section-item'><input id='section-16e9d2b8-4a11-426f-a9cd-b182112cb7f8' class='xr-section-summary-in' type='checkbox' disabled ><label for='section-16e9d2b8-4a11-426f-a9cd-b182112cb7f8' class='xr-section-summary'  title='Expand/collapse section'>Dimensions:</label><div class='xr-section-inline-details'><ul class='xr-dim-list'><li><span class='xr-has-index'>lon</span>: 90</li><li><span>bnds</span>: 2</li><li><span class='xr-has-index'>lat</span>: 45</li></ul></div><div class='xr-section-details'></div></li><li class='xr-section-item'><input id='section-5369fa12-8de5-4f64-bdf6-8af6d7a95707' class='xr-section-summary-in' type='checkbox'  checked><label for='section-5369fa12-8de5-4f64-bdf6-8af6d7a95707' class='xr-section-summary' >Coordinates: <span>(2)</span></label><div class='xr-section-inline-details'></div><div class='xr-section-details'><ul class='xr-var-list'><li class='xr-var-item'><div class='xr-var-name'><span class='xr-has-index'>lon</span></div><div class='xr-var-dims'>(lon)</div><div class='xr-var-dtype'>int64</div><div class='xr-var-preview xr-preview'>2 6 10 14 18 ... 346 350 354 358</div><input id='attrs-a2b90b32-122e-4ccb-b16f-942444f3925f' class='xr-var-attrs-in' type='checkbox' ><label for='attrs-a2b90b32-122e-4ccb-b16f-942444f3925f' title='Show/Hide attributes'><svg class='icon xr-icon-file-text2'><use xlink:href='#icon-file-text2'></use></svg></label><input id='data-f491bfab-004d-465e-aa48-3808804b22d7' class='xr-var-data-in' type='checkbox'><label for='data-f491bfab-004d-465e-aa48-3808804b22d7' title='Show/Hide data repr'><svg class='icon xr-icon-database'><use xlink:href='#icon-database'></use></svg></label><div class='xr-var-attrs'><dl class='xr-attrs'><dt><span>units :</span></dt><dd>degrees_east</dd><dt><span>axis :</span></dt><dd>X</dd><dt><span>coordinate :</span></dt><dd>longitude</dd><dt><span>bounds :</span></dt><dd>lon_bnds</dd></dl></div><div class='xr-var-data'><pre>array([  2,   6,  10,  14,  18,  22,  26,  30,  34,  38,  42,  46,  50,  54,\n",
       "        58,  62,  66,  70,  74,  78,  82,  86,  90,  94,  98, 102, 106, 110,\n",
       "       114, 118, 122, 126, 130, 134, 138, 142, 146, 150, 154, 158, 162, 166,\n",
       "       170, 174, 178, 182, 186, 190, 194, 198, 202, 206, 210, 214, 218, 222,\n",
       "       226, 230, 234, 238, 242, 246, 250, 254, 258, 262, 266, 270, 274, 278,\n",
       "       282, 286, 290, 294, 298, 302, 306, 310, 314, 318, 322, 326, 330, 334,\n",
       "       338, 342, 346, 350, 354, 358])</pre></div></li><li class='xr-var-item'><div class='xr-var-name'><span class='xr-has-index'>lat</span></div><div class='xr-var-dims'>(lat)</div><div class='xr-var-dtype'>int64</div><div class='xr-var-preview xr-preview'>-88 -84 -80 -76 -72 ... 76 80 84 88</div><input id='attrs-2d22ab58-075e-4f3f-9ba3-f7c76144b3cb' class='xr-var-attrs-in' type='checkbox' ><label for='attrs-2d22ab58-075e-4f3f-9ba3-f7c76144b3cb' title='Show/Hide attributes'><svg class='icon xr-icon-file-text2'><use xlink:href='#icon-file-text2'></use></svg></label><input id='data-3d917c5a-5e5b-47b6-a376-9412ffc3496f' class='xr-var-data-in' type='checkbox'><label for='data-3d917c5a-5e5b-47b6-a376-9412ffc3496f' title='Show/Hide data repr'><svg class='icon xr-icon-database'><use xlink:href='#icon-database'></use></svg></label><div class='xr-var-attrs'><dl class='xr-attrs'><dt><span>units :</span></dt><dd>degrees_north</dd><dt><span>axis :</span></dt><dd>Y</dd><dt><span>coordinate :</span></dt><dd>latitude</dd><dt><span>bounds :</span></dt><dd>lat_bnds</dd></dl></div><div class='xr-var-data'><pre>array([-88, -84, -80, -76, -72, -68, -64, -60, -56, -52, -48, -44, -40, -36,\n",
       "       -32, -28, -24, -20, -16, -12,  -8,  -4,   0,   4,   8,  12,  16,  20,\n",
       "        24,  28,  32,  36,  40,  44,  48,  52,  56,  60,  64,  68,  72,  76,\n",
       "        80,  84,  88])</pre></div></li></ul></div></li><li class='xr-section-item'><input id='section-09ed8258-a17e-49a7-bd12-827f75558fd6' class='xr-section-summary-in' type='checkbox'  checked><label for='section-09ed8258-a17e-49a7-bd12-827f75558fd6' class='xr-section-summary' >Data variables: <span>(2)</span></label><div class='xr-section-inline-details'></div><div class='xr-section-details'><ul class='xr-var-list'><li class='xr-var-item'><div class='xr-var-name'><span>lon_bnds</span></div><div class='xr-var-dims'>(lon, bnds)</div><div class='xr-var-dtype'>float64</div><div class='xr-var-preview xr-preview'>0.0 4.0 4.0 ... 356.0 356.0 360.0</div><input id='attrs-1ffb67bf-888e-478e-ba49-956c0425b816' class='xr-var-attrs-in' type='checkbox' ><label for='attrs-1ffb67bf-888e-478e-ba49-956c0425b816' title='Show/Hide attributes'><svg class='icon xr-icon-file-text2'><use xlink:href='#icon-file-text2'></use></svg></label><input id='data-70e96f2b-a6f7-4a76-8c9b-892209d71a89' class='xr-var-data-in' type='checkbox'><label for='data-70e96f2b-a6f7-4a76-8c9b-892209d71a89' title='Show/Hide data repr'><svg class='icon xr-icon-database'><use xlink:href='#icon-database'></use></svg></label><div class='xr-var-attrs'><dl class='xr-attrs'><dt><span>xcdat_bounds :</span></dt><dd>True</dd></dl></div><div class='xr-var-data'><pre>array([[  0.,   4.],\n",
       "       [  4.,   8.],\n",
       "       [  8.,  12.],\n",
       "       [ 12.,  16.],\n",
       "       [ 16.,  20.],\n",
       "       [ 20.,  24.],\n",
       "       [ 24.,  28.],\n",
       "       [ 28.,  32.],\n",
       "       [ 32.,  36.],\n",
       "       [ 36.,  40.],\n",
       "       [ 40.,  44.],\n",
       "       [ 44.,  48.],\n",
       "       [ 48.,  52.],\n",
       "       [ 52.,  56.],\n",
       "       [ 56.,  60.],\n",
       "       [ 60.,  64.],\n",
       "       [ 64.,  68.],\n",
       "       [ 68.,  72.],\n",
       "       [ 72.,  76.],\n",
       "       [ 76.,  80.],\n",
       "...\n",
       "       [280., 284.],\n",
       "       [284., 288.],\n",
       "       [288., 292.],\n",
       "       [292., 296.],\n",
       "       [296., 300.],\n",
       "       [300., 304.],\n",
       "       [304., 308.],\n",
       "       [308., 312.],\n",
       "       [312., 316.],\n",
       "       [316., 320.],\n",
       "       [320., 324.],\n",
       "       [324., 328.],\n",
       "       [328., 332.],\n",
       "       [332., 336.],\n",
       "       [336., 340.],\n",
       "       [340., 344.],\n",
       "       [344., 348.],\n",
       "       [348., 352.],\n",
       "       [352., 356.],\n",
       "       [356., 360.]])</pre></div></li><li class='xr-var-item'><div class='xr-var-name'><span>lat_bnds</span></div><div class='xr-var-dims'>(lat, bnds)</div><div class='xr-var-dtype'>float64</div><div class='xr-var-preview xr-preview'>-90.0 -86.0 -86.0 ... 86.0 90.0</div><input id='attrs-8f6296bd-69ec-466e-8f0f-48aede64e6eb' class='xr-var-attrs-in' type='checkbox' ><label for='attrs-8f6296bd-69ec-466e-8f0f-48aede64e6eb' title='Show/Hide attributes'><svg class='icon xr-icon-file-text2'><use xlink:href='#icon-file-text2'></use></svg></label><input id='data-f09582f0-fbc4-4b69-b6ff-dde409b87767' class='xr-var-data-in' type='checkbox'><label for='data-f09582f0-fbc4-4b69-b6ff-dde409b87767' title='Show/Hide data repr'><svg class='icon xr-icon-database'><use xlink:href='#icon-database'></use></svg></label><div class='xr-var-attrs'><dl class='xr-attrs'><dt><span>xcdat_bounds :</span></dt><dd>True</dd></dl></div><div class='xr-var-data'><pre>array([[-90., -86.],\n",
       "       [-86., -82.],\n",
       "       [-82., -78.],\n",
       "       [-78., -74.],\n",
       "       [-74., -70.],\n",
       "       [-70., -66.],\n",
       "       [-66., -62.],\n",
       "       [-62., -58.],\n",
       "       [-58., -54.],\n",
       "       [-54., -50.],\n",
       "       [-50., -46.],\n",
       "       [-46., -42.],\n",
       "       [-42., -38.],\n",
       "       [-38., -34.],\n",
       "       [-34., -30.],\n",
       "       [-30., -26.],\n",
       "       [-26., -22.],\n",
       "       [-22., -18.],\n",
       "       [-18., -14.],\n",
       "       [-14., -10.],\n",
       "...\n",
       "       [ 10.,  14.],\n",
       "       [ 14.,  18.],\n",
       "       [ 18.,  22.],\n",
       "       [ 22.,  26.],\n",
       "       [ 26.,  30.],\n",
       "       [ 30.,  34.],\n",
       "       [ 34.,  38.],\n",
       "       [ 38.,  42.],\n",
       "       [ 42.,  46.],\n",
       "       [ 46.,  50.],\n",
       "       [ 50.,  54.],\n",
       "       [ 54.,  58.],\n",
       "       [ 58.,  62.],\n",
       "       [ 62.,  66.],\n",
       "       [ 66.,  70.],\n",
       "       [ 70.,  74.],\n",
       "       [ 74.,  78.],\n",
       "       [ 78.,  82.],\n",
       "       [ 82.,  86.],\n",
       "       [ 86.,  90.]])</pre></div></li></ul></div></li><li class='xr-section-item'><input id='section-95a7a98d-49ed-485b-8cae-6be6f95007ee' class='xr-section-summary-in' type='checkbox'  ><label for='section-95a7a98d-49ed-485b-8cae-6be6f95007ee' class='xr-section-summary' >Indexes: <span>(2)</span></label><div class='xr-section-inline-details'></div><div class='xr-section-details'><ul class='xr-var-list'><li class='xr-var-item'><div class='xr-index-name'><div>lon</div></div><div class='xr-index-preview'>PandasIndex</div><div></div><input id='index-b35daf62-049b-4ec6-a3d8-53f02e17e029' class='xr-index-data-in' type='checkbox'/><label for='index-b35daf62-049b-4ec6-a3d8-53f02e17e029' title='Show/Hide index repr'><svg class='icon xr-icon-database'><use xlink:href='#icon-database'></use></svg></label><div class='xr-index-data'><pre>PandasIndex(Index([  2,   6,  10,  14,  18,  22,  26,  30,  34,  38,  42,  46,  50,  54,\n",
       "        58,  62,  66,  70,  74,  78,  82,  86,  90,  94,  98, 102, 106, 110,\n",
       "       114, 118, 122, 126, 130, 134, 138, 142, 146, 150, 154, 158, 162, 166,\n",
       "       170, 174, 178, 182, 186, 190, 194, 198, 202, 206, 210, 214, 218, 222,\n",
       "       226, 230, 234, 238, 242, 246, 250, 254, 258, 262, 266, 270, 274, 278,\n",
       "       282, 286, 290, 294, 298, 302, 306, 310, 314, 318, 322, 326, 330, 334,\n",
       "       338, 342, 346, 350, 354, 358],\n",
       "      dtype=&#x27;int64&#x27;, name=&#x27;lon&#x27;))</pre></div></li><li class='xr-var-item'><div class='xr-index-name'><div>lat</div></div><div class='xr-index-preview'>PandasIndex</div><div></div><input id='index-548466b6-0e13-4958-b878-a7686eed30b4' class='xr-index-data-in' type='checkbox'/><label for='index-548466b6-0e13-4958-b878-a7686eed30b4' title='Show/Hide index repr'><svg class='icon xr-icon-database'><use xlink:href='#icon-database'></use></svg></label><div class='xr-index-data'><pre>PandasIndex(Index([-88, -84, -80, -76, -72, -68, -64, -60, -56, -52, -48, -44, -40, -36,\n",
       "       -32, -28, -24, -20, -16, -12,  -8,  -4,   0,   4,   8,  12,  16,  20,\n",
       "        24,  28,  32,  36,  40,  44,  48,  52,  56,  60,  64,  68,  72,  76,\n",
       "        80,  84,  88],\n",
       "      dtype=&#x27;int64&#x27;, name=&#x27;lat&#x27;))</pre></div></li></ul></div></li><li class='xr-section-item'><input id='section-07858392-20b7-488d-ae99-26f4609efdb8' class='xr-section-summary-in' type='checkbox' disabled ><label for='section-07858392-20b7-488d-ae99-26f4609efdb8' class='xr-section-summary'  title='Expand/collapse section'>Attributes: <span>(0)</span></label><div class='xr-section-inline-details'></div><div class='xr-section-details'><dl class='xr-attrs'></dl></div></li></ul></div></div>"
      ],
      "text/plain": [
       "<xarray.Dataset> Size: 3kB\n",
       "Dimensions:   (lon: 90, bnds: 2, lat: 45)\n",
       "Coordinates:\n",
       "  * lon       (lon) int64 720B 2 6 10 14 18 22 26 ... 338 342 346 350 354 358\n",
       "  * lat       (lat) int64 360B -88 -84 -80 -76 -72 -68 -64 ... 68 72 76 80 84 88\n",
       "Dimensions without coordinates: bnds\n",
       "Data variables:\n",
       "    lon_bnds  (lon, bnds) float64 1kB 0.0 4.0 4.0 8.0 ... 356.0 356.0 360.0\n",
       "    lat_bnds  (lat, bnds) float64 720B -90.0 -86.0 -86.0 ... 86.0 86.0 90.0"
      ]
     },
     "execution_count": 8,
     "metadata": {},
     "output_type": "execute_result"
    }
   ],
   "source": [
    "ngrid"
   ]
  },
  {
   "cell_type": "markdown",
   "metadata": {
    "slideshow": {
     "slide_type": "subslide"
    }
   },
   "source": [
    "#### Call the xESMF regridder\n",
    "\n",
    "Here we're using bilinear regridding, but other methods may be appropriate (e.g., you may want to use \"conservative_normed\" for fields that should be conserved globally).\n",
    "\n",
    "- Regrid `tas` with the `ngrid` created above using `xesmf` and `bilinear`.\n",
    "- API Documentation: https://xcdat.readthedocs.io/en/stable/generated/xarray.Dataset.regridder.horizontal.html\n"
   ]
  },
  {
   "cell_type": "code",
   "execution_count": 9,
   "metadata": {
    "slideshow": {
     "slide_type": "fragment"
    }
   },
   "outputs": [
    {
     "data": {
      "text/html": [
       "<div><svg style=\"position: absolute; width: 0; height: 0; overflow: hidden\">\n",
       "<defs>\n",
       "<symbol id=\"icon-database\" viewBox=\"0 0 32 32\">\n",
       "<path d=\"M16 0c-8.837 0-16 2.239-16 5v4c0 2.761 7.163 5 16 5s16-2.239 16-5v-4c0-2.761-7.163-5-16-5z\"></path>\n",
       "<path d=\"M16 17c-8.837 0-16-2.239-16-5v6c0 2.761 7.163 5 16 5s16-2.239 16-5v-6c0 2.761-7.163 5-16 5z\"></path>\n",
       "<path d=\"M16 26c-8.837 0-16-2.239-16-5v6c0 2.761 7.163 5 16 5s16-2.239 16-5v-6c0 2.761-7.163 5-16 5z\"></path>\n",
       "</symbol>\n",
       "<symbol id=\"icon-file-text2\" viewBox=\"0 0 32 32\">\n",
       "<path d=\"M28.681 7.159c-0.694-0.947-1.662-2.053-2.724-3.116s-2.169-2.030-3.116-2.724c-1.612-1.182-2.393-1.319-2.841-1.319h-15.5c-1.378 0-2.5 1.121-2.5 2.5v27c0 1.378 1.122 2.5 2.5 2.5h23c1.378 0 2.5-1.122 2.5-2.5v-19.5c0-0.448-0.137-1.23-1.319-2.841zM24.543 5.457c0.959 0.959 1.712 1.825 2.268 2.543h-4.811v-4.811c0.718 0.556 1.584 1.309 2.543 2.268zM28 29.5c0 0.271-0.229 0.5-0.5 0.5h-23c-0.271 0-0.5-0.229-0.5-0.5v-27c0-0.271 0.229-0.5 0.5-0.5 0 0 15.499-0 15.5 0v7c0 0.552 0.448 1 1 1h7v19.5z\"></path>\n",
       "<path d=\"M23 26h-14c-0.552 0-1-0.448-1-1s0.448-1 1-1h14c0.552 0 1 0.448 1 1s-0.448 1-1 1z\"></path>\n",
       "<path d=\"M23 22h-14c-0.552 0-1-0.448-1-1s0.448-1 1-1h14c0.552 0 1 0.448 1 1s-0.448 1-1 1z\"></path>\n",
       "<path d=\"M23 18h-14c-0.552 0-1-0.448-1-1s0.448-1 1-1h14c0.552 0 1 0.448 1 1s-0.448 1-1 1z\"></path>\n",
       "</symbol>\n",
       "</defs>\n",
       "</svg>\n",
       "<style>/* CSS stylesheet for displaying xarray objects in jupyterlab.\n",
       " *\n",
       " */\n",
       "\n",
       ":root {\n",
       "  --xr-font-color0: var(--jp-content-font-color0, rgba(0, 0, 0, 1));\n",
       "  --xr-font-color2: var(--jp-content-font-color2, rgba(0, 0, 0, 0.54));\n",
       "  --xr-font-color3: var(--jp-content-font-color3, rgba(0, 0, 0, 0.38));\n",
       "  --xr-border-color: var(--jp-border-color2, #e0e0e0);\n",
       "  --xr-disabled-color: var(--jp-layout-color3, #bdbdbd);\n",
       "  --xr-background-color: var(--jp-layout-color0, white);\n",
       "  --xr-background-color-row-even: var(--jp-layout-color1, white);\n",
       "  --xr-background-color-row-odd: var(--jp-layout-color2, #eeeeee);\n",
       "}\n",
       "\n",
       "html[theme=dark],\n",
       "body[data-theme=dark],\n",
       "body.vscode-dark {\n",
       "  --xr-font-color0: rgba(255, 255, 255, 1);\n",
       "  --xr-font-color2: rgba(255, 255, 255, 0.54);\n",
       "  --xr-font-color3: rgba(255, 255, 255, 0.38);\n",
       "  --xr-border-color: #1F1F1F;\n",
       "  --xr-disabled-color: #515151;\n",
       "  --xr-background-color: #111111;\n",
       "  --xr-background-color-row-even: #111111;\n",
       "  --xr-background-color-row-odd: #313131;\n",
       "}\n",
       "\n",
       ".xr-wrap {\n",
       "  display: block !important;\n",
       "  min-width: 300px;\n",
       "  max-width: 700px;\n",
       "}\n",
       "\n",
       ".xr-text-repr-fallback {\n",
       "  /* fallback to plain text repr when CSS is not injected (untrusted notebook) */\n",
       "  display: none;\n",
       "}\n",
       "\n",
       ".xr-header {\n",
       "  padding-top: 6px;\n",
       "  padding-bottom: 6px;\n",
       "  margin-bottom: 4px;\n",
       "  border-bottom: solid 1px var(--xr-border-color);\n",
       "}\n",
       "\n",
       ".xr-header > div,\n",
       ".xr-header > ul {\n",
       "  display: inline;\n",
       "  margin-top: 0;\n",
       "  margin-bottom: 0;\n",
       "}\n",
       "\n",
       ".xr-obj-type,\n",
       ".xr-array-name {\n",
       "  margin-left: 2px;\n",
       "  margin-right: 10px;\n",
       "}\n",
       "\n",
       ".xr-obj-type {\n",
       "  color: var(--xr-font-color2);\n",
       "}\n",
       "\n",
       ".xr-sections {\n",
       "  padding-left: 0 !important;\n",
       "  display: grid;\n",
       "  grid-template-columns: 150px auto auto 1fr 20px 20px;\n",
       "}\n",
       "\n",
       ".xr-section-item {\n",
       "  display: contents;\n",
       "}\n",
       "\n",
       ".xr-section-item input {\n",
       "  display: none;\n",
       "}\n",
       "\n",
       ".xr-section-item input + label {\n",
       "  color: var(--xr-disabled-color);\n",
       "}\n",
       "\n",
       ".xr-section-item input:enabled + label {\n",
       "  cursor: pointer;\n",
       "  color: var(--xr-font-color2);\n",
       "}\n",
       "\n",
       ".xr-section-item input:enabled + label:hover {\n",
       "  color: var(--xr-font-color0);\n",
       "}\n",
       "\n",
       ".xr-section-summary {\n",
       "  grid-column: 1;\n",
       "  color: var(--xr-font-color2);\n",
       "  font-weight: 500;\n",
       "}\n",
       "\n",
       ".xr-section-summary > span {\n",
       "  display: inline-block;\n",
       "  padding-left: 0.5em;\n",
       "}\n",
       "\n",
       ".xr-section-summary-in:disabled + label {\n",
       "  color: var(--xr-font-color2);\n",
       "}\n",
       "\n",
       ".xr-section-summary-in + label:before {\n",
       "  display: inline-block;\n",
       "  content: '►';\n",
       "  font-size: 11px;\n",
       "  width: 15px;\n",
       "  text-align: center;\n",
       "}\n",
       "\n",
       ".xr-section-summary-in:disabled + label:before {\n",
       "  color: var(--xr-disabled-color);\n",
       "}\n",
       "\n",
       ".xr-section-summary-in:checked + label:before {\n",
       "  content: '▼';\n",
       "}\n",
       "\n",
       ".xr-section-summary-in:checked + label > span {\n",
       "  display: none;\n",
       "}\n",
       "\n",
       ".xr-section-summary,\n",
       ".xr-section-inline-details {\n",
       "  padding-top: 4px;\n",
       "  padding-bottom: 4px;\n",
       "}\n",
       "\n",
       ".xr-section-inline-details {\n",
       "  grid-column: 2 / -1;\n",
       "}\n",
       "\n",
       ".xr-section-details {\n",
       "  display: none;\n",
       "  grid-column: 1 / -1;\n",
       "  margin-bottom: 5px;\n",
       "}\n",
       "\n",
       ".xr-section-summary-in:checked ~ .xr-section-details {\n",
       "  display: contents;\n",
       "}\n",
       "\n",
       ".xr-array-wrap {\n",
       "  grid-column: 1 / -1;\n",
       "  display: grid;\n",
       "  grid-template-columns: 20px auto;\n",
       "}\n",
       "\n",
       ".xr-array-wrap > label {\n",
       "  grid-column: 1;\n",
       "  vertical-align: top;\n",
       "}\n",
       "\n",
       ".xr-preview {\n",
       "  color: var(--xr-font-color3);\n",
       "}\n",
       "\n",
       ".xr-array-preview,\n",
       ".xr-array-data {\n",
       "  padding: 0 5px !important;\n",
       "  grid-column: 2;\n",
       "}\n",
       "\n",
       ".xr-array-data,\n",
       ".xr-array-in:checked ~ .xr-array-preview {\n",
       "  display: none;\n",
       "}\n",
       "\n",
       ".xr-array-in:checked ~ .xr-array-data,\n",
       ".xr-array-preview {\n",
       "  display: inline-block;\n",
       "}\n",
       "\n",
       ".xr-dim-list {\n",
       "  display: inline-block !important;\n",
       "  list-style: none;\n",
       "  padding: 0 !important;\n",
       "  margin: 0;\n",
       "}\n",
       "\n",
       ".xr-dim-list li {\n",
       "  display: inline-block;\n",
       "  padding: 0;\n",
       "  margin: 0;\n",
       "}\n",
       "\n",
       ".xr-dim-list:before {\n",
       "  content: '(';\n",
       "}\n",
       "\n",
       ".xr-dim-list:after {\n",
       "  content: ')';\n",
       "}\n",
       "\n",
       ".xr-dim-list li:not(:last-child):after {\n",
       "  content: ',';\n",
       "  padding-right: 5px;\n",
       "}\n",
       "\n",
       ".xr-has-index {\n",
       "  font-weight: bold;\n",
       "}\n",
       "\n",
       ".xr-var-list,\n",
       ".xr-var-item {\n",
       "  display: contents;\n",
       "}\n",
       "\n",
       ".xr-var-item > div,\n",
       ".xr-var-item label,\n",
       ".xr-var-item > .xr-var-name span {\n",
       "  background-color: var(--xr-background-color-row-even);\n",
       "  margin-bottom: 0;\n",
       "}\n",
       "\n",
       ".xr-var-item > .xr-var-name:hover span {\n",
       "  padding-right: 5px;\n",
       "}\n",
       "\n",
       ".xr-var-list > li:nth-child(odd) > div,\n",
       ".xr-var-list > li:nth-child(odd) > label,\n",
       ".xr-var-list > li:nth-child(odd) > .xr-var-name span {\n",
       "  background-color: var(--xr-background-color-row-odd);\n",
       "}\n",
       "\n",
       ".xr-var-name {\n",
       "  grid-column: 1;\n",
       "}\n",
       "\n",
       ".xr-var-dims {\n",
       "  grid-column: 2;\n",
       "}\n",
       "\n",
       ".xr-var-dtype {\n",
       "  grid-column: 3;\n",
       "  text-align: right;\n",
       "  color: var(--xr-font-color2);\n",
       "}\n",
       "\n",
       ".xr-var-preview {\n",
       "  grid-column: 4;\n",
       "}\n",
       "\n",
       ".xr-index-preview {\n",
       "  grid-column: 2 / 5;\n",
       "  color: var(--xr-font-color2);\n",
       "}\n",
       "\n",
       ".xr-var-name,\n",
       ".xr-var-dims,\n",
       ".xr-var-dtype,\n",
       ".xr-preview,\n",
       ".xr-attrs dt {\n",
       "  white-space: nowrap;\n",
       "  overflow: hidden;\n",
       "  text-overflow: ellipsis;\n",
       "  padding-right: 10px;\n",
       "}\n",
       "\n",
       ".xr-var-name:hover,\n",
       ".xr-var-dims:hover,\n",
       ".xr-var-dtype:hover,\n",
       ".xr-attrs dt:hover {\n",
       "  overflow: visible;\n",
       "  width: auto;\n",
       "  z-index: 1;\n",
       "}\n",
       "\n",
       ".xr-var-attrs,\n",
       ".xr-var-data,\n",
       ".xr-index-data {\n",
       "  display: none;\n",
       "  background-color: var(--xr-background-color) !important;\n",
       "  padding-bottom: 5px !important;\n",
       "}\n",
       "\n",
       ".xr-var-attrs-in:checked ~ .xr-var-attrs,\n",
       ".xr-var-data-in:checked ~ .xr-var-data,\n",
       ".xr-index-data-in:checked ~ .xr-index-data {\n",
       "  display: block;\n",
       "}\n",
       "\n",
       ".xr-var-data > table {\n",
       "  float: right;\n",
       "}\n",
       "\n",
       ".xr-var-name span,\n",
       ".xr-var-data,\n",
       ".xr-index-name div,\n",
       ".xr-index-data,\n",
       ".xr-attrs {\n",
       "  padding-left: 25px !important;\n",
       "}\n",
       "\n",
       ".xr-attrs,\n",
       ".xr-var-attrs,\n",
       ".xr-var-data,\n",
       ".xr-index-data {\n",
       "  grid-column: 1 / -1;\n",
       "}\n",
       "\n",
       "dl.xr-attrs {\n",
       "  padding: 0;\n",
       "  margin: 0;\n",
       "  display: grid;\n",
       "  grid-template-columns: 125px auto;\n",
       "}\n",
       "\n",
       ".xr-attrs dt,\n",
       ".xr-attrs dd {\n",
       "  padding: 0;\n",
       "  margin: 0;\n",
       "  float: left;\n",
       "  padding-right: 10px;\n",
       "  width: auto;\n",
       "}\n",
       "\n",
       ".xr-attrs dt {\n",
       "  font-weight: normal;\n",
       "  grid-column: 1;\n",
       "}\n",
       "\n",
       ".xr-attrs dt:hover span {\n",
       "  display: inline-block;\n",
       "  background: var(--xr-background-color);\n",
       "  padding-right: 10px;\n",
       "}\n",
       "\n",
       ".xr-attrs dd {\n",
       "  grid-column: 2;\n",
       "  white-space: pre-wrap;\n",
       "  word-break: break-all;\n",
       "}\n",
       "\n",
       ".xr-icon-database,\n",
       ".xr-icon-file-text2,\n",
       ".xr-no-icon {\n",
       "  display: inline-block;\n",
       "  vertical-align: middle;\n",
       "  width: 1em;\n",
       "  height: 1.5em !important;\n",
       "  stroke-width: 0;\n",
       "  stroke: currentColor;\n",
       "  fill: currentColor;\n",
       "}\n",
       "</style><pre class='xr-text-repr-fallback'>&lt;xarray.Dataset&gt; Size: 799MB\n",
       "Dimensions:    (time: 49275, lon: 90, lat: 45, bnds: 2)\n",
       "Coordinates:\n",
       "    height     float64 8B 2.0\n",
       "  * time       (time) object 394kB 1850-01-01 12:00:00 ... 2014-12-31 12:00:00\n",
       "  * lon        (lon) int64 720B 2 6 10 14 18 22 26 ... 338 342 346 350 354 358\n",
       "  * lat        (lat) int64 360B -88 -84 -80 -76 -72 -68 ... 68 72 76 80 84 88\n",
       "Dimensions without coordinates: bnds\n",
       "Data variables:\n",
       "    tas        (time, lat, lon) float32 798MB 251.8 251.8 251.8 ... 248.2 248.2\n",
       "    lon_bnds   (lon, bnds) float64 1kB 0.0 4.0 4.0 8.0 ... 356.0 356.0 360.0\n",
       "    lat_bnds   (lat, bnds) float64 720B -90.0 -86.0 -86.0 ... 86.0 86.0 90.0\n",
       "    time_bnds  (time, bnds) object 788kB 1850-01-01 00:00:00 ... 2015-01-01 0...\n",
       "Attributes: (12/48)\n",
       "    Conventions:            CF-1.7 CMIP-6.2\n",
       "    activity_id:            CMIP\n",
       "    branch_method:          standard\n",
       "    branch_time_in_child:   0.0\n",
       "    branch_time_in_parent:  36500.0\n",
       "    creation_date:          2022-09-23T17:17:41Z\n",
       "    ...                     ...\n",
       "    variant_label:          r1i1p1f1\n",
       "    version:                v20220923\n",
       "    license:                CMIP6 model data produced by E3SM-Project is lice...\n",
       "    cmor_version:           3.6.1\n",
       "    tracking_id:            hdl:21.14100/5e6a4671-b731-4201-9c13-4afd5735ecdc\n",
       "    references:             Golaz, J.-C., L. P. Van Roekel, X. Zheng and co-a...</pre><div class='xr-wrap' style='display:none'><div class='xr-header'><div class='xr-obj-type'>xarray.Dataset</div></div><ul class='xr-sections'><li class='xr-section-item'><input id='section-6d7738af-e43b-4095-8e2b-bfd65acb65a6' class='xr-section-summary-in' type='checkbox' disabled ><label for='section-6d7738af-e43b-4095-8e2b-bfd65acb65a6' class='xr-section-summary'  title='Expand/collapse section'>Dimensions:</label><div class='xr-section-inline-details'><ul class='xr-dim-list'><li><span class='xr-has-index'>time</span>: 49275</li><li><span class='xr-has-index'>lon</span>: 90</li><li><span class='xr-has-index'>lat</span>: 45</li><li><span>bnds</span>: 2</li></ul></div><div class='xr-section-details'></div></li><li class='xr-section-item'><input id='section-db663d11-32d0-43a8-9132-3c08cc25ca70' class='xr-section-summary-in' type='checkbox'  checked><label for='section-db663d11-32d0-43a8-9132-3c08cc25ca70' class='xr-section-summary' >Coordinates: <span>(4)</span></label><div class='xr-section-inline-details'></div><div class='xr-section-details'><ul class='xr-var-list'><li class='xr-var-item'><div class='xr-var-name'><span>height</span></div><div class='xr-var-dims'>()</div><div class='xr-var-dtype'>float64</div><div class='xr-var-preview xr-preview'>2.0</div><input id='attrs-20cdf998-aaf8-4b41-9f2b-a984ac3f599d' class='xr-var-attrs-in' type='checkbox' ><label for='attrs-20cdf998-aaf8-4b41-9f2b-a984ac3f599d' title='Show/Hide attributes'><svg class='icon xr-icon-file-text2'><use xlink:href='#icon-file-text2'></use></svg></label><input id='data-19b1ad85-9f1c-4c32-850d-aeb808ce60eb' class='xr-var-data-in' type='checkbox'><label for='data-19b1ad85-9f1c-4c32-850d-aeb808ce60eb' title='Show/Hide data repr'><svg class='icon xr-icon-database'><use xlink:href='#icon-database'></use></svg></label><div class='xr-var-attrs'><dl class='xr-attrs'><dt><span>units :</span></dt><dd>m</dd><dt><span>axis :</span></dt><dd>Z</dd><dt><span>positive :</span></dt><dd>up</dd><dt><span>long_name :</span></dt><dd>height</dd><dt><span>standard_name :</span></dt><dd>height</dd></dl></div><div class='xr-var-data'><pre>array(2.)</pre></div></li><li class='xr-var-item'><div class='xr-var-name'><span class='xr-has-index'>time</span></div><div class='xr-var-dims'>(time)</div><div class='xr-var-dtype'>object</div><div class='xr-var-preview xr-preview'>1850-01-01 12:00:00 ... 2014-12-...</div><input id='attrs-9f371963-1921-4529-ac23-08b7b3ded7a8' class='xr-var-attrs-in' type='checkbox' ><label for='attrs-9f371963-1921-4529-ac23-08b7b3ded7a8' title='Show/Hide attributes'><svg class='icon xr-icon-file-text2'><use xlink:href='#icon-file-text2'></use></svg></label><input id='data-c1b01c00-d5ff-4453-8726-73cc2c4b276b' class='xr-var-data-in' type='checkbox'><label for='data-c1b01c00-d5ff-4453-8726-73cc2c4b276b' title='Show/Hide data repr'><svg class='icon xr-icon-database'><use xlink:href='#icon-database'></use></svg></label><div class='xr-var-attrs'><dl class='xr-attrs'><dt><span>bounds :</span></dt><dd>time_bnds</dd><dt><span>axis :</span></dt><dd>T</dd><dt><span>long_name :</span></dt><dd>time</dd><dt><span>standard_name :</span></dt><dd>time</dd></dl></div><div class='xr-var-data'><pre>array([cftime.DatetimeNoLeap(1850, 1, 1, 12, 0, 0, 0, has_year_zero=True),\n",
       "       cftime.DatetimeNoLeap(1850, 1, 2, 12, 0, 0, 0, has_year_zero=True),\n",
       "       cftime.DatetimeNoLeap(1850, 1, 3, 12, 0, 0, 0, has_year_zero=True), ...,\n",
       "       cftime.DatetimeNoLeap(2014, 12, 29, 12, 0, 0, 0, has_year_zero=True),\n",
       "       cftime.DatetimeNoLeap(2014, 12, 30, 12, 0, 0, 0, has_year_zero=True),\n",
       "       cftime.DatetimeNoLeap(2014, 12, 31, 12, 0, 0, 0, has_year_zero=True)],\n",
       "      dtype=object)</pre></div></li><li class='xr-var-item'><div class='xr-var-name'><span class='xr-has-index'>lon</span></div><div class='xr-var-dims'>(lon)</div><div class='xr-var-dtype'>int64</div><div class='xr-var-preview xr-preview'>2 6 10 14 18 ... 346 350 354 358</div><input id='attrs-959f8450-88d2-4d6c-87ed-ddad4dec2b07' class='xr-var-attrs-in' type='checkbox' ><label for='attrs-959f8450-88d2-4d6c-87ed-ddad4dec2b07' title='Show/Hide attributes'><svg class='icon xr-icon-file-text2'><use xlink:href='#icon-file-text2'></use></svg></label><input id='data-59679c88-dfc0-4ddf-985d-fa5b23332e1e' class='xr-var-data-in' type='checkbox'><label for='data-59679c88-dfc0-4ddf-985d-fa5b23332e1e' title='Show/Hide data repr'><svg class='icon xr-icon-database'><use xlink:href='#icon-database'></use></svg></label><div class='xr-var-attrs'><dl class='xr-attrs'><dt><span>units :</span></dt><dd>degrees_east</dd><dt><span>axis :</span></dt><dd>X</dd><dt><span>coordinate :</span></dt><dd>longitude</dd><dt><span>bounds :</span></dt><dd>lon_bnds</dd></dl></div><div class='xr-var-data'><pre>array([  2,   6,  10,  14,  18,  22,  26,  30,  34,  38,  42,  46,  50,  54,\n",
       "        58,  62,  66,  70,  74,  78,  82,  86,  90,  94,  98, 102, 106, 110,\n",
       "       114, 118, 122, 126, 130, 134, 138, 142, 146, 150, 154, 158, 162, 166,\n",
       "       170, 174, 178, 182, 186, 190, 194, 198, 202, 206, 210, 214, 218, 222,\n",
       "       226, 230, 234, 238, 242, 246, 250, 254, 258, 262, 266, 270, 274, 278,\n",
       "       282, 286, 290, 294, 298, 302, 306, 310, 314, 318, 322, 326, 330, 334,\n",
       "       338, 342, 346, 350, 354, 358])</pre></div></li><li class='xr-var-item'><div class='xr-var-name'><span class='xr-has-index'>lat</span></div><div class='xr-var-dims'>(lat)</div><div class='xr-var-dtype'>int64</div><div class='xr-var-preview xr-preview'>-88 -84 -80 -76 -72 ... 76 80 84 88</div><input id='attrs-47f6ec6e-0f64-489f-9e93-391b957092a0' class='xr-var-attrs-in' type='checkbox' ><label for='attrs-47f6ec6e-0f64-489f-9e93-391b957092a0' title='Show/Hide attributes'><svg class='icon xr-icon-file-text2'><use xlink:href='#icon-file-text2'></use></svg></label><input id='data-1a6af925-a890-4fbd-9857-6248b532890b' class='xr-var-data-in' type='checkbox'><label for='data-1a6af925-a890-4fbd-9857-6248b532890b' title='Show/Hide data repr'><svg class='icon xr-icon-database'><use xlink:href='#icon-database'></use></svg></label><div class='xr-var-attrs'><dl class='xr-attrs'><dt><span>units :</span></dt><dd>degrees_north</dd><dt><span>axis :</span></dt><dd>Y</dd><dt><span>coordinate :</span></dt><dd>latitude</dd><dt><span>bounds :</span></dt><dd>lat_bnds</dd></dl></div><div class='xr-var-data'><pre>array([-88, -84, -80, -76, -72, -68, -64, -60, -56, -52, -48, -44, -40, -36,\n",
       "       -32, -28, -24, -20, -16, -12,  -8,  -4,   0,   4,   8,  12,  16,  20,\n",
       "        24,  28,  32,  36,  40,  44,  48,  52,  56,  60,  64,  68,  72,  76,\n",
       "        80,  84,  88])</pre></div></li></ul></div></li><li class='xr-section-item'><input id='section-ee091520-26f5-4022-a2b6-4bdeff1cea39' class='xr-section-summary-in' type='checkbox'  checked><label for='section-ee091520-26f5-4022-a2b6-4bdeff1cea39' class='xr-section-summary' >Data variables: <span>(4)</span></label><div class='xr-section-inline-details'></div><div class='xr-section-details'><ul class='xr-var-list'><li class='xr-var-item'><div class='xr-var-name'><span>tas</span></div><div class='xr-var-dims'>(time, lat, lon)</div><div class='xr-var-dtype'>float32</div><div class='xr-var-preview xr-preview'>251.8 251.8 251.8 ... 248.2 248.2</div><input id='attrs-fd124570-ec92-406e-b55d-c27afa8f97b6' class='xr-var-attrs-in' type='checkbox' ><label for='attrs-fd124570-ec92-406e-b55d-c27afa8f97b6' title='Show/Hide attributes'><svg class='icon xr-icon-file-text2'><use xlink:href='#icon-file-text2'></use></svg></label><input id='data-70766736-fe25-4f20-99cc-47a594d68b69' class='xr-var-data-in' type='checkbox'><label for='data-70766736-fe25-4f20-99cc-47a594d68b69' title='Show/Hide data repr'><svg class='icon xr-icon-database'><use xlink:href='#icon-database'></use></svg></label><div class='xr-var-attrs'><dl class='xr-attrs'><dt><span>standard_name :</span></dt><dd>air_temperature</dd><dt><span>long_name :</span></dt><dd>Near-Surface Air Temperature</dd><dt><span>comment :</span></dt><dd>near-surface (usually, 2 meter) air temperature</dd><dt><span>units :</span></dt><dd>K</dd><dt><span>cell_methods :</span></dt><dd>area: time: mean</dd><dt><span>cell_measures :</span></dt><dd>area: areacella</dd><dt><span>history :</span></dt><dd>2022-09-23T17:17:36Z altered by CMOR: Treated scalar dimension: &#x27;height&#x27;.</dd><dt><span>regrid_method :</span></dt><dd>bilinear</dd></dl></div><div class='xr-var-data'><pre>array([[[251.84956, 251.83589, 251.80801, ..., 253.68149, 253.69684,\n",
       "         253.70436],\n",
       "        [257.9591 , 257.91568, 257.82715, ..., 261.13745, 261.18372,\n",
       "         261.2064 ],\n",
       "        [260.60272, 260.60416, 254.5739 , ..., 266.11453, 263.6948 ,\n",
       "         263.72293],\n",
       "        ...,\n",
       "        [254.19562, 253.926  , 251.11295, ..., 251.9122 , 255.45049,\n",
       "         255.57997],\n",
       "        [241.85123, 241.83139, 241.79092, ..., 244.05063, 244.11905,\n",
       "         244.15262],\n",
       "        [241.75826, 241.76   , 241.76352, ..., 245.96321, 245.95007,\n",
       "         245.94363]],\n",
       "\n",
       "       [[252.53798, 252.52176, 252.48865, ..., 254.63847, 254.66031,\n",
       "         254.67102],\n",
       "        [258.1767 , 258.13675, 258.05524, ..., 261.67136, 261.71463,\n",
       "         261.73584],\n",
       "        [260.5888 , 260.59918, 254.74237, ..., 266.21558, 263.59534,\n",
       "         263.591  ],\n",
       "...\n",
       "        [243.343  , 243.201  , 243.8615 , ..., 240.96608, 240.57465,\n",
       "         240.59001],\n",
       "        [243.22472, 243.25775, 243.32513, ..., 243.48709, 243.37988,\n",
       "         243.3273 ],\n",
       "        [249.64388, 249.64803, 249.65648, ..., 250.57115, 250.56505,\n",
       "         250.56207]],\n",
       "\n",
       "       [[254.11253, 254.09825, 254.06914, ..., 257.60883, 257.64505,\n",
       "         257.6628 ],\n",
       "        [258.56055, 258.53143, 258.47205, ..., 261.09225, 261.18515,\n",
       "         261.2307 ],\n",
       "        [260.6301 , 260.6231 , 259.25073, ..., 265.93488, 262.20145,\n",
       "         262.1897 ],\n",
       "        ...,\n",
       "        [244.00443, 243.8301 , 244.377  , ..., 241.02571, 240.71123,\n",
       "         240.73502],\n",
       "        [244.58917, 244.62926, 244.71098, ..., 242.92674, 242.83557,\n",
       "         242.79086],\n",
       "        [249.01701, 249.01886, 249.02261, ..., 248.21904, 248.21823,\n",
       "         248.21782]]], dtype=float32)</pre></div></li><li class='xr-var-item'><div class='xr-var-name'><span>lon_bnds</span></div><div class='xr-var-dims'>(lon, bnds)</div><div class='xr-var-dtype'>float64</div><div class='xr-var-preview xr-preview'>0.0 4.0 4.0 ... 356.0 356.0 360.0</div><input id='attrs-a5300f1c-f186-43e8-9956-b7f540b7b7eb' class='xr-var-attrs-in' type='checkbox' ><label for='attrs-a5300f1c-f186-43e8-9956-b7f540b7b7eb' title='Show/Hide attributes'><svg class='icon xr-icon-file-text2'><use xlink:href='#icon-file-text2'></use></svg></label><input id='data-1bc7cc5c-b0e1-4af6-8065-30157eda8445' class='xr-var-data-in' type='checkbox'><label for='data-1bc7cc5c-b0e1-4af6-8065-30157eda8445' title='Show/Hide data repr'><svg class='icon xr-icon-database'><use xlink:href='#icon-database'></use></svg></label><div class='xr-var-attrs'><dl class='xr-attrs'><dt><span>xcdat_bounds :</span></dt><dd>True</dd></dl></div><div class='xr-var-data'><pre>array([[  0.,   4.],\n",
       "       [  4.,   8.],\n",
       "       [  8.,  12.],\n",
       "       [ 12.,  16.],\n",
       "       [ 16.,  20.],\n",
       "       [ 20.,  24.],\n",
       "       [ 24.,  28.],\n",
       "       [ 28.,  32.],\n",
       "       [ 32.,  36.],\n",
       "       [ 36.,  40.],\n",
       "       [ 40.,  44.],\n",
       "       [ 44.,  48.],\n",
       "       [ 48.,  52.],\n",
       "       [ 52.,  56.],\n",
       "       [ 56.,  60.],\n",
       "       [ 60.,  64.],\n",
       "       [ 64.,  68.],\n",
       "       [ 68.,  72.],\n",
       "       [ 72.,  76.],\n",
       "       [ 76.,  80.],\n",
       "...\n",
       "       [280., 284.],\n",
       "       [284., 288.],\n",
       "       [288., 292.],\n",
       "       [292., 296.],\n",
       "       [296., 300.],\n",
       "       [300., 304.],\n",
       "       [304., 308.],\n",
       "       [308., 312.],\n",
       "       [312., 316.],\n",
       "       [316., 320.],\n",
       "       [320., 324.],\n",
       "       [324., 328.],\n",
       "       [328., 332.],\n",
       "       [332., 336.],\n",
       "       [336., 340.],\n",
       "       [340., 344.],\n",
       "       [344., 348.],\n",
       "       [348., 352.],\n",
       "       [352., 356.],\n",
       "       [356., 360.]])</pre></div></li><li class='xr-var-item'><div class='xr-var-name'><span>lat_bnds</span></div><div class='xr-var-dims'>(lat, bnds)</div><div class='xr-var-dtype'>float64</div><div class='xr-var-preview xr-preview'>-90.0 -86.0 -86.0 ... 86.0 90.0</div><input id='attrs-fad7fea0-23fe-45c2-b23e-170ebd56c06e' class='xr-var-attrs-in' type='checkbox' ><label for='attrs-fad7fea0-23fe-45c2-b23e-170ebd56c06e' title='Show/Hide attributes'><svg class='icon xr-icon-file-text2'><use xlink:href='#icon-file-text2'></use></svg></label><input id='data-5d323f39-84d3-4bcb-ab7b-ad9e36a62189' class='xr-var-data-in' type='checkbox'><label for='data-5d323f39-84d3-4bcb-ab7b-ad9e36a62189' title='Show/Hide data repr'><svg class='icon xr-icon-database'><use xlink:href='#icon-database'></use></svg></label><div class='xr-var-attrs'><dl class='xr-attrs'><dt><span>xcdat_bounds :</span></dt><dd>True</dd></dl></div><div class='xr-var-data'><pre>array([[-90., -86.],\n",
       "       [-86., -82.],\n",
       "       [-82., -78.],\n",
       "       [-78., -74.],\n",
       "       [-74., -70.],\n",
       "       [-70., -66.],\n",
       "       [-66., -62.],\n",
       "       [-62., -58.],\n",
       "       [-58., -54.],\n",
       "       [-54., -50.],\n",
       "       [-50., -46.],\n",
       "       [-46., -42.],\n",
       "       [-42., -38.],\n",
       "       [-38., -34.],\n",
       "       [-34., -30.],\n",
       "       [-30., -26.],\n",
       "       [-26., -22.],\n",
       "       [-22., -18.],\n",
       "       [-18., -14.],\n",
       "       [-14., -10.],\n",
       "...\n",
       "       [ 10.,  14.],\n",
       "       [ 14.,  18.],\n",
       "       [ 18.,  22.],\n",
       "       [ 22.,  26.],\n",
       "       [ 26.,  30.],\n",
       "       [ 30.,  34.],\n",
       "       [ 34.,  38.],\n",
       "       [ 38.,  42.],\n",
       "       [ 42.,  46.],\n",
       "       [ 46.,  50.],\n",
       "       [ 50.,  54.],\n",
       "       [ 54.,  58.],\n",
       "       [ 58.,  62.],\n",
       "       [ 62.,  66.],\n",
       "       [ 66.,  70.],\n",
       "       [ 70.,  74.],\n",
       "       [ 74.,  78.],\n",
       "       [ 78.,  82.],\n",
       "       [ 82.,  86.],\n",
       "       [ 86.,  90.]])</pre></div></li><li class='xr-var-item'><div class='xr-var-name'><span>time_bnds</span></div><div class='xr-var-dims'>(time, bnds)</div><div class='xr-var-dtype'>object</div><div class='xr-var-preview xr-preview'>1850-01-01 00:00:00 ... 2015-01-...</div><input id='attrs-43f04fb5-8189-43a0-bc3f-a13e033f57b1' class='xr-var-attrs-in' type='checkbox' disabled><label for='attrs-43f04fb5-8189-43a0-bc3f-a13e033f57b1' title='Show/Hide attributes'><svg class='icon xr-icon-file-text2'><use xlink:href='#icon-file-text2'></use></svg></label><input id='data-17ecdde8-482e-40d9-8e4f-11a9668d2313' class='xr-var-data-in' type='checkbox'><label for='data-17ecdde8-482e-40d9-8e4f-11a9668d2313' title='Show/Hide data repr'><svg class='icon xr-icon-database'><use xlink:href='#icon-database'></use></svg></label><div class='xr-var-attrs'><dl class='xr-attrs'></dl></div><div class='xr-var-data'><pre>array([[cftime.DatetimeNoLeap(1850, 1, 1, 0, 0, 0, 0, has_year_zero=True),\n",
       "        cftime.DatetimeNoLeap(1850, 1, 2, 0, 0, 0, 0, has_year_zero=True)],\n",
       "       [cftime.DatetimeNoLeap(1850, 1, 2, 0, 0, 0, 0, has_year_zero=True),\n",
       "        cftime.DatetimeNoLeap(1850, 1, 3, 0, 0, 0, 0, has_year_zero=True)],\n",
       "       [cftime.DatetimeNoLeap(1850, 1, 3, 0, 0, 0, 0, has_year_zero=True),\n",
       "        cftime.DatetimeNoLeap(1850, 1, 4, 0, 0, 0, 0, has_year_zero=True)],\n",
       "       ...,\n",
       "       [cftime.DatetimeNoLeap(2014, 12, 29, 0, 0, 0, 0, has_year_zero=True),\n",
       "        cftime.DatetimeNoLeap(2014, 12, 30, 0, 0, 0, 0, has_year_zero=True)],\n",
       "       [cftime.DatetimeNoLeap(2014, 12, 30, 0, 0, 0, 0, has_year_zero=True),\n",
       "        cftime.DatetimeNoLeap(2014, 12, 31, 0, 0, 0, 0, has_year_zero=True)],\n",
       "       [cftime.DatetimeNoLeap(2014, 12, 31, 0, 0, 0, 0, has_year_zero=True),\n",
       "        cftime.DatetimeNoLeap(2015, 1, 1, 0, 0, 0, 0, has_year_zero=True)]],\n",
       "      dtype=object)</pre></div></li></ul></div></li><li class='xr-section-item'><input id='section-68a8b383-7302-402b-a79d-8491136eb27a' class='xr-section-summary-in' type='checkbox'  ><label for='section-68a8b383-7302-402b-a79d-8491136eb27a' class='xr-section-summary' >Indexes: <span>(3)</span></label><div class='xr-section-inline-details'></div><div class='xr-section-details'><ul class='xr-var-list'><li class='xr-var-item'><div class='xr-index-name'><div>time</div></div><div class='xr-index-preview'>PandasIndex</div><div></div><input id='index-05fe2b6e-e534-4747-932c-a31214609f33' class='xr-index-data-in' type='checkbox'/><label for='index-05fe2b6e-e534-4747-932c-a31214609f33' title='Show/Hide index repr'><svg class='icon xr-icon-database'><use xlink:href='#icon-database'></use></svg></label><div class='xr-index-data'><pre>PandasIndex(CFTimeIndex([1850-01-01 12:00:00, 1850-01-02 12:00:00, 1850-01-03 12:00:00,\n",
       "             1850-01-04 12:00:00, 1850-01-05 12:00:00, 1850-01-06 12:00:00,\n",
       "             1850-01-07 12:00:00, 1850-01-08 12:00:00, 1850-01-09 12:00:00,\n",
       "             1850-01-10 12:00:00,\n",
       "             ...\n",
       "             2014-12-22 12:00:00, 2014-12-23 12:00:00, 2014-12-24 12:00:00,\n",
       "             2014-12-25 12:00:00, 2014-12-26 12:00:00, 2014-12-27 12:00:00,\n",
       "             2014-12-28 12:00:00, 2014-12-29 12:00:00, 2014-12-30 12:00:00,\n",
       "             2014-12-31 12:00:00],\n",
       "            dtype=&#x27;object&#x27;, length=49275, calendar=&#x27;noleap&#x27;, freq=None))</pre></div></li><li class='xr-var-item'><div class='xr-index-name'><div>lon</div></div><div class='xr-index-preview'>PandasIndex</div><div></div><input id='index-0571f930-d255-4db0-a7cd-e5fc0a43ffd2' class='xr-index-data-in' type='checkbox'/><label for='index-0571f930-d255-4db0-a7cd-e5fc0a43ffd2' title='Show/Hide index repr'><svg class='icon xr-icon-database'><use xlink:href='#icon-database'></use></svg></label><div class='xr-index-data'><pre>PandasIndex(Index([  2,   6,  10,  14,  18,  22,  26,  30,  34,  38,  42,  46,  50,  54,\n",
       "        58,  62,  66,  70,  74,  78,  82,  86,  90,  94,  98, 102, 106, 110,\n",
       "       114, 118, 122, 126, 130, 134, 138, 142, 146, 150, 154, 158, 162, 166,\n",
       "       170, 174, 178, 182, 186, 190, 194, 198, 202, 206, 210, 214, 218, 222,\n",
       "       226, 230, 234, 238, 242, 246, 250, 254, 258, 262, 266, 270, 274, 278,\n",
       "       282, 286, 290, 294, 298, 302, 306, 310, 314, 318, 322, 326, 330, 334,\n",
       "       338, 342, 346, 350, 354, 358],\n",
       "      dtype=&#x27;int64&#x27;, name=&#x27;lon&#x27;))</pre></div></li><li class='xr-var-item'><div class='xr-index-name'><div>lat</div></div><div class='xr-index-preview'>PandasIndex</div><div></div><input id='index-71e4e332-547a-48ec-8e5b-35074784ab56' class='xr-index-data-in' type='checkbox'/><label for='index-71e4e332-547a-48ec-8e5b-35074784ab56' title='Show/Hide index repr'><svg class='icon xr-icon-database'><use xlink:href='#icon-database'></use></svg></label><div class='xr-index-data'><pre>PandasIndex(Index([-88, -84, -80, -76, -72, -68, -64, -60, -56, -52, -48, -44, -40, -36,\n",
       "       -32, -28, -24, -20, -16, -12,  -8,  -4,   0,   4,   8,  12,  16,  20,\n",
       "        24,  28,  32,  36,  40,  44,  48,  52,  56,  60,  64,  68,  72,  76,\n",
       "        80,  84,  88],\n",
       "      dtype=&#x27;int64&#x27;, name=&#x27;lat&#x27;))</pre></div></li></ul></div></li><li class='xr-section-item'><input id='section-c27ea112-932a-4379-a596-9f1c79604fff' class='xr-section-summary-in' type='checkbox'  ><label for='section-c27ea112-932a-4379-a596-9f1c79604fff' class='xr-section-summary' >Attributes: <span>(48)</span></label><div class='xr-section-inline-details'></div><div class='xr-section-details'><dl class='xr-attrs'><dt><span>Conventions :</span></dt><dd>CF-1.7 CMIP-6.2</dd><dt><span>activity_id :</span></dt><dd>CMIP</dd><dt><span>branch_method :</span></dt><dd>standard</dd><dt><span>branch_time_in_child :</span></dt><dd>0.0</dd><dt><span>branch_time_in_parent :</span></dt><dd>36500.0</dd><dt><span>creation_date :</span></dt><dd>2022-09-23T17:17:41Z</dd><dt><span>data contact :</span></dt><dd>E3SM-DATA-SUPPORT@LLNL.GOV</dd><dt><span>data_specs_version :</span></dt><dd>01.00.33</dd><dt><span>experiment :</span></dt><dd>all-forcing simulation of the recent past</dd><dt><span>experiment_id :</span></dt><dd>historical</dd><dt><span>external_variables :</span></dt><dd>areacella</dd><dt><span>forcing_index :</span></dt><dd>1</dd><dt><span>frequency :</span></dt><dd>day</dd><dt><span>further_info_url :</span></dt><dd>https://furtherinfo.es-doc.org/CMIP6.E3SM-Project.E3SM-2-0.historical.none.r1i1p1f1</dd><dt><span>grid :</span></dt><dd>data regridded to a CMIP6 standard 1x1 degree lonxlat grid from the native grid using an area-average preserving method.</dd><dt><span>grid_label :</span></dt><dd>gr</dd><dt><span>history :</span></dt><dd>2022-09-23T17:17:41Z ;rewrote data to be consistent with CMIP for variable tas found in table day.;\n",
       "v2.LR.historical_0101</dd><dt><span>initialization_index :</span></dt><dd>1</dd><dt><span>institution :</span></dt><dd>LLNL (Lawrence Livermore National Laboratory, Livermore, CA 94550, USA); ANL (Argonne National Laboratory, Argonne, IL 60439, USA); BNL (Brookhaven National Laboratory, Upton, NY 11973, USA); LANL (Los Alamos National Laboratory, Los Alamos, NM 87545, USA); LBNL (Lawrence Berkeley National Laboratory, Berkeley, CA 94720, USA); ORNL (Oak Ridge National Laboratory, Oak Ridge, TN 37831, USA); PNNL (Pacific Northwest National Laboratory, Richland, WA 99352, USA); SNL (Sandia National Laboratories, Albuquerque, NM 87185, USA). Mailing address: LLNL Climate Program, c/o David C. Bader, Principal Investigator, L-103, 7000 East Avenue, Livermore, CA 94550, USA</dd><dt><span>institution_id :</span></dt><dd>E3SM-Project</dd><dt><span>mip_era :</span></dt><dd>CMIP6</dd><dt><span>nominal_resolution :</span></dt><dd>100 km</dd><dt><span>parent_activity_id :</span></dt><dd>CMIP</dd><dt><span>parent_experiment_id :</span></dt><dd>piControl</dd><dt><span>parent_mip_era :</span></dt><dd>CMIP6</dd><dt><span>parent_source_id :</span></dt><dd>E3SM-2-0</dd><dt><span>parent_time_units :</span></dt><dd>days since 0001-01-01</dd><dt><span>parent_variant_label :</span></dt><dd>r1i1p1f1</dd><dt><span>physics_index :</span></dt><dd>1</dd><dt><span>product :</span></dt><dd>model-output</dd><dt><span>project PI :</span></dt><dd>Dave Bader (bader2@llnl.gov)</dd><dt><span>realization_index :</span></dt><dd>1</dd><dt><span>realm :</span></dt><dd>atmos</dd><dt><span>source :</span></dt><dd>E3SM 2.0 (2022): \n",
       "aerosol: MAM4 with new resuspension, marine organics, secondary organics, and dust (atmos grid)\n",
       "atmos: EAM (v2.0, cubed sphere spectral-element grid; 5400 elements, 30x30 per cube face. Dynamics: degree 3 (p=3) polynomials within each spectral element, 112 km average resolution. Physics: 2x2 finite volume cells within each spectral element, 1.5 degree (168 km) average grid spacing; 72 vertical layers; top level 60 km)\n",
       "atmosChem: Troposphere specified oxidants (except passive ozone with the lower boundary sink) for aerosols. Stratosphere linearized interactive ozone (LINOZ v2) (atmos grid)\n",
       "land: ELM (v1.0, satellite phenology mode, atmos grid), MOSART (v1.0, 0.5 degree latitude/longitude)\n",
       "landIce: none\n",
       "ocean: MPAS-Ocean (E3SMv2.0, EC30to60E2r2 unstructured SVTs mesh with 236853 cells, 719506 edges, variable resolution 60 to 30 km; 60 levels; top grid cell 0-10 m)\n",
       "ocnBgchem: none\n",
       "seaIce: MPAS-Seaice (E3SMv2.0, ocean grid; 5 ice categories; 7 ice, 5 snow layers)</dd><dt><span>source_id :</span></dt><dd>E3SM-2-0</dd><dt><span>source_type :</span></dt><dd>AOGCM AER</dd><dt><span>sub_experiment :</span></dt><dd>none</dd><dt><span>sub_experiment_id :</span></dt><dd>none</dd><dt><span>table_id :</span></dt><dd>day</dd><dt><span>table_info :</span></dt><dd>Creation Date:(18 November 2020) MD5:926d66e1a62ce074375d24e09d01cc11</dd><dt><span>title :</span></dt><dd>E3SM-2-0 output prepared for CMIP6</dd><dt><span>variable_id :</span></dt><dd>tas</dd><dt><span>variant_label :</span></dt><dd>r1i1p1f1</dd><dt><span>version :</span></dt><dd>v20220923</dd><dt><span>license :</span></dt><dd>CMIP6 model data produced by E3SM-Project is licensed under a Creative Commons Attribution 4.0 International License (https://creativecommons.org/licenses/by/4.0/). Consult https://pcmdi.llnl.gov/CMIP6/TermsOfUse for terms of use governing CMIP6 output, including citation requirements and proper acknowledgment. Further information about this data, including some limitations, can be found via the further_info_url (recorded as a global attribute in this file) and at https://pcmdi.llnl.gov/. The data producers and data providers make no warranty, either express or implied, including, but not limited to, warranties of merchantability and fitness for a particular purpose. All liabilities arising from the supply of the information (including any liability arising in negligence) are excluded to the fullest extent permitted by law.</dd><dt><span>cmor_version :</span></dt><dd>3.6.1</dd><dt><span>tracking_id :</span></dt><dd>hdl:21.14100/5e6a4671-b731-4201-9c13-4afd5735ecdc</dd><dt><span>references :</span></dt><dd>Golaz, J.-C., L. P. Van Roekel, X. Zheng and co-authors, 2022: The DOE E3SM Model Version 2: Overview of the physical model and initial model evaluation. JAMES, doi: 10.1029/2022MS003156; http://e3sm.org</dd></dl></div></li></ul></div></div>"
      ],
      "text/plain": [
       "<xarray.Dataset> Size: 799MB\n",
       "Dimensions:    (time: 49275, lon: 90, lat: 45, bnds: 2)\n",
       "Coordinates:\n",
       "    height     float64 8B 2.0\n",
       "  * time       (time) object 394kB 1850-01-01 12:00:00 ... 2014-12-31 12:00:00\n",
       "  * lon        (lon) int64 720B 2 6 10 14 18 22 26 ... 338 342 346 350 354 358\n",
       "  * lat        (lat) int64 360B -88 -84 -80 -76 -72 -68 ... 68 72 76 80 84 88\n",
       "Dimensions without coordinates: bnds\n",
       "Data variables:\n",
       "    tas        (time, lat, lon) float32 798MB 251.8 251.8 251.8 ... 248.2 248.2\n",
       "    lon_bnds   (lon, bnds) float64 1kB 0.0 4.0 4.0 8.0 ... 356.0 356.0 360.0\n",
       "    lat_bnds   (lat, bnds) float64 720B -90.0 -86.0 -86.0 ... 86.0 86.0 90.0\n",
       "    time_bnds  (time, bnds) object 788kB 1850-01-01 00:00:00 ... 2015-01-01 0...\n",
       "Attributes: (12/48)\n",
       "    Conventions:            CF-1.7 CMIP-6.2\n",
       "    activity_id:            CMIP\n",
       "    branch_method:          standard\n",
       "    branch_time_in_child:   0.0\n",
       "    branch_time_in_parent:  36500.0\n",
       "    creation_date:          2022-09-23T17:17:41Z\n",
       "    ...                     ...\n",
       "    variant_label:          r1i1p1f1\n",
       "    version:                v20220923\n",
       "    license:                CMIP6 model data produced by E3SM-Project is lice...\n",
       "    cmor_version:           3.6.1\n",
       "    tracking_id:            hdl:21.14100/5e6a4671-b731-4201-9c13-4afd5735ecdc\n",
       "    references:             Golaz, J.-C., L. P. Van Roekel, X. Zheng and co-a..."
      ]
     },
     "execution_count": 9,
     "metadata": {},
     "output_type": "execute_result"
    }
   ],
   "source": [
    "ds_xesmf = ds.regridder.horizontal(\"tas\", ngrid, tool=\"xesmf\", method=\"bilinear\")\n",
    "ds_xesmf.compute()"
   ]
  },
  {
   "cell_type": "code",
   "execution_count": 10,
   "metadata": {},
   "outputs": [
    {
     "data": {
      "text/html": [
       "<div><svg style=\"position: absolute; width: 0; height: 0; overflow: hidden\">\n",
       "<defs>\n",
       "<symbol id=\"icon-database\" viewBox=\"0 0 32 32\">\n",
       "<path d=\"M16 0c-8.837 0-16 2.239-16 5v4c0 2.761 7.163 5 16 5s16-2.239 16-5v-4c0-2.761-7.163-5-16-5z\"></path>\n",
       "<path d=\"M16 17c-8.837 0-16-2.239-16-5v6c0 2.761 7.163 5 16 5s16-2.239 16-5v-6c0 2.761-7.163 5-16 5z\"></path>\n",
       "<path d=\"M16 26c-8.837 0-16-2.239-16-5v6c0 2.761 7.163 5 16 5s16-2.239 16-5v-6c0 2.761-7.163 5-16 5z\"></path>\n",
       "</symbol>\n",
       "<symbol id=\"icon-file-text2\" viewBox=\"0 0 32 32\">\n",
       "<path d=\"M28.681 7.159c-0.694-0.947-1.662-2.053-2.724-3.116s-2.169-2.030-3.116-2.724c-1.612-1.182-2.393-1.319-2.841-1.319h-15.5c-1.378 0-2.5 1.121-2.5 2.5v27c0 1.378 1.122 2.5 2.5 2.5h23c1.378 0 2.5-1.122 2.5-2.5v-19.5c0-0.448-0.137-1.23-1.319-2.841zM24.543 5.457c0.959 0.959 1.712 1.825 2.268 2.543h-4.811v-4.811c0.718 0.556 1.584 1.309 2.543 2.268zM28 29.5c0 0.271-0.229 0.5-0.5 0.5h-23c-0.271 0-0.5-0.229-0.5-0.5v-27c0-0.271 0.229-0.5 0.5-0.5 0 0 15.499-0 15.5 0v7c0 0.552 0.448 1 1 1h7v19.5z\"></path>\n",
       "<path d=\"M23 26h-14c-0.552 0-1-0.448-1-1s0.448-1 1-1h14c0.552 0 1 0.448 1 1s-0.448 1-1 1z\"></path>\n",
       "<path d=\"M23 22h-14c-0.552 0-1-0.448-1-1s0.448-1 1-1h14c0.552 0 1 0.448 1 1s-0.448 1-1 1z\"></path>\n",
       "<path d=\"M23 18h-14c-0.552 0-1-0.448-1-1s0.448-1 1-1h14c0.552 0 1 0.448 1 1s-0.448 1-1 1z\"></path>\n",
       "</symbol>\n",
       "</defs>\n",
       "</svg>\n",
       "<style>/* CSS stylesheet for displaying xarray objects in jupyterlab.\n",
       " *\n",
       " */\n",
       "\n",
       ":root {\n",
       "  --xr-font-color0: var(--jp-content-font-color0, rgba(0, 0, 0, 1));\n",
       "  --xr-font-color2: var(--jp-content-font-color2, rgba(0, 0, 0, 0.54));\n",
       "  --xr-font-color3: var(--jp-content-font-color3, rgba(0, 0, 0, 0.38));\n",
       "  --xr-border-color: var(--jp-border-color2, #e0e0e0);\n",
       "  --xr-disabled-color: var(--jp-layout-color3, #bdbdbd);\n",
       "  --xr-background-color: var(--jp-layout-color0, white);\n",
       "  --xr-background-color-row-even: var(--jp-layout-color1, white);\n",
       "  --xr-background-color-row-odd: var(--jp-layout-color2, #eeeeee);\n",
       "}\n",
       "\n",
       "html[theme=dark],\n",
       "body[data-theme=dark],\n",
       "body.vscode-dark {\n",
       "  --xr-font-color0: rgba(255, 255, 255, 1);\n",
       "  --xr-font-color2: rgba(255, 255, 255, 0.54);\n",
       "  --xr-font-color3: rgba(255, 255, 255, 0.38);\n",
       "  --xr-border-color: #1F1F1F;\n",
       "  --xr-disabled-color: #515151;\n",
       "  --xr-background-color: #111111;\n",
       "  --xr-background-color-row-even: #111111;\n",
       "  --xr-background-color-row-odd: #313131;\n",
       "}\n",
       "\n",
       ".xr-wrap {\n",
       "  display: block !important;\n",
       "  min-width: 300px;\n",
       "  max-width: 700px;\n",
       "}\n",
       "\n",
       ".xr-text-repr-fallback {\n",
       "  /* fallback to plain text repr when CSS is not injected (untrusted notebook) */\n",
       "  display: none;\n",
       "}\n",
       "\n",
       ".xr-header {\n",
       "  padding-top: 6px;\n",
       "  padding-bottom: 6px;\n",
       "  margin-bottom: 4px;\n",
       "  border-bottom: solid 1px var(--xr-border-color);\n",
       "}\n",
       "\n",
       ".xr-header > div,\n",
       ".xr-header > ul {\n",
       "  display: inline;\n",
       "  margin-top: 0;\n",
       "  margin-bottom: 0;\n",
       "}\n",
       "\n",
       ".xr-obj-type,\n",
       ".xr-array-name {\n",
       "  margin-left: 2px;\n",
       "  margin-right: 10px;\n",
       "}\n",
       "\n",
       ".xr-obj-type {\n",
       "  color: var(--xr-font-color2);\n",
       "}\n",
       "\n",
       ".xr-sections {\n",
       "  padding-left: 0 !important;\n",
       "  display: grid;\n",
       "  grid-template-columns: 150px auto auto 1fr 20px 20px;\n",
       "}\n",
       "\n",
       ".xr-section-item {\n",
       "  display: contents;\n",
       "}\n",
       "\n",
       ".xr-section-item input {\n",
       "  display: none;\n",
       "}\n",
       "\n",
       ".xr-section-item input + label {\n",
       "  color: var(--xr-disabled-color);\n",
       "}\n",
       "\n",
       ".xr-section-item input:enabled + label {\n",
       "  cursor: pointer;\n",
       "  color: var(--xr-font-color2);\n",
       "}\n",
       "\n",
       ".xr-section-item input:enabled + label:hover {\n",
       "  color: var(--xr-font-color0);\n",
       "}\n",
       "\n",
       ".xr-section-summary {\n",
       "  grid-column: 1;\n",
       "  color: var(--xr-font-color2);\n",
       "  font-weight: 500;\n",
       "}\n",
       "\n",
       ".xr-section-summary > span {\n",
       "  display: inline-block;\n",
       "  padding-left: 0.5em;\n",
       "}\n",
       "\n",
       ".xr-section-summary-in:disabled + label {\n",
       "  color: var(--xr-font-color2);\n",
       "}\n",
       "\n",
       ".xr-section-summary-in + label:before {\n",
       "  display: inline-block;\n",
       "  content: '►';\n",
       "  font-size: 11px;\n",
       "  width: 15px;\n",
       "  text-align: center;\n",
       "}\n",
       "\n",
       ".xr-section-summary-in:disabled + label:before {\n",
       "  color: var(--xr-disabled-color);\n",
       "}\n",
       "\n",
       ".xr-section-summary-in:checked + label:before {\n",
       "  content: '▼';\n",
       "}\n",
       "\n",
       ".xr-section-summary-in:checked + label > span {\n",
       "  display: none;\n",
       "}\n",
       "\n",
       ".xr-section-summary,\n",
       ".xr-section-inline-details {\n",
       "  padding-top: 4px;\n",
       "  padding-bottom: 4px;\n",
       "}\n",
       "\n",
       ".xr-section-inline-details {\n",
       "  grid-column: 2 / -1;\n",
       "}\n",
       "\n",
       ".xr-section-details {\n",
       "  display: none;\n",
       "  grid-column: 1 / -1;\n",
       "  margin-bottom: 5px;\n",
       "}\n",
       "\n",
       ".xr-section-summary-in:checked ~ .xr-section-details {\n",
       "  display: contents;\n",
       "}\n",
       "\n",
       ".xr-array-wrap {\n",
       "  grid-column: 1 / -1;\n",
       "  display: grid;\n",
       "  grid-template-columns: 20px auto;\n",
       "}\n",
       "\n",
       ".xr-array-wrap > label {\n",
       "  grid-column: 1;\n",
       "  vertical-align: top;\n",
       "}\n",
       "\n",
       ".xr-preview {\n",
       "  color: var(--xr-font-color3);\n",
       "}\n",
       "\n",
       ".xr-array-preview,\n",
       ".xr-array-data {\n",
       "  padding: 0 5px !important;\n",
       "  grid-column: 2;\n",
       "}\n",
       "\n",
       ".xr-array-data,\n",
       ".xr-array-in:checked ~ .xr-array-preview {\n",
       "  display: none;\n",
       "}\n",
       "\n",
       ".xr-array-in:checked ~ .xr-array-data,\n",
       ".xr-array-preview {\n",
       "  display: inline-block;\n",
       "}\n",
       "\n",
       ".xr-dim-list {\n",
       "  display: inline-block !important;\n",
       "  list-style: none;\n",
       "  padding: 0 !important;\n",
       "  margin: 0;\n",
       "}\n",
       "\n",
       ".xr-dim-list li {\n",
       "  display: inline-block;\n",
       "  padding: 0;\n",
       "  margin: 0;\n",
       "}\n",
       "\n",
       ".xr-dim-list:before {\n",
       "  content: '(';\n",
       "}\n",
       "\n",
       ".xr-dim-list:after {\n",
       "  content: ')';\n",
       "}\n",
       "\n",
       ".xr-dim-list li:not(:last-child):after {\n",
       "  content: ',';\n",
       "  padding-right: 5px;\n",
       "}\n",
       "\n",
       ".xr-has-index {\n",
       "  font-weight: bold;\n",
       "}\n",
       "\n",
       ".xr-var-list,\n",
       ".xr-var-item {\n",
       "  display: contents;\n",
       "}\n",
       "\n",
       ".xr-var-item > div,\n",
       ".xr-var-item label,\n",
       ".xr-var-item > .xr-var-name span {\n",
       "  background-color: var(--xr-background-color-row-even);\n",
       "  margin-bottom: 0;\n",
       "}\n",
       "\n",
       ".xr-var-item > .xr-var-name:hover span {\n",
       "  padding-right: 5px;\n",
       "}\n",
       "\n",
       ".xr-var-list > li:nth-child(odd) > div,\n",
       ".xr-var-list > li:nth-child(odd) > label,\n",
       ".xr-var-list > li:nth-child(odd) > .xr-var-name span {\n",
       "  background-color: var(--xr-background-color-row-odd);\n",
       "}\n",
       "\n",
       ".xr-var-name {\n",
       "  grid-column: 1;\n",
       "}\n",
       "\n",
       ".xr-var-dims {\n",
       "  grid-column: 2;\n",
       "}\n",
       "\n",
       ".xr-var-dtype {\n",
       "  grid-column: 3;\n",
       "  text-align: right;\n",
       "  color: var(--xr-font-color2);\n",
       "}\n",
       "\n",
       ".xr-var-preview {\n",
       "  grid-column: 4;\n",
       "}\n",
       "\n",
       ".xr-index-preview {\n",
       "  grid-column: 2 / 5;\n",
       "  color: var(--xr-font-color2);\n",
       "}\n",
       "\n",
       ".xr-var-name,\n",
       ".xr-var-dims,\n",
       ".xr-var-dtype,\n",
       ".xr-preview,\n",
       ".xr-attrs dt {\n",
       "  white-space: nowrap;\n",
       "  overflow: hidden;\n",
       "  text-overflow: ellipsis;\n",
       "  padding-right: 10px;\n",
       "}\n",
       "\n",
       ".xr-var-name:hover,\n",
       ".xr-var-dims:hover,\n",
       ".xr-var-dtype:hover,\n",
       ".xr-attrs dt:hover {\n",
       "  overflow: visible;\n",
       "  width: auto;\n",
       "  z-index: 1;\n",
       "}\n",
       "\n",
       ".xr-var-attrs,\n",
       ".xr-var-data,\n",
       ".xr-index-data {\n",
       "  display: none;\n",
       "  background-color: var(--xr-background-color) !important;\n",
       "  padding-bottom: 5px !important;\n",
       "}\n",
       "\n",
       ".xr-var-attrs-in:checked ~ .xr-var-attrs,\n",
       ".xr-var-data-in:checked ~ .xr-var-data,\n",
       ".xr-index-data-in:checked ~ .xr-index-data {\n",
       "  display: block;\n",
       "}\n",
       "\n",
       ".xr-var-data > table {\n",
       "  float: right;\n",
       "}\n",
       "\n",
       ".xr-var-name span,\n",
       ".xr-var-data,\n",
       ".xr-index-name div,\n",
       ".xr-index-data,\n",
       ".xr-attrs {\n",
       "  padding-left: 25px !important;\n",
       "}\n",
       "\n",
       ".xr-attrs,\n",
       ".xr-var-attrs,\n",
       ".xr-var-data,\n",
       ".xr-index-data {\n",
       "  grid-column: 1 / -1;\n",
       "}\n",
       "\n",
       "dl.xr-attrs {\n",
       "  padding: 0;\n",
       "  margin: 0;\n",
       "  display: grid;\n",
       "  grid-template-columns: 125px auto;\n",
       "}\n",
       "\n",
       ".xr-attrs dt,\n",
       ".xr-attrs dd {\n",
       "  padding: 0;\n",
       "  margin: 0;\n",
       "  float: left;\n",
       "  padding-right: 10px;\n",
       "  width: auto;\n",
       "}\n",
       "\n",
       ".xr-attrs dt {\n",
       "  font-weight: normal;\n",
       "  grid-column: 1;\n",
       "}\n",
       "\n",
       ".xr-attrs dt:hover span {\n",
       "  display: inline-block;\n",
       "  background: var(--xr-background-color);\n",
       "  padding-right: 10px;\n",
       "}\n",
       "\n",
       ".xr-attrs dd {\n",
       "  grid-column: 2;\n",
       "  white-space: pre-wrap;\n",
       "  word-break: break-all;\n",
       "}\n",
       "\n",
       ".xr-icon-database,\n",
       ".xr-icon-file-text2,\n",
       ".xr-no-icon {\n",
       "  display: inline-block;\n",
       "  vertical-align: middle;\n",
       "  width: 1em;\n",
       "  height: 1.5em !important;\n",
       "  stroke-width: 0;\n",
       "  stroke: currentColor;\n",
       "  fill: currentColor;\n",
       "}\n",
       "</style><pre class='xr-text-repr-fallback'>&lt;xarray.DataArray &#x27;tas&#x27; (time: 49275, lat: 45, lon: 90)&gt; Size: 798MB\n",
       "dask.array&lt;astype, shape=(49275, 45, 90), dtype=float32, chunksize=(517, 45, 90), chunktype=numpy.ndarray&gt;\n",
       "Coordinates:\n",
       "    height   float64 8B 2.0\n",
       "  * time     (time) object 394kB 1850-01-01 12:00:00 ... 2014-12-31 12:00:00\n",
       "  * lon      (lon) int64 720B 2 6 10 14 18 22 26 ... 334 338 342 346 350 354 358\n",
       "  * lat      (lat) int64 360B -88 -84 -80 -76 -72 -68 -64 ... 68 72 76 80 84 88\n",
       "Attributes:\n",
       "    standard_name:  air_temperature\n",
       "    long_name:      Near-Surface Air Temperature\n",
       "    comment:        near-surface (usually, 2 meter) air temperature\n",
       "    units:          K\n",
       "    cell_methods:   area: time: mean\n",
       "    cell_measures:  area: areacella\n",
       "    history:        2022-09-23T17:17:36Z altered by CMOR: Treated scalar dime...\n",
       "    regrid_method:  bilinear</pre><div class='xr-wrap' style='display:none'><div class='xr-header'><div class='xr-obj-type'>xarray.DataArray</div><div class='xr-array-name'>'tas'</div><ul class='xr-dim-list'><li><span class='xr-has-index'>time</span>: 49275</li><li><span class='xr-has-index'>lat</span>: 45</li><li><span class='xr-has-index'>lon</span>: 90</li></ul></div><ul class='xr-sections'><li class='xr-section-item'><div class='xr-array-wrap'><input id='section-8530ffa3-c18e-4bda-a511-bbbfca37a07b' class='xr-array-in' type='checkbox' checked><label for='section-8530ffa3-c18e-4bda-a511-bbbfca37a07b' title='Show/hide data repr'><svg class='icon xr-icon-database'><use xlink:href='#icon-database'></use></svg></label><div class='xr-array-preview xr-preview'><span>dask.array&lt;chunksize=(517, 45, 90), meta=np.ndarray&gt;</span></div><div class='xr-array-data'><table>\n",
       "    <tr>\n",
       "        <td>\n",
       "            <table style=\"border-collapse: collapse;\">\n",
       "                <thead>\n",
       "                    <tr>\n",
       "                        <td> </td>\n",
       "                        <th> Array </th>\n",
       "                        <th> Chunk </th>\n",
       "                    </tr>\n",
       "                </thead>\n",
       "                <tbody>\n",
       "                    \n",
       "                    <tr>\n",
       "                        <th> Bytes </th>\n",
       "                        <td> 761.28 MiB </td>\n",
       "                        <td> 7.99 MiB </td>\n",
       "                    </tr>\n",
       "                    \n",
       "                    <tr>\n",
       "                        <th> Shape </th>\n",
       "                        <td> (49275, 45, 90) </td>\n",
       "                        <td> (517, 45, 90) </td>\n",
       "                    </tr>\n",
       "                    <tr>\n",
       "                        <th> Dask graph </th>\n",
       "                        <td colspan=\"2\"> 108 chunks in 35 graph layers </td>\n",
       "                    </tr>\n",
       "                    <tr>\n",
       "                        <th> Data type </th>\n",
       "                        <td colspan=\"2\"> float32 numpy.ndarray </td>\n",
       "                    </tr>\n",
       "                </tbody>\n",
       "            </table>\n",
       "        </td>\n",
       "        <td>\n",
       "        <svg width=\"156\" height=\"146\" style=\"stroke:rgb(0,0,0);stroke-width:1\" >\n",
       "\n",
       "  <!-- Horizontal lines -->\n",
       "  <line x1=\"10\" y1=\"0\" x2=\"80\" y2=\"70\" style=\"stroke-width:2\" />\n",
       "  <line x1=\"10\" y1=\"25\" x2=\"80\" y2=\"96\" style=\"stroke-width:2\" />\n",
       "\n",
       "  <!-- Vertical lines -->\n",
       "  <line x1=\"10\" y1=\"0\" x2=\"10\" y2=\"25\" style=\"stroke-width:2\" />\n",
       "  <line x1=\"13\" y1=\"3\" x2=\"13\" y2=\"29\" />\n",
       "  <line x1=\"17\" y1=\"7\" x2=\"17\" y2=\"32\" />\n",
       "  <line x1=\"21\" y1=\"11\" x2=\"21\" y2=\"36\" />\n",
       "  <line x1=\"24\" y1=\"14\" x2=\"24\" y2=\"40\" />\n",
       "  <line x1=\"28\" y1=\"18\" x2=\"28\" y2=\"44\" />\n",
       "  <line x1=\"32\" y1=\"22\" x2=\"32\" y2=\"47\" />\n",
       "  <line x1=\"36\" y1=\"26\" x2=\"36\" y2=\"51\" />\n",
       "  <line x1=\"39\" y1=\"29\" x2=\"39\" y2=\"55\" />\n",
       "  <line x1=\"43\" y1=\"33\" x2=\"43\" y2=\"59\" />\n",
       "  <line x1=\"46\" y1=\"36\" x2=\"46\" y2=\"62\" />\n",
       "  <line x1=\"51\" y1=\"41\" x2=\"51\" y2=\"66\" />\n",
       "  <line x1=\"54\" y1=\"44\" x2=\"54\" y2=\"70\" />\n",
       "  <line x1=\"57\" y1=\"47\" x2=\"57\" y2=\"73\" />\n",
       "  <line x1=\"62\" y1=\"52\" x2=\"62\" y2=\"77\" />\n",
       "  <line x1=\"65\" y1=\"55\" x2=\"65\" y2=\"81\" />\n",
       "  <line x1=\"68\" y1=\"58\" x2=\"68\" y2=\"84\" />\n",
       "  <line x1=\"72\" y1=\"62\" x2=\"72\" y2=\"88\" />\n",
       "  <line x1=\"77\" y1=\"67\" x2=\"77\" y2=\"92\" />\n",
       "  <line x1=\"80\" y1=\"70\" x2=\"80\" y2=\"96\" style=\"stroke-width:2\" />\n",
       "\n",
       "  <!-- Colored Rectangle -->\n",
       "  <polygon points=\"10.0,0.0 80.58823529411765,70.58823529411765 80.58823529411765,96.00085180870013 10.0,25.41261651458249\" style=\"fill:#8B4903A0;stroke-width:0\"/>\n",
       "\n",
       "  <!-- Horizontal lines -->\n",
       "  <line x1=\"10\" y1=\"0\" x2=\"35\" y2=\"0\" style=\"stroke-width:2\" />\n",
       "  <line x1=\"13\" y1=\"3\" x2=\"39\" y2=\"3\" />\n",
       "  <line x1=\"17\" y1=\"7\" x2=\"42\" y2=\"7\" />\n",
       "  <line x1=\"21\" y1=\"11\" x2=\"46\" y2=\"11\" />\n",
       "  <line x1=\"24\" y1=\"14\" x2=\"50\" y2=\"14\" />\n",
       "  <line x1=\"28\" y1=\"18\" x2=\"54\" y2=\"18\" />\n",
       "  <line x1=\"32\" y1=\"22\" x2=\"57\" y2=\"22\" />\n",
       "  <line x1=\"36\" y1=\"26\" x2=\"61\" y2=\"26\" />\n",
       "  <line x1=\"39\" y1=\"29\" x2=\"65\" y2=\"29\" />\n",
       "  <line x1=\"43\" y1=\"33\" x2=\"69\" y2=\"33\" />\n",
       "  <line x1=\"46\" y1=\"36\" x2=\"72\" y2=\"36\" />\n",
       "  <line x1=\"51\" y1=\"41\" x2=\"76\" y2=\"41\" />\n",
       "  <line x1=\"54\" y1=\"44\" x2=\"80\" y2=\"44\" />\n",
       "  <line x1=\"57\" y1=\"47\" x2=\"83\" y2=\"47\" />\n",
       "  <line x1=\"62\" y1=\"52\" x2=\"87\" y2=\"52\" />\n",
       "  <line x1=\"65\" y1=\"55\" x2=\"91\" y2=\"55\" />\n",
       "  <line x1=\"68\" y1=\"58\" x2=\"94\" y2=\"58\" />\n",
       "  <line x1=\"72\" y1=\"62\" x2=\"98\" y2=\"62\" />\n",
       "  <line x1=\"77\" y1=\"67\" x2=\"102\" y2=\"67\" />\n",
       "  <line x1=\"80\" y1=\"70\" x2=\"106\" y2=\"70\" style=\"stroke-width:2\" />\n",
       "\n",
       "  <!-- Vertical lines -->\n",
       "  <line x1=\"10\" y1=\"0\" x2=\"80\" y2=\"70\" style=\"stroke-width:2\" />\n",
       "  <line x1=\"35\" y1=\"0\" x2=\"106\" y2=\"70\" style=\"stroke-width:2\" />\n",
       "\n",
       "  <!-- Colored Rectangle -->\n",
       "  <polygon points=\"10.0,0.0 35.41261651458249,0.0 106.00085180870013,70.58823529411765 80.58823529411765,70.58823529411765\" style=\"fill:#8B4903A0;stroke-width:0\"/>\n",
       "\n",
       "  <!-- Horizontal lines -->\n",
       "  <line x1=\"80\" y1=\"70\" x2=\"106\" y2=\"70\" style=\"stroke-width:2\" />\n",
       "  <line x1=\"80\" y1=\"96\" x2=\"106\" y2=\"96\" style=\"stroke-width:2\" />\n",
       "\n",
       "  <!-- Vertical lines -->\n",
       "  <line x1=\"80\" y1=\"70\" x2=\"80\" y2=\"96\" style=\"stroke-width:2\" />\n",
       "  <line x1=\"106\" y1=\"70\" x2=\"106\" y2=\"96\" style=\"stroke-width:2\" />\n",
       "\n",
       "  <!-- Colored Rectangle -->\n",
       "  <polygon points=\"80.58823529411765,70.58823529411765 106.00085180870013,70.58823529411765 106.00085180870013,96.00085180870013 80.58823529411765,96.00085180870013\" style=\"fill:#ECB172A0;stroke-width:0\"/>\n",
       "\n",
       "  <!-- Text -->\n",
       "  <text x=\"93.294544\" y=\"116.000852\" font-size=\"1.0rem\" font-weight=\"100\" text-anchor=\"middle\" >90</text>\n",
       "  <text x=\"126.000852\" y=\"83.294544\" font-size=\"1.0rem\" font-weight=\"100\" text-anchor=\"middle\" transform=\"rotate(0,126.000852,83.294544)\">45</text>\n",
       "  <text x=\"35.294118\" y=\"80.706734\" font-size=\"1.0rem\" font-weight=\"100\" text-anchor=\"middle\" transform=\"rotate(45,35.294118,80.706734)\">49275</text>\n",
       "</svg>\n",
       "        </td>\n",
       "    </tr>\n",
       "</table></div></div></li><li class='xr-section-item'><input id='section-7d30882e-4315-4e3f-87b4-052824beb5a1' class='xr-section-summary-in' type='checkbox'  checked><label for='section-7d30882e-4315-4e3f-87b4-052824beb5a1' class='xr-section-summary' >Coordinates: <span>(4)</span></label><div class='xr-section-inline-details'></div><div class='xr-section-details'><ul class='xr-var-list'><li class='xr-var-item'><div class='xr-var-name'><span>height</span></div><div class='xr-var-dims'>()</div><div class='xr-var-dtype'>float64</div><div class='xr-var-preview xr-preview'>2.0</div><input id='attrs-c82ef6e4-66cf-4cb9-ae27-9295413b88b8' class='xr-var-attrs-in' type='checkbox' ><label for='attrs-c82ef6e4-66cf-4cb9-ae27-9295413b88b8' title='Show/Hide attributes'><svg class='icon xr-icon-file-text2'><use xlink:href='#icon-file-text2'></use></svg></label><input id='data-880d74f9-74f3-432d-95e3-ed933be5d2d3' class='xr-var-data-in' type='checkbox'><label for='data-880d74f9-74f3-432d-95e3-ed933be5d2d3' title='Show/Hide data repr'><svg class='icon xr-icon-database'><use xlink:href='#icon-database'></use></svg></label><div class='xr-var-attrs'><dl class='xr-attrs'><dt><span>units :</span></dt><dd>m</dd><dt><span>axis :</span></dt><dd>Z</dd><dt><span>positive :</span></dt><dd>up</dd><dt><span>long_name :</span></dt><dd>height</dd><dt><span>standard_name :</span></dt><dd>height</dd></dl></div><div class='xr-var-data'><pre>array(2.)</pre></div></li><li class='xr-var-item'><div class='xr-var-name'><span class='xr-has-index'>time</span></div><div class='xr-var-dims'>(time)</div><div class='xr-var-dtype'>object</div><div class='xr-var-preview xr-preview'>1850-01-01 12:00:00 ... 2014-12-...</div><input id='attrs-6f000577-6dfd-4d53-825d-21824ed1946d' class='xr-var-attrs-in' type='checkbox' ><label for='attrs-6f000577-6dfd-4d53-825d-21824ed1946d' title='Show/Hide attributes'><svg class='icon xr-icon-file-text2'><use xlink:href='#icon-file-text2'></use></svg></label><input id='data-7ed09d8a-9733-4f2a-89bf-9620f8b1a0bd' class='xr-var-data-in' type='checkbox'><label for='data-7ed09d8a-9733-4f2a-89bf-9620f8b1a0bd' title='Show/Hide data repr'><svg class='icon xr-icon-database'><use xlink:href='#icon-database'></use></svg></label><div class='xr-var-attrs'><dl class='xr-attrs'><dt><span>bounds :</span></dt><dd>time_bnds</dd><dt><span>axis :</span></dt><dd>T</dd><dt><span>long_name :</span></dt><dd>time</dd><dt><span>standard_name :</span></dt><dd>time</dd></dl></div><div class='xr-var-data'><pre>array([cftime.DatetimeNoLeap(1850, 1, 1, 12, 0, 0, 0, has_year_zero=True),\n",
       "       cftime.DatetimeNoLeap(1850, 1, 2, 12, 0, 0, 0, has_year_zero=True),\n",
       "       cftime.DatetimeNoLeap(1850, 1, 3, 12, 0, 0, 0, has_year_zero=True), ...,\n",
       "       cftime.DatetimeNoLeap(2014, 12, 29, 12, 0, 0, 0, has_year_zero=True),\n",
       "       cftime.DatetimeNoLeap(2014, 12, 30, 12, 0, 0, 0, has_year_zero=True),\n",
       "       cftime.DatetimeNoLeap(2014, 12, 31, 12, 0, 0, 0, has_year_zero=True)],\n",
       "      dtype=object)</pre></div></li><li class='xr-var-item'><div class='xr-var-name'><span class='xr-has-index'>lon</span></div><div class='xr-var-dims'>(lon)</div><div class='xr-var-dtype'>int64</div><div class='xr-var-preview xr-preview'>2 6 10 14 18 ... 346 350 354 358</div><input id='attrs-90c1d4c3-1c72-4af4-a85f-8e914ab1fa81' class='xr-var-attrs-in' type='checkbox' ><label for='attrs-90c1d4c3-1c72-4af4-a85f-8e914ab1fa81' title='Show/Hide attributes'><svg class='icon xr-icon-file-text2'><use xlink:href='#icon-file-text2'></use></svg></label><input id='data-dc58f03c-5749-4407-83c4-7fb2596b9d57' class='xr-var-data-in' type='checkbox'><label for='data-dc58f03c-5749-4407-83c4-7fb2596b9d57' title='Show/Hide data repr'><svg class='icon xr-icon-database'><use xlink:href='#icon-database'></use></svg></label><div class='xr-var-attrs'><dl class='xr-attrs'><dt><span>units :</span></dt><dd>degrees_east</dd><dt><span>axis :</span></dt><dd>X</dd><dt><span>coordinate :</span></dt><dd>longitude</dd><dt><span>bounds :</span></dt><dd>lon_bnds</dd></dl></div><div class='xr-var-data'><pre>array([  2,   6,  10,  14,  18,  22,  26,  30,  34,  38,  42,  46,  50,  54,\n",
       "        58,  62,  66,  70,  74,  78,  82,  86,  90,  94,  98, 102, 106, 110,\n",
       "       114, 118, 122, 126, 130, 134, 138, 142, 146, 150, 154, 158, 162, 166,\n",
       "       170, 174, 178, 182, 186, 190, 194, 198, 202, 206, 210, 214, 218, 222,\n",
       "       226, 230, 234, 238, 242, 246, 250, 254, 258, 262, 266, 270, 274, 278,\n",
       "       282, 286, 290, 294, 298, 302, 306, 310, 314, 318, 322, 326, 330, 334,\n",
       "       338, 342, 346, 350, 354, 358])</pre></div></li><li class='xr-var-item'><div class='xr-var-name'><span class='xr-has-index'>lat</span></div><div class='xr-var-dims'>(lat)</div><div class='xr-var-dtype'>int64</div><div class='xr-var-preview xr-preview'>-88 -84 -80 -76 -72 ... 76 80 84 88</div><input id='attrs-168612bf-0599-4b66-8e66-cd0b39c2c8e5' class='xr-var-attrs-in' type='checkbox' ><label for='attrs-168612bf-0599-4b66-8e66-cd0b39c2c8e5' title='Show/Hide attributes'><svg class='icon xr-icon-file-text2'><use xlink:href='#icon-file-text2'></use></svg></label><input id='data-30386375-ed3f-4901-b08c-22fb157a7c83' class='xr-var-data-in' type='checkbox'><label for='data-30386375-ed3f-4901-b08c-22fb157a7c83' title='Show/Hide data repr'><svg class='icon xr-icon-database'><use xlink:href='#icon-database'></use></svg></label><div class='xr-var-attrs'><dl class='xr-attrs'><dt><span>units :</span></dt><dd>degrees_north</dd><dt><span>axis :</span></dt><dd>Y</dd><dt><span>coordinate :</span></dt><dd>latitude</dd><dt><span>bounds :</span></dt><dd>lat_bnds</dd></dl></div><div class='xr-var-data'><pre>array([-88, -84, -80, -76, -72, -68, -64, -60, -56, -52, -48, -44, -40, -36,\n",
       "       -32, -28, -24, -20, -16, -12,  -8,  -4,   0,   4,   8,  12,  16,  20,\n",
       "        24,  28,  32,  36,  40,  44,  48,  52,  56,  60,  64,  68,  72,  76,\n",
       "        80,  84,  88])</pre></div></li></ul></div></li><li class='xr-section-item'><input id='section-fb8a2cc4-64fa-4696-b707-8bd7095591c8' class='xr-section-summary-in' type='checkbox'  ><label for='section-fb8a2cc4-64fa-4696-b707-8bd7095591c8' class='xr-section-summary' >Indexes: <span>(3)</span></label><div class='xr-section-inline-details'></div><div class='xr-section-details'><ul class='xr-var-list'><li class='xr-var-item'><div class='xr-index-name'><div>time</div></div><div class='xr-index-preview'>PandasIndex</div><div></div><input id='index-8f5ef3c8-d1fe-455b-95b9-f861c989da7d' class='xr-index-data-in' type='checkbox'/><label for='index-8f5ef3c8-d1fe-455b-95b9-f861c989da7d' title='Show/Hide index repr'><svg class='icon xr-icon-database'><use xlink:href='#icon-database'></use></svg></label><div class='xr-index-data'><pre>PandasIndex(CFTimeIndex([1850-01-01 12:00:00, 1850-01-02 12:00:00, 1850-01-03 12:00:00,\n",
       "             1850-01-04 12:00:00, 1850-01-05 12:00:00, 1850-01-06 12:00:00,\n",
       "             1850-01-07 12:00:00, 1850-01-08 12:00:00, 1850-01-09 12:00:00,\n",
       "             1850-01-10 12:00:00,\n",
       "             ...\n",
       "             2014-12-22 12:00:00, 2014-12-23 12:00:00, 2014-12-24 12:00:00,\n",
       "             2014-12-25 12:00:00, 2014-12-26 12:00:00, 2014-12-27 12:00:00,\n",
       "             2014-12-28 12:00:00, 2014-12-29 12:00:00, 2014-12-30 12:00:00,\n",
       "             2014-12-31 12:00:00],\n",
       "            dtype=&#x27;object&#x27;, length=49275, calendar=&#x27;noleap&#x27;, freq=None))</pre></div></li><li class='xr-var-item'><div class='xr-index-name'><div>lon</div></div><div class='xr-index-preview'>PandasIndex</div><div></div><input id='index-052ad996-622c-43d5-b091-455facfd18b9' class='xr-index-data-in' type='checkbox'/><label for='index-052ad996-622c-43d5-b091-455facfd18b9' title='Show/Hide index repr'><svg class='icon xr-icon-database'><use xlink:href='#icon-database'></use></svg></label><div class='xr-index-data'><pre>PandasIndex(Index([  2,   6,  10,  14,  18,  22,  26,  30,  34,  38,  42,  46,  50,  54,\n",
       "        58,  62,  66,  70,  74,  78,  82,  86,  90,  94,  98, 102, 106, 110,\n",
       "       114, 118, 122, 126, 130, 134, 138, 142, 146, 150, 154, 158, 162, 166,\n",
       "       170, 174, 178, 182, 186, 190, 194, 198, 202, 206, 210, 214, 218, 222,\n",
       "       226, 230, 234, 238, 242, 246, 250, 254, 258, 262, 266, 270, 274, 278,\n",
       "       282, 286, 290, 294, 298, 302, 306, 310, 314, 318, 322, 326, 330, 334,\n",
       "       338, 342, 346, 350, 354, 358],\n",
       "      dtype=&#x27;int64&#x27;, name=&#x27;lon&#x27;))</pre></div></li><li class='xr-var-item'><div class='xr-index-name'><div>lat</div></div><div class='xr-index-preview'>PandasIndex</div><div></div><input id='index-a4cf3364-fa71-4c8b-b802-5631fedcfa55' class='xr-index-data-in' type='checkbox'/><label for='index-a4cf3364-fa71-4c8b-b802-5631fedcfa55' title='Show/Hide index repr'><svg class='icon xr-icon-database'><use xlink:href='#icon-database'></use></svg></label><div class='xr-index-data'><pre>PandasIndex(Index([-88, -84, -80, -76, -72, -68, -64, -60, -56, -52, -48, -44, -40, -36,\n",
       "       -32, -28, -24, -20, -16, -12,  -8,  -4,   0,   4,   8,  12,  16,  20,\n",
       "        24,  28,  32,  36,  40,  44,  48,  52,  56,  60,  64,  68,  72,  76,\n",
       "        80,  84,  88],\n",
       "      dtype=&#x27;int64&#x27;, name=&#x27;lat&#x27;))</pre></div></li></ul></div></li><li class='xr-section-item'><input id='section-b6cf09e6-f411-4c23-b216-69499dc92626' class='xr-section-summary-in' type='checkbox'  checked><label for='section-b6cf09e6-f411-4c23-b216-69499dc92626' class='xr-section-summary' >Attributes: <span>(8)</span></label><div class='xr-section-inline-details'></div><div class='xr-section-details'><dl class='xr-attrs'><dt><span>standard_name :</span></dt><dd>air_temperature</dd><dt><span>long_name :</span></dt><dd>Near-Surface Air Temperature</dd><dt><span>comment :</span></dt><dd>near-surface (usually, 2 meter) air temperature</dd><dt><span>units :</span></dt><dd>K</dd><dt><span>cell_methods :</span></dt><dd>area: time: mean</dd><dt><span>cell_measures :</span></dt><dd>area: areacella</dd><dt><span>history :</span></dt><dd>2022-09-23T17:17:36Z altered by CMOR: Treated scalar dimension: &#x27;height&#x27;.</dd><dt><span>regrid_method :</span></dt><dd>bilinear</dd></dl></div></li></ul></div></div>"
      ],
      "text/plain": [
       "<xarray.DataArray 'tas' (time: 49275, lat: 45, lon: 90)> Size: 798MB\n",
       "dask.array<astype, shape=(49275, 45, 90), dtype=float32, chunksize=(517, 45, 90), chunktype=numpy.ndarray>\n",
       "Coordinates:\n",
       "    height   float64 8B 2.0\n",
       "  * time     (time) object 394kB 1850-01-01 12:00:00 ... 2014-12-31 12:00:00\n",
       "  * lon      (lon) int64 720B 2 6 10 14 18 22 26 ... 334 338 342 346 350 354 358\n",
       "  * lat      (lat) int64 360B -88 -84 -80 -76 -72 -68 -64 ... 68 72 76 80 84 88\n",
       "Attributes:\n",
       "    standard_name:  air_temperature\n",
       "    long_name:      Near-Surface Air Temperature\n",
       "    comment:        near-surface (usually, 2 meter) air temperature\n",
       "    units:          K\n",
       "    cell_methods:   area: time: mean\n",
       "    cell_measures:  area: areacella\n",
       "    history:        2022-09-23T17:17:36Z altered by CMOR: Treated scalar dime...\n",
       "    regrid_method:  bilinear"
      ]
     },
     "execution_count": 10,
     "metadata": {},
     "output_type": "execute_result"
    }
   ],
   "source": [
    "ds_xesmf.tas"
   ]
  },
  {
   "cell_type": "markdown",
   "metadata": {
    "slideshow": {
     "slide_type": "subslide"
    }
   },
   "source": [
    "#### Compare the results (for the first timestep)\n",
    "\n",
    "Now we just plot the results for comparison.\n"
   ]
  },
  {
   "cell_type": "code",
   "execution_count": 11,
   "metadata": {
    "slideshow": {
     "slide_type": "fragment"
    }
   },
   "outputs": [
    {
     "data": {
      "text/plain": [
       "Text(0.5, 1.0, 'xESMF 4$^{\\\\circ}$ x 4$^{\\\\circ}$')"
      ]
     },
     "execution_count": 11,
     "metadata": {},
     "output_type": "execute_result"
    },
    {
     "data": {
      "image/png": "[encoded data removed]",
      "text/plain": [
       "<Figure size 1200x500 with 4 Axes>"
      ]
     },
     "metadata": {},
     "output_type": "display_data"
    }
   ],
   "source": [
    "map_proj = ccrs.Robinson()\n",
    "\n",
    "# plot original data (first time step)\n",
    "plt.figure(figsize=(12, 5))\n",
    "plt.subplot(1, 2, 1, projection=map_proj)\n",
    "p = ds.tas[0].plot(\n",
    "    transform=ccrs.PlateCarree(),  # the data's projection\n",
    "    subplot_kws={\"projection\": map_proj},\n",
    "    cbar_kwargs={\"orientation\": \"horizontal\"},\n",
    "    cmap=plt.cm.RdBu_r,\n",
    ")\n",
    "ax = plt.gca()\n",
    "ax.coastlines()\n",
    "plt.title(\"Original\")\n",
    "\n",
    "# plot the remapped data (first time step)\n",
    "plt.subplot(1, 2, 2, projection=map_proj)\n",
    "p = ds_xesmf.tas[0].plot(\n",
    "    transform=ccrs.PlateCarree(),  # the data's projection\n",
    "    subplot_kws={\"projection\": map_proj},\n",
    "    cbar_kwargs={\"orientation\": \"horizontal\"},\n",
    "    cmap=plt.cm.RdBu_r,\n",
    ")\n",
    "ax = plt.gca()\n",
    "ax.coastlines()\n",
    "plt.title(\"xESMF 4$^{\\circ}$ x 4$^{\\circ}$\")"
   ]
  },
  {
   "cell_type": "markdown",
   "metadata": {
    "slideshow": {
     "slide_type": "subslide"
    }
   },
   "source": [
    "### 5. Vertical Regridding\n",
    "\n",
    "xCDAT can also regrid in the vertical dimension. Here we'll grab some cloud fraction data (`cl`) and regrid it from model hybrid coordinate to pressure levels.\n",
    "\n",
    "Documentation: https://xcdat.readthedocs.io/en/stable/examples/regridding-vertical.html#4:-Remap-cloud-fraction-from-model-hybrid-coordinate-to-pressure-levels\n"
   ]
  },
  {
   "cell_type": "code",
   "execution_count": 86,
   "metadata": {
    "slideshow": {
     "slide_type": "fragment"
    }
   },
   "outputs": [],
   "source": [
    "FILENAMES_3D = [\n",
    "    \"cl_Amon_E3SM-2-0_historical_r1i1p1f1_gr_185001-189912.nc\",\n",
    "    \"cl_Amon_E3SM-2-0_historical_r1i1p1f1_gr_190001-194912.nc\",\n",
    "    \"cl_Amon_E3SM-2-0_historical_r1i1p1f1_gr_195001-199912.nc\",\n",
    "    \"cl_Amon_E3SM-2-0_historical_r1i1p1f1_gr_200001-201412.nc\",\n",
    "]\n",
    "\n",
    "LOCAL_DIR_3D = \"docs/demos/24-07-11-scipy-2024/cl_Amon_E3SM-2-0_historical_r1i1p1f1_gr\"\n",
    "LOCAL_FILEPATHS_3D = [os.path.join(LOCAL_DIR_3D, file) for file in FILENAMES_3D]\n",
    "\n",
    "# ESGF Search :https://aims2.llnl.gov/search?project=CMIP6&activeFacets=%7B%22activity_id%22%3A%22CMIP%22%2C%22source_id%22%3A%22E3SM-2-0%22%2C%22experiment_id%22%3A%22historical%22%2C%22variant_label%22%3A%22r1i1p1f1%22%2C%22variable_id%22%3A%22ta%22%2C%22data_node%22%3A%22esgf-data2.llnl.gov%22%7D\n",
    "REMOTE_URL_3D = \"https://esgf-data2.llnl.gov/thredds/dodsC/user_pub_work/CMIP6/CMIP/E3SM-Project/E3SM-2-0/historical/r1i1p1f1/Amon/cl/gr/v20220830/\"\n",
    "REMOTE_FILEPATHS = [os.path.join(REMOTE_URL_3D, file) for file in FILENAMES_3D]"
   ]
  },
  {
   "cell_type": "code",
   "execution_count": 87,
   "metadata": {},
   "outputs": [
    {
     "name": "stdout",
     "output_type": "stream",
     "text": [
      "Opening datasets found locally in 'docs/demos/24-07-11-scipy-2024/cl_Amon_E3SM-2-0_historical_r1i1p1f1_gr'\n"
     ]
    }
   ],
   "source": [
    "kargs = dict(coords=\"minimal\", compat=\"override\", chunks={\"time\": \"auto\"})\n",
    "\n",
    "try:\n",
    "    ds3d = xc.open_mfdataset(LOCAL_FILEPATHS_3D, **kargs)\n",
    "    print(f\"Opening datasets found locally in {LOCAL_DIR_3D!r}\")\n",
    "except (OSError, FileNotFoundError) as e:\n",
    "    print(e)\n",
    "    print(\n",
    "        \"One or more datasets not found locally. Opening datasets from ESGF using OPeNDAP.\"\n",
    "    )\n",
    "    ds3d = xc.open_mfdataset(REMOTE_FILEPATHS, **kargs)"
   ]
  },
  {
   "cell_type": "markdown",
   "metadata": {
    "slideshow": {
     "slide_type": "subslide"
    }
   },
   "source": [
    "#### Next, we will do the vertical remapping...\n"
   ]
  },
  {
   "cell_type": "code",
   "execution_count": 84,
   "metadata": {
    "slideshow": {
     "slide_type": "fragment"
    }
   },
   "outputs": [],
   "source": [
    "def hybrid_coordinate(p0, a, b, ps, **kwargs):\n",
    "    return a * p0 + b * ps\n",
    "\n",
    "\n",
    "pressure_data = hybrid_coordinate(**ds3d.data_vars)\n",
    "new_pressure_grid = xc.create_grid(z=xc.create_axis(\"lev\", np.linspace(100000, 1, 13)))"
   ]
  },
  {
   "cell_type": "markdown",
   "metadata": {
    "slideshow": {
     "slide_type": "subslide"
    }
   },
   "source": [
    "#### Regrid the `cl` variable using `nplev` as the output grid, `\"linear\"` method, and `pressure` as the target data.\n",
    "\n",
    "- Example Documentation: https://xcdat.readthedocs.io/en/stable/examples/regridding-vertical.html#4:-Remap-cloud-fraction-from-model-hybrid-coordinate-to-pressure-levels\n"
   ]
  },
  {
   "cell_type": "code",
   "execution_count": 85,
   "metadata": {
    "slideshow": {
     "slide_type": "fragment"
    }
   },
   "outputs": [
    {
     "name": "stderr",
     "output_type": "stream",
     "text": [
      "/opt/miniconda3/envs/xcdat_scipy_2024/lib/python3.11/site-packages/xgcm/grid.py:989: FutureWarning: From version 0.8.0 the Axis computation methods will be removed, in favour of using the Grid computation methods instead. i.e. use `Grid.transform` instead of `Axis.transform`\n",
      "  warnings.warn(\n"
     ]
    },
    {
     "ename": "ValueError",
     "evalue": "dimension temp_unique on 0th function argument to apply_ufunc with dask='parallelized' consists of multiple chunks, but is also a core dimension. To fix, either rechunk into a single array chunk along this dimension, i.e., ``.chunk(dict(temp_unique=-1))``, or pass ``allow_rechunk=True`` in ``dask_gufunc_kwargs`` but beware that this may significantly increase memory usage.",
     "output_type": "error",
     "traceback": [
      "\u001b[0;31m---------------------------------------------------------------------------\u001b[0m",
      "\u001b[0;31mValueError\u001b[0m                                Traceback (most recent call last)",
      "Cell \u001b[0;32mIn[85], line 1\u001b[0m\n\u001b[0;32m----> 1\u001b[0m output_cl \u001b[38;5;241m=\u001b[39m \u001b[43mds3d\u001b[49m\u001b[38;5;241;43m.\u001b[39;49m\u001b[43mregridder\u001b[49m\u001b[38;5;241;43m.\u001b[39;49m\u001b[43mvertical\u001b[49m\u001b[43m(\u001b[49m\n\u001b[1;32m      2\u001b[0m \u001b[43m    \u001b[49m\u001b[38;5;124;43m\"\u001b[39;49m\u001b[38;5;124;43mcl\u001b[39;49m\u001b[38;5;124;43m\"\u001b[39;49m\u001b[43m,\u001b[49m\u001b[43m \u001b[49m\u001b[43mnew_pressure_grid\u001b[49m\u001b[43m,\u001b[49m\u001b[43m \u001b[49m\u001b[43mmethod\u001b[49m\u001b[38;5;241;43m=\u001b[39;49m\u001b[38;5;124;43m\"\u001b[39;49m\u001b[38;5;124;43mlinear\u001b[39;49m\u001b[38;5;124;43m\"\u001b[39;49m\u001b[43m,\u001b[49m\u001b[43m \u001b[49m\u001b[43mtarget_data\u001b[49m\u001b[38;5;241;43m=\u001b[39;49m\u001b[43mpressure_data\u001b[49m\n\u001b[1;32m      3\u001b[0m \u001b[43m)\u001b[49m\n",
      "File \u001b[0;32m~/repositories/xcdat/xcdat/regridder/accessor.py:281\u001b[0m, in \u001b[0;36mRegridderAccessor.vertical\u001b[0;34m(self, data_var, output_grid, tool, **options)\u001b[0m\n\u001b[1;32m    273\u001b[0m input_grid \u001b[38;5;241m=\u001b[39m _get_input_grid(\n\u001b[1;32m    274\u001b[0m     \u001b[38;5;28mself\u001b[39m\u001b[38;5;241m.\u001b[39m_ds,\n\u001b[1;32m    275\u001b[0m     data_var,\n\u001b[0;32m   (...)\u001b[0m\n\u001b[1;32m    278\u001b[0m     ],\n\u001b[1;32m    279\u001b[0m )\n\u001b[1;32m    280\u001b[0m regridder \u001b[38;5;241m=\u001b[39m regrid_tool(input_grid, output_grid, \u001b[38;5;241m*\u001b[39m\u001b[38;5;241m*\u001b[39moptions)\n\u001b[0;32m--> 281\u001b[0m output_ds \u001b[38;5;241m=\u001b[39m \u001b[43mregridder\u001b[49m\u001b[38;5;241;43m.\u001b[39;49m\u001b[43mvertical\u001b[49m\u001b[43m(\u001b[49m\u001b[43mdata_var\u001b[49m\u001b[43m,\u001b[49m\u001b[43m \u001b[49m\u001b[38;5;28;43mself\u001b[39;49m\u001b[38;5;241;43m.\u001b[39;49m\u001b[43m_ds\u001b[49m\u001b[43m)\u001b[49m\n\u001b[1;32m    283\u001b[0m \u001b[38;5;28;01mreturn\u001b[39;00m output_ds\n",
      "File \u001b[0;32m~/repositories/xcdat/xcdat/regridder/xgcm.py:179\u001b[0m, in \u001b[0;36mXGCMRegridder.vertical\u001b[0;34m(self, data_var, ds)\u001b[0m\n\u001b[1;32m    174\u001b[0m     target_data \u001b[38;5;241m=\u001b[39m \u001b[38;5;28;01mNone\u001b[39;00m\n\u001b[1;32m    176\u001b[0m \u001b[38;5;66;03m# assumes new verical coordinate has been calculated and stored as `pressure`\u001b[39;00m\n\u001b[1;32m    177\u001b[0m \u001b[38;5;66;03m# TODO: auto calculate pressure reference http://cfconventions.org/Data/cf-conventions/cf-conventions-1.8/cf-conventions.html#parametric-v-coord\u001b[39;00m\n\u001b[1;32m    178\u001b[0m \u001b[38;5;66;03m#       cf_xarray only supports two ocean s-coordinate and ocean_sigma_coordinate\u001b[39;00m\n\u001b[0;32m--> 179\u001b[0m output_da \u001b[38;5;241m=\u001b[39m \u001b[43mgrid\u001b[49m\u001b[38;5;241;43m.\u001b[39;49m\u001b[43mtransform\u001b[49m\u001b[43m(\u001b[49m\n\u001b[1;32m    180\u001b[0m \u001b[43m    \u001b[49m\u001b[43mds\u001b[49m\u001b[43m[\u001b[49m\u001b[43mdata_var\u001b[49m\u001b[43m]\u001b[49m\u001b[43m,\u001b[49m\n\u001b[1;32m    181\u001b[0m \u001b[43m    \u001b[49m\u001b[38;5;124;43m\"\u001b[39;49m\u001b[38;5;124;43mZ\u001b[39;49m\u001b[38;5;124;43m\"\u001b[39;49m\u001b[43m,\u001b[49m\n\u001b[1;32m    182\u001b[0m \u001b[43m    \u001b[49m\u001b[43moutput_coord_z\u001b[49m\u001b[43m,\u001b[49m\n\u001b[1;32m    183\u001b[0m \u001b[43m    \u001b[49m\u001b[43mtarget_data\u001b[49m\u001b[38;5;241;43m=\u001b[39;49m\u001b[43mtarget_data\u001b[49m\u001b[43m,\u001b[49m\n\u001b[1;32m    184\u001b[0m \u001b[43m    \u001b[49m\u001b[43mmethod\u001b[49m\u001b[38;5;241;43m=\u001b[39;49m\u001b[38;5;28;43mself\u001b[39;49m\u001b[38;5;241;43m.\u001b[39;49m\u001b[43m_method\u001b[49m\u001b[43m,\u001b[49m\n\u001b[1;32m    185\u001b[0m \u001b[43m    \u001b[49m\u001b[38;5;241;43m*\u001b[39;49m\u001b[38;5;241;43m*\u001b[39;49m\u001b[38;5;28;43mself\u001b[39;49m\u001b[38;5;241;43m.\u001b[39;49m\u001b[43m_extra_options\u001b[49m\u001b[43m,\u001b[49m\n\u001b[1;32m    186\u001b[0m \u001b[43m\u001b[49m\u001b[43m)\u001b[49m\n\u001b[1;32m    188\u001b[0m \u001b[38;5;66;03m# when the order of dimensions are mismatched, the output data will be\u001b[39;00m\n\u001b[1;32m    189\u001b[0m \u001b[38;5;66;03m# transposed to match the input dimension order\u001b[39;00m\n\u001b[1;32m    190\u001b[0m \u001b[38;5;28;01mif\u001b[39;00m output_da\u001b[38;5;241m.\u001b[39mdims \u001b[38;5;241m!=\u001b[39m ds[data_var]\u001b[38;5;241m.\u001b[39mdims:\n",
      "File \u001b[0;32m/opt/miniconda3/envs/xcdat_scipy_2024/lib/python3.11/site-packages/xgcm/grid.py:2692\u001b[0m, in \u001b[0;36mGrid.transform\u001b[0;34m(self, da, axis, target, **kwargs)\u001b[0m\n\u001b[1;32m   2608\u001b[0m \u001b[38;5;250m\u001b[39m\u001b[38;5;124;03m\"\"\"Convert an array of data to new 1D-coordinates along `axis`.\u001b[39;00m\n\u001b[1;32m   2609\u001b[0m \u001b[38;5;124;03mThe method takes a multidimensional array of data `da` and\u001b[39;00m\n\u001b[1;32m   2610\u001b[0m \u001b[38;5;124;03mtransforms it onto another data_array `target_data` in the\u001b[39;00m\n\u001b[0;32m   (...)\u001b[0m\n\u001b[1;32m   2688\u001b[0m \n\u001b[1;32m   2689\u001b[0m \u001b[38;5;124;03m\"\"\"\u001b[39;00m\n\u001b[1;32m   2691\u001b[0m ax \u001b[38;5;241m=\u001b[39m \u001b[38;5;28mself\u001b[39m\u001b[38;5;241m.\u001b[39maxes[axis]\n\u001b[0;32m-> 2692\u001b[0m \u001b[38;5;28;01mreturn\u001b[39;00m \u001b[43max\u001b[49m\u001b[38;5;241;43m.\u001b[39;49m\u001b[43mtransform\u001b[49m\u001b[43m(\u001b[49m\u001b[43mda\u001b[49m\u001b[43m,\u001b[49m\u001b[43m \u001b[49m\u001b[43mtarget\u001b[49m\u001b[43m,\u001b[49m\u001b[43m \u001b[49m\u001b[38;5;241;43m*\u001b[39;49m\u001b[38;5;241;43m*\u001b[39;49m\u001b[43mkwargs\u001b[49m\u001b[43m)\u001b[49m\n",
      "File \u001b[0;32m/opt/miniconda3/envs/xcdat_scipy_2024/lib/python3.11/site-packages/xgcm/grid.py:1080\u001b[0m, in \u001b[0;36mAxis.transform\u001b[0;34m(self, da, target, target_data, method, mask_edges, bypass_checks, suffix)\u001b[0m\n\u001b[1;32m   1076\u001b[0m \u001b[38;5;28;01mif\u001b[39;00m method \u001b[38;5;241m==\u001b[39m \u001b[38;5;124m\"\u001b[39m\u001b[38;5;124mlinear\u001b[39m\u001b[38;5;124m\"\u001b[39m \u001b[38;5;129;01mor\u001b[39;00m method \u001b[38;5;241m==\u001b[39m \u001b[38;5;124m\"\u001b[39m\u001b[38;5;124mlog\u001b[39m\u001b[38;5;124m\"\u001b[39m:\n\u001b[1;32m   1077\u001b[0m     target, target_dim, target_data \u001b[38;5;241m=\u001b[39m _parse_target(\n\u001b[1;32m   1078\u001b[0m         target, target_dim, dim, target_data\n\u001b[1;32m   1079\u001b[0m     )\n\u001b[0;32m-> 1080\u001b[0m     out \u001b[38;5;241m=\u001b[39m \u001b[43mlinear_interpolation\u001b[49m\u001b[43m(\u001b[49m\n\u001b[1;32m   1081\u001b[0m \u001b[43m        \u001b[49m\u001b[43mda\u001b[49m\u001b[43m,\u001b[49m\n\u001b[1;32m   1082\u001b[0m \u001b[43m        \u001b[49m\u001b[43mtarget_data\u001b[49m\u001b[43m,\u001b[49m\n\u001b[1;32m   1083\u001b[0m \u001b[43m        \u001b[49m\u001b[43mtarget\u001b[49m\u001b[43m,\u001b[49m\n\u001b[1;32m   1084\u001b[0m \u001b[43m        \u001b[49m\u001b[43mdim\u001b[49m\u001b[43m,\u001b[49m\n\u001b[1;32m   1085\u001b[0m \u001b[43m        \u001b[49m\u001b[43mdim\u001b[49m\u001b[43m,\u001b[49m\u001b[43m  \u001b[49m\u001b[38;5;66;43;03m# in this case the dimension of phi and theta are the same\u001b[39;49;00m\n\u001b[1;32m   1086\u001b[0m \u001b[43m        \u001b[49m\u001b[43mtarget_dim\u001b[49m\u001b[43m,\u001b[49m\n\u001b[1;32m   1087\u001b[0m \u001b[43m        \u001b[49m\u001b[43mmask_edges\u001b[49m\u001b[38;5;241;43m=\u001b[39;49m\u001b[43mmask_edges\u001b[49m\u001b[43m,\u001b[49m\n\u001b[1;32m   1088\u001b[0m \u001b[43m        \u001b[49m\u001b[43mbypass_checks\u001b[49m\u001b[38;5;241;43m=\u001b[39;49m\u001b[43mbypass_checks\u001b[49m\u001b[43m,\u001b[49m\n\u001b[1;32m   1089\u001b[0m \u001b[43m        \u001b[49m\u001b[43mlogarithmic\u001b[49m\u001b[38;5;241;43m=\u001b[39;49m\u001b[43m(\u001b[49m\u001b[43mmethod\u001b[49m\u001b[43m \u001b[49m\u001b[38;5;241;43m==\u001b[39;49m\u001b[43m \u001b[49m\u001b[38;5;124;43m\"\u001b[39;49m\u001b[38;5;124;43mlog\u001b[39;49m\u001b[38;5;124;43m\"\u001b[39;49m\u001b[43m)\u001b[49m\u001b[43m,\u001b[49m\n\u001b[1;32m   1090\u001b[0m \u001b[43m    \u001b[49m\u001b[43m)\u001b[49m\n\u001b[1;32m   1091\u001b[0m \u001b[38;5;28;01melif\u001b[39;00m method \u001b[38;5;241m==\u001b[39m \u001b[38;5;124m\"\u001b[39m\u001b[38;5;124mconservative\u001b[39m\u001b[38;5;124m\"\u001b[39m:\n\u001b[1;32m   1092\u001b[0m     \u001b[38;5;66;03m# the conservative method requires `target_data` to be on the `outer` coordinate.\u001b[39;00m\n\u001b[1;32m   1093\u001b[0m     \u001b[38;5;66;03m# If that is not the case (a very common use case like transformation on any tracer),\u001b[39;00m\n\u001b[1;32m   1094\u001b[0m     \u001b[38;5;66;03m# we need to infer the boundary values (using the interp logic)\u001b[39;00m\n\u001b[1;32m   1095\u001b[0m     \u001b[38;5;66;03m# for this method we need the `outer` position. Error out if its not there.\u001b[39;00m\n\u001b[1;32m   1096\u001b[0m     \u001b[38;5;28;01mtry\u001b[39;00m:\n",
      "File \u001b[0;32m/opt/miniconda3/envs/xcdat_scipy_2024/lib/python3.11/site-packages/xgcm/transform.py:209\u001b[0m, in \u001b[0;36minput_handling.<locals>.wrapper_input_handling\u001b[0;34m(*args, **kwargs)\u001b[0m\n\u001b[1;32m    207\u001b[0m \u001b[38;5;66;03m# Execute function with temporary names\u001b[39;00m\n\u001b[1;32m    208\u001b[0m args \u001b[38;5;241m=\u001b[39m (phi, theta, target_theta_levels, temp_dim2, theta_dim, temp_dim)\n\u001b[0;32m--> 209\u001b[0m value \u001b[38;5;241m=\u001b[39m \u001b[43mfunc\u001b[49m\u001b[43m(\u001b[49m\u001b[38;5;241;43m*\u001b[39;49m\u001b[43margs\u001b[49m\u001b[43m,\u001b[49m\u001b[43m \u001b[49m\u001b[38;5;241;43m*\u001b[39;49m\u001b[38;5;241;43m*\u001b[39;49m\u001b[43mkwargs\u001b[49m\u001b[43m)\u001b[49m\n\u001b[1;32m    211\u001b[0m \u001b[38;5;66;03m# rename back to original name\u001b[39;00m\n\u001b[1;32m    212\u001b[0m value \u001b[38;5;241m=\u001b[39m value\u001b[38;5;241m.\u001b[39mrename({temp_dim: target_dim})\n",
      "File \u001b[0;32m/opt/miniconda3/envs/xcdat_scipy_2024/lib/python3.11/site-packages/xgcm/transform.py:227\u001b[0m, in \u001b[0;36mlinear_interpolation\u001b[0;34m(phi, theta, target_theta_levels, phi_dim, theta_dim, target_dim, **kwargs)\u001b[0m\n\u001b[1;32m    223\u001b[0m \u001b[38;5;129m@input_handling\u001b[39m\n\u001b[1;32m    224\u001b[0m \u001b[38;5;28;01mdef\u001b[39;00m \u001b[38;5;21mlinear_interpolation\u001b[39m(\n\u001b[1;32m    225\u001b[0m     phi, theta, target_theta_levels, phi_dim, theta_dim, target_dim, \u001b[38;5;241m*\u001b[39m\u001b[38;5;241m*\u001b[39mkwargs\n\u001b[1;32m    226\u001b[0m ):\n\u001b[0;32m--> 227\u001b[0m     out \u001b[38;5;241m=\u001b[39m \u001b[43mxr\u001b[49m\u001b[38;5;241;43m.\u001b[39;49m\u001b[43mapply_ufunc\u001b[49m\u001b[43m(\u001b[49m\n\u001b[1;32m    228\u001b[0m \u001b[43m        \u001b[49m\u001b[43minterp_1d_linear\u001b[49m\u001b[43m,\u001b[49m\n\u001b[1;32m    229\u001b[0m \u001b[43m        \u001b[49m\u001b[43mphi\u001b[49m\u001b[43m,\u001b[49m\n\u001b[1;32m    230\u001b[0m \u001b[43m        \u001b[49m\u001b[43mtheta\u001b[49m\u001b[43m,\u001b[49m\n\u001b[1;32m    231\u001b[0m \u001b[43m        \u001b[49m\u001b[43mtarget_theta_levels\u001b[49m\u001b[43m,\u001b[49m\n\u001b[1;32m    232\u001b[0m \u001b[43m        \u001b[49m\u001b[43mkwargs\u001b[49m\u001b[38;5;241;43m=\u001b[39;49m\u001b[43mkwargs\u001b[49m\u001b[43m,\u001b[49m\n\u001b[1;32m    233\u001b[0m \u001b[43m        \u001b[49m\u001b[43minput_core_dims\u001b[49m\u001b[38;5;241;43m=\u001b[39;49m\u001b[43m[\u001b[49m\u001b[43m[\u001b[49m\u001b[43mphi_dim\u001b[49m\u001b[43m]\u001b[49m\u001b[43m,\u001b[49m\u001b[43m \u001b[49m\u001b[43m[\u001b[49m\u001b[43mtheta_dim\u001b[49m\u001b[43m]\u001b[49m\u001b[43m,\u001b[49m\u001b[43m \u001b[49m\u001b[43m[\u001b[49m\u001b[43mtarget_dim\u001b[49m\u001b[43m]\u001b[49m\u001b[43m]\u001b[49m\u001b[43m,\u001b[49m\n\u001b[1;32m    234\u001b[0m \u001b[43m        \u001b[49m\u001b[43moutput_core_dims\u001b[49m\u001b[38;5;241;43m=\u001b[39;49m\u001b[43m[\u001b[49m\u001b[43m[\u001b[49m\u001b[43mtarget_dim\u001b[49m\u001b[43m]\u001b[49m\u001b[43m]\u001b[49m\u001b[43m,\u001b[49m\n\u001b[1;32m    235\u001b[0m \u001b[43m        \u001b[49m\u001b[43mexclude_dims\u001b[49m\u001b[38;5;241;43m=\u001b[39;49m\u001b[38;5;28;43mset\u001b[39;49m\u001b[43m(\u001b[49m\u001b[43m(\u001b[49m\u001b[43mphi_dim\u001b[49m\u001b[43m,\u001b[49m\u001b[43m \u001b[49m\u001b[43mtheta_dim\u001b[49m\u001b[43m)\u001b[49m\u001b[43m)\u001b[49m\u001b[43m,\u001b[49m\n\u001b[1;32m    236\u001b[0m \u001b[43m        \u001b[49m\u001b[43mdask\u001b[49m\u001b[38;5;241;43m=\u001b[39;49m\u001b[38;5;124;43m\"\u001b[39;49m\u001b[38;5;124;43mparallelized\u001b[39;49m\u001b[38;5;124;43m\"\u001b[39;49m\u001b[43m,\u001b[49m\n\u001b[1;32m    237\u001b[0m \u001b[43m        \u001b[49m\u001b[43moutput_dtypes\u001b[49m\u001b[38;5;241;43m=\u001b[39;49m\u001b[43m[\u001b[49m\u001b[43mphi\u001b[49m\u001b[38;5;241;43m.\u001b[39;49m\u001b[43mdtype\u001b[49m\u001b[43m]\u001b[49m\u001b[43m,\u001b[49m\n\u001b[1;32m    238\u001b[0m \u001b[43m    \u001b[49m\u001b[43m)\u001b[49m\n\u001b[1;32m    239\u001b[0m     \u001b[38;5;28;01mreturn\u001b[39;00m out\n",
      "File \u001b[0;32m/opt/miniconda3/envs/xcdat_scipy_2024/lib/python3.11/site-packages/xarray/core/computation.py:1266\u001b[0m, in \u001b[0;36mapply_ufunc\u001b[0;34m(func, input_core_dims, output_core_dims, exclude_dims, vectorize, join, dataset_join, dataset_fill_value, keep_attrs, kwargs, dask, output_dtypes, output_sizes, meta, dask_gufunc_kwargs, on_missing_core_dim, *args)\u001b[0m\n\u001b[1;32m   1264\u001b[0m \u001b[38;5;66;03m# feed DataArray apply_variable_ufunc through apply_dataarray_vfunc\u001b[39;00m\n\u001b[1;32m   1265\u001b[0m \u001b[38;5;28;01melif\u001b[39;00m \u001b[38;5;28many\u001b[39m(\u001b[38;5;28misinstance\u001b[39m(a, DataArray) \u001b[38;5;28;01mfor\u001b[39;00m a \u001b[38;5;129;01min\u001b[39;00m args):\n\u001b[0;32m-> 1266\u001b[0m     \u001b[38;5;28;01mreturn\u001b[39;00m \u001b[43mapply_dataarray_vfunc\u001b[49m\u001b[43m(\u001b[49m\n\u001b[1;32m   1267\u001b[0m \u001b[43m        \u001b[49m\u001b[43mvariables_vfunc\u001b[49m\u001b[43m,\u001b[49m\n\u001b[1;32m   1268\u001b[0m \u001b[43m        \u001b[49m\u001b[38;5;241;43m*\u001b[39;49m\u001b[43margs\u001b[49m\u001b[43m,\u001b[49m\n\u001b[1;32m   1269\u001b[0m \u001b[43m        \u001b[49m\u001b[43msignature\u001b[49m\u001b[38;5;241;43m=\u001b[39;49m\u001b[43msignature\u001b[49m\u001b[43m,\u001b[49m\n\u001b[1;32m   1270\u001b[0m \u001b[43m        \u001b[49m\u001b[43mjoin\u001b[49m\u001b[38;5;241;43m=\u001b[39;49m\u001b[43mjoin\u001b[49m\u001b[43m,\u001b[49m\n\u001b[1;32m   1271\u001b[0m \u001b[43m        \u001b[49m\u001b[43mexclude_dims\u001b[49m\u001b[38;5;241;43m=\u001b[39;49m\u001b[43mexclude_dims\u001b[49m\u001b[43m,\u001b[49m\n\u001b[1;32m   1272\u001b[0m \u001b[43m        \u001b[49m\u001b[43mkeep_attrs\u001b[49m\u001b[38;5;241;43m=\u001b[39;49m\u001b[43mkeep_attrs\u001b[49m\u001b[43m,\u001b[49m\n\u001b[1;32m   1273\u001b[0m \u001b[43m    \u001b[49m\u001b[43m)\u001b[49m\n\u001b[1;32m   1274\u001b[0m \u001b[38;5;66;03m# feed Variables directly through apply_variable_ufunc\u001b[39;00m\n\u001b[1;32m   1275\u001b[0m \u001b[38;5;28;01melif\u001b[39;00m \u001b[38;5;28many\u001b[39m(\u001b[38;5;28misinstance\u001b[39m(a, Variable) \u001b[38;5;28;01mfor\u001b[39;00m a \u001b[38;5;129;01min\u001b[39;00m args):\n",
      "File \u001b[0;32m/opt/miniconda3/envs/xcdat_scipy_2024/lib/python3.11/site-packages/xarray/core/computation.py:312\u001b[0m, in \u001b[0;36mapply_dataarray_vfunc\u001b[0;34m(func, signature, join, exclude_dims, keep_attrs, *args)\u001b[0m\n\u001b[1;32m    307\u001b[0m result_coords, result_indexes \u001b[38;5;241m=\u001b[39m build_output_coords_and_indexes(\n\u001b[1;32m    308\u001b[0m     args, signature, exclude_dims, combine_attrs\u001b[38;5;241m=\u001b[39mkeep_attrs\n\u001b[1;32m    309\u001b[0m )\n\u001b[1;32m    311\u001b[0m data_vars \u001b[38;5;241m=\u001b[39m [\u001b[38;5;28mgetattr\u001b[39m(a, \u001b[38;5;124m\"\u001b[39m\u001b[38;5;124mvariable\u001b[39m\u001b[38;5;124m\"\u001b[39m, a) \u001b[38;5;28;01mfor\u001b[39;00m a \u001b[38;5;129;01min\u001b[39;00m args]\n\u001b[0;32m--> 312\u001b[0m result_var \u001b[38;5;241m=\u001b[39m \u001b[43mfunc\u001b[49m\u001b[43m(\u001b[49m\u001b[38;5;241;43m*\u001b[39;49m\u001b[43mdata_vars\u001b[49m\u001b[43m)\u001b[49m\n\u001b[1;32m    314\u001b[0m out: \u001b[38;5;28mtuple\u001b[39m[DataArray, \u001b[38;5;241m.\u001b[39m\u001b[38;5;241m.\u001b[39m\u001b[38;5;241m.\u001b[39m] \u001b[38;5;241m|\u001b[39m DataArray\n\u001b[1;32m    315\u001b[0m \u001b[38;5;28;01mif\u001b[39;00m signature\u001b[38;5;241m.\u001b[39mnum_outputs \u001b[38;5;241m>\u001b[39m \u001b[38;5;241m1\u001b[39m:\n",
      "File \u001b[0;32m/opt/miniconda3/envs/xcdat_scipy_2024/lib/python3.11/site-packages/xarray/core/computation.py:767\u001b[0m, in \u001b[0;36mapply_variable_ufunc\u001b[0;34m(func, signature, exclude_dims, dask, output_dtypes, vectorize, keep_attrs, dask_gufunc_kwargs, *args)\u001b[0m\n\u001b[1;32m    765\u001b[0m             \u001b[38;5;28;01mfor\u001b[39;00m axis, dim \u001b[38;5;129;01min\u001b[39;00m \u001b[38;5;28menumerate\u001b[39m(core_dims, start\u001b[38;5;241m=\u001b[39m\u001b[38;5;241m-\u001b[39m\u001b[38;5;28mlen\u001b[39m(core_dims)):\n\u001b[1;32m    766\u001b[0m                 \u001b[38;5;28;01mif\u001b[39;00m \u001b[38;5;28mlen\u001b[39m(data\u001b[38;5;241m.\u001b[39mchunks[axis]) \u001b[38;5;241m!=\u001b[39m \u001b[38;5;241m1\u001b[39m:\n\u001b[0;32m--> 767\u001b[0m                     \u001b[38;5;28;01mraise\u001b[39;00m \u001b[38;5;167;01mValueError\u001b[39;00m(\n\u001b[1;32m    768\u001b[0m                         \u001b[38;5;124mf\u001b[39m\u001b[38;5;124m\"\u001b[39m\u001b[38;5;124mdimension \u001b[39m\u001b[38;5;132;01m{\u001b[39;00mdim\u001b[38;5;132;01m}\u001b[39;00m\u001b[38;5;124m on \u001b[39m\u001b[38;5;132;01m{\u001b[39;00mn\u001b[38;5;132;01m}\u001b[39;00m\u001b[38;5;124mth function argument to \u001b[39m\u001b[38;5;124m\"\u001b[39m\n\u001b[1;32m    769\u001b[0m                         \u001b[38;5;124m\"\u001b[39m\u001b[38;5;124mapply_ufunc with dask=\u001b[39m\u001b[38;5;124m'\u001b[39m\u001b[38;5;124mparallelized\u001b[39m\u001b[38;5;124m'\u001b[39m\u001b[38;5;124m consists of \u001b[39m\u001b[38;5;124m\"\u001b[39m\n\u001b[1;32m    770\u001b[0m                         \u001b[38;5;124m\"\u001b[39m\u001b[38;5;124mmultiple chunks, but is also a core dimension. To \u001b[39m\u001b[38;5;124m\"\u001b[39m\n\u001b[1;32m    771\u001b[0m                         \u001b[38;5;124m\"\u001b[39m\u001b[38;5;124mfix, either rechunk into a single array chunk along \u001b[39m\u001b[38;5;124m\"\u001b[39m\n\u001b[1;32m    772\u001b[0m                         \u001b[38;5;124mf\u001b[39m\u001b[38;5;124m\"\u001b[39m\u001b[38;5;124mthis dimension, i.e., ``.chunk(dict(\u001b[39m\u001b[38;5;132;01m{\u001b[39;00mdim\u001b[38;5;132;01m}\u001b[39;00m\u001b[38;5;124m=-1))``, or \u001b[39m\u001b[38;5;124m\"\u001b[39m\n\u001b[1;32m    773\u001b[0m                         \u001b[38;5;124m\"\u001b[39m\u001b[38;5;124mpass ``allow_rechunk=True`` in ``dask_gufunc_kwargs`` \u001b[39m\u001b[38;5;124m\"\u001b[39m\n\u001b[1;32m    774\u001b[0m                         \u001b[38;5;124m\"\u001b[39m\u001b[38;5;124mbut beware that this may significantly increase memory usage.\u001b[39m\u001b[38;5;124m\"\u001b[39m\n\u001b[1;32m    775\u001b[0m                     )\n\u001b[1;32m    776\u001b[0m     dask_gufunc_kwargs[\u001b[38;5;124m\"\u001b[39m\u001b[38;5;124mallow_rechunk\u001b[39m\u001b[38;5;124m\"\u001b[39m] \u001b[38;5;241m=\u001b[39m \u001b[38;5;28;01mTrue\u001b[39;00m\n\u001b[1;32m    778\u001b[0m output_sizes \u001b[38;5;241m=\u001b[39m dask_gufunc_kwargs\u001b[38;5;241m.\u001b[39mpop(\u001b[38;5;124m\"\u001b[39m\u001b[38;5;124moutput_sizes\u001b[39m\u001b[38;5;124m\"\u001b[39m, {})\n",
      "\u001b[0;31mValueError\u001b[0m: dimension temp_unique on 0th function argument to apply_ufunc with dask='parallelized' consists of multiple chunks, but is also a core dimension. To fix, either rechunk into a single array chunk along this dimension, i.e., ``.chunk(dict(temp_unique=-1))``, or pass ``allow_rechunk=True`` in ``dask_gufunc_kwargs`` but beware that this may significantly increase memory usage."
     ]
    }
   ],
   "source": [
    "output_cl = ds3d.regridder.vertical(\n",
    "    \"cl\", new_pressure_grid, method=\"linear\", target_data=pressure_data\n",
    ")"
   ]
  },
  {
   "cell_type": "markdown",
   "metadata": {
    "slideshow": {
     "slide_type": "subslide"
    }
   },
   "source": [
    "#### Finally, we plot the result:\n"
   ]
  },
  {
   "cell_type": "code",
   "execution_count": 52,
   "metadata": {
    "slideshow": {
     "slide_type": "fragment"
    }
   },
   "outputs": [
    {
     "ename": "NameError",
     "evalue": "name 'dsvr' is not defined",
     "output_type": "error",
     "traceback": [
      "\u001b[0;31m---------------------------------------------------------------------------\u001b[0m",
      "\u001b[0;31mNameError\u001b[0m                                 Traceback (most recent call last)",
      "Cell \u001b[0;32mIn[52], line 2\u001b[0m\n\u001b[1;32m      1\u001b[0m \u001b[38;5;66;03m# plot result\u001b[39;00m\n\u001b[0;32m----> 2\u001b[0m dsvr_zonal \u001b[38;5;241m=\u001b[39m \u001b[43mdsvr\u001b[49m\u001b[38;5;241m.\u001b[39mspatial\u001b[38;5;241m.\u001b[39maverage(\u001b[38;5;124m\"\u001b[39m\u001b[38;5;124mcl\u001b[39m\u001b[38;5;124m\"\u001b[39m, axis\u001b[38;5;241m=\u001b[39m[\u001b[38;5;124m\"\u001b[39m\u001b[38;5;124mX\u001b[39m\u001b[38;5;124m\"\u001b[39m])\u001b[38;5;241m.\u001b[39msqueeze()\n\u001b[1;32m      3\u001b[0m dsvr_zonal\u001b[38;5;241m.\u001b[39mcl\u001b[38;5;241m.\u001b[39mplot(cmap\u001b[38;5;241m=\u001b[39mplt\u001b[38;5;241m.\u001b[39mcm\u001b[38;5;241m.\u001b[39mRdBu_r)\n\u001b[1;32m      4\u001b[0m plt\u001b[38;5;241m.\u001b[39mgca()\u001b[38;5;241m.\u001b[39minvert_yaxis()\n",
      "\u001b[0;31mNameError\u001b[0m: name 'dsvr' is not defined"
     ]
    }
   ],
   "source": [
    "# plot result\n",
    "dsvr_zonal = dsvr.spatial.average(\"cl\", axis=[\"X\"]).squeeze()\n",
    "dsvr_zonal.cl.plot(cmap=plt.cm.RdBu_r)\n",
    "plt.gca().invert_yaxis()"
   ]
  },
  {
   "cell_type": "markdown",
   "metadata": {
    "slideshow": {
     "slide_type": "subslide"
    }
   },
   "source": [
    "### 6. Spatial Averaging\n",
    "\n",
    "Area-weighted spatial averaging is a common technique to reduce dimensionality in geospatial datasets. xCDAT can perform this calculation over full domains or regions of interest.\n"
   ]
  },
  {
   "cell_type": "markdown",
   "metadata": {
    "slideshow": {
     "slide_type": "fragment"
    }
   },
   "source": [
    "#### Calculate the spatial average of `cl` and store the results in a Python variable.\n",
    "\n",
    "- API Documentation: https://xcdat.readthedocs.io/en/stable/generated/xarray.Dataset.spatial.average.html\n"
   ]
  },
  {
   "cell_type": "code",
   "execution_count": null,
   "metadata": {
    "slideshow": {
     "slide_type": "fragment"
    }
   },
   "outputs": [],
   "source": [
    "ds_global = ds.spatial.average(\"cl\")"
   ]
  },
  {
   "cell_type": "markdown",
   "metadata": {
    "slideshow": {
     "slide_type": "subslide"
    }
   },
   "source": [
    "#### Now let's plot the results.\n",
    "\n",
    "Note that the spatial averager returns a dataset object so we still need to specify `cl` to plot the dataarray.\n"
   ]
  },
  {
   "cell_type": "code",
   "execution_count": 54,
   "metadata": {
    "slideshow": {
     "slide_type": "fragment"
    }
   },
   "outputs": [
    {
     "ename": "NameError",
     "evalue": "name 'ds_global' is not defined",
     "output_type": "error",
     "traceback": [
      "\u001b[0;31m---------------------------------------------------------------------------\u001b[0m",
      "\u001b[0;31mNameError\u001b[0m                                 Traceback (most recent call last)",
      "Cell \u001b[0;32mIn[54], line 1\u001b[0m\n\u001b[0;32m----> 1\u001b[0m dtime \u001b[38;5;241m=\u001b[39m dt2decimal(\u001b[43mds_global\u001b[49m\u001b[38;5;241m.\u001b[39mtime)  \u001b[38;5;66;03m# decimal time\u001b[39;00m\n\u001b[1;32m      2\u001b[0m plt\u001b[38;5;241m.\u001b[39mplot(dtime, ds_global[\u001b[38;5;124m\"\u001b[39m\u001b[38;5;124mcl\u001b[39m\u001b[38;5;124m\"\u001b[39m]\u001b[38;5;241m.\u001b[39mvalues)\n\u001b[1;32m      3\u001b[0m plt\u001b[38;5;241m.\u001b[39mxlabel(\u001b[38;5;124m\"\u001b[39m\u001b[38;5;124mYear\u001b[39m\u001b[38;5;124m\"\u001b[39m)\n",
      "\u001b[0;31mNameError\u001b[0m: name 'ds_global' is not defined"
     ]
    }
   ],
   "source": [
    "dtime = dt2decimal(ds_global.time)  # decimal time\n",
    "plt.plot(dtime, ds_global[\"cl\"].values)\n",
    "plt.xlabel(\"Year\")\n",
    "plt.ylabel(\"Global Mean Cloud Fraction (%)\")"
   ]
  },
  {
   "cell_type": "markdown",
   "metadata": {
    "slideshow": {
     "slide_type": "subslide"
    }
   },
   "source": [
    "#### Above, we did not specify any constraints. So xCDAT calculated the domain (global) average. Users can also specify their own bounds.\n"
   ]
  },
  {
   "cell_type": "markdown",
   "metadata": {
    "slideshow": {
     "slide_type": "fragment"
    }
   },
   "source": [
    "#### Calculate the cloud fraction (`ta`) in the Niño 3.4 region.\n"
   ]
  },
  {
   "cell_type": "markdown",
   "metadata": {
    "slideshow": {
     "slide_type": "notes"
    }
   },
   "source": [
    "API Documentation: https://xcdat.readthedocs.io/en/stable/generated/xarray.Dataset.spatial.average.html\n"
   ]
  },
  {
   "cell_type": "code",
   "execution_count": null,
   "metadata": {
    "slideshow": {
     "slide_type": "fragment"
    }
   },
   "outputs": [],
   "source": [
    "ds_nino34 = ds_xesmf.spatial.average(\n",
    "    \"cl\", lat_bounds=(-5, 5), lon_bounds=(190, 240), keep_weights=True\n",
    ").load()"
   ]
  },
  {
   "cell_type": "markdown",
   "metadata": {
    "slideshow": {
     "slide_type": "fragment"
    }
   },
   "source": [
    "In this case, we specified `keep_weights=True`. The weights provide full spatial weighting for grid cells entirely within the Niño 3.4 region.\n",
    "\n",
    "If a grid cell is partially in the Niño 3.4 region, it received partial weight (note we use the 4 x 4 degree grid in this example to show the partial weights and to speed up plotting).\n",
    "\n",
    "Note that you can also supply your own weights (but you can't automatically subset with `lat_bounds` and `lon_bounds` if you supply your own weights).\n"
   ]
  },
  {
   "cell_type": "markdown",
   "metadata": {
    "slideshow": {
     "slide_type": "subslide"
    }
   },
   "source": [
    "#### Plot the Niño 3.4 region time series\n"
   ]
  },
  {
   "cell_type": "code",
   "execution_count": 90,
   "metadata": {
    "slideshow": {
     "slide_type": "fragment"
    }
   },
   "outputs": [
    {
     "ename": "NameError",
     "evalue": "name 'dtime' is not defined",
     "output_type": "error",
     "traceback": [
      "\u001b[0;31m---------------------------------------------------------------------------\u001b[0m",
      "\u001b[0;31mNameError\u001b[0m                                 Traceback (most recent call last)",
      "Cell \u001b[0;32mIn[90], line 3\u001b[0m\n\u001b[1;32m      1\u001b[0m plt\u001b[38;5;241m.\u001b[39mfigure(figsize\u001b[38;5;241m=\u001b[39m(\u001b[38;5;241m10\u001b[39m, \u001b[38;5;241m2\u001b[39m))\n\u001b[1;32m      2\u001b[0m plt\u001b[38;5;241m.\u001b[39msubplot(\u001b[38;5;241m1\u001b[39m, \u001b[38;5;241m2\u001b[39m, \u001b[38;5;241m1\u001b[39m)\n\u001b[0;32m----> 3\u001b[0m plt\u001b[38;5;241m.\u001b[39mplot(\u001b[43mdtime\u001b[49m, ds_nino34[\u001b[38;5;124m\"\u001b[39m\u001b[38;5;124mcl\u001b[39m\u001b[38;5;124m\"\u001b[39m]\u001b[38;5;241m.\u001b[39mvalues)\n\u001b[1;32m      4\u001b[0m plt\u001b[38;5;241m.\u001b[39mxlabel(\u001b[38;5;124m\"\u001b[39m\u001b[38;5;124mYear\u001b[39m\u001b[38;5;124m\"\u001b[39m)\n\u001b[1;32m      5\u001b[0m plt\u001b[38;5;241m.\u001b[39mylabel(\u001b[38;5;124m\"\u001b[39m\u001b[38;5;124mCloud Fraction (\u001b[39m\u001b[38;5;124m%\u001b[39m\u001b[38;5;124m)\u001b[39m\u001b[38;5;124m\"\u001b[39m)\n",
      "\u001b[0;31mNameError\u001b[0m: name 'dtime' is not defined"
     ]
    },
    {
     "data": {
      "image/png": "[encoded data removed]",
      "text/plain": [
       "<Figure size 1000x200 with 1 Axes>"
      ]
     },
     "metadata": {},
     "output_type": "display_data"
    }
   ],
   "source": [
    "plt.figure(figsize=(10, 2))\n",
    "plt.subplot(1, 2, 1)\n",
    "plt.plot(dtime, ds_nino34[\"cl\"].values)\n",
    "plt.xlabel(\"Year\")\n",
    "plt.ylabel(\"Cloud Fraction (%)\")\n",
    "plt.title(\"Niño 3.4 time series\")\n",
    "\n",
    "# show the weights\n",
    "map_proj = ccrs.PlateCarree(central_longitude=180)\n",
    "ax = plt.subplot(1, 2, 2, projection=map_proj)\n",
    "plt.pcolor(\n",
    "    ds_nino34.lon,\n",
    "    ds_nino34.lat,\n",
    "    ds_nino34.lat_lon_wts.cl,\n",
    "    transform=ccrs.PlateCarree(),\n",
    "    cmap=plt.cm.GnBu,\n",
    ")\n",
    "ax.set_extent([120, 300, -30, 30], crs=ccrs.PlateCarree())\n",
    "ax.coastlines()\n",
    "plt.colorbar(orientation=\"horizontal\")\n",
    "plt.title(\"Nino 3.4 Weights\")"
   ]
  },
  {
   "cell_type": "markdown",
   "metadata": {
    "slideshow": {
     "slide_type": "subslide"
    }
   },
   "source": [
    "### 7. Temporal Computations with xCDAT\n",
    "\n",
    "In the examples below, we will performing temporal computations on the `xarray.Dataset` object using xCDAT.\n"
   ]
  },
  {
   "cell_type": "markdown",
   "metadata": {
    "slideshow": {
     "slide_type": "subslide"
    }
   },
   "source": [
    "#### 7.1 Annual cycle\n",
    "\n",
    "In the global mean time series above, there are large seasonal swings in global temperature. Here we compute the seasonal mean climatology.\n"
   ]
  },
  {
   "cell_type": "markdown",
   "metadata": {
    "slideshow": {
     "slide_type": "fragment"
    }
   },
   "source": [
    "#### Calculate the seasonal mean climatology for the `tas` variable.\n"
   ]
  },
  {
   "cell_type": "markdown",
   "metadata": {
    "slideshow": {
     "slide_type": "notes"
    }
   },
   "source": [
    "API Documentation: https://xcdat.readthedocs.io/en/stable/generated/xarray.Dataset.temporal.climatology.html\n"
   ]
  },
  {
   "cell_type": "code",
   "execution_count": null,
   "metadata": {
    "slideshow": {
     "slide_type": "fragment"
    }
   },
   "outputs": [],
   "source": [
    "ds_clim = ds.temporal.climatology(\"tas\", freq=\"season\")"
   ]
  },
  {
   "cell_type": "markdown",
   "metadata": {
    "slideshow": {
     "slide_type": "fragment"
    }
   },
   "source": [
    "#### Now we plot the season means\n"
   ]
  },
  {
   "cell_type": "code",
   "execution_count": null,
   "metadata": {
    "slideshow": {
     "slide_type": "fragment"
    }
   },
   "outputs": [],
   "source": [
    "map_proj = ccrs.Robinson()\n",
    "titles = [\"DJF\", \"MAM\", \"JJA\", \"SON\"]\n",
    "plt.figure(figsize=(12, 10))\n",
    "for i in range(4):\n",
    "    plt.subplot(2, 2, i + 1, projection=map_proj)\n",
    "    p = ds_clim.TREFHT[i].plot(\n",
    "        transform=ccrs.PlateCarree(),\n",
    "        subplot_kws={\"projection\": map_proj},\n",
    "        cbar_kwargs={\"orientation\": \"horizontal\"},\n",
    "        cmap=plt.cm.RdBu_r,\n",
    "        vmin=220,\n",
    "        vmax=310,\n",
    "    )\n",
    "    ax = plt.gca()\n",
    "    ax.coastlines()\n",
    "    plt.title(titles[i])"
   ]
  },
  {
   "cell_type": "markdown",
   "metadata": {
    "slideshow": {
     "slide_type": "subslide"
    }
   },
   "source": [
    "#### 7.2 Departures\n",
    "\n",
    "It can also be useful to show the departures from the climatological average.\n"
   ]
  },
  {
   "cell_type": "markdown",
   "metadata": {
    "slideshow": {
     "slide_type": "fragment"
    }
   },
   "source": [
    "#### Calculate the seasonal mean climatology for the `tas` variable.\n",
    "\n",
    "In this case, `xcdat` will operate on the global mean time series we calculated above. Note that you can set the climatological reference period (e.g., with `reference_period=(\"1850-01-01\", \"1851-12-31\")` for historical era departures).\n"
   ]
  },
  {
   "cell_type": "markdown",
   "metadata": {
    "slideshow": {
     "slide_type": "notes"
    }
   },
   "source": [
    "API Documentation: https://xcdat.readthedocs.io/en/stable/generated/xarray.Dataset.temporal.departures.html\n"
   ]
  },
  {
   "cell_type": "code",
   "execution_count": null,
   "metadata": {
    "slideshow": {
     "slide_type": "fragment"
    }
   },
   "outputs": [],
   "source": [
    "ds_global_anomaly = ds_global.temporal.departures(\n",
    "    \"tas\", freq=\"month\", reference_period=(\"1850-01-01\", \"1851-12-31\")\n",
    ")"
   ]
  },
  {
   "cell_type": "markdown",
   "metadata": {
    "slideshow": {
     "slide_type": "fragment"
    }
   },
   "source": [
    "#### Now let's plot the departures from the climatological average.\n"
   ]
  },
  {
   "cell_type": "code",
   "execution_count": null,
   "metadata": {
    "slideshow": {
     "slide_type": "fragment"
    }
   },
   "outputs": [],
   "source": [
    "plt.plot(dtime, ds_global_anomaly.tas.values)\n",
    "plt.xlabel(\"Year\")\n",
    "plt.ylabel(\"Global Mean Near-Surface Air Temperature Anomaly [K]\")"
   ]
  },
  {
   "cell_type": "markdown",
   "metadata": {
    "slideshow": {
     "slide_type": "subslide"
    }
   },
   "source": [
    "#### 7.3 Group averages\n",
    "\n",
    "`xcdat` also allows you to calculate group averages (e.g., annual or seasonal mean from monthly data or monthly mean from daily data).\n"
   ]
  },
  {
   "cell_type": "markdown",
   "metadata": {
    "slideshow": {
     "slide_type": "fragment"
    }
   },
   "source": [
    "#### Calculate the annual mean from anomaly time series.\n",
    "\n",
    "- API Documentation: https://xcdat.readthedocs.io/en/stable/generated/xarray.Dataset.temporal.group_averages.html\n"
   ]
  },
  {
   "cell_type": "code",
   "execution_count": null,
   "metadata": {
    "slideshow": {
     "slide_type": "fragment"
    }
   },
   "outputs": [],
   "source": [
    "ds_global_anomaly_annual = ds_global_anomaly.temporal.group_average(\"tas\", freq=\"year\")"
   ]
  },
  {
   "cell_type": "markdown",
   "metadata": {
    "slideshow": {
     "slide_type": "fragment"
    }
   },
   "source": [
    "#### Now let's plot the results.\n"
   ]
  },
  {
   "cell_type": "code",
   "execution_count": null,
   "metadata": {
    "slideshow": {
     "slide_type": "fragment"
    }
   },
   "outputs": [],
   "source": [
    "# plot data\n",
    "dtime_annual = dt2decimal(ds_global_anomaly_annual.time) + 0.5\n",
    "plt.plot(dtime, ds_global_anomaly.tas.values, label=\"Monthly departure\", color=\"gray\")\n",
    "plt.plot(\n",
    "    dtime_annual,\n",
    "    ds_global_anomaly_annual.tas.values,\n",
    "    color=\"k\",\n",
    "    linestyle=\"\",\n",
    "    marker=\"_\",\n",
    "    label=\"Annual Mean\",\n",
    ")\n",
    "plt.legend(frameon=False)\n",
    "plt.xlabel(\"Year\")\n",
    "plt.ylabel(\"Global Mean Near-Surface Air Temperature [K]\")"
   ]
  },
  {
   "cell_type": "markdown",
   "metadata": {
    "slideshow": {
     "slide_type": "subslide"
    }
   },
   "source": [
    "### 8. General Dataset Utilities\n",
    "\n",
    "xCDAT includes various utilities for data manipulation, including\n",
    "reorientation of the longitude axis, centering of time coordinates using time bounds, and adding and getting bounds.\n"
   ]
  },
  {
   "cell_type": "markdown",
   "metadata": {
    "slideshow": {
     "slide_type": "subslide"
    }
   },
   "source": [
    "#### 8.1 Reorient the longitude axis\n",
    "\n",
    "Longitude can be represented from 0 to 360 E or as 180 W to 180 E. xcdat allows you to convert between these axes systems.\n"
   ]
  },
  {
   "cell_type": "code",
   "execution_count": null,
   "metadata": {
    "slideshow": {
     "slide_type": "fragment"
    }
   },
   "outputs": [],
   "source": [
    "ds.lon"
   ]
  },
  {
   "cell_type": "markdown",
   "metadata": {
    "slideshow": {
     "slide_type": "fragment"
    }
   },
   "source": [
    "#### Use `xc.swap_lon_axis` to swap the longitude axis from (0, 360) to (-180, 180) and view\n",
    "\n",
    "the new longitude axis.\n",
    "\n",
    "- Documentation: https://xcdat.readthedocs.io/en/stable/generated/xcdat.swap_lon_axis.html\n"
   ]
  },
  {
   "cell_type": "code",
   "execution_count": null,
   "metadata": {
    "slideshow": {
     "slide_type": "fragment"
    }
   },
   "outputs": [],
   "source": [
    "ds2 = xc.swap_lon_axis(ds, to=(-180, 180))\n",
    "\n",
    "ds2.lon"
   ]
  },
  {
   "cell_type": "markdown",
   "metadata": {
    "slideshow": {
     "slide_type": "subslide"
    }
   },
   "source": [
    "#### 8.2 Add missing bounds\n",
    "\n",
    "Bounds are critical to many `xcdat` operations. For example, they are used in determining the weights in spatial or temporal averages and in regridding operations. `add_missing_bounds()` will attempt to produce bounds if they do not exist in the original dataset.\n",
    "\n",
    "- Documentation: https://xcdat.readthedocs.io/en/stable/generated/xarray.Dataset.bounds.add_missing_bounds.html\n"
   ]
  },
  {
   "cell_type": "code",
   "execution_count": null,
   "metadata": {
    "slideshow": {
     "slide_type": "fragment"
    }
   },
   "outputs": [],
   "source": [
    "# We are dropping the existing bounds to demonstrate adding bounds.\n",
    "ds4 = ds.drop_vars(\"time_bnds\")"
   ]
  },
  {
   "cell_type": "code",
   "execution_count": null,
   "metadata": {
    "slideshow": {
     "slide_type": "fragment"
    }
   },
   "outputs": [],
   "source": [
    "try:\n",
    "    ds4.bounds.get_bounds(\"T\")\n",
    "except KeyError as e:\n",
    "    print(e)"
   ]
  },
  {
   "cell_type": "code",
   "execution_count": null,
   "metadata": {
    "slideshow": {
     "slide_type": "fragment"
    }
   },
   "outputs": [],
   "source": [
    "ds5 = ds4.bounds.add_missing_bounds(axes=[\"T\"])\n",
    "ds5"
   ]
  },
  {
   "cell_type": "markdown",
   "metadata": {
    "slideshow": {
     "slide_type": "slide"
    }
   },
   "source": [
    "## Parallelism with Dask\n",
    "\n",
    "<div style=\"text-align:center\">\n",
    "  <img src=\"../../_static/dask-logo.svg\" alt=\"Dask logo\" style=\"display: inline-block; width:300px;\">\n",
    "</div>\n",
    "\n",
    "> \"Nearly all existing xarray methods have been extended to work automatically with Dask arrays for parallelism\"\n",
    "\n",
    "- Parallelized xarray methods include **indexing, computation, concatenating and grouped operations**\n",
    "- xCDAT APIs that build upon xarray methods inherently support Dask parallelism\n",
    "- Dask arrays are loaded into memory only when absolutely required (e.g., generating weights for averaging)\n",
    "\n",
    "&mdash; <cite>https://docs.xarray.dev/en/stable/user-guide/dask.html#using-dask-with-xarray</cite>\n"
   ]
  },
  {
   "cell_type": "markdown",
   "metadata": {},
   "source": [
    "The original native format E3SM data is 20 GB and the remapped data is\n",
    "only ~11 MB.\n",
    "\n",
    "You won't need to chunk the dataset and parallelize operations\n",
    "with a dataset this small. This example is simply to show Dask in action.\n"
   ]
  },
  {
   "cell_type": "code",
   "execution_count": null,
   "metadata": {
    "slideshow": {
     "slide_type": "subslide"
    }
   },
   "outputs": [],
   "source": [
    "import xcdat as xc\n",
    "\n",
    "\n",
    "ds_chunk = xc.open_mfdataset(\n",
    "    \"remapped/v2.LR.historical_0101.eam.h0.*.nc\", chunks={\"time\": 10}\n",
    ")"
   ]
  },
  {
   "cell_type": "code",
   "execution_count": null,
   "metadata": {
    "slideshow": {
     "slide_type": "fragment"
    }
   },
   "outputs": [],
   "source": [
    "ds_chunk.ta"
   ]
  },
  {
   "cell_type": "markdown",
   "metadata": {
    "slideshow": {
     "slide_type": "subslide"
    }
   },
   "source": [
    "#### Now let's run the xCDAT `spatial.average()` method and view the output\n"
   ]
  },
  {
   "cell_type": "code",
   "execution_count": null,
   "metadata": {
    "slideshow": {
     "slide_type": "fragment"
    }
   },
   "outputs": [],
   "source": [
    "ds2_avg = ds_chunk.spatial.average(\"ta\")\n",
    "ds2_avg_res = ds_chunk.compute()"
   ]
  },
  {
   "cell_type": "code",
   "execution_count": null,
   "metadata": {
    "slideshow": {
     "slide_type": "fragment"
    }
   },
   "outputs": [],
   "source": [
    "ds2_avg_res.ta"
   ]
  },
  {
   "cell_type": "markdown",
   "metadata": {
    "slideshow": {
     "slide_type": "subslide"
    }
   },
   "source": [
    "### Further Dask Guidance\n",
    "\n",
    "Visit these pages for more guidance (e.g., when to parallelize):\n",
    "\n",
    "<div style=\"text-align: center; margin-top:10px\">\n",
    "    <img src=\"./images/dask-guide.png\" alt=\"Dask Guide\" align=\\\"center\\\" style=\"display: inline-block; width:450px;border: 3px solid #555;\">\n",
    "</div>\n",
    "\n",
    "- Parallel computing with Dask (xCDAT, show above): https://xcdat.readthedocs.io/en/latest/examples/parallel-computing-with-dask.html\n",
    "- Parallel computing with Dask (Xarray): https://docs.xarray.dev/en/stable/user-guide/dask.html\n",
    "- Xarray with Dask Arrays: https://examples.dask.org/xarray.html\n"
   ]
  },
  {
   "cell_type": "markdown",
   "metadata": {
    "slideshow": {
     "slide_type": "slide"
    }
   },
   "source": [
    "<div style=\"text-align: left; margin-top:10px\">\n",
    "    <img src=\"../../_static/xcdat-logo.png\" alt=\"xCDAT logo\" align=\\\"center\\\" style=\"display: inline-block; width:300px;\">\n",
    "    <h3>Recap of Key Points</h3>\n",
    "</div>\n",
    "\n",
    "- xCDAT is an **extension of Xarray for climate data analysis on structured grids**, a modern successor to the Community Data Analysis Tools (CDAT) library\n",
    "- **Focused on routine climate research analysis operations** including loading, wrangling, averaging, such as temporal averaging, spatial averaging, and regridding\n",
    "- Designed to encourages **software sustainability and reproducible science**\n",
    "- **Parallelizable** through Xarray’s support for Dask, which enables efficient processing of large datasets\n"
   ]
  },
  {
   "cell_type": "markdown",
   "metadata": {
    "slideshow": {
     "slide_type": "slide"
    }
   },
   "source": [
    "<div style=\"text-align: left; margin-top:10px\">\n",
    "    <h3><img src=\"../../_static/github-logo.png\" alt=\"GitHub logo\" align=\\\"center\\\" style=\"display: inline-block; width:200px;\">\n",
    "    <img src=\"../../_static/github-logo-icon.png\" alt=\"GitHub logo\" align=\\\"center\\\" style=\"display: inline-block; width:75px;\">\n",
    "    Get involved and join the xCDAT community!</h3>\n",
    "</div>\n",
    "\n",
    "- **Code contributions** are welcome and appreciated\n",
    "  - GitHub Repository: https://github.com/xCDAT/xcdat\n",
    "  - Contributing Guide: https://xcdat.readthedocs.io/en/latest/contributing.html\n",
    "- **Submit and/or address tickets** for feature suggestions, bugs, and documentation updates\n",
    "  - GitHub Issues: https://github.com/xCDAT/xcdat/issues\n",
    "- **Participate in forum discussions** on version releases, architecture, feature suggestions, etc.\n",
    "  - GitHub Discussions: https://github.com/xCDAT/xcdat/discussions\n"
   ]
  }
 ],
 "metadata": {
  "celltoolbar": "Slideshow",
  "kernelspec": {
   "display_name": "Python 3 (ipykernel)",
   "language": "python",
   "name": "python3"
  },
  "language_info": {
   "codemirror_mode": {
    "name": "ipython",
    "version": 3
   },
   "file_extension": ".py",
   "mimetype": "text/x-python",
   "name": "python",
   "nbconvert_exporter": "python",
   "pygments_lexer": "ipython3",
   "version": "3.11.9"
  },
  "rise": {
   "scroll": true
  }
 },
 "nbformat": 4,
 "nbformat_minor": 2
}
