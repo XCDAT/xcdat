{
 "cells": [
  {
   "cell_type": "markdown",
   "metadata": {
    "slideshow": {
     "slide_type": "slide"
    }
   },
   "source": [
    "# xCDAT: Xarray Climate Data Analysis Tools\n",
    "\n",
    "_A package for robust and simple climate data analysis._\n",
    "\n",
    "Tom Vo, Stephen Po-Chedley, Jason Boutte, Jill Zhang, Jiwoo Lee\n",
    "\n",
    "This work is performed under the auspices of the U. S. DOE by Lawrence Livermore National Laboratory under contract No. DE-AC52-07NA27344."
   ]
  },
  {
   "cell_type": "markdown",
   "metadata": {
    "slideshow": {
     "slide_type": "slide"
    }
   },
   "source": [
    "## What is xCDAT?\n",
    "\n",
    "* xCDAT is a lightweight extension of xarray for climate data analysis on structured grids \n",
    "* Jointly developed by scientists and developers from E3SM and PCMDI\n",
    "    * Performed for the E3SM and SEATS (Simplifying ESM Analysis Through Standards) projects\n"
   ]
  },
  {
   "cell_type": "markdown",
   "metadata": {
    "slideshow": {
     "slide_type": "slide"
    }
   },
   "source": [
    "## Xarray, the core of xCDAT\n",
    "\n",
    "\n",
    "Historical Context:\n",
    "\n",
    "* Xarray is an evolution of an internal tool developed at The Climate Corporation\n",
    "* Released as open source in May 2014\n",
    "* NumFocus fiscally sponsored project since August 2018\n",
    "\n",
    "Features:\n",
    "\n",
    "* “N-D labeled arrays and datasets in Python”\n",
    "    * Based on NumPy, heavily inspired by Pandas\n",
    "    * Supports netCDF, Iris, OPeNDAP, Zarr, and more\n",
    "- Pure Python with (optional) compiled dependencies (NumPy, Pandas, NetCDF, ...)\n",
    "* Some features include: \n",
    "    * File I/O, indexing and selecting, interpolating, grouping, aggregating, parallelism (Dask), plotting (matplotlib wrapper)\n",
    " \n",
    "<div>\n",
    "<img src=\"https://xarray.pydata.org/en/stable/_static/dataset-diagram-logo.png\" alt=\"xarray logo\" style=\"float:left; width:49%;\">\n",
    "   <img src=\"https://xarray.dev/NumFOCUS_sponsored_project_logo.svg\" alt=\"NumFOCUS logo\" style=\"float:right; width:49%;\">\n",
    "</div>\n"
   ]
  },
  {
   "cell_type": "code",
   "execution_count": null,
   "metadata": {},
   "outputs": [],
   "source": []
  },
  {
   "cell_type": "markdown",
   "metadata": {
    "cell_style": "center",
    "slideshow": {
     "slide_type": "slide"
    }
   },
   "source": [
    "## The Xarray Data Models in a Nutshell\n",
    "\n",
    "\"Xarray data models are borrowed from netCDF file format, which provides xarray with a natural and portable serialization format.\"\n",
    "\n",
    "* `xarray.DataArray`\n",
    "  * A class that attaches dimension names, coordinates, and attributes to multi-dimensional arrays\n",
    "* `xarray.Dataset`\n",
    "  * Dictionary-like containers of DataArrays, mapping a variable name to each DataArray\n"
   ]
  },
  {
   "cell_type": "markdown",
   "metadata": {
    "slideshow": {
     "slide_type": "notes"
    }
   },
   "source": [
    "Resources: \n",
    "* https://docs.xarray.dev/en/stable/getting-started-guide/why-xarray.html#core-data-structures\n",
    "* "
   ]
  },
  {
   "cell_type": "markdown",
   "metadata": {
    "slideshow": {
     "slide_type": "slide"
    }
   },
   "source": [
    "## Let's open up a NetCDF4 dataset in Xarray!"
   ]
  },
  {
   "cell_type": "code",
   "execution_count": 2,
   "metadata": {
    "cell_style": "center",
    "slideshow": {
     "slide_type": "fragment"
    }
   },
   "outputs": [],
   "source": [
    "import xarray as xr\n",
    "\n",
    "filepath = \"http://esgf.nci.org.au/thredds/dodsC/master/CMIP6/CMIP/CSIRO/ACCESS-ESM1-5/historical/r10i1p1f1/Amon/tas/gn/v20200605/tas_Amon_ACCESS-ESM1-5_historical_r10i1p1f1_gn_185001-201412.nc\"\n",
    "\n",
    "ds = xr.open_dataset(filepath)"
   ]
  },
  {
   "cell_type": "code",
   "execution_count": 5,
   "metadata": {
    "cell_style": "split"
   },
   "outputs": [
    {
     "name": "stdout",
     "output_type": "stream",
     "text": [
      "<xarray.Dataset>\n",
      "Dimensions:    (time: 1980, bnds: 2, lat: 145, lon: 192)\n",
      "Coordinates:\n",
      "  * time       (time) datetime64[ns] 1850-01-16T12:00:00 ... 2014-12-16T12:00:00\n",
      "  * lat        (lat) float64 -90.0 -88.75 -87.5 -86.25 ... 86.25 87.5 88.75 90.0\n",
      "  * lon        (lon) float64 0.0 1.875 3.75 5.625 ... 352.5 354.4 356.2 358.1\n",
      "    height     float64 2.0\n",
      "Dimensions without coordinates: bnds\n",
      "Data variables:\n",
      "    time_bnds  (time, bnds) datetime64[ns] 1850-01-01 1850-02-01 ... 2015-01-01\n",
      "    lat_bnds   (lat, bnds) float64 -90.0 -89.38 -89.38 ... 89.38 89.38 90.0\n",
      "    lon_bnds   (lon, bnds) float64 -0.9375 0.9375 0.9375 ... 357.2 357.2 359.1\n",
      "    tas        (time, lat, lon) float32 ...\n",
      "Attributes: (12/49)\n",
      "    Conventions:                     CF-1.7 CMIP-6.2\n",
      "    activity_id:                     CMIP\n",
      "    branch_method:                   standard\n",
      "    branch_time_in_child:            0.0\n",
      "    branch_time_in_parent:           87658.0\n",
      "    creation_date:                   2020-06-05T04:06:11Z\n",
      "    ...                              ...\n",
      "    version:                         v20200605\n",
      "    license:                         CMIP6 model data produced by CSIRO is li...\n",
      "    cmor_version:                    3.4.0\n",
      "    _NCProperties:                   version=2,netcdf=4.6.2,hdf5=1.10.5\n",
      "    tracking_id:                     hdl:21.14100/af78ae5e-f3a6-4e99-8cfe-5f2...\n",
      "    DODS_EXTRA.Unlimited_Dimension:  time\n"
     ]
    }
   ],
   "source": [
    "print(ds)"
   ]
  },
  {
   "cell_type": "markdown",
   "metadata": {
    "slideshow": {
     "slide_type": "subslide"
    }
   },
   "source": [
    "## The variable `tas` (an `xr.DataArray`) is found in `ds.data_vars`."
   ]
  },
  {
   "cell_type": "code",
   "execution_count": 6,
   "metadata": {
    "slideshow": {
     "slide_type": "fragment"
    }
   },
   "outputs": [
    {
     "name": "stdout",
     "output_type": "stream",
     "text": [
      "<xarray.DataArray 'tas' (time: 1980, lat: 145, lon: 192)>\n",
      "[55123200 values with dtype=float32]\n",
      "Coordinates:\n",
      "  * time     (time) datetime64[ns] 1850-01-16T12:00:00 ... 2014-12-16T12:00:00\n",
      "  * lat      (lat) float64 -90.0 -88.75 -87.5 -86.25 ... 86.25 87.5 88.75 90.0\n",
      "  * lon      (lon) float64 0.0 1.875 3.75 5.625 7.5 ... 352.5 354.4 356.2 358.1\n",
      "    height   float64 2.0\n",
      "Attributes:\n",
      "    standard_name:  air_temperature\n",
      "    long_name:      Near-Surface Air Temperature\n",
      "    comment:        near-surface (usually, 2 meter) air temperature\n",
      "    units:          K\n",
      "    cell_methods:   area: time: mean\n",
      "    cell_measures:  area: areacella\n",
      "    history:        2020-06-05T04:06:10Z altered by CMOR: Treated scalar dime...\n",
      "    _ChunkSizes:    [  1 145 192]\n"
     ]
    }
   ],
   "source": [
    "print(ds.tas) # or ds[\"tas\"]"
   ]
  },
  {
   "cell_type": "markdown",
   "metadata": {},
   "source": [
    "Now that you have a general sense of xarray data models, you can apply the numerous xarray APIs on these objects to perform analysis work."
   ]
  },
  {
   "cell_type": "markdown",
   "metadata": {},
   "source": [
    "## xCDAT adds convenient APIs on top of the xarray "
   ]
  },
  {
   "cell_type": "code",
   "execution_count": null,
   "metadata": {},
   "outputs": [],
   "source": []
  }
 ],
 "metadata": {
  "celltoolbar": "Slideshow",
  "kernelspec": {
   "display_name": "Python 3 (ipykernel)",
   "language": "python",
   "name": "python3"
  },
  "language_info": {
   "codemirror_mode": {
    "name": "ipython",
    "version": 3
   },
   "file_extension": ".py",
   "mimetype": "text/x-python",
   "name": "python",
   "nbconvert_exporter": "python",
   "pygments_lexer": "ipython3",
   "version": "3.9.13"
  },
  "vscode": {
   "interpreter": {
    "hash": "937205ea97caa5d37934716e0a0c6b9e4ffcdaf6e0f20ca1ff82361fb532cef2"
   }
  }
 },
 "nbformat": 4,
 "nbformat_minor": 4
}
