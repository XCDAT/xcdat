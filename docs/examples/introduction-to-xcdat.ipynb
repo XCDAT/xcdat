{
 "cells": [
  {
   "cell_type": "markdown",
   "metadata": {
    "slideshow": {
     "slide_type": "slide"
    }
   },
   "source": [
    "<div style=\"text-align: center\">\n",
    "<img src=\"https://github.com/xCDAT/xcdat/raw/main/docs/_static/xcdat_logo.png\" alt=\"xCDAT logo\" style=\"display: inline-block; width:35%;\">\n",
    "</div>\n",
    "</div>\n",
    "\n",
    "<h1 style=\"text-align: lef;\">A gentle introduction to xCDAT (Xarray Climate Data Analysis Tools)</h1>\n",
    "<h2 style=\"text-align: left;\">A package for simple and robust climate data analysis</h2>\n",
    "<h3 style=\"text-align: left; font-style:italic\">Tom Vo, Stephen Po-Chedley, Jason Boutte, Jill Zhang, Jiwoo Lee</h3>\n",
    "\n",
    "---\n",
    "<p style=\"text-align: left;\">With thanks to Peter Gleckler, Paul Durack, Karl Taylor, and Chris Golaz</p>\n",
    "\n",
    "\n",
    "_This work is performed under the auspices of the U. S. DOE by Lawrence Livermore National Laboratory under contract No. DE-AC52-07NA27344._"
   ]
  },
  {
   "cell_type": "markdown",
   "metadata": {
    "slideshow": {
     "slide_type": "slide"
    }
   },
   "source": [
    "## What this talk covers\n",
    "\n",
    "* What is xCDAT?\n",
    "* An overview of Xarray\n",
    "  * Historial Context\n",
    "  * Key features and capabilities\n",
    "  * The Xarray data models (xr.Dataset, xr.DataArray)\n",
    "  * Resources for learning Xarray\n",
    "* How does xCDAT fit in the Xarray ecosystem?\n",
    "* The API design of xCDAT\n",
    "  - Understand how to leverage xCDAT with Xarray\n",
    "* Demo of xCDAT capabilities"
   ]
  },
  {
   "cell_type": "markdown",
   "metadata": {
    "slideshow": {
     "slide_type": "slide"
    }
   },
   "source": [
    "## What is xCDAT?\n",
    "\n",
    "* xCDAT is a lightweight extension of xarray for climate data analysis on structured grids \n",
    "* This package is jointly developed by scientists and developers from E3SM and PCMDI\n",
    "    * Performed for the E3SM and SEATS (Simplifying ESM Analysis Through Standards) projects\n",
    "    \n",
    "<div style=\"text-align: center\">   \n",
    "<img src=\"https://e3sm.org/wp-content/uploads/2019/05/E3SM_Logo.jpg\" alt=\"E3SM logo\" style=\"display: inline-block; width:25%;\">\n",
    "<img src=\"https://pcmdi.llnl.gov/Data/media/images/220224_durack1_PCMDILogoWithText-trim-940Wpx-png8.png\" alt=\"PCMDI logo\" style=\"display: inline-block; width:25%;\">\n",
    "<img src=\"https://www.seatstandards.org/SEATSlogo.png\" alt=\"SEATS logo\" style=\"display: inline-block; width:25%;\">\n",
    "\n",
    "</div>\n",
    "</div>"
   ]
  },
  {
   "cell_type": "markdown",
   "metadata": {
    "slideshow": {
     "slide_type": "slide"
    }
   },
   "source": [
    "## Let's Begin with Xarray\n",
    "\n",
    "### Historical context:\n",
    "* Xarray is an evolution of an internal tool developed at The Climate Corporation\n",
    "* Released as open source in May 2014\n",
    "* NumFocus fiscally sponsored project since August 2018\n",
    "\n",
    "\n",
    "<div style=\"text-align: center\">\n",
    "    <img src=\"https://xarray.pydata.org/en/stable/_static/dataset-diagram-logo.png\" alt=\"xarray logo\" style=\"display: inline-block; width:25%;\">\n",
    "    <img src=\"https://xarray.dev/NumFOCUS_sponsored_project_logo.svg\" alt=\"NumFOCUS logo\" style=\"display: inline-block; width:25%;\">\n",
    "</div>\n"
   ]
  },
  {
   "cell_type": "markdown",
   "metadata": {
    "slideshow": {
     "slide_type": "subslide"
    }
   },
   "source": [
    "### Key Features and Capabilities in Xarray\n",
    "\n",
    "* “N-D labeled arrays and datasets in Python”\n",
    "    * Based on NumPy, heavily inspired by Pandas\n",
    "    * Supports I/O for netCDF, Iris, OPeNDAP, Zarr, and GRIB.\n",
    "* Interoperable with scientific Python ecosystem including NumPy, Dask, Pandas, and Matplotlib\n",
    "* Features include:\n",
    "    * File I/O, indexing and selecting, interpolating, grouping, aggregating, parallelism (Dask), plotting (matplotlib wrapper)\n",
    "    \n",
    "\n",
    "<div style=\"text-align: center\">\n",
    "    <img src=\" https://xarray.dev/xarray-datastructure.png\" alt=\"xarray logo\" style=\"display: inline-block; width:45%;\">\n",
    "</div>\n",
    "\n",
    "Source: https://xarray.dev/#features\n"
   ]
  },
  {
   "cell_type": "markdown",
   "metadata": {
    "cell_style": "center",
    "slideshow": {
     "slide_type": "slide"
    }
   },
   "source": [
    "## The Xarray Data Models in a Nutshell\n",
    "\n",
    "**_\"Xarray data models are borrowed from netCDF file format, which provides xarray with a natural and portable serialization format.\"_**\n",
    "\n",
    "* `xarray.Dataset`\n",
    "  * Dictionary-like containers of DataArrays, mapping a variable name to each DataArray\n",
    "\n",
    "* `xarray.DataArray`\n",
    "  * A class that attaches dimension names, coordinates, and attributes to multi-dimensional arrays\n",
    "  \n",
    "    \n",
    "\n",
    "Source: https://docs.xarray.dev/en/stable/getting-started-guide/why-xarray.html#core-data-structures"
   ]
  },
  {
   "cell_type": "markdown",
   "metadata": {
    "slideshow": {
     "slide_type": "slide"
    }
   },
   "source": [
    "## The `Dataset` Model\n",
    "\n",
    "\n",
    "Datasets have four key properties:\n",
    "* `dims`: a dictionary mapping from dimension names to the fixed length of each dimension (e.g., {'x': 6, 'y': 6, 'time': 8})\n",
    "* `data_vars`: a dict-like container of DataArrays corresponding to variables\n",
    "* `coords`: another dict-like container of DataArrays intended to label points used in data_vars (e.g., arrays of numbers, datetime objects or strings)\n",
    "* `attrs`: dict to hold arbitrary metadata\n",
    "\n",
    "\n",
    "<div style=\"text-align: center\">\n",
    "    <img src=\"https://docs.xarray.dev/en/stable/_images/dataset-diagram.png\" alt=\"xarray logo\" style=\"display: inline-block; width:50%\">\n",
    "</div>\n",
    "\n",
    "Source: https://docs.xarray.dev/en/stable/user-guide/data-structures.html#dataset\n"
   ]
  },
  {
   "cell_type": "markdown",
   "metadata": {
    "slideshow": {
     "slide_type": "subslide"
    }
   },
   "source": [
    "### Let's open a netCDF4 dataset!\n",
    "\n",
    "We will open a netCDF4 file from ESGF containing the `tas` variable, which represents near-surface air temperature."
   ]
  },
  {
   "cell_type": "code",
   "execution_count": 12,
   "metadata": {
    "cell_style": "center",
    "slideshow": {
     "slide_type": "fragment"
    }
   },
   "outputs": [],
   "source": [
    "import xarray as xr\n",
    "\n",
    "filepath = \"http://esgf.nci.org.au/thredds/dodsC/master/CMIP6/CMIP/CSIRO/ACCESS-ESM1-5/historical/r10i1p1f1/Amon/tas/gn/v20200605/tas_Amon_ACCESS-ESM1-5_historical_r10i1p1f1_gn_185001-201412.nc\"\n",
    "\n",
    "ds = xr.open_dataset(filepath)"
   ]
  },
  {
   "cell_type": "code",
   "execution_count": 13,
   "metadata": {
    "cell_style": "center",
    "slideshow": {
     "slide_type": "fragment"
    }
   },
   "outputs": [
    {
     "name": "stdout",
     "output_type": "stream",
     "text": [
      "<xarray.Dataset>\n",
      "Dimensions:    (time: 1980, bnds: 2, lat: 145, lon: 192)\n",
      "Coordinates:\n",
      "  * time       (time) datetime64[ns] 1850-01-16T12:00:00 ... 2014-12-16T12:00:00\n",
      "  * lat        (lat) float64 -90.0 -88.75 -87.5 -86.25 ... 86.25 87.5 88.75 90.0\n",
      "  * lon        (lon) float64 0.0 1.875 3.75 5.625 ... 352.5 354.4 356.2 358.1\n",
      "    height     float64 ...\n",
      "Dimensions without coordinates: bnds\n",
      "Data variables:\n",
      "    time_bnds  (time, bnds) datetime64[ns] ...\n",
      "    lat_bnds   (lat, bnds) float64 ...\n",
      "    lon_bnds   (lon, bnds) float64 ...\n",
      "    tas        (time, lat, lon) float32 ...\n",
      "Attributes: (12/49)\n",
      "    Conventions:                     CF-1.7 CMIP-6.2\n",
      "    activity_id:                     CMIP\n",
      "    branch_method:                   standard\n",
      "    branch_time_in_child:            0.0\n",
      "    branch_time_in_parent:           87658.0\n",
      "    creation_date:                   2020-06-05T04:06:11Z\n",
      "    ...                              ...\n",
      "    version:                         v20200605\n",
      "    license:                         CMIP6 model data produced by CSIRO is li...\n",
      "    cmor_version:                    3.4.0\n",
      "    _NCProperties:                   version=2,netcdf=4.6.2,hdf5=1.10.5\n",
      "    tracking_id:                     hdl:21.14100/af78ae5e-f3a6-4e99-8cfe-5f2...\n",
      "    DODS_EXTRA.Unlimited_Dimension:  time\n"
     ]
    }
   ],
   "source": [
    "print(ds)"
   ]
  },
  {
   "cell_type": "markdown",
   "metadata": {
    "slideshow": {
     "slide_type": "slide"
    }
   },
   "source": [
    "## The `DataArray` model\n",
    "\n",
    "xarray.DataArray is xarray’s implementation of a labeled, multi-dimensional array. It has several key properties:\n",
    "\n",
    "* `values`: a numpy.ndarray holding the array’s values\n",
    "* `dims`: dimension names for each axis (e.g., ('x', 'y', 'z'))\n",
    "* `coords`: a dict-like container of arrays (coordinates) that label each point (e.g., 1-dimensional arrays of numbers, datetime objects or strings)\n",
    "* `attrs`: dict to hold arbitrary metadata (attributes)\n",
    "\n",
    "\n",
    "<div style=\"text-align: center\">\n",
    "    <img src=\"https://docs.xarray.dev/en/stable/_images/dataset-diagram.png\" alt=\"xarray logo\" style=\"display: inline-block; width:50%\">\n",
    "</div>\n",
    "\n",
    "Source: https://docs.xarray.dev/en/stable/user-guide/data-structures.html#dataarray"
   ]
  },
  {
   "cell_type": "markdown",
   "metadata": {
    "slideshow": {
     "slide_type": "subslide"
    }
   },
   "source": [
    "### Let's take a look at `tas`, which is an `xr.DataArray`"
   ]
  },
  {
   "cell_type": "code",
   "execution_count": 20,
   "metadata": {
    "slideshow": {
     "slide_type": "fragment"
    }
   },
   "outputs": [
    {
     "name": "stdout",
     "output_type": "stream",
     "text": [
      "<xarray.DataArray 'tas' (time: 1980, lat: 145, lon: 192)>\n",
      "array([[[245.96303, 245.96303, ..., 245.96303, 245.96303],\n",
      "        [247.19702, 247.1598 , ..., 247.2934 , 247.24402],\n",
      "        ...,\n",
      "        [237.34947, 237.35645, ..., 237.33876, 237.33958],\n",
      "        [236.75006, 236.75006, ..., 236.75006, 236.75006]],\n",
      "\n",
      "       [[234.33388, 234.33388, ..., 234.33388, 234.33388],\n",
      "        [236.57535, 236.52422, ..., 236.6786 , 236.62816],\n",
      "        ...,\n",
      "        [232.13614, 232.15143, ..., 232.1143 , 232.12619],\n",
      "        [231.81165, 231.81165, ..., 231.81165, 231.81165]],\n",
      "\n",
      "       ...,\n",
      "\n",
      "       [[234.71193, 234.71193, ..., 234.71193, 234.71193],\n",
      "        [237.06593, 237.02936, ..., 237.1341 , 237.10274],\n",
      "        ...,\n",
      "        [258.94232, 259.02502, ..., 258.7631 , 258.84378],\n",
      "        [256.24075, 256.24075, ..., 256.24075, 256.24075]],\n",
      "\n",
      "       [[244.1595 , 244.1595 , ..., 244.1595 , 244.1595 ],\n",
      "        [244.95708, 244.92542, ..., 245.024  , 244.99197],\n",
      "        ...,\n",
      "        [248.52098, 248.5366 , ..., 248.42839, 248.48358],\n",
      "        [247.86076, 247.86076, ..., 247.86076, 247.86076]]], dtype=float32)\n",
      "Coordinates:\n",
      "  * time     (time) datetime64[ns] 1850-01-16T12:00:00 ... 2014-12-16T12:00:00\n",
      "  * lat      (lat) float64 -90.0 -88.75 -87.5 -86.25 ... 86.25 87.5 88.75 90.0\n",
      "  * lon      (lon) float64 0.0 1.875 3.75 5.625 7.5 ... 352.5 354.4 356.2 358.1\n",
      "    height   float64 ...\n",
      "Attributes:\n",
      "    standard_name:  air_temperature\n",
      "    long_name:      Near-Surface Air Temperature\n",
      "    comment:        near-surface (usually, 2 meter) air temperature\n",
      "    units:          K\n",
      "    cell_methods:   area: time: mean\n",
      "    cell_measures:  area: areacella\n",
      "    history:        2020-06-05T04:06:10Z altered by CMOR: Treated scalar dime...\n",
      "    _ChunkSizes:    [  1 145 192]\n"
     ]
    }
   ],
   "source": [
    "print(ds.tas) # or ds[\"tas\"]"
   ]
  },
  {
   "cell_type": "markdown",
   "metadata": {
    "slideshow": {
     "slide_type": "subslide"
    }
   },
   "source": [
    "## Resources for Learning Xarray\n",
    "* Now that you have a general sense of xarray data models, you can apply the numerous xarray APIs on these objects to perform analysis work.\n",
    "\n",
    "* Here are some highly recommended resources:\n",
    "\n",
    "  * [Xarray Documentation](https://docs.xarray.dev/en/stable/index.html)\n",
    "  * [Xarray API Reference](https://docs.xarray.dev/en/stable/api.html)\n",
    "  * [Tutorial: \"Xarray in 45 minutes\"](https://tutorial.xarray.dev/overview/xarray-in-45-min.html#) "
   ]
  },
  {
   "cell_type": "markdown",
   "metadata": {
    "slideshow": {
     "slide_type": "slide"
    }
   },
   "source": [
    "## So how does xCDAT fit in the Xarray Ecosystem?\n",
    "\n",
    "_\"Xarray is designed as a general purpose library, and hence tries to avoid including overly domain specific functionality. But inevitably, the need for more domain specific logic arises.\"_\n",
    "\n",
    "* The goal of xCDAT is to provide generalizable climate domain features and utilities for simple and robust analysis of climate data. \n",
    "* xCDAT's design philosophy is centered on reducing the overhead required from xarray users to accomplish specific tasks. \n"
   ]
  },
  {
   "cell_type": "markdown",
   "metadata": {
    "slideshow": {
     "slide_type": "slide"
    }
   },
   "source": [
    "## xCDAT Key Features"
   ]
  },
  {
   "cell_type": "markdown",
   "metadata": {
    "slideshow": {
     "slide_type": "slide"
    }
   },
   "source": [
    "## xCDAT API Design\n",
    "* Accessor classes\n",
    "* Top-level modules"
   ]
  },
  {
   "cell_type": "markdown",
   "metadata": {
    "slideshow": {
     "slide_type": "slide"
    }
   },
   "source": [
    "## A Demo of xCDAT Capabilities"
   ]
  },
  {
   "cell_type": "code",
   "execution_count": null,
   "metadata": {},
   "outputs": [],
   "source": []
  }
 ],
 "metadata": {
  "celltoolbar": "Slideshow",
  "kernelspec": {
   "display_name": "Python 3 (ipykernel)",
   "language": "python",
   "name": "python3"
  },
  "language_info": {
   "codemirror_mode": {
    "name": "ipython",
    "version": 3
   },
   "file_extension": ".py",
   "mimetype": "text/x-python",
   "name": "python",
   "nbconvert_exporter": "python",
   "pygments_lexer": "ipython3",
   "version": "3.9.13"
  },
  "vscode": {
   "interpreter": {
    "hash": "8d179823a6296fd3111b51f714681a38ccc58257347fa04d844e869cd7175e67"
   }
  }
 },
 "nbformat": 4,
 "nbformat_minor": 4
}
