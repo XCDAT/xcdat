{
 "cells": [
  {
   "cell_type": "markdown",
   "metadata": {
    "cell_style": "center",
    "slideshow": {
     "slide_type": "slide"
    }
   },
   "source": [
    "<div style=\"text-align: center\">\n",
    "    <img src=\"../_static/xcdat-logo.png\" alt=\"xCDAT logo\" style=\"display: inline-block; width:450px;\">\n",
    "</div>\n",
    "\n",
    "\n",
    "# A Gentle Introduction to xCDAT (Xarray Climate Data Analysis Tools)\n",
    "\n",
    "<h3 style=\"text-align: left;\">\n",
    "    \"A Python package for simple and robust climate data analysis.\"</h2>\n",
    "<h3 style=\"text-align: left; font-style:italic\">Core Developers: Tom Vo, Stephen Po-Chedley, Jason Boutte, Jill Zhang, Jiwoo Lee</h3>\n",
    "\n",
    "---\n",
    "<p style=\"text-align: left;\">With thanks to Peter Gleckler, Paul Durack, Karl Taylor, and Chris Golaz</p>\n",
    "\n",
    "\n",
    "_This work is performed under the auspices of the U. S. DOE by Lawrence Livermore National Laboratory under contract No. DE-AC52-07NA27344._"
   ]
  },
  {
   "cell_type": "markdown",
   "metadata": {
    "slideshow": {
     "slide_type": "slide"
    }
   },
   "source": [
    "## Presentation Overview\n",
    "\n",
    "Intended audience: Some or no familiarity with `xarray` and `xcdat`\n",
    "\n",
    "* What is xCDAT?\n",
    "* An overview of Xarray\n",
    "* How does xCDAT fit in the Xarray ecosystem?\n",
    "* The API design of xCDAT\n",
    "* Demo of xCDAT capabilities and Dask parallelism\n",
    "* Wrap up and resources\n"
   ]
  },
  {
   "cell_type": "markdown",
   "metadata": {
    "slideshow": {
     "slide_type": "slide"
    }
   },
   "source": [
    "## What is xCDAT?\n",
    "\n",
    "* xCDAT is an **extension of xarray** for **climate data analysis on structured grids**\n",
    "* The goal is to provide **generalizable features and utilities for simple and robust analysis of climate data**\n",
    "* Jointly developed by scientists and developers from **E3SM** and **PCMDI** at **Lawrence Livermore National Lab**\n",
    "    * In collaboration with external users and organizations through GitHub\n",
    "* Performed for the E3SM and **SEATS** (Simplifying ESM Analysis Through Standards) projects\n",
    "\n",
    "<div style=\"text-align: center\">\n",
    "<img src=\"../_static/e3sm-logo.jpg\" alt=\"E3SM logo\" align=\\\"center\\\" style=\"display: inline-block; width:300px;\">\n",
    "<img src=\"../_static/PCMDI-logo.png\" alt=\"PCMDI logo\" style=\"display: inline-block; width:300px;\">\n",
    "<img src=\"../_static/SEATS-logo.png\" alt=\"SEATS logo\" style=\"display: inline-block; width:300px;\">\n",
    "\n",
    "</div>"
   ]
  },
  {
   "cell_type": "markdown",
   "metadata": {
    "slideshow": {
     "slide_type": "subslide"
    }
   },
   "source": [
    "* Some key xCDAT features are inspired by or ported from the core **CDAT** library\n",
    "  * Examples: spatial/temporal averaging, regrid2 for horizontal regridding\n",
    "* Other features **leverage powerful libraries** in the **xarray ecosystem** \n",
    "  * Examples: `xESMF` and `CF-xarray`\n",
    "* xCDAT strives to support **CF compliant datasets** and datasets with **common non-CF compliant metadata**\n",
    "    * Example common non-CF metadata: time units in “months since …” or “years since …”\n",
    "\n",
    "<div style=\"text-align: center\">\n",
    "        <img src=\"../_static/CMIP6-logo.png\" alt=\"CMIP6 logo\" style=\"display: inline-block; width:450px\">\n",
    "    <img src=\"../_static/CF-xarray.png\" alt=\"cf-xarray logo\" style=\"display: inline-block; width:450px\n",
    ";\">\n",
    "\n",
    "</div>\n"
   ]
  },
  {
   "cell_type": "markdown",
   "metadata": {
    "slideshow": {
     "slide_type": "slide"
    }
   },
   "source": [
    "## First, Let's Dive into Xarray\n",
    "\n",
    "* Xarray is an evolution of an internal tool developed at The Climate Corporation\n",
    "* Released as open source ina May 2014\n",
    "* __NumFocus__ fiscally sponsored project since August 2018\n",
    "\n",
    "\n",
    "<div style=\"text-align: center\">\n",
    "    <img src=\"../_static/xarray-logo.png\" alt=\"xarray logo\" style=\"display: inline-block; width:300px;\">\n",
    "    <img src=\"../_static/NumFocus-logo.png\" alt=\"NumFOCUS logo\" style=\"display: inline-block; width:300px\">\n",
    "</div>\n",
    "\n"
   ]
  },
  {
   "cell_type": "markdown",
   "metadata": {
    "slideshow": {
     "slide_type": "subslide"
    }
   },
   "source": [
    "### Key Features and Capabilities in Xarray\n",
    "\n",
    "* __“N-D labeled arrays and datasets in Python”__\n",
    "    * Built upon and extends NumPy and pandas\n",
    "* __Interoperable with scientific Python ecosystem__ including NumPy, Dask, Pandas, and Matplotlib\n",
    "* Supports file I/O, indexing and selecting, interpolating, grouping, aggregating, parallelism (Dask), plotting (matplotlib wrapper)\n",
    "    * Supports I/O for netCDF, Iris, OPeNDAP, Zarr, and GRIB\n",
    "\n",
    "<div style=\"text-align: center\">\n",
    "<img src=\"../_static/numpy-logo.svg\" alt=\"NumPy logo\" style=\"display: inline-block; width:300px;\">\n",
    "<img src=\"../_static/pandas-logo.svg\" alt=\"Pandas logo\" style=\"display: inline-block; width:300px;\">\n",
    "    <img src=\"../_static/dask-logo.svg\" alt=\"Dask logo\" style=\"display: inline-block; width:300px\">\n",
    "</div>\n",
    "\n",
    "Source: <cite>https://xarray.dev/#features</cite>\n"
   ]
  },
  {
   "cell_type": "markdown",
   "metadata": {
    "slideshow": {
     "slide_type": "slide"
    }
   },
   "source": [
    "### Why Xarray?\n",
    "\n",
    "> \"Xarray introduces labels in the form of dimensions, coordinates and attributes on top of raw NumPy-like \n",
    "> multidimensional arrays, which allows for a more intuitive, more concise, and less error-prone developer \n",
    "> experience.\"\n",
    ">\n",
    "> &mdash; <cite> https://xarray.pydata.org/en/v2022.10.0/getting-started-guide/why-xarray.html</cite>\n",
    "\n"
   ]
  },
  {
   "cell_type": "markdown",
   "metadata": {
    "slideshow": {
     "slide_type": "subslide"
    }
   },
   "source": [
    "Xarray uses labels on arrays to provide a powerful and concise interface\n",
    "\n",
    "  * __Apply operations over dimensions by name__\n",
    "    * `x.sum('time')`\n",
    "  * __Select values by label__ (or logical location) instead of integer location\n",
    "    * `x.loc['2014-01-01']` or `x.sel(time='2014-01-01')`\n",
    "  * __Mathematical operations vectorize across multiple dimensions__ (array broadcasting) based on __dimension names__, not shape\n",
    "    * `x - y`\n",
    "  * Easily use the __split-apply-combine paradigm__ with groupby\n",
    "    * `x.groupby('time.dayofyear').mean()`.\n",
    "  * __Database-like alignment__ based on coordinate labels that __smoothly handles missing values__\n",
    "    * `x, y = xr.align(x, y, join='outer')`\n",
    "  * Keep track of __arbitrary metadata in__ the form of a __Python dictionary__\n",
    "    * `x.attrs`\n",
    "\n",
    "Source: <cite>https://docs.xarray.dev/en/v2022.10.0/getting-started-guide/why-xarray.html#what-labels-enable</cite>"
   ]
  },
  {
   "cell_type": "markdown",
   "metadata": {
    "slideshow": {
     "slide_type": "slide"
    }
   },
   "source": [
    "## The Xarray Core Data Structures\n",
    "\n",
    "> \"Xarray data models are borrowed from netCDF file format, which provides xarray with a natural and portable\n",
    "> serialization format.\"\n",
    ">\n",
    "> &mdash; <cite>https://docs.xarray.dev/en/v2022.10.0/getting-started-guide/why-xarray.html</cite>\n"
   ]
  },
  {
   "cell_type": "markdown",
   "metadata": {
    "slideshow": {
     "slide_type": "subslide"
    }
   },
   "source": [
    "Xarray has two core data structures:\n",
    "\n",
    "1. `xarray.DataArray`\n",
    "   * A class that attaches __dimension names__, __coordinates__, and __attributes__ to __multi-dimensional arrays__ (aka \"labeled arrays\")\n",
    "   * An N-D generalization of a `pandas.Series`\n",
    "2. `xarray.Dataset`\n",
    "   * A __dictionary-like container__ of DataArray objects with __aligned dimensions__ \n",
    "      * DataArray objects are classified as \"coordinate variables\" or \"data variables\"\n",
    "      * All data variables have a shared __union__ of coordinates\n",
    "   * Serves a similar purpose to a `pandas.DataFrame`\n",
    "\n",
    "<div style=\"text-align: center\">\n",
    "    <img src=\"../_static/dataset-diagram.webp\" alt=\"xarray logo\" style=\"display: inline-block; width:450px\">\n",
    "</div>"
   ]
  },
  {
   "cell_type": "markdown",
   "metadata": {
    "slideshow": {
     "slide_type": "slide"
    }
   },
   "source": [
    "### Dissecting Xarray Data Structures in a Real-World Dataset\n",
    "\n",
    "This example netCDF4 dataset is opened directly from ESGF using xarray's OPeNDAP support.\n",
    "\n",
    "It contains the `tas` variable, which represents near-surface air temperature.\n",
    "`tas` is recorded on a monthly frequency."
   ]
  },
  {
   "cell_type": "code",
   "execution_count": 1,
   "metadata": {
    "slideshow": {
     "slide_type": "skip"
    }
   },
   "outputs": [
    {
     "data": {
      "text/html": [
       "\n",
       "<style>\n",
       ".reveal pre.xr-text-repr-fallback {\n",
       "    display: none;\n",
       "}\n",
       "\n",
       ".reveal ul.xr-sections {\n",
       "    display: grid\n",
       "}\n",
       "\n",
       ".reveal ul ul.xr-var-list {\n",
       "    display: contents\n",
       "}\n",
       "</style>\n"
      ],
      "text/plain": [
       "<IPython.core.display.HTML object>"
      ]
     },
     "execution_count": 1,
     "metadata": {},
     "output_type": "execute_result"
    }
   ],
   "source": [
    "# This style import is necessary to properly render Xarray's HTML output with\n",
    "# the Jupyer RISE extension.\n",
    "# GitHub Issue: https://github.com/damianavila/RISE/issues/594\n",
    "# Source: https://github.com/smartass101/xarray-pydata-prague-2020/blob/main/rise.css\n",
    "\n",
    "from IPython.core.display import HTML\n",
    "\n",
    "style = \"\"\"\n",
    "<style>\n",
    ".reveal pre.xr-text-repr-fallback {\n",
    "    display: none;\n",
    "}\n",
    "\n",
    ".reveal ul.xr-sections {\n",
    "    display: grid\n",
    "}\n",
    "\n",
    ".reveal ul ul.xr-var-list {\n",
    "    display: contents\n",
    "}\n",
    "</style>\n",
    "\"\"\"\n",
    "\n",
    "\n",
    "HTML(style)"
   ]
  },
  {
   "cell_type": "code",
   "execution_count": null,
   "metadata": {
    "cell_style": "center",
    "slideshow": {
     "slide_type": "fragment"
    }
   },
   "outputs": [],
   "source": [
    "import xarray as xr\n",
    "\n",
    "filepath = \"http://esgf.nci.org.au/thredds/dodsC/master/CMIP6/CMIP/CSIRO/ACCESS-ESM1-5/historical/r10i1p1f1/Amon/tas/gn/v20200605/tas_Amon_ACCESS-ESM1-5_historical_r10i1p1f1_gn_185001-201412.nc\"\n",
    "\n",
    "ds = xr.open_dataset(filepath)"
   ]
  },
  {
   "cell_type": "markdown",
   "metadata": {
    "cell_style": "split",
    "slideshow": {
     "slide_type": "subslide"
    }
   },
   "source": [
    "### The `Dataset` Model\n",
    "\n",
    "A dictionary-like container of labeled arrays (DataArray objects) with aligned dimensions. \n",
    "\n",
    "Key properties:\n",
    "\n",
    "* `dims`: a dictionary mapping from dimension names to the fixed length of each dimension (e.g., {'x': 6, 'y': 6, 'time': 8})\n",
    "* `coords`: another dict-like container of DataArrays intended to label points used in data_vars (e.g., arrays of numbers, datetime objects or strings)\n",
    "* `data_vars`: a dict-like container of DataArrays corresponding to variables\n",
    "* `attrs`: dict to hold arbitrary metadata\n",
    "\n",
    "Source: <cite>https://docs.xarray.dev/en/stable/user-guide/data-structures.html#dataset</cite>"
   ]
  },
  {
   "cell_type": "code",
   "execution_count": null,
   "metadata": {
    "cell_style": "split",
    "scrolled": false,
    "slideshow": {
     "slide_type": "fragment"
    }
   },
   "outputs": [],
   "source": [
    "ds"
   ]
  },
  {
   "cell_type": "markdown",
   "metadata": {
    "cell_style": "split",
    "slideshow": {
     "slide_type": "subslide"
    }
   },
   "source": [
    "### The `DataArray` Model\n",
    "\n",
    "A class that attaches __dimension names__, __coordinates__, and __attributes__ to __multi-dimensional arrays__ (aka \"labeled arrays\")\n",
    "\n",
    "Key properties:\n",
    "\n",
    "* `values`: a numpy.ndarray holding the array’s values\n",
    "* `dims`: dimension names for each axis (e.g., ('x', 'y', 'z'))\n",
    "* `coords`: a dict-like container of arrays (coordinates) that label each point (e.g., 1-dimensional arrays of numbers, datetime objects or strings)\n",
    "* `attrs`: dict to hold arbitrary metadata (attributes)\n",
    "\n",
    "\n",
    "Source: <cite>https://docs.xarray.dev/en/stable/user-guide/data-structures.html#dataarray</cite>"
   ]
  },
  {
   "cell_type": "code",
   "execution_count": null,
   "metadata": {
    "cell_style": "split",
    "slideshow": {
     "slide_type": "fragment"
    }
   },
   "outputs": [],
   "source": [
    "ds.tas"
   ]
  },
  {
   "cell_type": "markdown",
   "metadata": {
    "slideshow": {
     "slide_type": "slide"
    }
   },
   "source": [
    "## Resources for Learning Xarray\n",
    "\n",
    "* Now that you have a general sense of xarray data models, give xarray a shot if you haven't already!\n",
    "* Here are some highly recommended resources:\n",
    "  * [Xarray Tutorial](https://tutorial.xarray.dev/intro.html)\n",
    "  * [\"Xarray in 45 minutes\"](https://tutorial.xarray.dev/overview/xarray-in-45-min.html#) \n",
    "  * [Xarray Documentation](https://docs.xarray.dev/en/stable/index.html)\n",
    "  * [Xarray API Reference](https://docs.xarray.dev/en/stable/api.html)"
   ]
  },
  {
   "cell_type": "markdown",
   "metadata": {
    "cell_style": "center",
    "slideshow": {
     "slide_type": "slide"
    }
   },
   "source": [
    "## Jumping Forward to xCDAT, an Extension of Xarray\n",
    "\n",
    "> \"Xarray is designed as a general purpose library, and hence tries to avoid including overly domain specific\n",
    "> functionality. But inevitably, the need for more domain specific logic arises.\"\n",
    ">\n",
    "> &mdash; https://docs.xarray.dev/en/v2022.10.0/internals/extending-xarray.html#extending-xarray\n",
    "\n",
    "* xCDAT aims to provide **generalizable features and utilities for simple and robust analysis of climate data**.\n",
    "* xCDAT's design philosophy is focused on **reducing the overhead required to accomplish certain tasks in xarray**."
   ]
  },
  {
   "cell_type": "markdown",
   "metadata": {
    "slideshow": {
     "slide_type": "slide"
    }
   },
   "source": [
    "### Available xCDAT Features\n",
    "\n",
    "* Extension of xarray's ``open_dataset()`` and ``open_mfdataset()`` with post-processing options\n",
    "  * Generate bounds that don't exist\n",
    "  * Keep a single data variable in the Dataset\n",
    "  * Optional decoding of time coordinates, centering of time coordinates, swapping longitudinal axis orientation between [0, 360) and [-180, 180)\n",
    "* Temporal averaging\n",
    "  * Time series averages (single snapshot and grouped), climatologies, and departures\n",
    "  * Weighted or unweighted\n",
    "  * Optional seasonal configuration (e.g., DJF vs. JFD, custom seasons)\n",
    "* Geospatial weighted averaging (rectilinear grid)\n",
    "  * Optional specification of regional domain\n",
    "* Horizontal structured regridding (rectilinear and curvilinear grids)\n",
    "  * Python implementation of `regrid2`_ for handling cartesian latitude longitude grids\n",
    "  * API that wraps `xESMF`"
   ]
  },
  {
   "cell_type": "markdown",
   "metadata": {
    "slideshow": {
     "slide_type": "slide"
    }
   },
   "source": [
    "## xCDAT's API Design\n",
    "\n",
    "xCDAT provides public APIs in two ways:\n",
    "\n",
    "1. Top-level APIs functions \n",
    "   * Example: `xcdat.open_dataset()`, `xcdat.center_times()`\n",
    "2. Accessor classes\n",
    "   * xcdat provides `Dataset` accessors, which are __implicit namespaces for custom functionality__.\n",
    "   * Accessor __namespaces__ clearly identifies __separation from built-in xarray methods__. \n",
    "   * Example: `ds.spatial`, `ds.temporal`, `ds.regridder`\n",
    "\n",
    "\n",
    "\n",
    "<div style=\"text-align: center\">\n",
    "    <figure>\n",
    "    <img src=\"../_static/accessor_api.svg\" alt=\"xcdat accessor\" style=\"display: inline-block; width:50%\">\n",
    "        <figcaption>xcdat spatial functionality is exposed by chaining the <span style=\"background-color: #e4e6e8\">.spatial</span> accessor attribute to the <span style=\"background-color: #e4e6e8\">xr.Dataset</span> object.</figcaption>\n",
    "    </figure>\n",
    "</div>\n",
    "\n"
   ]
  },
  {
   "cell_type": "markdown",
   "metadata": {
    "slideshow": {
     "slide_type": "slide"
    }
   },
   "source": [
    "## A Demo of xCDAT Capabilities\n",
    "\n",
    "* Prerequisites\n",
    "    * Installing `xcdat`\n",
    "    * Import `xcdat`\n",
    "    * Open a dataset and apply postprocessing operations\n",
    "* Scenario 1 - Calculate the spatial averages over the tropical region\n",
    "* Scenario 2 - Calculate the annual anomalies\n",
    "* Scenario 3 - Horizontal regridding (bilinear, gaussian grid)"
   ]
  },
  {
   "cell_type": "markdown",
   "metadata": {
    "slideshow": {
     "slide_type": "subslide"
    }
   },
   "source": [
    "### Installing `xcdat`\n",
    "\n",
    "xCDAT is available on Anaconda under the `conda-forge` channel (https://anaconda.org/conda-forge/xcdat)\n",
    "\n",
    "Two ways to install `xcdat` with recommended dependencies (`xesmf`):\n",
    "1. Create a conda environment from scratch (`conda create`)\n",
    "    ```bash\n",
    "    conda create -n <ENV_NAME> -c conda-forge xcdat xesmf\n",
    "    conda activate <ENV_NAME>\n",
    "    ```\n",
    "2. Install `xcdat` in an existing conda environment (`conda install`)\n",
    "    ```bash\n",
    "    conda activate <ENV_NAME>\n",
    "    conda install -c conda-forge xcdat xesmf\n",
    "    ```\n",
    "\n",
    "_Source_: <cite>https://xcdat.readthedocs.io/en/latest/getting-started.html</cite>"
   ]
  },
  {
   "cell_type": "markdown",
   "metadata": {
    "slideshow": {
     "slide_type": "subslide"
    }
   },
   "source": [
    "### Opening a dataset\n",
    "\n",
    "This example netCDF4 dataset is opened directly from ESGF using xarray's OPeNDAP support.\n",
    "\n",
    "It contains the __`tas` variable__, which represents near-surface air temperature.\n",
    "`tas` is recorded on a monthly frequency."
   ]
  },
  {
   "cell_type": "code",
   "execution_count": null,
   "metadata": {
    "slideshow": {
     "slide_type": "fragment"
    }
   },
   "outputs": [],
   "source": [
    "# This gives access to all xcdat public top-level APIs and accessor classes.\n",
    "import xcdat as xc\n",
    "\n",
    "# We import these packages specifically for plotting. It is not required to use xcdat.\n",
    "import matplotlib.pyplot as plt\n",
    "import pandas as pd"
   ]
  },
  {
   "cell_type": "code",
   "execution_count": null,
   "metadata": {
    "cell_style": "center",
    "slideshow": {
     "slide_type": "fragment"
    }
   },
   "outputs": [],
   "source": [
    "filepath = \"http://esgf.nci.org.au/thredds/dodsC/master/CMIP6/CMIP/CSIRO/ACCESS-ESM1-5/historical/r10i1p1f1/Amon/tas/gn/v20200605/tas_Amon_ACCESS-ESM1-5_historical_r10i1p1f1_gn_185001-201412.nc\"\n",
    "\n",
    "ds = xc.open_dataset(\n",
    "    filepath,\n",
    "    add_bounds=True,\n",
    "    decode_times=True,\n",
    "    center_times=True\n",
    ")\n",
    "\n",
    "# Unit adjustment from Kelvin to Celcius\n",
    "ds[\"tas\"] = ds.tas - 273.15"
   ]
  },
  {
   "cell_type": "code",
   "execution_count": null,
   "metadata": {
    "cell_style": "center",
    "slideshow": {
     "slide_type": "subslide"
    }
   },
   "outputs": [],
   "source": [
    "ds"
   ]
  },
  {
   "cell_type": "markdown",
   "metadata": {
    "slideshow": {
     "slide_type": "slide"
    }
   },
   "source": [
    "### Scenario 1: Spatial Averaging\n",
    "\n",
    "Related accessor: `ds.spatial`\n",
    "\n",
    "In this example, we calculate the spatial average of `tas` over the tropical region."
   ]
  },
  {
   "cell_type": "code",
   "execution_count": null,
   "metadata": {
    "slideshow": {
     "slide_type": "fragment"
    }
   },
   "outputs": [],
   "source": [
    "ds_trop_avg = ds.spatial.average(\"tas\", axis=[\"X\",\"Y\"], lat_bounds=(-25,25))"
   ]
  },
  {
   "cell_type": "code",
   "execution_count": null,
   "metadata": {
    "slideshow": {
     "slide_type": "fragment"
    }
   },
   "outputs": [],
   "source": [
    "ds_trop_avg.tas"
   ]
  },
  {
   "cell_type": "markdown",
   "metadata": {
    "slideshow": {
     "slide_type": "subslide"
    }
   },
   "source": [
    "#### Plot the first 100 time steps"
   ]
  },
  {
   "cell_type": "code",
   "execution_count": null,
   "metadata": {
    "slideshow": {
     "slide_type": "fragment"
    }
   },
   "outputs": [],
   "source": [
    "ds_trop_avg.tas.isel(time=slice(0, 100)).plot()"
   ]
  },
  {
   "cell_type": "markdown",
   "metadata": {
    "slideshow": {
     "slide_type": "slide"
    }
   },
   "source": [
    "### Scenario 2: Calculate temporal average \n",
    "\n",
    "Related accessor: `ds.temporal`\n",
    "\n",
    "In this example, we calculate the temporal average of `tas` as a single snapshot. The time dimension is removed after averaging."
   ]
  },
  {
   "cell_type": "code",
   "execution_count": null,
   "metadata": {
    "slideshow": {
     "slide_type": "fragment"
    }
   },
   "outputs": [],
   "source": [
    "ds_avg = ds.temporal.average(\"tas\", weighted=True)\n",
    "ds_avg.tas"
   ]
  },
  {
   "cell_type": "markdown",
   "metadata": {
    "slideshow": {
     "slide_type": "subslide"
    }
   },
   "source": [
    "#### Plot the temporal average"
   ]
  },
  {
   "cell_type": "code",
   "execution_count": null,
   "metadata": {
    "slideshow": {
     "slide_type": "fragment"
    }
   },
   "outputs": [],
   "source": [
    "ds_avg.tas.plot(label=\"weighted\")"
   ]
  },
  {
   "cell_type": "markdown",
   "metadata": {
    "slideshow": {
     "slide_type": "slide"
    }
   },
   "source": [
    "### Scenario 3: Horizontal Regridding\n",
    "\n",
    "Related accessor: `ds.regridder`\n",
    "\n",
    "In this example, we will generate a gaussian grid with 32 latitudes to regrid our input data to."
   ]
  },
  {
   "cell_type": "markdown",
   "metadata": {
    "slideshow": {
     "slide_type": "subslide"
    }
   },
   "source": [
    "#### Create the output grid"
   ]
  },
  {
   "cell_type": "code",
   "execution_count": null,
   "metadata": {
    "slideshow": {
     "slide_type": "fragment"
    }
   },
   "outputs": [],
   "source": [
    "output_grid = xc.create_gaussian_grid(32)"
   ]
  },
  {
   "cell_type": "code",
   "execution_count": null,
   "metadata": {
    "slideshow": {
     "slide_type": "fragment"
    }
   },
   "outputs": [],
   "source": [
    "fig, axes = plt.subplots(ncols=2, figsize=(16, 4))\n",
    "\n",
    "ds.regridder.grid.plot.scatter('lon', 'lat', s=0.01, ax=axes[0])\n",
    "axes[0].set_title('Input Grid')\n",
    "\n",
    "output_grid.plot.scatter('lon', 'lat', s=0.1, ax=axes[1])\n",
    "axes[1].set_title('Output Grid')\n",
    "\n",
    "plt.tight_layout()"
   ]
  },
  {
   "cell_type": "markdown",
   "metadata": {
    "slideshow": {
     "slide_type": "subslide"
    }
   },
   "source": [
    "#### Regrid the data\n",
    "\n",
    "xCDAT offers horizontal regridding with `xESMF` (default) and a Python port of `regrid2`.\n",
    "We will be using `xESMF` to regrid.\n"
   ]
  },
  {
   "cell_type": "code",
   "execution_count": null,
   "metadata": {
    "slideshow": {
     "slide_type": "fragment"
    }
   },
   "outputs": [],
   "source": [
    "# xesmf supports \"bilinear\", \"conservative\", \"nearest_s2d\", \"nearest_d2s\", and \"patch\"\n",
    "output = ds.regridder.horizontal('tas', output_grid, tool='xesmf', method='bilinear')"
   ]
  },
  {
   "cell_type": "code",
   "execution_count": null,
   "metadata": {
    "slideshow": {
     "slide_type": "fragment"
    }
   },
   "outputs": [],
   "source": [
    "fig, axes = plt.subplots(ncols=2, figsize=(16, 4))\n",
    "\n",
    "ds.tas.isel(time=0).plot(ax=axes[0])\n",
    "axes[0].set_title('Input data')\n",
    "\n",
    "output.tas.isel(time=0).plot(ax=axes[1])\n",
    "axes[1].set_title('Output data')\n",
    "\n",
    "plt.tight_layout()"
   ]
  },
  {
   "cell_type": "markdown",
   "metadata": {
    "slideshow": {
     "slide_type": "slide"
    }
   },
   "source": [
    "### Parallelism with Dask\n",
    "\n",
    "> Nearly all existing xarray methods have been extended to work automatically with Dask arrays for parallelism\n",
    "&mdash; <cite>https://docs.xarray.dev/en/stable/user-guide/dask.html#using-dask-with-xarray</cite>\n"
   ]
  },
  {
   "cell_type": "markdown",
   "metadata": {
    "slideshow": {
     "slide_type": "fragment"
    }
   },
   "source": [
    "* Parallelized xarray methods include __indexing, computation, concatenating and grouped operations__\n",
    "* __xCDAT inherently supports Dask parallelism__ for most APIs by building upon xarray methods\n",
    "  * Dask arrays are loaded into memory only when absolutely required (e.g., decoding time, handling bounds)\n",
    "\n",
    "<div style=\"text-align:center\">\n",
    "  <img src=\"../_static/dask-logo.svg\" alt=\"Dask logo\" style=\"display: inline-block; width:300px;\">\n",
    "</div>"
   ]
  },
  {
   "cell_type": "markdown",
   "metadata": {
    "slideshow": {
     "slide_type": "subslide"
    }
   },
   "source": [
    "#### High-level Overview of Dask Mechanics\n",
    "\n",
    "* __Dask divides arrays__ into many small pieces, called __\"chunks\"__ (each presumed to small enough to fit into memory)\n",
    "* Dask arrays __operations are lazy__\n",
    "  * Operations __queue__ up a series of tasks mapped over blocks\n",
    "  * No computation is performed until values need to be computed (lazy)\n",
    "  * Data is loaded into memory and __computation__ is performed in __streaming fashion__, __block-by-block__\n",
    "* Computation is controlled by multi-processing or thread pool\n",
    "\n",
    "\n",
    "Source: <cite>https://docs.xarray.dev/en/stable/user-guide/dask.html</cite>"
   ]
  },
  {
   "cell_type": "markdown",
   "metadata": {
    "slideshow": {
     "slide_type": "subslide"
    }
   },
   "source": [
    "#### How do I activate Dask with Xarray/xCDAT?\n",
    "\n",
    "* The usual way to create a Dataset filled with Dask arrays is to load the data from a netCDF file or files\n",
    "* You can do this by supplying a `chunks` argument to open_dataset() or using the ``open_mfdataset``() function\n",
    "  * By default, ``open_mfdataset()`` will chunk each netCDF file into a single Dask array\n",
    "  * Supply the `chunks` argument to control the size of the resulting Dask arrays\n",
    "  * Xarray maintains a Dask array until it is not possible (raises an exception instead of loading into memory)\n",
    "\n",
    "Source: <cite>https://docs.xarray.dev/en/stable/user-guide/dask.html#reading-and-writing-data</cite>"
   ]
  },
  {
   "cell_type": "code",
   "execution_count": null,
   "metadata": {
    "slideshow": {
     "slide_type": "fragment"
    }
   },
   "outputs": [],
   "source": [
    "filepath = \"http://esgf.nci.org.au/thredds/dodsC/master/CMIP6/CMIP/CSIRO/ACCESS-ESM1-5/historical/r10i1p1f1/Amon/tas/gn/v20200605/tas_Amon_ACCESS-ESM1-5_historical_r10i1p1f1_gn_185001-201412.nc\"\n",
    "\n",
    "# Use .chunk() to activate Dask arrays\n",
    "# NOTE: `open_mfdataset()` automatically chunks by the number of files, which\n",
    "# might not be optimal.\n",
    "ds = xc.open_dataset(\n",
    "    filepath,\n",
    "    chunks={\"time\": 1}\n",
    ")"
   ]
  },
  {
   "cell_type": "code",
   "execution_count": null,
   "metadata": {
    "slideshow": {
     "slide_type": "subslide"
    }
   },
   "outputs": [],
   "source": [
    "ds"
   ]
  },
  {
   "cell_type": "markdown",
   "metadata": {
    "slideshow": {
     "slide_type": "subslide"
    }
   },
   "source": [
    "#### Example of Parallelism in xCDAT "
   ]
  },
  {
   "cell_type": "code",
   "execution_count": null,
   "metadata": {
    "slideshow": {
     "slide_type": "fragment"
    }
   },
   "outputs": [],
   "source": [
    "tas_global = ds.spatial.average(\"tas\", axis=[\"X\", \"Y\"], weights=\"generate\")[\"tas\"]\n",
    "tas_global"
   ]
  },
  {
   "cell_type": "markdown",
   "metadata": {
    "slideshow": {
     "slide_type": "subslide"
    }
   },
   "source": [
    "#### Dask Guidance\n",
    "\n",
    "Visit these pages for more guidance (e.g., when to parallelize):\n",
    "\n",
    "* Parallel computing with Dask: https://docs.xarray.dev/en/stable/user-guide/dask.html\n",
    "* Xarray with Dask Arrays: https://examples.dask.org/xarray.html\n",
    "\n",
    "[//]: # \"TODO: Add link to xCDAT Dask guidance\""
   ]
  },
  {
   "cell_type": "markdown",
   "metadata": {
    "slideshow": {
     "slide_type": "slide"
    }
   },
   "source": [
    "## Wrapping Things Up\n",
    "* \"Xarray introduces labels in the form of dimensions, coordinates and attributes on top of raw NumPy-like multidimensional arrays, which allows for a more intuitive, more concise, and less error-prone developer \n",
    "experience\"\n",
    "* xCDAT is an extension of xarray for climate data analysis on structured grids. \n",
    "* xCDAT aims to make analyzing climate data simple and robust with xarray"
   ]
  },
  {
   "cell_type": "markdown",
   "metadata": {
    "slideshow": {
     "slide_type": "slide"
    }
   },
   "source": [
    "### We'd love your support!\n",
    "\n",
    "* The xCDAT core team's mission is to provide a __maintainable and extensible package that serves the needs of the climate community in the long-term__. \n",
    "* Please check out the repository and give it a star to increase xCDAT's visibility!\n",
    "* We're always open to contributions, whether through GitHub issues, pull requests, discussions, etc.\n",
    "\n",
    "\n",
    "Repository: https://github.com/xCDAT/xcdat"
   ]
  },
  {
   "cell_type": "markdown",
   "metadata": {
    "slideshow": {
     "slide_type": "slide"
    }
   },
   "source": [
    "### Resources\n",
    "\n",
    "__If you comments or questions, reach out to us over email or the GitHub discussions forum!__\n",
    "\n",
    "* GitHub repository: https://github.com/xCDAT/xcdat\n",
    "* GitHub Discussions forum: https://github.com/xCDAT/xcdat/discussions\n",
    "* Documentation: https://xcdat.readthedocs.io/en/latest/\n",
    "* Anaconda page: https://anaconda.org/conda-forge/xcdat\n",
    "\n",
    "\n"
   ]
  }
 ],
 "metadata": {
  "celltoolbar": "Slideshow",
  "kernelspec": {
   "display_name": "Python 3 (ipykernel)",
   "language": "python",
   "name": "python3"
  },
  "language_info": {
   "codemirror_mode": {
    "name": "ipython",
    "version": 3
   },
   "file_extension": ".py",
   "mimetype": "text/x-python",
   "name": "python",
   "nbconvert_exporter": "python",
   "pygments_lexer": "ipython3",
   "version": "3.9.13"
  },
  "rise": {
   "scroll": true,
   "theme": "simple"
  },
  "vscode": {
   "interpreter": {
    "hash": "937205ea97caa5d37934716e0a0c6b9e4ffcdaf6e0f20ca1ff82361fb532cef2"
   }
  }
 },
 "nbformat": 4,
 "nbformat_minor": 2
}
